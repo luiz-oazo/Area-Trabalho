{
 "cells": [
  {
   "cell_type": "code",
   "execution_count": null,
   "id": "e9a78e33-afe8-4b12-a7ee-f95ae4697e44",
   "metadata": {},
   "outputs": [
    {
     "name": "stdin",
     "output_type": "stream",
     "text": [
      "\n",
      "Número do Candidato ou <fim>:  1\n"
     ]
    },
    {
     "name": "stdout",
     "output_type": "stream",
     "text": [
      "Numero inválido 1\n",
      "\n"
     ]
    },
    {
     "name": "stdin",
     "output_type": "stream",
     "text": [
      "\n",
      "Número do Candidato ou <fim>:  fim\n",
      "\n",
      "Digite o Título do Eleitor ou <fim> para terminar:  fim\n"
     ]
    },
    {
     "name": "stdout",
     "output_type": "stream",
     "text": [
      "\n",
      "=========================================\n",
      "Total de eleitores: 14\n",
      "Total de votos ...: 0\n",
      "\n",
      "Candidatos ........:\n",
      "Votos:   0 - NULL - Votos Nulo\n",
      "\n",
      "Eleitor:\n",
      "111 - NÃO votou\n",
      "222 - NÃO votou\n",
      "333 - NÃO votou\n",
      "444 - NÃO votou\n",
      "555 - NÃO votou\n",
      "345 - NÃO votou\n",
      "342 - NÃO votou\n",
      "123 - NÃO votou\n",
      "645 - NÃO votou\n",
      "786 - NÃO votou\n",
      "344 - NÃO votou\n",
      "567 - NÃO votou\n",
      "124 - NÃO votou\n",
      "125 - NÃO votou\n"
     ]
    }
   ],
   "source": [
    "candidato = []  # array com o nome do candidato\n",
    "num_voto = []  # array com o numero do candidato\n",
    "qtd_voto = [0]  # array com a quantidade de votos\n",
    "eleitor = [111, 222, 333, 444, 555, 345, 342, 123, 645, 786, 344, 567, 124, 125] # lista de eleitores autorizados\n",
    "voto_eleitor = []\n",
    "num_cand = 0\n",
    "titulo = \"\"\n",
    "\n",
    "for i in range(len(eleitor)):\n",
    "    voto_eleitor.append(False)\n",
    "\n",
    "while True:\n",
    "    num_cand = input(\"\\nNúmero do Candidato ou <fim>: \")\n",
    "    if num_cand.upper() == \"FIM\":\n",
    "        break\n",
    "        \n",
    "    num_cand = int(num_cand)\n",
    "\n",
    "    if num_cand > 99 or num_cand < 10:\n",
    "        print(\"Numero inválido 2\\n\")\n",
    "        continue\n",
    "    \n",
    "    if num_voto.count(num_cand) > 0:\n",
    "        print(\"Número já cadastrado\\n\")\n",
    "        continue\n",
    "    \n",
    "    nome_cand = input(\"Nome do Candidato...........: \")\n",
    "    \n",
    "    candidato.append(nome_cand)\n",
    "    num_voto.append(num_cand)\n",
    "    qtd_voto.append(0)\n",
    "    \n",
    "while True:\n",
    "    titulo = input(\"\\nDigite o Título do Eleitor ou <fim> para terminar: \")\n",
    "    \n",
    "    if titulo.upper() == \"FIM\": \n",
    "        break\n",
    "    \n",
    "    titulo = int(titulo)\n",
    "    \n",
    "    if eleitor.count(titulo) > 0: \n",
    "        pos_eleitor = eleitor.index(titulo)\n",
    "    else:\n",
    "        print(\"\\nEleitor não autorizado para votar\")\n",
    "        continue\n",
    "    \n",
    "    if voto_eleitor[pos_eleitor]:\n",
    "        print(\"\\nEleitor já votou!!!\\n\")\n",
    "        continue\n",
    "    \n",
    "    print(\"\\nInicio do Voto: \\n\\nCandidatos:\")\n",
    "    for loop_voto in range(len(num_voto)):\n",
    "        print(f\"{num_voto[loop_voto]:2.0f} - {candidato[loop_voto]}\")\n",
    "            \n",
    "    voto = input(\"\\nVoto - Número do Candidato: \")\n",
    "    voto = int(voto)\n",
    "\n",
    "    if num_voto.count(voto) == 0:\n",
    "        qtd_voto[0] += 1\n",
    "    else:\n",
    "        pos_voto = num_voto.index(voto) + 1\n",
    "        qtd_voto[pos_voto] += 1\n",
    "    \n",
    "    voto_eleitor[pos_eleitor] = True\n",
    "    \n",
    "    # sum(voto_eleitor) == len(voto_eleitor)\n",
    "    if voto_eleitor.count(False) == 0:\n",
    "        print(\"\\nTodos os eleitores já votaram.\\nFIM\")\n",
    "        titulo = \"FIM\"\n",
    "        break\n",
    "\n",
    "print(f\"\\n=========================================\\nTotal de eleitores: {len(voto_eleitor)}\")\n",
    "print(f\"Total de votos ...: {sum(voto_eleitor)}\")\n",
    "print(\"\\nCandidatos ........:\")\n",
    "print(f\"Votos: {qtd_voto[0]:3.0f} - NULL - Votos Nulo\")\n",
    "\n",
    "for loop_voto in range(len(num_voto)):\n",
    "    print(f\"Votos: {qtd_voto[loop_voto + 1]:3.0f} - {num_voto[loop_voto]:4.0f} - {candidato[loop_voto]}\")\n",
    "\n",
    "print(\"\\nEleitor:\")\n",
    "for votou in range(len(eleitor)):\n",
    "    if voto_eleitor[votou] == 0:\n",
    "        votou_txt = \"NÃO votou\"\n",
    "    else:\n",
    "        votou_txt = \"votou\"\n",
    "\n",
    "    print(f\"{eleitor[votou]} - {votou_txt}\")\n"
   ]
  },
  {
   "cell_type": "code",
   "execution_count": 47,
   "id": "e05a4f6d-430a-4171-9674-5203591fe63c",
   "metadata": {},
   "outputs": [
    {
     "name": "stdout",
     "output_type": "stream",
     "text": [
      "========================================\n"
     ]
    }
   ],
   "source": [
    "print(f\"{40*'='}\")"
   ]
  },
  {
   "cell_type": "code",
   "execution_count": 48,
   "id": "4619b833-9d1c-4401-91d9-a0c998aae9e3",
   "metadata": {},
   "outputs": [
    {
     "name": "stdout",
     "output_type": "stream",
     "text": [
      "========================================\n"
     ]
    }
   ],
   "source": [
    "print(f\"{'='*40}\")"
   ]
  },
  {
   "cell_type": "code",
   "execution_count": null,
   "id": "6c7d95b5-bfb4-4883-9278-f875dbe1ad76",
   "metadata": {},
   "outputs": [],
   "source": []
  }
 ],
 "metadata": {
  "kernelspec": {
   "display_name": "Python 3 (ipykernel)",
   "language": "python",
   "name": "python3"
  },
  "language_info": {
   "codemirror_mode": {
    "name": "ipython",
    "version": 3
   },
   "file_extension": ".py",
   "mimetype": "text/x-python",
   "name": "python",
   "nbconvert_exporter": "python",
   "pygments_lexer": "ipython3",
   "version": "3.9.12"
  }
 },
 "nbformat": 4,
 "nbformat_minor": 5
}
