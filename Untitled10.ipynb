{
 "cells": [
  {
   "cell_type": "code",
   "execution_count": 2,
   "id": "04608e4e",
   "metadata": {},
   "outputs": [
    {
     "name": "stdout",
     "output_type": "stream",
     "text": [
      "-==-=-=-=-=-=-=-=-=-=-=-=-=-=-=-=-=-\n",
      "-==-=-=-=-=-=-=-=-=-=-=-=-=-=-=-=-=-\n",
      "Nome do Usuario nos Dados Pessoais: Joao Pedro\n",
      "{'nome': 'Joao Pedro', 'idade': 20, 'profissao': 'programador'}\n",
      "-==-=-=-=-=-=-=-=-=-=-=-=-=-=-=-=-=-\n",
      "{'nome': 'Joao Pedro', 'idade': 21, 'profissao': 'programador'}\n",
      "-==-=-=-=-=-=-=-=-=-=-=-=-=-=-=-=-=-\n",
      "-=-=-=-=-=-=-=-=-=-=-=-=-=-=-=-=-=-=-\n",
      "Alunos com Maiores notas:\n",
      " Joao - Nota: 10\n",
      " Ana - Nota: 9\n",
      " Pedro - Nota: 8\n",
      "-==-=-=-=-=-=-=-=-=-=-=-=-=-=-=-=-=-\n",
      "-=-=-=-=-=-=-=-=-=-=-=-=-=-=-=-=-=-=-\n",
      "{'Joao': 10, 'Pedro': 9, 'Ana': 8}\n",
      "-==-=-=-=-=-=-=-=-=-=-=-=-=-=-=-=-=-\n"
     ]
    }
   ],
   "source": [
    "# Joao Pedro Motta - RM556557 - 21/08/2024\n",
    "# Luiz Wanderley Tavares \n",
    "# o que é dicionario?\n",
    "# tipo de dados em python que armazena chaves e valores. \n",
    "#EX - 01\n",
    "print(\"-==-=-=-=-=-=-=-=-=-=-=-=-=-=-=-=-=-\")\n",
    "dados_pessoais = {'nome': 'Joao Pedro', 'idade' : 20,  'cidade' : 'SP'}\n",
    "print(\"-==-=-=-=-=-=-=-=-=-=-=-=-=-=-=-=-=-\")\n",
    "#EX - 02\n",
    "print(f'Nome do Usuario nos Dados Pessoais: {dados_pessoais[\"nome\"]}')\n",
    "dados_pessoais['profissao'] = 'programador'\n",
    "del(dados_pessoais['cidade'])\n",
    "print(dados_pessoais)\n",
    "print(\"-==-=-=-=-=-=-=-=-=-=-=-=-=-=-=-=-=-\")\n",
    "#EX - 03\n",
    "dados_pessoais['idade'] = 21\n",
    "print(dados_pessoais)\n",
    "print(\"-==-=-=-=-=-=-=-=-=-=-=-=-=-=-=-=-=-\")\n",
    "#EX - 04\n",
    "print(\"-=-=-=-=-=-=-=-=-=-=-=-=-=-=-=-=-=-=-\")\n",
    "notas = {'Joao':10, 'Ana': 9, 'Pedro' : 8}\n",
    "print(\"Alunos com Maiores notas:\")\n",
    "for  aluno, nota in notas.items():\n",
    "    print(f' {aluno} - Nota: {nota}')\n",
    "print(\"-==-=-=-=-=-=-=-=-=-=-=-=-=-=-=-=-=-\")\n",
    "#EX - 07\n",
    "print(\"-=-=-=-=-=-=-=-=-=-=-=-=-=-=-=-=-=-=-\")\n",
    "nomes_alunos = ['Joao', 'Pedro','Ana']\n",
    "notas_alunos = [10,9,8]\n",
    "dicionario_aluno_nota =  dict(zip(nomes_alunos,notas_alunos))\n",
    "print(dicionario_aluno_nota)\n",
    "print(\"-==-=-=-=-=-=-=-=-=-=-=-=-=-=-=-=-=-\")\n",
    "\n",
    "\n"
   ]
  },
  {
   "cell_type": "code",
   "execution_count": 3,
   "id": "7d529e4d",
   "metadata": {},
   "outputs": [
    {
     "name": "stdout",
     "output_type": "stream",
     "text": [
      "Segunda fruta da lista:maca\n",
      "Ultima fruta da lista: uva\n",
      "=-=-=-=-=-=-=-=-=-=-=-=-=-=-\n",
      "['maca', 'melancia', 'ameixa', 'pera', 'uva', 'manga']\n",
      "=-=-=-=-=-=-=-=-=-=-=-=-=-=-\n",
      "['maca', 'ameixa', 'abacaxi', 'pera', 'uva', 'manga']\n",
      "=-=-=-=-=-=-=-=-=-=-=-=-=-=-=-\n",
      "A Lista Tem 10 Elementos\n",
      "-==-=-=-=-=-=-=-=-=-=-=-=-=-=-=-=-=-\n",
      "A Soma de todos os elementos da lista é 55\n",
      "-==-=-=-=-=-=-=-=-=-=-=-=-=-=-=-=-=-\n"
     ]
    }
   ],
   "source": [
    "#  João Pedro Motta - Rm556557  - 21/08/2024\n",
    "#luiz Wanderley Tavares \n",
    "\n",
    "# O QUE É LISTA?\n",
    "#tipo  de dado que pode armazenar vários valores\n",
    "# podendo ser do mesmo tipo ou de tipos diferentes\n",
    "#EX - 01 \n",
    "frutas = [\"banana\", \"maca\",\"melancia\",\"ameixa\",\"pera\",\"uva\"]\n",
    "print(f'Segunda fruta da lista:{frutas[1]}')\n",
    "print(f'Ultima fruta da lista: {frutas[-1]}')\n",
    "print(\"=-=-=-=-=-=-=-=-=-=-=-=-=-=-\")\n",
    "#Ex - 02\n",
    "frutas.append(\"manga\")\n",
    "frutas.remove(\"banana\")\n",
    "print(frutas)\n",
    "print(\"=-=-=-=-=-=-=-=-=-=-=-=-=-=-\")\n",
    "\n",
    "#EX - 03 ##\n",
    "frutas.remove(\"melancia\")\n",
    "frutas.insert(2,\"abacaxi\")\n",
    "print(frutas)\n",
    "print(\"=-=-=-=-=-=-=-=-=-=-=-=-=-=-=-\")\n",
    "#EX - 04 \n",
    "numeros = [1,2,3,4,5,6,7,8,9,10]\n",
    "print(f'A Lista Tem {len(numeros)} Elementos')\n",
    "print(\"-==-=-=-=-=-=-=-=-=-=-=-=-=-=-=-=-=-\")\n",
    "#EX - 05\n",
    "print(f'A Soma de todos os elementos da lista é {sum(numeros)}')\n",
    "print(\"-==-=-=-=-=-=-=-=-=-=-=-=-=-=-=-=-=-\")\n",
    "\n",
    "\n",
    "\n",
    "\n"
   ]
  },
  {
   "cell_type": "code",
   "execution_count": 4,
   "id": "89815ebf",
   "metadata": {},
   "outputs": [
    {
     "name": "stdout",
     "output_type": "stream",
     "text": [
      "cordenadas: 222\n",
      "cordenadas: 333\n",
      "-=-=-=-=-=-=-=-=-=-=-=-=-=-=-=\n",
      "('amarelo', 'azul', 'verde')\n",
      "=-=-=-=-=-=-=-=-=-=-=-=-=-=-\n",
      "('joao', 'pedro', 'luiz')\n",
      "=-=-=-=-=-=-=-=-=-=-=-=-=-=-=-=-\n",
      "nome: joao, idade: 30, cidade: sao paulo\n",
      "-=-=-=-=-=-=-=-=-=-=-=-=-=-=-=-=-=-\n",
      "Cidade: sao paulo\n",
      "Cidade: rio de janeiro\n",
      "Cidade: ceara\n",
      "=-=-=-=-=-=-=-=-=-=-=-=-=-=-=-=-=-=-=\n"
     ]
    }
   ],
   "source": [
    "#  João Pedro Motta - Rm556557  - 21/08/2024\n",
    "#luiz Wanderley Tavares \n",
    "# O que é tupla?\n",
    "# tipo de dados de qualquer tipo que são imutaveis\n",
    "#EX 01 - \n",
    "cordenadas = (222, 333)\n",
    "for dado in cordenadas:\n",
    "    print(f'cordenadas: {dado}')\n",
    "print(\"-=-=-=-=-=-=-=-=-=-=-=-=-=-=-=\")\n",
    "#EX 02 - \n",
    "cores = ('amarelo', 'azul', 'verde')\n",
    "print(cores)\n",
    "#O ERRO ACONTECE POIS A TUPLA E UM TIPO DE DADOS IMUTAVEL\n",
    "print(\"=-=-=-=-=-=-=-=-=-=-=-=-=-=-\")\n",
    "#EX 03 -\n",
    "nomes = ['joao',  'pedro', 'luiz']\n",
    "nomes = tuple(nomes)\n",
    "print(nomes)\n",
    "print(\"=-=-=-=-=-=-=-=-=-=-=-=-=-=-=-=-\")\n",
    "#EX 04 - \n",
    "valores = (\"joao\", 30, \"sao paulo\")\n",
    "nome = valores[0]\n",
    "idade = valores[1]\n",
    "cidade = valores[2]\n",
    "print(f'nome: {nome}, idade: {idade}, cidade: {cidade}')\n",
    "print(\"-=-=-=-=-=-=-=-=-=-=-=-=-=-=-=-=-=-\")\n",
    "#EX 05 -\n",
    "localizacao = {(222,333) : \"sao paulo\",\n",
    "                 (333,444) : \"rio de janeiro\",\n",
    "                   (555,666) : \"ceara\" }\n",
    "print(f'Cidade: {localizacao[(222,333)]}')\n",
    "print(f'Cidade: {localizacao[((333,444))]}')\n",
    "print(f'Cidade: {localizacao[((555,666))]}')\n",
    "\n",
    "print(\"=-=-=-=-=-=-=-=-=-=-=-=-=-=-=-=-=-=-=\")\n",
    "\n",
    "\n"
   ]
  },
  {
   "cell_type": "code",
   "execution_count": 5,
   "id": "1eddbc83",
   "metadata": {},
   "outputs": [
    {
     "name": "stdout",
     "output_type": "stream",
     "text": [
      "{'banana', 'laranja', 'uva', 'manga', 'maça'}\n",
      "{'banana', 'uva', 'manga', 'maça'}\n",
      "=-=-=-=-=-=-=-=-=-=-=-=-=-=-=-=-\n",
      "True\n",
      "False\n",
      "-=-=-=-=-=-=-=-=-=-=-=-=-=-=-=--=-\n",
      "{1, 2, 3, 4, 5, 6}\n",
      "-=-=-=-=-=-=-=-=-=-=-=-=-=-=-=-\n",
      "{3, 4}\n"
     ]
    }
   ],
   "source": [
    "#  João Pedro Motta - Rm556557  - 21/08/2024\n",
    "#luiz Wanderley Tavares \n",
    "#O QUE É SET\n",
    "#uma coleção de elementos unicos e não ordenados\n",
    "#EX 01 - \n",
    "frutas = {'maça', 'banana', 'laranja', 'uva'}\n",
    "#EXPLICAÇÃO : Não Podemos acessar o Index de frutas, pois ele nao tem ordem\n",
    "#logo nao existe indice\n",
    "\n",
    "#EX 02 - \n",
    "frutas.add(\"manga\")\n",
    "print(frutas)\n",
    "frutas.remove(\"laranja\")    \n",
    "print(frutas)\n",
    "print(\"=-=-=-=-=-=-=-=-=-=-=-=-=-=-=-=-\")\n",
    "#EX 03 -\n",
    "print(\"banana\" in frutas)\n",
    "print(\"abacaxi\" in frutas)\n",
    "print(\"-=-=-=-=-=-=-=-=-=-=-=-=-=-=-=--=-\")\n",
    "\n",
    "#EX 04 - Uniao de conjuntos\n",
    "set1 = {1,2,3,4}\n",
    "set2 = {3,4,5,6}\n",
    "uniao = set1.union(set2)\n",
    "print(uniao)\n",
    "print(\"-=-=-=-=-=-=-=-=-=-=-=-=-=-=-=-\")\n",
    "#EX 05 -Intersecao de conjuntos.\n",
    "i = set1.intersection(set2)\n",
    "print(i)\n",
    "\n"
   ]
  },
  {
   "cell_type": "code",
   "execution_count": 7,
   "id": "12678f71",
   "metadata": {},
   "outputs": [
    {
     "name": "stdout",
     "output_type": "stream",
     "text": [
      "Digite a temperatura ou 0 para sair: 0\n"
     ]
    }
   ],
   "source": [
    "#  João Pedro Motta - Rm556557  - 21/08/2024\n",
    "#luiz Wanderley Tavares \n",
    "\n",
    "def converter_temperatura(temp, unidade):\n",
    "    if unidade == 'Celsius':\n",
    "        return (temp * 9/5) + 32, 'Fahrenheit'\n",
    "    elif unidade == 'Fahrenheit':\n",
    "        return (temp - 32) * 5/9, 'Celsius'\n",
    "    else:\n",
    "        return 'Unidade invalida'\n",
    "    \n",
    "while True:\n",
    "    temp = float(input('Digite a temperatura ou 0 para sair: '))\n",
    "    if temp == 0:\n",
    "        break\n",
    "    else:\n",
    "        unidade = input('Digite a unidade da temperatura (Celsius ou Fahrenheit): ')\n",
    "        print(converter_temperatura(temp, unidade))  "
   ]
  },
  {
   "cell_type": "code",
   "execution_count": 10,
   "id": "9c11990e",
   "metadata": {},
   "outputs": [
    {
     "name": "stdout",
     "output_type": "stream",
     "text": [
      "Digite um número ou 0 para sair: 0\n"
     ]
    }
   ],
   "source": [
    "#  João Pedro Motta - Rm556557  - 21/08/2024\n",
    "#luiz Wanderley Tavares \n",
    "\n",
    "def eh_primo(n):\n",
    "    if n <= 1:\n",
    "        return False\n",
    "    if n == 2:\n",
    "        return True\n",
    "    if n == 3:\n",
    "        return True\n",
    "    for i in range(2, int(n**0.5) + 1):\n",
    "        if n % i == 0:\n",
    "            return False\n",
    "        return True\n",
    "while True:\n",
    "    n = int(input(\"Digite um número ou 0 para sair: \"))\n",
    "    if n == 0:\n",
    "        break\n",
    "    elif eh_primo(n):\n",
    "        print(f\"O número {n} é primo\")\n",
    "    else:\n",
    "        print(f\"O número {n} não é primo\")\n",
    "    \n"
   ]
  },
  {
   "cell_type": "code",
   "execution_count": 9,
   "id": "1543561a",
   "metadata": {},
   "outputs": [
    {
     "name": "stdout",
     "output_type": "stream",
     "text": [
      "False\n"
     ]
    }
   ],
   "source": [
    "for i in range(2, int(35**0.5) + 1):\n",
    "        if 35 % i == 0:\n",
    "            print (False)"
   ]
  },
  {
   "cell_type": "code",
   "execution_count": 11,
   "id": "68ee1d40",
   "metadata": {},
   "outputs": [
    {
     "name": "stdout",
     "output_type": "stream",
     "text": [
      "Escolha  um numero inteiro ou 0 para sair: 8\n",
      "40320\n",
      "Escolha  um numero inteiro ou 0 para sair: 5\n",
      "120\n",
      "Escolha  um numero inteiro ou 0 para sair: 6\n",
      "720\n",
      "Escolha  um numero inteiro ou 0 para sair: 0\n"
     ]
    }
   ],
   "source": [
    "#  João Pedro Motta - Rm556557  - 21/08/2024\n",
    "#luiz Wanderley Tavares \n",
    "#Escreva uma função chamada fatorial  que receba um numro inteiro e retorne seu fatorial\n",
    "#utilize recursão para resolver\n",
    "def fatorial(n):\n",
    "    if n == 0 or n == 1:\n",
    "        return 1\n",
    "    else:\n",
    "        return n * fatorial(n-1)\n",
    "    \n",
    "while True:\n",
    "    escolha = int(input(\"Escolha  um numero inteiro ou 0 para sair: \"))\n",
    "    if escolha == 0:\n",
    "        break\n",
    "    else:\n",
    "        print(fatorial(escolha)) \n",
    "\n",
    "\n"
   ]
  },
  {
   "cell_type": "code",
   "execution_count": null,
   "id": "0b8cdbf8",
   "metadata": {},
   "outputs": [],
   "source": []
  }
 ],
 "metadata": {
  "kernelspec": {
   "display_name": "Python 3 (ipykernel)",
   "language": "python",
   "name": "python3"
  },
  "language_info": {
   "codemirror_mode": {
    "name": "ipython",
    "version": 3
   },
   "file_extension": ".py",
   "mimetype": "text/x-python",
   "name": "python",
   "nbconvert_exporter": "python",
   "pygments_lexer": "ipython3",
   "version": "3.11.7"
  }
 },
 "nbformat": 4,
 "nbformat_minor": 5
}
