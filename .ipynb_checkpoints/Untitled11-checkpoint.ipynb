{
 "cells": [
  {
   "cell_type": "code",
   "execution_count": 14,
   "id": "eed0b0b8",
   "metadata": {},
   "outputs": [
    {
     "name": "stdout",
     "output_type": "stream",
     "text": [
      "70\n"
     ]
    }
   ],
   "source": [
    "notas_alunos = {'Daniel': 85, 'Victor': 90, 'Julia': 92}\n",
    "nota_anna = notas_alunos.get('Anna', 70)\n",
    "print(nota_anna)"
   ]
  },
  {
   "cell_type": "code",
   "execution_count": 15,
   "id": "7b1605fc",
   "metadata": {},
   "outputs": [
    {
     "data": {
      "text/plain": [
       "{'Daniel': 85, 'Victor': 90, 'Julia': 92}"
      ]
     },
     "execution_count": 15,
     "metadata": {},
     "output_type": "execute_result"
    }
   ],
   "source": [
    "notas_alunos"
   ]
  },
  {
   "cell_type": "code",
   "execution_count": 16,
   "id": "e4d2f1a3",
   "metadata": {},
   "outputs": [],
   "source": [
    "notas_alunos.get('xxx')"
   ]
  },
  {
   "cell_type": "code",
   "execution_count": 17,
   "id": "eea00aa0",
   "metadata": {},
   "outputs": [
    {
     "name": "stdout",
     "output_type": "stream",
     "text": [
      "24\n"
     ]
    }
   ],
   "source": [
    "from functools import reduce\n",
    "\n",
    "numbers = [2, 3, 4]\n",
    "p = reduce(lambda x, y: x * y, numbers)\n",
    "print(p)"
   ]
  },
  {
   "cell_type": "code",
   "execution_count": null,
   "id": "bd0e5799",
   "metadata": {},
   "outputs": [
    {
     "name": "stdout",
     "output_type": "stream",
     "text": [
      "Menu Principal:\n",
      "1: Criar usuário\n",
      "2: Ler usuários\n",
      "3: Encerrar programa\n",
      "Digite o número aqui: 2\n",
      "Usuários cadastrados:\n",
      "ID: 1; Nome: ra; Email: ra; Cidade: ra; Estado: SP\n",
      "Menu Principal:\n",
      "1: Criar usuário\n",
      "2: Ler usuários\n",
      "3: Encerrar programa\n",
      "Digite o número aqui: 1\n",
      "Digite seu Nome: aqererwerwe\n",
      "Digite seu Email: qwe\n",
      "Digite sua cidade: qwe\n",
      "Digite o estado em siglas (Exemplo: 'SP'): qwe\n",
      "Estado inválido, tente novamente.\n",
      "Digite o estado em siglas (Exemplo: 'SP'): SP\n",
      "Usuário cadastrado com sucesso!\n",
      "Menu Principal:\n",
      "1: Criar usuário\n",
      "2: Ler usuários\n",
      "3: Encerrar programa\n",
      "Digite o número aqui: 2\n",
      "Usuários cadastrados:\n",
      "ID: 1; Nome: ra; Email: ra; Cidade: ra; Estado: SP\n",
      "ID: 2; Nome: aqererwerwe; Email: qwe; Cidade: qwe; Estado: SP\n",
      "Menu Principal:\n",
      "1: Criar usuário\n",
      "2: Ler usuários\n",
      "3: Encerrar programa\n",
      "Digite o número aqui: 3\n",
      "Programa encerrado, tenha um ótimo dia!\n",
      "Menu Principal:\n",
      "1: Criar usuário\n",
      "2: Ler usuários\n",
      "3: Encerrar programa\n",
      "Digite o número aqui: 3\n",
      "Programa encerrado, tenha um ótimo dia!\n",
      "Menu Principal:\n",
      "1: Criar usuário\n",
      "2: Ler usuários\n",
      "3: Encerrar programa\n"
     ]
    }
   ],
   "source": [
    "import json\n",
    "\n",
    "# Lista de estados\n",
    "estados = (\"AC\", \"AL\", \"AP\", \"AM\", \"BA\", \"CE\", \"DF\", \"ES\", \"GO\", \"MA\", \"MT\", \"MS\", \"MG\", \"PA\", \"PB\", \"PR\", \"PE\", \"PI\", \"RJ\", \"RN\", \"RS\", \"RO\", \"RR\", \"SC\", \"SP\", \"SE\", \"TO\")\n",
    "\n",
    "# Função para ler o arquivo JSON\n",
    "def ler_json(nome_arquivo):\n",
    "    try:\n",
    "        with open(nome_arquivo, 'r') as arquivo:\n",
    "            return json.load(arquivo)\n",
    "    except FileNotFoundError:\n",
    "        print(f\"Erro: O arquivo '{nome_arquivo}' não foi encontrado.\")\n",
    "        return {}\n",
    "    except json.JSONDecodeError:\n",
    "        print(f\"Erro: Não foi possível decodificar o arquivo '{nome_arquivo}'. O arquivo pode estar corrompido.\")\n",
    "        return {}\n",
    "\n",
    "# Função para carregar dados\n",
    "def carregar_dados():\n",
    "    global dadospessoais\n",
    "    dadospessoais = ler_json('usuarios.json')\n",
    "    # Converter dicionário em lista\n",
    "    if isinstance(dadospessoais, dict):\n",
    "        dadospessoais = list(dadospessoais.values())\n",
    "    else:\n",
    "        dadospessoais = []\n",
    "\n",
    "# Função para salvar dados\n",
    "def salvar_dados():\n",
    "    with open('usuarios.json', 'w') as f:\n",
    "        json.dump({f\"user{i+1}\": usuario for i, usuario in enumerate(dadospessoais)}, f, indent=4)\n",
    "\n",
    "# Função do menu principal\n",
    "def menu():\n",
    "    carregar_dados()  # Carregar dados ao iniciar\n",
    "    while True:\n",
    "        print(\"Menu Principal:\")\n",
    "        print(\"1: Criar usuário\")\n",
    "        print(\"2: Ler usuários\") \n",
    "        print(\"3: Encerrar programa\")\n",
    "        nmber = input(\"Digite o número aqui: \")\n",
    "\n",
    "        if nmber == '1':\n",
    "            formulariodecadastro()\n",
    "        elif nmber == '2':\n",
    "            exibir_usuarios()  # Adicionando chamada para exibir usuários\n",
    "        elif nmber == '3':\n",
    "            salvar_dados()  # Salvar dados antes de encerrar\n",
    "            print(\"Programa encerrado, tenha um ótimo dia!\")\n",
    "            exit()\n",
    "        else:\n",
    "            print(\"Número inválido, tente novamente.\")\n",
    "\n",
    "# Função para exibir usuários\n",
    "def exibir_usuarios():\n",
    "    if not dadospessoais:\n",
    "        print(\"Nenhum usuário cadastrado.\")\n",
    "        return\n",
    "\n",
    "    print(\"Usuários cadastrados:\")\n",
    "    for usuario in dadospessoais:\n",
    "        print(f\"ID: {usuario['id']}; Nome: {usuario['nome']}; Email: {usuario['email']}; Cidade: {usuario['cidade']}; Estado: {usuario['estado']}\")\n",
    "\n",
    "# Função para criar um novo usuário\n",
    "def formulariodecadastro():\n",
    "    usuario = {}\n",
    "    usuario['id'] = len(dadospessoais) + 1  # Atribuir um novo ID\n",
    "    usuario['nome'] = input(\"Digite seu Nome: \")\n",
    "    usuario['email'] = input(\"Digite seu Email: \")\n",
    "    usuario['cidade'] = input(\"Digite sua cidade: \")\n",
    "    \n",
    "    while True:\n",
    "        estado = input(\"Digite o estado em siglas (Exemplo: 'SP'): \")\n",
    "        if estado in estados:\n",
    "            usuario['estado'] = estado\n",
    "            break\n",
    "        else:\n",
    "            print(\"Estado inválido, tente novamente.\")\n",
    "\n",
    "    dadospessoais.append(usuario)\n",
    "    salvar_dados()  # Salvar após adicionar\n",
    "    print(\"Usuário cadastrado com sucesso!\")\n",
    "\n",
    "# Função para editar dados\n",
    "def editardados():\n",
    "    if not dadospessoais:\n",
    "        print(\"Nenhum dado para editar.\")\n",
    "        return\n",
    "\n",
    "    exibir_usuarios()  # Exibir usuários para escolher\n",
    "    id_usuario = int(input(\"Digite o ID do usuário que deseja editar: \"))\n",
    "    usuario_encontrado = next((user for user in dadospessoais if user['id'] == id_usuario), None)\n",
    "    \n",
    "    if usuario_encontrado:\n",
    "        campo = input(\"Digite o nome do campo que deseja editar (nome, email, cidade, estado): \")\n",
    "        if campo in usuario_encontrado:  # Verifica se o campo existe\n",
    "            novo_valor = input(f\"Digite um novo valor para {campo}: \")\n",
    "            usuario_encontrado[campo] = novo_valor\n",
    "            print(f\"{campo} atualizado com sucesso!\")\n",
    "            salvar_dados()  # Salvar após editar\n",
    "        else:\n",
    "            print(\"Campo inválido.\")\n",
    "    else:\n",
    "        print(\"Usuário não encontrado.\")\n",
    "\n",
    "# Iniciar o programa\n",
    "dadospessoais = []\n",
    "menu()\n"
   ]
  },
  {
   "cell_type": "code",
   "execution_count": null,
   "id": "261932c1",
   "metadata": {},
   "outputs": [],
   "source": []
  }
 ],
 "metadata": {
  "kernelspec": {
   "display_name": "Python 3 (ipykernel)",
   "language": "python",
   "name": "python3"
  },
  "language_info": {
   "codemirror_mode": {
    "name": "ipython",
    "version": 3
   },
   "file_extension": ".py",
   "mimetype": "text/x-python",
   "name": "python",
   "nbconvert_exporter": "python",
   "pygments_lexer": "ipython3",
   "version": "3.11.7"
  }
 },
 "nbformat": 4,
 "nbformat_minor": 5
}
