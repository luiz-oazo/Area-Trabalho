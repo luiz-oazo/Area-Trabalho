{
 "cells": [
  {
   "cell_type": "code",
   "execution_count": 1,
   "id": "6b209fc5",
   "metadata": {},
   "outputs": [
    {
     "data": {
      "text/plain": [
       "{'users': [{'username': 'admin', 'password': 'senha123'},\n",
       "  {'username': 'user1', 'password': 'password123'}]}"
      ]
     },
     "execution_count": 1,
     "metadata": {},
     "output_type": "execute_result"
    }
   ],
   "source": [
    "{\n",
    "    \"users\": [\n",
    "        {\n",
    "            \"username\": \"admin\",\n",
    "            \"password\": \"senha123\"\n",
    "        },\n",
    "        {\n",
    "            \"username\": \"user1\",\n",
    "            \"password\": \"password123\"\n",
    "        }\n",
    "    ]\n",
    "}"
   ]
  },
  {
   "cell_type": "code",
   "execution_count": 3,
   "id": "bca57591",
   "metadata": {},
   "outputs": [
    {
     "name": "stdout",
     "output_type": "stream",
     "text": [
      " * Serving Flask app '__main__'\n",
      " * Debug mode: off\n"
     ]
    },
    {
     "name": "stderr",
     "output_type": "stream",
     "text": [
      "WARNING: This is a development server. Do not use it in a production deployment. Use a production WSGI server instead.\n",
      " * Running on http://127.0.0.1:5000\n",
      "Press CTRL+C to quit\n"
     ]
    }
   ],
   "source": [
    "from flask import Flask, jsonify, request\n",
    "import jwt\n",
    "import datetime\n",
    "import json\n",
    "from functools import wraps\n",
    "\n",
    "app = Flask(__name__)\n",
    "\n",
    "# Chave secreta para criar e validar o JWT\n",
    "SECRET_KEY = \"sua_chave_secreta\"\n",
    "\n",
    "# Função para carregar usuários do arquivo JSON\n",
    "def carregar_usuarios():\n",
    "    with open('users.json') as f:\n",
    "        data = json.load(f)\n",
    "    return data['users']\n",
    "\n",
    "# Decorador para proteger rotas com token JWT\n",
    "def token_requerido(f):\n",
    "    @wraps(f)\n",
    "    def decorator(*args, **kwargs):\n",
    "        token = request.headers.get('Authorization')\n",
    "        if not token:\n",
    "            return jsonify({\"message\": \"Token é necessário\"}), 403\n",
    "        \n",
    "        try:\n",
    "            # Extrair o token (remover a palavra 'Bearer')\n",
    "            token = token.split(\" \")[1]\n",
    "            dados = jwt.decode(token, SECRET_KEY, algorithms=[\"HS256\"])\n",
    "        except Exception as e:\n",
    "            return jsonify({\"message\": \"Token inválido ou expirado\", \"error\": str(e)}), 403\n",
    "        \n",
    "        return f(*args, **kwargs)\n",
    "    return decorator\n",
    "\n",
    "# Rota de login para autenticar e gerar token\n",
    "@app.route('/login', methods=['POST'])\n",
    "def login():\n",
    "    auth_data = request.json\n",
    "    \n",
    "    if not auth_data or not auth_data.get('username') or not auth_data.get('password'):\n",
    "        return jsonify({\"message\": \"Credenciais incompletas\"}), 400\n",
    "    \n",
    "    # Carregar usuários do arquivo JSON\n",
    "    usuarios = carregar_usuarios()\n",
    "    \n",
    "    # Verificar se as credenciais estão corretas\n",
    "    for user in usuarios:\n",
    "        if user['username'] == auth_data['username'] and user['password'] == auth_data['password']:\n",
    "            # Gerar token JWT com expiração de 30 minutos\n",
    "            token = jwt.encode({\n",
    "                'username': user['username'],\n",
    "                'exp': datetime.datetime.utcnow() + datetime.timedelta(minutes=30)\n",
    "            }, SECRET_KEY, algorithm=\"HS256\")\n",
    "            \n",
    "            return jsonify({\"token\": token})\n",
    "    \n",
    "    return jsonify({\"message\": \"Credenciais inválidas\"}), 401\n",
    "\n",
    "# Rota protegida por token JWT\n",
    "@app.route('/protegido', methods=['GET'])\n",
    "@token_requerido\n",
    "def rota_protegida():\n",
    "    return jsonify({\"message\": \"Acesso concedido à rota protegida!\"})\n",
    "\n",
    "# Rota pública sem autenticação\n",
    "@app.route('/publica', methods=['GET'])\n",
    "def rota_publica():\n",
    "    return jsonify({\"message\": \"Rota pública acessível por qualquer um!\"})\n",
    "\n",
    "if __name__ == '__main__':\n",
    "    app.run(debug=False)"
   ]
  },
  {
   "cell_type": "code",
   "execution_count": 4,
   "id": "fc76a235",
   "metadata": {},
   "outputs": [
    {
     "data": {
      "text/plain": [
       "{'username': 'admin', 'password': 'senha123'}"
      ]
     },
     "execution_count": 4,
     "metadata": {},
     "output_type": "execute_result"
    }
   ],
   "source": [
    "{\n",
    "    \"username\": \"admin\",\n",
    "    \"password\": \"senha123\"\n",
    "}"
   ]
  },
  {
   "cell_type": "code",
   "execution_count": null,
   "id": "74e1d5f4",
   "metadata": {},
   "outputs": [],
   "source": [
    "import requests\n",
    "\n",
    "login_url = 'http://127.0.0.1:5000/login'\n",
    "\n",
    "# Credenciais\n",
    "credenciais = {\n",
    "    \"username\": \"admin\",\n",
    "    \"password\": \"senha123\"\n",
    "}\n",
    "\n",
    "# Requisição POST para login\n",
    "response = requests.post(login_url, json=credenciais)\n",
    "\n",
    "if response.status_code == 200:\n",
    "    token = response.json().get('token')\n",
    "    print(f\"Token JWT: {token}\")\n",
    "else:\n",
    "    print(\"Falha no login:\", response.status_code, response.text)"
   ]
  },
  {
   "cell_type": "code",
   "execution_count": null,
   "id": "6c73c0d3",
   "metadata": {},
   "outputs": [],
   "source": [
    "protected_url = 'http://127.0.0.1:5000/protegido'\n",
    "\n",
    "# Cabeçalhos com o token JWT\n",
    "headers = {\n",
    "    'Authorization': f'Bearer {token}'  # Inclui o token no cabeçalho\n",
    "}\n",
    "\n",
    "# Requisição GET para a rota protegida\n",
    "response = requests.get(protected_url, headers=headers)\n",
    "\n",
    "if response.status_code == 200:\n",
    "    print(\"Acesso concedido:\", response.json())\n",
    "else:\n",
    "    print(\"Falha ao acessar a rota protegida:\", response.status_code, response.text)"
   ]
  },
  {
   "cell_type": "code",
   "execution_count": null,
   "id": "9d206c39",
   "metadata": {},
   "outputs": [],
   "source": [
    "if token:\n",
    "    # Cabeçalhos com o token JWT\n",
    "    headers = {\n",
    "        'Authorization': f'Bearer {token}'\n",
    "    }\n",
    "\n",
    "    # 1. Requisição GET para obter produtos\n",
    "    response = requests.get('http://127.0.0.1:5000/produtos', headers=headers)\n",
    "    if response.status_code == 200:\n",
    "        print(\"Lista de produtos:\", response.json())\n",
    "    else:\n",
    "        print(\"Falha ao acessar produtos:\", response.status_code, response.text)\n",
    "\n",
    "    # 2. Requisição POST para adicionar um novo produto\n",
    "    novo_produto = {\"id\": 3, \"nome\": \"Produto 3\", \"preco\": 200}\n",
    "    response = requests.post('http://127.0.0.1:5000/produtos', json=novo_produto, headers=headers)\n",
    "    if response.status_code == 201:\n",
    "        print(\"Produto adicionado:\", response.json())\n",
    "    else:\n",
    "        print(\"Falha ao adicionar produto:\", response.status_code, response.text)"
   ]
  },
  {
   "cell_type": "code",
   "execution_count": null,
   "id": "3a701653",
   "metadata": {},
   "outputs": [],
   "source": []
  },
  {
   "cell_type": "code",
   "execution_count": null,
   "id": "bbfa7218",
   "metadata": {},
   "outputs": [],
   "source": []
  }
 ],
 "metadata": {
  "kernelspec": {
   "display_name": "Python 3 (ipykernel)",
   "language": "python",
   "name": "python3"
  },
  "language_info": {
   "codemirror_mode": {
    "name": "ipython",
    "version": 3
   },
   "file_extension": ".py",
   "mimetype": "text/x-python",
   "name": "python",
   "nbconvert_exporter": "python",
   "pygments_lexer": "ipython3",
   "version": "3.11.7"
  }
 },
 "nbformat": 4,
 "nbformat_minor": 5
}
