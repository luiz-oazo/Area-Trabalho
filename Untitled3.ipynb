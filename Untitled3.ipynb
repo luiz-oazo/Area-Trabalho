{
 "cells": [
  {
   "cell_type": "code",
   "execution_count": 11,
   "id": "24f097c4-53ba-4a3b-9702-993ddbf8725c",
   "metadata": {},
   "outputs": [
    {
     "name": "stdout",
     "output_type": "stream",
     "text": [
      "0\n"
     ]
    }
   ],
   "source": [
    "print(0)"
   ]
  },
  {
   "cell_type": "code",
   "execution_count": 12,
   "id": "86fcc653-73b1-47ec-8670-3a50cf63a0c9",
   "metadata": {},
   "outputs": [
    {
     "name": "stderr",
     "output_type": "stream",
     "text": [
      "python(26872) MallocStackLogging: can't turn off malloc stack logging because it was not enabled.\n"
     ]
    },
    {
     "name": "stdout",
     "output_type": "stream",
     "text": [
      "Python 3.9.12 (main, Apr  5 2022, 01:53:17) \n",
      "[Clang 12.0.0 ] :: Anaconda, Inc. on darwin\n",
      "Type \"help\", \"copyright\", \"credits\" or \"license\" for more information.\n",
      ">>> \n",
      "KeyboardInterrupt\n",
      ">>> \n",
      ">>> "
     ]
    }
   ],
   "source": [
    "!python\n"
   ]
  },
  {
   "cell_type": "code",
   "execution_count": 13,
   "id": "a8151b60-3c42-4d1d-bac7-db7f5d7024b4",
   "metadata": {},
   "outputs": [],
   "source": [
    "a = [1,2,3,4,5,6,7,8,9]\n"
   ]
  },
  {
   "cell_type": "code",
   "execution_count": 14,
   "id": "19216db4-40a3-4348-b578-1baa70e2f531",
   "metadata": {},
   "outputs": [
    {
     "ename": "AttributeError",
     "evalue": "'list' object has no attribute 'get'",
     "output_type": "error",
     "traceback": [
      "\u001b[0;31m---------------------------------------------------------------------------\u001b[0m",
      "\u001b[0;31mAttributeError\u001b[0m                            Traceback (most recent call last)",
      "Input \u001b[0;32mIn [14]\u001b[0m, in \u001b[0;36m<cell line: 1>\u001b[0;34m()\u001b[0m\n\u001b[0;32m----> 1\u001b[0m \u001b[43ma\u001b[49m\u001b[38;5;241;43m.\u001b[39;49m\u001b[43mget\u001b[49m(\u001b[38;5;241m5\u001b[39m)\n",
      "\u001b[0;31mAttributeError\u001b[0m: 'list' object has no attribute 'get'"
     ]
    }
   ],
   "source": [
    "a.get(5)"
   ]
  },
  {
   "cell_type": "code",
   "execution_count": 16,
   "id": "f0594095-5758-4399-968e-fe00ddca1906",
   "metadata": {},
   "outputs": [
    {
     "name": "stdout",
     "output_type": "stream",
     "text": [
      "['c = inteira(a,b) * 4 / resto(a,b)', 'c = inteira(a,b) - resto(a,b) - 10']\n",
      "c = inteira(a,b) * 4 / resto(a,b)\n",
      "0.0\n",
      "c = inteira(a,b) - resto(a,b) - 10\n",
      "-60\n"
     ]
    }
   ],
   "source": [
    "def resto(a, b):\n",
    "    return(a % b)\n",
    "\n",
    "def inteira(a, b):\n",
    "    return(a // b)\n",
    "\n",
    "a = 50\n",
    "b = 78\n",
    "comando = [0, 1]\n",
    "\n",
    "comando[0] = \"c = inteira(a,b) * 4 / resto(a,b)\"\n",
    "comando[1] = \"c = inteira(a,b) - resto(a,b) - 10\"\n",
    "\n",
    "print(comando)\n",
    "\n",
    "for i in (0,1):\n",
    "    exec(comando[i])\n",
    "    print(comando[i])\n",
    "    print(c)\n",
    "\n"
   ]
  },
  {
   "cell_type": "code",
   "execution_count": null,
   "id": "c2ef61da-5f86-4322-8592-935ff8bbbb57",
   "metadata": {},
   "outputs": [],
   "source": []
  }
 ],
 "metadata": {
  "kernelspec": {
   "display_name": "Python 3 (ipykernel)",
   "language": "python",
   "name": "python3"
  },
  "language_info": {
   "codemirror_mode": {
    "name": "ipython",
    "version": 3
   },
   "file_extension": ".py",
   "mimetype": "text/x-python",
   "name": "python",
   "nbconvert_exporter": "python",
   "pygments_lexer": "ipython3",
   "version": "3.9.12"
  }
 },
 "nbformat": 4,
 "nbformat_minor": 5
}
