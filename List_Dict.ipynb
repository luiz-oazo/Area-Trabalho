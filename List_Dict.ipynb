{
 "cells": [
  {
   "cell_type": "code",
   "execution_count": 265,
   "id": "a9749aff",
   "metadata": {},
   "outputs": [
    {
     "name": "stdout",
     "output_type": "stream",
     "text": [
      "maçã\n",
      "banana\n",
      "cereja\n"
     ]
    }
   ],
   "source": [
    "frutas = {\"maçã\", \"banana\", \"cereja\"}\n",
    "\n",
    "for fruta in frutas:\n",
    "    print(fruta)"
   ]
  },
  {
   "cell_type": "code",
   "execution_count": 263,
   "id": "3ef0c99c",
   "metadata": {},
   "outputs": [
    {
     "data": {
      "text/plain": [
       "list"
      ]
     },
     "execution_count": 263,
     "metadata": {},
     "output_type": "execute_result"
    }
   ],
   "source": [
    "fruits = ['orange', 'apple', 'pear', 'banana', 'kiwi', 'apple', 'banana']\n",
    "type(fruits)"
   ]
  },
  {
   "cell_type": "code",
   "execution_count": 264,
   "id": "f18e2097",
   "metadata": {},
   "outputs": [
    {
     "data": {
      "text/plain": [
       "['orange', 'apple', 'pear', 'banana', 'kiwi', 'apple', 'banana']"
      ]
     },
     "execution_count": 264,
     "metadata": {},
     "output_type": "execute_result"
    }
   ],
   "source": [
    "fruits[:]"
   ]
  },
  {
   "cell_type": "code",
   "execution_count": 99,
   "id": "322d9a3a",
   "metadata": {},
   "outputs": [],
   "source": [
    "resposta = 'pineapple' in fruits"
   ]
  },
  {
   "cell_type": "code",
   "execution_count": 100,
   "id": "a9d57a5b",
   "metadata": {},
   "outputs": [
    {
     "data": {
      "text/plain": [
       "bool"
      ]
     },
     "execution_count": 100,
     "metadata": {},
     "output_type": "execute_result"
    }
   ],
   "source": [
    "type(resposta)"
   ]
  },
  {
   "cell_type": "code",
   "execution_count": 101,
   "id": "995b4dd0",
   "metadata": {},
   "outputs": [
    {
     "data": {
      "text/plain": [
       "False"
      ]
     },
     "execution_count": 101,
     "metadata": {},
     "output_type": "execute_result"
    }
   ],
   "source": [
    "resposta"
   ]
  },
  {
   "cell_type": "code",
   "execution_count": 266,
   "id": "ef9570e4",
   "metadata": {},
   "outputs": [],
   "source": [
    "import numpy as np\n",
    "\n",
    "A = np.array([[1, 2], [3, 4]])\n",
    "\n",
    "A_inv = np.linalg.inv(A)\n"
   ]
  },
  {
   "cell_type": "code",
   "execution_count": 268,
   "id": "157e7a03",
   "metadata": {},
   "outputs": [
    {
     "ename": "AttributeError",
     "evalue": "'numpy.ndarray' object has no attribute 't'",
     "output_type": "error",
     "traceback": [
      "\u001b[0;31m---------------------------------------------------------------------------\u001b[0m",
      "\u001b[0;31mAttributeError\u001b[0m                            Traceback (most recent call last)",
      "Cell \u001b[0;32mIn[268], line 1\u001b[0m\n\u001b[0;32m----> 1\u001b[0m A\u001b[38;5;241m.\u001b[39mt()\n",
      "\u001b[0;31mAttributeError\u001b[0m: 'numpy.ndarray' object has no attribute 't'"
     ]
    }
   ],
   "source": [
    "A.t()"
   ]
  },
  {
   "cell_type": "code",
   "execution_count": 103,
   "id": "561c9e6e",
   "metadata": {},
   "outputs": [],
   "source": [
    "resposta = 5 in lista_teste"
   ]
  },
  {
   "cell_type": "code",
   "execution_count": 104,
   "id": "3476583c",
   "metadata": {},
   "outputs": [
    {
     "name": "stdout",
     "output_type": "stream",
     "text": [
      "ok\n"
     ]
    }
   ],
   "source": [
    "if resposta:\n",
    "    print('ok')"
   ]
  },
  {
   "cell_type": "code",
   "execution_count": 81,
   "id": "955e3b16",
   "metadata": {},
   "outputs": [
    {
     "data": {
      "text/plain": [
       "list"
      ]
     },
     "execution_count": 81,
     "metadata": {},
     "output_type": "execute_result"
    }
   ],
   "source": [
    "lista_teste = [0, 1, 2, 3, 4, 5]\n",
    "type(fruits)"
   ]
  },
  {
   "cell_type": "code",
   "execution_count": 86,
   "id": "f3045eff",
   "metadata": {},
   "outputs": [
    {
     "data": {
      "text/plain": [
       "7"
      ]
     },
     "execution_count": 86,
     "metadata": {},
     "output_type": "execute_result"
    }
   ],
   "source": [
    "len(fruits)"
   ]
  },
  {
   "cell_type": "code",
   "execution_count": 90,
   "id": "449273df",
   "metadata": {},
   "outputs": [
    {
     "name": "stdout",
     "output_type": "stream",
     "text": [
      "posição 0 0\n",
      "posição 1 1\n",
      "posição 2 2\n",
      "posição 3 3\n",
      "posição 4 4\n",
      "posição 5 5\n"
     ]
    }
   ],
   "source": [
    "for i in range(len(lista_teste)):\n",
    "    print(\"posição\", i, lista_teste[i])"
   ]
  },
  {
   "cell_type": "code",
   "execution_count": 147,
   "id": "9218cecc",
   "metadata": {},
   "outputs": [
    {
     "name": "stdout",
     "output_type": "stream",
     "text": [
      "[0]\n",
      "[0, 1]\n",
      "[0, 1, 4]\n",
      "[0, 1, 4, 9]\n",
      "[0, 1, 4, 9, 16]\n",
      "[0, 1, 4, 9, 16, 25]\n",
      "[0, 1, 4, 9, 16, 25, 36]\n",
      "[0, 1, 4, 9, 16, 25, 36, 49]\n",
      "[0, 1, 4, 9, 16, 25, 36, 49, 64]\n",
      "[0, 1, 4, 9, 16, 25, 36, 49, 64, 81]\n"
     ]
    },
    {
     "data": {
      "text/plain": [
       "[0, 1, 4, 9, 16, 25, 36, 49, 64, 81]"
      ]
     },
     "execution_count": 147,
     "metadata": {},
     "output_type": "execute_result"
    }
   ],
   "source": [
    "squares = []\n",
    "for x in range(10):\n",
    "    quad = x**2\n",
    "    squares.append(quad)\n",
    "    print(squares)\n",
    "squares"
   ]
  },
  {
   "cell_type": "code",
   "execution_count": 156,
   "id": "af5f104d",
   "metadata": {},
   "outputs": [],
   "source": [
    "squares1 = []\n",
    "for x in range(10):\n",
    "    squares1.append(x**2)"
   ]
  },
  {
   "cell_type": "code",
   "execution_count": 157,
   "id": "e96bd05a",
   "metadata": {},
   "outputs": [],
   "source": [
    "squares2 = [x**2 for x in range(10)]"
   ]
  },
  {
   "cell_type": "code",
   "execution_count": 160,
   "id": "f7b4264d",
   "metadata": {},
   "outputs": [
    {
     "data": {
      "text/plain": [
       "list"
      ]
     },
     "execution_count": 160,
     "metadata": {},
     "output_type": "execute_result"
    }
   ],
   "source": [
    "squares1\n",
    "type(squares1)"
   ]
  },
  {
   "cell_type": "code",
   "execution_count": 161,
   "id": "d1c3b1b9",
   "metadata": {},
   "outputs": [
    {
     "data": {
      "text/plain": [
       "str"
      ]
     },
     "execution_count": 161,
     "metadata": {},
     "output_type": "execute_result"
    }
   ],
   "source": [
    "squares1 = \"Quadrado\"\n",
    "type(squares1)"
   ]
  },
  {
   "cell_type": "code",
   "execution_count": 159,
   "id": "20a3b09f",
   "metadata": {},
   "outputs": [
    {
     "data": {
      "text/plain": [
       "[0, 1, 4, 9, 16, 25, 36, 49, 64, 81]"
      ]
     },
     "execution_count": 159,
     "metadata": {},
     "output_type": "execute_result"
    }
   ],
   "source": [
    "squares2"
   ]
  },
  {
   "cell_type": "code",
   "execution_count": 144,
   "id": "75ba3955",
   "metadata": {},
   "outputs": [
    {
     "data": {
      "text/plain": [
       "[0, 1, 4, 9, 16, 25, 36, 49, 64, 81]"
      ]
     },
     "execution_count": 144,
     "metadata": {},
     "output_type": "execute_result"
    }
   ],
   "source": [
    "squares = [x**2 for x in range(10)]\n",
    "squares"
   ]
  },
  {
   "cell_type": "code",
   "execution_count": 15,
   "id": "0741d925",
   "metadata": {},
   "outputs": [
    {
     "data": {
      "text/plain": [
       "'sadasdasderterterter'"
      ]
     },
     "execution_count": 15,
     "metadata": {},
     "output_type": "execute_result"
    }
   ],
   "source": [
    "a = 'sadasdasd'\n",
    "b = 'erterterter'\n",
    "a + b"
   ]
  },
  {
   "cell_type": "code",
   "execution_count": 92,
   "id": "6b822072-62b6-4cb4-88b9-584f3a92ab2f",
   "metadata": {},
   "outputs": [
    {
     "data": {
      "text/plain": [
       "list"
      ]
     },
     "execution_count": 92,
     "metadata": {},
     "output_type": "execute_result"
    }
   ],
   "source": [
    "fruits = ['orange', 'apple', 'pear', 'banana', 'kiwi', 'apple', 'banana']\n",
    "type(fruits)"
   ]
  },
  {
   "cell_type": "code",
   "execution_count": 93,
   "id": "a0c19d46-5624-43e2-b6dd-56bc23de3111",
   "metadata": {},
   "outputs": [
    {
     "data": {
      "text/plain": [
       "['orange', 'apple', 'pear', 'banana', 'kiwi', 'apple', 'banana']"
      ]
     },
     "execution_count": 93,
     "metadata": {},
     "output_type": "execute_result"
    }
   ],
   "source": [
    "fruits"
   ]
  },
  {
   "cell_type": "code",
   "execution_count": 91,
   "id": "a9f53e1e-bb5a-4ee7-ac85-e34c75561fb0",
   "metadata": {},
   "outputs": [
    {
     "data": {
      "text/plain": [
       "2"
      ]
     },
     "execution_count": 91,
     "metadata": {},
     "output_type": "execute_result"
    }
   ],
   "source": [
    "fruits.count('apple')"
   ]
  },
  {
   "cell_type": "code",
   "execution_count": 131,
   "id": "b76f6112-43f9-4271-a6c1-f359a89a3b20",
   "metadata": {},
   "outputs": [],
   "source": [
    "a = [1, 4, 7, 2, 9, 4, 9]"
   ]
  },
  {
   "cell_type": "code",
   "execution_count": 132,
   "id": "31292c41",
   "metadata": {},
   "outputs": [
    {
     "name": "stdout",
     "output_type": "stream",
     "text": [
      "[1, 4, 7, 2, 9, 4, 9]\n",
      "[1, 4, 7, 2, 4]\n"
     ]
    }
   ],
   "source": [
    "print(a)\n",
    "while a.count(9) > 0:\n",
    "    indice = a.index(9)\n",
    "    a.pop(indice)\n",
    "\n",
    "print(a)"
   ]
  },
  {
   "cell_type": "code",
   "execution_count": 120,
   "id": "4337616e-569a-4fdf-8b98-3c590753e9ec",
   "metadata": {},
   "outputs": [
    {
     "data": {
      "text/plain": [
       "True"
      ]
     },
     "execution_count": 120,
     "metadata": {},
     "output_type": "execute_result"
    }
   ],
   "source": [
    "9 in a"
   ]
  },
  {
   "cell_type": "code",
   "execution_count": 199,
   "id": "24e9256a",
   "metadata": {},
   "outputs": [
    {
     "data": {
      "text/plain": [
       "list"
      ]
     },
     "execution_count": 199,
     "metadata": {},
     "output_type": "execute_result"
    }
   ],
   "source": [
    "b = [(1, 0, 0), (0, 1, 0), (0, 0, 1)]\n",
    "type(b)"
   ]
  },
  {
   "cell_type": "code",
   "execution_count": 235,
   "id": "e8ec9c46",
   "metadata": {},
   "outputs": [],
   "source": [
    "a = ((1, 2), (2, 8), 3)"
   ]
  },
  {
   "cell_type": "code",
   "execution_count": 238,
   "id": "a7cb6b37",
   "metadata": {},
   "outputs": [
    {
     "data": {
      "text/plain": [
       "1"
      ]
     },
     "execution_count": 238,
     "metadata": {},
     "output_type": "execute_result"
    }
   ],
   "source": [
    "a.count((1, 2))"
   ]
  },
  {
   "cell_type": "code",
   "execution_count": 232,
   "id": "46ea0e4a",
   "metadata": {},
   "outputs": [
    {
     "data": {
      "text/plain": [
       "1"
      ]
     },
     "execution_count": 232,
     "metadata": {},
     "output_type": "execute_result"
    }
   ],
   "source": [
    "a.index(2)"
   ]
  },
  {
   "cell_type": "code",
   "execution_count": 233,
   "id": "4a2b27fe",
   "metadata": {},
   "outputs": [
    {
     "data": {
      "text/plain": [
       "2"
      ]
     },
     "execution_count": 233,
     "metadata": {},
     "output_type": "execute_result"
    }
   ],
   "source": [
    "a[1]"
   ]
  },
  {
   "cell_type": "code",
   "execution_count": 239,
   "id": "24fdb354",
   "metadata": {},
   "outputs": [],
   "source": [
    "tarifa = [(\"onibus\", \"SP\", 10), (\"onibus\", \"RJ\", 9), \n",
    "          (\"onibus\", \"ZZ\", 5), (\"taxi\", \"RJ\", 15),\n",
    "          (\"taxi\", \"AL\", 50),\n",
    "          (\"taxi\", \"SP\", 20), (\"taxi\", \"ZZ\", 30)]"
   ]
  },
  {
   "cell_type": "code",
   "execution_count": 240,
   "id": "d74dbd17",
   "metadata": {},
   "outputs": [
    {
     "data": {
      "text/plain": [
       "[('onibus', 'SP', 10),\n",
       " ('onibus', 'RJ', 9),\n",
       " ('onibus', 'ZZ', 5),\n",
       " ('taxi', 'RJ', 15),\n",
       " ('taxi', 'AL', 50),\n",
       " ('taxi', 'SP', 20),\n",
       " ('taxi', 'ZZ', 30)]"
      ]
     },
     "execution_count": 240,
     "metadata": {},
     "output_type": "execute_result"
    }
   ],
   "source": [
    "tarifa"
   ]
  },
  {
   "cell_type": "code",
   "execution_count": 262,
   "id": "5b0a3741",
   "metadata": {},
   "outputs": [
    {
     "name": "stdout",
     "output_type": "stream",
     "text": [
      "tipo de transporte: taxi\n",
      "Estado: RR\n",
      "tarifa RR 30\n",
      "registros lidos 7\n"
     ]
    }
   ],
   "source": [
    "tipo = input(\"tipo de transporte: \")\n",
    "estado = input(\"Estado: \")\n",
    "\n",
    "q = 0\n",
    "for i in tarifa:\n",
    "    q+=1\n",
    "    if i[0] == tipo:\n",
    "        if i[1] == estado:\n",
    "            print(\"tarifa\", estado, i[2])\n",
    "            break\n",
    "        else:\n",
    "            if i[1] == \"ZZ\":\n",
    "                print(\"tarifa\", estado, i[2])\n",
    "print(\"registros lidos\", q)"
   ]
  },
  {
   "cell_type": "code",
   "execution_count": null,
   "id": "05b03bff",
   "metadata": {},
   "outputs": [],
   "source": [
    "tarifa_dict = {\n",
    "    \n",
    "    \"onibus\": {'RJ': 9,\n",
    "               'SP': 10,\n",
    "               'ZZ': 5},\n",
    "               \n",
    "    \"taxi\":   {'RJ': 15,\n",
    "               'SP': 20,\n",
    "               'AL': 50,\n",
    "               'ZZ': 30}}"
   ]
  },
  {
   "cell_type": "code",
   "execution_count": 224,
   "id": "f8408e46",
   "metadata": {},
   "outputs": [],
   "source": [
    "tarifa_dict = {\"onibus\": {'RJ': 9,\n",
    "                          'SP': 10,\n",
    "                          'ZZ': 5},\n",
    "               \"taxi\": {'RJ': 15,\n",
    "                        'SP': 20,\n",
    "                        'AL': 50,\n",
    "                        'ZZ': 30}}"
   ]
  },
  {
   "cell_type": "code",
   "execution_count": 216,
   "id": "961d1f3a",
   "metadata": {},
   "outputs": [
    {
     "data": {
      "text/plain": [
       "dict_keys(['RJ', 'SP', 'ZZ'])"
      ]
     },
     "execution_count": 216,
     "metadata": {},
     "output_type": "execute_result"
    }
   ],
   "source": [
    "tarifa_dict[\"onibus\"].keys()"
   ]
  },
  {
   "cell_type": "code",
   "execution_count": 215,
   "id": "cc3ab04a",
   "metadata": {},
   "outputs": [
    {
     "name": "stdout",
     "output_type": "stream",
     "text": [
      "{'RJ': 9, 'SP': 10, 'ZZ': 5}\n",
      "{'RJ': 15, 'SP': 20, 'ZZ': 30}\n"
     ]
    }
   ],
   "source": [
    "for i in tarifa_dict.keys():\n",
    "    print(tarifa_dict[i])"
   ]
  },
  {
   "cell_type": "code",
   "execution_count": 218,
   "id": "28090079",
   "metadata": {},
   "outputs": [],
   "source": [
    "Tarifa_Padrao = tarifa_dict[\"onibus\"][\"ZZ\"]"
   ]
  },
  {
   "cell_type": "code",
   "execution_count": 226,
   "id": "c9542d73",
   "metadata": {},
   "outputs": [
    {
     "name": "stdout",
     "output_type": "stream",
     "text": [
      "tipo de transporte: taxi\n",
      "Estado: AM\n",
      "AM 30\n"
     ]
    }
   ],
   "source": [
    "tipo = input(\"tipo de transporte: \")\n",
    "estado = input(\"Estado: \")\n",
    "\n",
    "if tarifa_dict.get(tipo):\n",
    "    if tarifa_dict[tipo].get(estado):\n",
    "        print(estado, tarifa_dict[tipo].get(estado))\n",
    "    else:\n",
    "        print(estado, tarifa_dict[tipo].get(\"ZZ\"))"
   ]
  },
  {
   "cell_type": "code",
   "execution_count": null,
   "id": "99ed5569",
   "metadata": {},
   "outputs": [],
   "source": []
  },
  {
   "cell_type": "code",
   "execution_count": null,
   "id": "684f0554-b148-4a49-a824-1d6ceea1a6ba",
   "metadata": {},
   "outputs": [],
   "source": [
    "#Complemento"
   ]
  },
  {
   "cell_type": "code",
   "execution_count": 140,
   "id": "babc7c9e-01ea-4193-b98c-f17074fe5363",
   "metadata": {},
   "outputs": [],
   "source": [
    "telefone_lista = [('Yan', '1234-5678'), ('Pedro', '9999-9999'), \n",
    "                  ('Ana', '8765-4321'), ('Marina', '8877-7788')]"
   ]
  },
  {
   "cell_type": "code",
   "execution_count": 91,
   "id": "a01cad56-5ceb-4f95-ab5e-053120c9fe05",
   "metadata": {},
   "outputs": [
    {
     "data": {
      "text/plain": [
       "('Yan', '1234-5678')"
      ]
     },
     "execution_count": 91,
     "metadata": {},
     "output_type": "execute_result"
    }
   ],
   "source": [
    "telefone_lista[0]"
   ]
  },
  {
   "cell_type": "code",
   "execution_count": 88,
   "id": "82dd3fcc-e6a0-403f-ae5e-f8781be428e9",
   "metadata": {},
   "outputs": [
    {
     "data": {
      "text/plain": [
       "0"
      ]
     },
     "execution_count": 88,
     "metadata": {},
     "output_type": "execute_result"
    }
   ],
   "source": [
    "telefone_lista[0].index('Yan')"
   ]
  },
  {
   "cell_type": "code",
   "execution_count": 82,
   "id": "20d43531-7d79-45b5-9657-dbc93facdff9",
   "metadata": {},
   "outputs": [
    {
     "data": {
      "text/plain": [
       "'Yan'"
      ]
     },
     "execution_count": 82,
     "metadata": {},
     "output_type": "execute_result"
    }
   ],
   "source": [
    "telefone_lista[0][0]"
   ]
  },
  {
   "cell_type": "code",
   "execution_count": 83,
   "id": "916873c7-8d94-4917-9200-f20fbdab155e",
   "metadata": {},
   "outputs": [
    {
     "data": {
      "text/plain": [
       "'1234-5678'"
      ]
     },
     "execution_count": 83,
     "metadata": {},
     "output_type": "execute_result"
    }
   ],
   "source": [
    "telefone_lista[0][1]"
   ]
  },
  {
   "cell_type": "code",
   "execution_count": 141,
   "id": "023eb51d-4326-4551-913a-7a4bcc1c316f",
   "metadata": {},
   "outputs": [
    {
     "name": "stdout",
     "output_type": "stream",
     "text": [
      "0 0 Yan\n",
      "0 1 1234-5678\n",
      "1 0 Pedro\n",
      "1 1 9999-9999\n",
      "2 0 Ana\n",
      "2 1 8765-4321\n",
      "3 0 Marina\n",
      "3 1 8877-7788\n"
     ]
    }
   ],
   "source": [
    "for i in range(len(telefone_lista)):\n",
    "    \n",
    "    for j in range(len(telefone_lista[i])):\n",
    "        \n",
    "        print(i, j, telefone_lista[i][j])"
   ]
  },
  {
   "cell_type": "code",
   "execution_count": 169,
   "id": "a2210124-6472-4e58-8d66-989366945977",
   "metadata": {},
   "outputs": [],
   "source": [
    "numx = {'zero': 0,\n",
    "        'um': 7,\n",
    "        'dois': 8,\n",
    "        'tres': 3,\n",
    "        'quatro': 4,\n",
    "        'cinco': 5}"
   ]
  },
  {
   "cell_type": "code",
   "execution_count": 170,
   "id": "2cef5f88-68f1-48ce-881d-63f82f65f41b",
   "metadata": {},
   "outputs": [
    {
     "data": {
      "text/plain": [
       "{'zero': 0, 'um': 7, 'dois': 8, 'tres': 3, 'quatro': 4, 'cinco': 5}"
      ]
     },
     "execution_count": 170,
     "metadata": {},
     "output_type": "execute_result"
    }
   ],
   "source": [
    "numx"
   ]
  },
  {
   "cell_type": "code",
   "execution_count": 171,
   "id": "e193f858-af18-46af-aa59-272fda217038",
   "metadata": {},
   "outputs": [
    {
     "data": {
      "text/plain": [
       "7"
      ]
     },
     "execution_count": 171,
     "metadata": {},
     "output_type": "execute_result"
    }
   ],
   "source": [
    "numx['um']"
   ]
  },
  {
   "cell_type": "code",
   "execution_count": 174,
   "id": "acc6e1ea-189e-4534-976f-b1a4f3e3d446",
   "metadata": {},
   "outputs": [
    {
     "data": {
      "text/plain": [
       "True"
      ]
     },
     "execution_count": 174,
     "metadata": {},
     "output_type": "execute_result"
    }
   ],
   "source": [
    "'cinco' in numx"
   ]
  },
  {
   "cell_type": "code",
   "execution_count": 175,
   "id": "31f1dd6a-f54c-42a1-9563-aebf2b061db0",
   "metadata": {},
   "outputs": [
    {
     "data": {
      "text/plain": [
       "False"
      ]
     },
     "execution_count": 175,
     "metadata": {},
     "output_type": "execute_result"
    }
   ],
   "source": [
    "5 in numx"
   ]
  },
  {
   "cell_type": "code",
   "execution_count": 176,
   "id": "87f6f6ee-45d4-441d-b566-0b5aa7b247cb",
   "metadata": {},
   "outputs": [
    {
     "data": {
      "text/plain": [
       "dict_values([0, 7, 8, 3, 4, 5])"
      ]
     },
     "execution_count": 176,
     "metadata": {},
     "output_type": "execute_result"
    }
   ],
   "source": [
    "numx.values()"
   ]
  },
  {
   "cell_type": "code",
   "execution_count": 177,
   "id": "679a78cc-9ca8-40d4-9d52-4c4f4f9c8a4c",
   "metadata": {},
   "outputs": [
    {
     "data": {
      "text/plain": [
       "True"
      ]
     },
     "execution_count": 177,
     "metadata": {},
     "output_type": "execute_result"
    }
   ],
   "source": [
    "5 in numx.values()"
   ]
  },
  {
   "cell_type": "code",
   "execution_count": 178,
   "id": "40c2e707-b0b0-486c-b2d5-6e8f32fbdd84",
   "metadata": {},
   "outputs": [
    {
     "data": {
      "text/plain": [
       "False"
      ]
     },
     "execution_count": 178,
     "metadata": {},
     "output_type": "execute_result"
    }
   ],
   "source": [
    "1 in numx.values()"
   ]
  },
  {
   "cell_type": "code",
   "execution_count": 182,
   "id": "e63cd57e-0af2-4073-b0f9-16a8c220031b",
   "metadata": {},
   "outputs": [],
   "source": [
    "telefone = {'Leo': '1234-5678', 'Pedro': '9999-9999', \n",
    "            'Ana': '8765-4321', 'Joao': '8887-7778'}"
   ]
  },
  {
   "cell_type": "code",
   "execution_count": 183,
   "id": "fd9173f2-952d-4910-b1a5-d5f309a6cbef",
   "metadata": {},
   "outputs": [
    {
     "data": {
      "text/plain": [
       "dict"
      ]
     },
     "execution_count": 183,
     "metadata": {},
     "output_type": "execute_result"
    }
   ],
   "source": [
    "type(telefone)"
   ]
  },
  {
   "cell_type": "code",
   "execution_count": 184,
   "id": "26a81363-9454-4d96-a78e-6135afc6bf0d",
   "metadata": {
    "tags": []
   },
   "outputs": [
    {
     "data": {
      "text/plain": [
       "{'Leo': '1234-5678',\n",
       " 'Pedro': '9999-9999',\n",
       " 'Ana': '8765-4321',\n",
       " 'Joao': '8887-7778'}"
      ]
     },
     "execution_count": 184,
     "metadata": {},
     "output_type": "execute_result"
    }
   ],
   "source": [
    "telefone"
   ]
  },
  {
   "cell_type": "code",
   "execution_count": 185,
   "id": "4d92b4a5-abd2-4cd3-839e-7cad777fa7ae",
   "metadata": {},
   "outputs": [
    {
     "data": {
      "text/plain": [
       "'1234-5678'"
      ]
     },
     "execution_count": 185,
     "metadata": {},
     "output_type": "execute_result"
    }
   ],
   "source": [
    "telefone['Leo']"
   ]
  },
  {
   "cell_type": "code",
   "execution_count": 186,
   "id": "b01b2f32-62d9-4007-9843-5f76e0afd983",
   "metadata": {},
   "outputs": [
    {
     "data": {
      "text/plain": [
       "'Contato Não Encontrado'"
      ]
     },
     "execution_count": 186,
     "metadata": {},
     "output_type": "execute_result"
    }
   ],
   "source": [
    "telefone.get('Yan', 'Contato Não Encontrado')"
   ]
  },
  {
   "cell_type": "code",
   "execution_count": 187,
   "id": "2a36301a-45ea-4e9d-a04d-dbc2aac6b7f5",
   "metadata": {},
   "outputs": [
    {
     "data": {
      "text/plain": [
       "'8765-4321'"
      ]
     },
     "execution_count": 187,
     "metadata": {},
     "output_type": "execute_result"
    }
   ],
   "source": [
    "telefone.get('Ana', 'Contato Não Encontrado')"
   ]
  },
  {
   "cell_type": "code",
   "execution_count": 188,
   "id": "2b1491a6-7815-45c0-969c-a4a6034fdb64",
   "metadata": {},
   "outputs": [
    {
     "data": {
      "text/plain": [
       "True"
      ]
     },
     "execution_count": 188,
     "metadata": {},
     "output_type": "execute_result"
    }
   ],
   "source": [
    "\"Ana\" in telefone"
   ]
  },
  {
   "cell_type": "code",
   "execution_count": 189,
   "id": "e7fc6e64-3e0c-4c99-925f-d8627aa4df1b",
   "metadata": {},
   "outputs": [
    {
     "data": {
      "text/plain": [
       "False"
      ]
     },
     "execution_count": 189,
     "metadata": {},
     "output_type": "execute_result"
    }
   ],
   "source": [
    "\"Yan\" in telefone"
   ]
  },
  {
   "cell_type": "code",
   "execution_count": 190,
   "id": "fca349d4-c54a-4d89-99ae-bb40bee02503",
   "metadata": {},
   "outputs": [
    {
     "data": {
      "text/plain": [
       "False"
      ]
     },
     "execution_count": 190,
     "metadata": {},
     "output_type": "execute_result"
    }
   ],
   "source": [
    "'9999-9999' in telefone"
   ]
  },
  {
   "cell_type": "code",
   "execution_count": 191,
   "id": "84b43580-e2d7-4ec4-913a-03d7b9eb4608",
   "metadata": {},
   "outputs": [
    {
     "data": {
      "text/plain": [
       "dict_values(['1234-5678', '9999-9999', '8765-4321', '8887-7778'])"
      ]
     },
     "execution_count": 191,
     "metadata": {},
     "output_type": "execute_result"
    }
   ],
   "source": [
    "telefone.values()"
   ]
  },
  {
   "cell_type": "code",
   "execution_count": 192,
   "id": "cfd65dfd-3aa7-42c8-9c49-8cffc1ed6673",
   "metadata": {},
   "outputs": [
    {
     "data": {
      "text/plain": [
       "True"
      ]
     },
     "execution_count": 192,
     "metadata": {},
     "output_type": "execute_result"
    }
   ],
   "source": [
    "'9999-9999' in telefone.values()"
   ]
  },
  {
   "cell_type": "code",
   "execution_count": 218,
   "id": "67629c21-7e69-4b5c-acd0-0e5beb18986e",
   "metadata": {},
   "outputs": [],
   "source": [
    "telefone['Rick'] = '9876-0987'"
   ]
  },
  {
   "cell_type": "code",
   "execution_count": 196,
   "id": "c2faa2f1-198b-4de6-9562-38f68fd84def",
   "metadata": {},
   "outputs": [
    {
     "data": {
      "text/plain": [
       "{'Leo': '1234-5678',\n",
       " 'Pedro': '9999-9999',\n",
       " 'Joao': '8887-7778',\n",
       " 'Rick': '9876-0987'}"
      ]
     },
     "execution_count": 196,
     "metadata": {},
     "output_type": "execute_result"
    }
   ],
   "source": [
    "telefone"
   ]
  },
  {
   "cell_type": "code",
   "execution_count": 199,
   "id": "1be50328-eea5-48d7-a559-955860eb9114",
   "metadata": {},
   "outputs": [],
   "source": [
    "del telefone['Joao']"
   ]
  },
  {
   "cell_type": "code",
   "execution_count": 210,
   "id": "710c8c86-7403-4059-9322-22798b4d2809",
   "metadata": {},
   "outputs": [],
   "source": [
    "telefone = {'Leo': '1234-5678', 'Pedro': '9999-9999', \n",
    "            'Ana': '8765-4321', 'Joao': '8887-7778'}"
   ]
  },
  {
   "cell_type": "code",
   "execution_count": 219,
   "id": "44ed823b-3507-46e7-b32c-c3e0bd3c31be",
   "metadata": {},
   "outputs": [
    {
     "data": {
      "text/plain": [
       "{'Leo': '1234-5678',\n",
       " 'Pedro': '9999-9999',\n",
       " 'Ana': '8765-4321',\n",
       " 'Joao': '8887-7778',\n",
       " 'Rick': '9876-0987'}"
      ]
     },
     "execution_count": 219,
     "metadata": {},
     "output_type": "execute_result"
    }
   ],
   "source": [
    "telefone"
   ]
  },
  {
   "cell_type": "code",
   "execution_count": 216,
   "id": "e1a24e64-67b6-48df-902f-a4b0c16cedb9",
   "metadata": {},
   "outputs": [],
   "source": [
    "numero_remove = telefone.pop('Rick', 'Não existe')"
   ]
  },
  {
   "cell_type": "code",
   "execution_count": 217,
   "id": "f734230e-827b-4db3-9d74-f01914958d97",
   "metadata": {},
   "outputs": [
    {
     "data": {
      "text/plain": [
       "'Não existe'"
      ]
     },
     "execution_count": 217,
     "metadata": {},
     "output_type": "execute_result"
    }
   ],
   "source": [
    "numero_remove"
   ]
  },
  {
   "cell_type": "code",
   "execution_count": 223,
   "id": "40cec549-97fc-4822-96b1-d0e5e2c3ade2",
   "metadata": {},
   "outputs": [],
   "source": [
    "for nome in telefone:\n",
    "    telefone_novo[nome] = '9' + telefone[nome]"
   ]
  },
  {
   "cell_type": "code",
   "execution_count": 224,
   "id": "1da68a5c-d687-4222-b9c2-b7b468dd56da",
   "metadata": {},
   "outputs": [
    {
     "data": {
      "text/plain": [
       "{'Leo': '1234-5678',\n",
       " 'Pedro': '9999-9999',\n",
       " 'Ana': '8765-4321',\n",
       " 'Joao': '8887-7778',\n",
       " 'Rick': '9876-0987'}"
      ]
     },
     "execution_count": 224,
     "metadata": {},
     "output_type": "execute_result"
    }
   ],
   "source": [
    "telefone"
   ]
  },
  {
   "cell_type": "code",
   "execution_count": 225,
   "id": "d113f6c0-e5d9-4b11-a960-91e857a5fbe9",
   "metadata": {},
   "outputs": [
    {
     "data": {
      "text/plain": [
       "{'Leo': '91234-5678',\n",
       " 'Pedro': '99999-9999',\n",
       " 'Ana': '98765-4321',\n",
       " 'Joao': '98887-7778',\n",
       " 'Rick': '99876-0987'}"
      ]
     },
     "execution_count": 225,
     "metadata": {},
     "output_type": "execute_result"
    }
   ],
   "source": [
    "telefone_novo"
   ]
  },
  {
   "cell_type": "code",
   "execution_count": 6,
   "id": "88d908d0-9f07-451d-b337-d12836023ecc",
   "metadata": {},
   "outputs": [
    {
     "data": {
      "text/plain": [
       "25"
      ]
     },
     "execution_count": 6,
     "metadata": {},
     "output_type": "execute_result"
    }
   ],
   "source": [
    "a = [3, 4, 5, 6, 7]\n",
    "sum(a)"
   ]
  },
  {
   "cell_type": "code",
   "execution_count": 3,
   "id": "2320f2fb-4331-457d-926a-5acab641c792",
   "metadata": {},
   "outputs": [],
   "source": [
    "notas = [3, 4, 5, 6]\n",
    "notas.sort(reverse=True)"
   ]
  },
  {
   "cell_type": "code",
   "execution_count": 4,
   "id": "954ec6c7-7709-484d-8b43-72a7ec80b3cf",
   "metadata": {},
   "outputs": [
    {
     "data": {
      "text/plain": [
       "[6, 5, 4, 3]"
      ]
     },
     "execution_count": 4,
     "metadata": {},
     "output_type": "execute_result"
    }
   ],
   "source": [
    "notas"
   ]
  },
  {
   "cell_type": "code",
   "execution_count": 43,
   "id": "d7df0887-4a13-4193-a8f2-4b9609abd005",
   "metadata": {},
   "outputs": [],
   "source": [
    "telefone = {'Leo': '1234-5678', 'Pedro': '9999-9999', \n",
    "            'Ana': '8765-4321', 'Joao': '8887-7778'}"
   ]
  },
  {
   "cell_type": "code",
   "execution_count": 75,
   "id": "49d26765-485b-4187-88b2-ab9cdac09374",
   "metadata": {},
   "outputs": [
    {
     "data": {
      "text/plain": [
       "dict"
      ]
     },
     "execution_count": 75,
     "metadata": {},
     "output_type": "execute_result"
    }
   ],
   "source": [
    "type(telefone)"
   ]
  },
  {
   "cell_type": "code",
   "execution_count": 44,
   "id": "58ff8c17-7665-4bea-8259-512a4bc64869",
   "metadata": {},
   "outputs": [
    {
     "data": {
      "text/plain": [
       "{'Leo': '1234-5678',\n",
       " 'Pedro': '9999-9999',\n",
       " 'Ana': '8765-4321',\n",
       " 'Joao': '8887-7778'}"
      ]
     },
     "execution_count": 44,
     "metadata": {},
     "output_type": "execute_result"
    }
   ],
   "source": [
    "telefone"
   ]
  },
  {
   "cell_type": "code",
   "execution_count": 45,
   "id": "d78c4adf-47a8-4505-b462-47acbb59cd74",
   "metadata": {},
   "outputs": [
    {
     "data": {
      "text/plain": [
       "'1234-5678'"
      ]
     },
     "execution_count": 45,
     "metadata": {},
     "output_type": "execute_result"
    }
   ],
   "source": [
    "telefone['Leo']"
   ]
  },
  {
   "cell_type": "code",
   "execution_count": 46,
   "id": "48478882-f974-4722-bb90-6c26785595ce",
   "metadata": {},
   "outputs": [],
   "source": [
    "del telefone['Leo']"
   ]
  },
  {
   "cell_type": "code",
   "execution_count": 47,
   "id": "1c8d2445-4896-4fcb-be85-7d23a571549d",
   "metadata": {},
   "outputs": [
    {
     "data": {
      "text/plain": [
       "{'Pedro': '9999-9999', 'Ana': '8765-4321', 'Joao': '8887-7778'}"
      ]
     },
     "execution_count": 47,
     "metadata": {},
     "output_type": "execute_result"
    }
   ],
   "source": [
    "telefone"
   ]
  },
  {
   "cell_type": "code",
   "execution_count": 49,
   "id": "071961bd-94b0-4b7d-9f0e-088e0cec7401",
   "metadata": {},
   "outputs": [
    {
     "data": {
      "text/plain": [
       "'Contato não encontrado'"
      ]
     },
     "execution_count": 49,
     "metadata": {},
     "output_type": "execute_result"
    }
   ],
   "source": [
    "telefone.pop('Leo', 'Contato não encontrado')"
   ]
  },
  {
   "cell_type": "code",
   "execution_count": 50,
   "id": "5caebb43-1cd2-4550-8ff6-62de716f5c60",
   "metadata": {},
   "outputs": [
    {
     "data": {
      "text/plain": [
       "'9999-9999'"
      ]
     },
     "execution_count": 50,
     "metadata": {},
     "output_type": "execute_result"
    }
   ],
   "source": [
    "telefone.pop('Pedro', 'Contato não encontrado')"
   ]
  },
  {
   "cell_type": "code",
   "execution_count": 51,
   "id": "0fdc562e-220c-46b0-8524-2734202c5e97",
   "metadata": {},
   "outputs": [
    {
     "data": {
      "text/plain": [
       "{'Ana': '8765-4321', 'Joao': '8887-7778'}"
      ]
     },
     "execution_count": 51,
     "metadata": {},
     "output_type": "execute_result"
    }
   ],
   "source": [
    "telefone"
   ]
  },
  {
   "cell_type": "code",
   "execution_count": 54,
   "id": "368c71f3-0c3b-446a-81f7-1d0d13d879ca",
   "metadata": {},
   "outputs": [],
   "source": [
    "telefone = {'Leo': '1234-5678', 'Pedro': '9999-9999', \n",
    "            'Ana': '8765-4321', 'Joao': '8887-7778'}"
   ]
  },
  {
   "cell_type": "code",
   "execution_count": 57,
   "id": "5f7e1987-b1ec-4650-ae81-e49649400390",
   "metadata": {},
   "outputs": [
    {
     "data": {
      "text/plain": [
       "{'Leo': '1234-5678',\n",
       " 'Pedro': '9999-9999',\n",
       " 'Ana': '8765-4321',\n",
       " 'Joao': '8887-7778'}"
      ]
     },
     "execution_count": 57,
     "metadata": {},
     "output_type": "execute_result"
    }
   ],
   "source": [
    "telefone"
   ]
  },
  {
   "cell_type": "code",
   "execution_count": 55,
   "id": "5be6dabb-c0f9-412f-8eeb-d3a432b676f8",
   "metadata": {},
   "outputs": [],
   "source": [
    "telefone_novo = {nome: '9' + telefone[nome] for nome in telefone}"
   ]
  },
  {
   "cell_type": "code",
   "execution_count": 56,
   "id": "d297a60c-e35e-495d-ab40-54151bb78c6b",
   "metadata": {},
   "outputs": [
    {
     "data": {
      "text/plain": [
       "{'Leo': '91234-5678',\n",
       " 'Pedro': '99999-9999',\n",
       " 'Ana': '98765-4321',\n",
       " 'Joao': '98887-7778'}"
      ]
     },
     "execution_count": 56,
     "metadata": {},
     "output_type": "execute_result"
    }
   ],
   "source": [
    "telefone_novo"
   ]
  },
  {
   "cell_type": "code",
   "execution_count": 60,
   "id": "658eb6c9-9ea7-4381-9299-d77a64ad4061",
   "metadata": {},
   "outputs": [
    {
     "data": {
      "text/plain": [
       "dict_values(['1234-5678', '9999-9999', '8765-4321', '8887-7778'])"
      ]
     },
     "execution_count": 60,
     "metadata": {},
     "output_type": "execute_result"
    }
   ],
   "source": [
    "telefone.values()"
   ]
  },
  {
   "cell_type": "code",
   "execution_count": 61,
   "id": "fcc05135-8620-4c6f-9483-20fa38a19b8c",
   "metadata": {},
   "outputs": [],
   "source": [
    "telefone['Ricardo'] = '8114-8765'"
   ]
  },
  {
   "cell_type": "code",
   "execution_count": 62,
   "id": "a207d920-86e2-4de7-9156-11ef1444604d",
   "metadata": {},
   "outputs": [
    {
     "data": {
      "text/plain": [
       "{'Leo': '1234-5678',\n",
       " 'Pedro': '9999-9999',\n",
       " 'Ana': '8765-4321',\n",
       " 'Joao': '8887-7778',\n",
       " 'Ricardo': '8114-8765'}"
      ]
     },
     "execution_count": 62,
     "metadata": {},
     "output_type": "execute_result"
    }
   ],
   "source": [
    "telefone"
   ]
  },
  {
   "cell_type": "code",
   "execution_count": 64,
   "id": "8b2eb50e-ac89-4381-a87e-26c25631b1fc",
   "metadata": {},
   "outputs": [
    {
     "data": {
      "text/plain": [
       "dict_values(['1234-5678', '9999-9999', '8765-4321', '8887-7778', '8114-8765'])"
      ]
     },
     "execution_count": 64,
     "metadata": {},
     "output_type": "execute_result"
    }
   ],
   "source": [
    "telefone.values()"
   ]
  },
  {
   "cell_type": "code",
   "execution_count": 251,
   "id": "41e6ec51-2a00-4326-bbd2-fbdfa6a8de59",
   "metadata": {},
   "outputs": [],
   "source": [
    "familia = {'sobrenome': {'Silva':   {'pai':'Joao',  \n",
    "                                     'mae': 'Maria', \n",
    "                                     'crianca 1': 'Pedro',\n",
    "                                     'tio': 'Rick'},\n",
    "                         \n",
    "                         'Machado': {'pai':'Pedro', \n",
    "                                     'mae': 'Lidia', \n",
    "                                     'crianca 1': 'Maria', \n",
    "                                     'crianca 2': 'Vitor'}}}"
   ]
  },
  {
   "cell_type": "code",
   "execution_count": 252,
   "id": "c660ec5d-27f7-48ec-9588-1069d16e73ff",
   "metadata": {},
   "outputs": [
    {
     "data": {
      "text/plain": [
       "{'sobrenome': {'Silva': {'pai': 'Joao',\n",
       "   'mae': 'Maria',\n",
       "   'crianca 1': 'Pedro',\n",
       "   'tio': 'Rick'},\n",
       "  'Machado': {'pai': 'Pedro',\n",
       "   'mae': 'Lidia',\n",
       "   'crianca 1': 'Maria',\n",
       "   'crianca 2': 'Vitor'}}}"
      ]
     },
     "execution_count": 252,
     "metadata": {},
     "output_type": "execute_result"
    }
   ],
   "source": [
    "familia"
   ]
  },
  {
   "cell_type": "code",
   "execution_count": 253,
   "id": "90518f69-cc84-477a-9836-4606d6883ea7",
   "metadata": {},
   "outputs": [
    {
     "data": {
      "text/plain": [
       "dict_values(['Joao', 'Maria', 'Pedro', 'Rick'])"
      ]
     },
     "execution_count": 253,
     "metadata": {},
     "output_type": "execute_result"
    }
   ],
   "source": [
    "familia['sobrenome']['Silva'].values()"
   ]
  },
  {
   "cell_type": "code",
   "execution_count": 234,
   "id": "ffcfe80f-a54f-4f93-a313-4abeac660504",
   "metadata": {},
   "outputs": [
    {
     "data": {
      "text/plain": [
       "dict_values([{'Silva': {'pai': 'Joao', 'mae': 'Maria', 'crianca 1': 'Pedro'}, 'Machado': {'pai': 'Pedro', 'mae': 'Lidia', 'crianca 1': 'Maria', 'crianca 2': 'Vitor'}}])"
      ]
     },
     "execution_count": 234,
     "metadata": {},
     "output_type": "execute_result"
    }
   ],
   "source": [
    "familia.values()"
   ]
  },
  {
   "cell_type": "code",
   "execution_count": 254,
   "id": "7aac2079-5476-454e-9db2-11fb6a169863",
   "metadata": {},
   "outputs": [
    {
     "data": {
      "text/plain": [
       "{'pai': 'Joao', 'mae': 'Maria', 'crianca 1': 'Pedro', 'tio': 'Rick'}"
      ]
     },
     "execution_count": 254,
     "metadata": {},
     "output_type": "execute_result"
    }
   ],
   "source": [
    "familia['sobrenome'].get('Silva')"
   ]
  },
  {
   "cell_type": "code",
   "execution_count": 236,
   "id": "542192b2-c48d-4865-8d41-cc3949562d65",
   "metadata": {},
   "outputs": [
    {
     "data": {
      "text/plain": [
       "{'pai': 'Pedro', 'mae': 'Lidia', 'crianca 1': 'Maria', 'crianca 2': 'Vitor'}"
      ]
     },
     "execution_count": 236,
     "metadata": {},
     "output_type": "execute_result"
    }
   ],
   "source": [
    "familia['sobrenome'].get('Machado')"
   ]
  },
  {
   "cell_type": "code",
   "execution_count": 255,
   "id": "d892b7e8-8547-47d9-8623-08746786236f",
   "metadata": {},
   "outputs": [
    {
     "data": {
      "text/plain": [
       "['pai', 'mae', 'crianca 1', 'crianca 2']"
      ]
     },
     "execution_count": 255,
     "metadata": {},
     "output_type": "execute_result"
    }
   ],
   "source": [
    "list(familia['sobrenome'].get('Machado'))"
   ]
  },
  {
   "cell_type": "code",
   "execution_count": 256,
   "id": "44cd143d-5de7-42e3-b932-cc6f63801e3d",
   "metadata": {},
   "outputs": [
    {
     "data": {
      "text/plain": [
       "['pai', 'mae', 'crianca 1', 'tio']"
      ]
     },
     "execution_count": 256,
     "metadata": {},
     "output_type": "execute_result"
    }
   ],
   "source": [
    "list(familia['sobrenome'].get('Silva'))"
   ]
  },
  {
   "cell_type": "code",
   "execution_count": 257,
   "id": "1ebed45b-9960-48f3-acc3-59c9e968ce23",
   "metadata": {},
   "outputs": [
    {
     "data": {
      "text/plain": [
       "['sobrenome']"
      ]
     },
     "execution_count": 257,
     "metadata": {},
     "output_type": "execute_result"
    }
   ],
   "source": [
    "list(familia)"
   ]
  },
  {
   "cell_type": "code",
   "execution_count": 258,
   "id": "65f92a86-ce0f-4ebe-8e33-c4980b0f6891",
   "metadata": {
    "tags": []
   },
   "outputs": [
    {
     "data": {
      "text/plain": [
       "['Silva', 'Machado']"
      ]
     },
     "execution_count": 258,
     "metadata": {},
     "output_type": "execute_result"
    }
   ],
   "source": [
    "list(familia['sobrenome'])"
   ]
  },
  {
   "cell_type": "code",
   "execution_count": 327,
   "id": "522721d0-2d48-408c-9467-a87a7f8c2833",
   "metadata": {},
   "outputs": [
    {
     "name": "stdin",
     "output_type": "stream",
     "text": [
      "Família:  Machado\n"
     ]
    },
    {
     "name": "stdout",
     "output_type": "stream",
     "text": [
      "Membro:  pai :  Pedro\n",
      "Membro:  mae :  Lidia\n",
      "Membro:  criancas :  Maria\n",
      "Membro:  criancas :  Vitor\n"
     ]
    }
   ],
   "source": [
    "sbnm = input(\"Família: \")\n",
    "\n",
    "for familiar in list(familia['sobrenome'][sbnm]):\n",
    "    if (type(familia['sobrenome'][sbnm][familiar]) == dict):\n",
    "        for lisxint in list(familia['sobrenome'][sbnm][familiar]):\n",
    "            print('Membro: ', familiar, ': ', lisxint)\n",
    "    else:\n",
    "        print('Membro: ', familiar, ': ', familia['sobrenome'][sbnm][familiar])\n",
    "        "
   ]
  },
  {
   "cell_type": "code",
   "execution_count": 324,
   "id": "c518f415-5920-472a-9d87-860b9c3ecc8f",
   "metadata": {
    "tags": []
   },
   "outputs": [
    {
     "name": "stdout",
     "output_type": "stream",
     "text": [
      "Familia:  Silva \n",
      "\n",
      "Membro:  pai :  Joao\n",
      "Membro:  mae :  Maria\n",
      "Membro:  criancas :  Pedro :  13\n",
      "Membro:  tio :  Rick\n",
      "\n",
      "\n",
      "Familia:  Machado \n",
      "\n",
      "Membro:  pai :  Pedro\n",
      "Membro:  mae :  Lidia\n",
      "Membro:  criancas :  Maria :  15\n",
      "Membro:  criancas :  Vitor :  7\n",
      "\n",
      "\n"
     ]
    }
   ],
   "source": [
    "for sbnm in list(familia['sobrenome']):\n",
    "    \n",
    "    print('Familia: ', sbnm, '\\n')\n",
    "    \n",
    "    for familiar in list(familia['sobrenome'][sbnm]):\n",
    "        \n",
    "        if (type(familia['sobrenome'][sbnm][familiar]) == dict):\n",
    "            for lisxint in list(familia['sobrenome'][sbnm][familiar]):\n",
    "                print('Membro: ', familiar, ': ', lisxint, ': ', \n",
    "                      familia['sobrenome'][sbnm][familiar][lisxint])\n",
    "        else:\n",
    "            print('Membro: ', familiar, ': ', familia['sobrenome'][sbnm][familiar])\n",
    "        \n",
    "    print('\\n')"
   ]
  },
  {
   "cell_type": "code",
   "execution_count": 303,
   "id": "3aa2e948-37b4-4af2-9cf7-f4599e40d697",
   "metadata": {
    "jupyter": {
     "outputs_hidden": true,
     "source_hidden": true
    },
    "tags": []
   },
   "outputs": [
    {
     "data": {
      "text/plain": [
       "True"
      ]
     },
     "execution_count": 303,
     "metadata": {},
     "output_type": "execute_result"
    }
   ],
   "source": [
    "type(familia['sobrenome']['Machado']['criancas']) == dict"
   ]
  },
  {
   "cell_type": "code",
   "execution_count": 301,
   "id": "0f75509c-c95a-4cb9-9ee4-2bdba9bd9e3d",
   "metadata": {
    "jupyter": {
     "outputs_hidden": true,
     "source_hidden": true
    },
    "tags": []
   },
   "outputs": [
    {
     "data": {
      "text/plain": [
       "['Maria', 'Vitor']"
      ]
     },
     "execution_count": 301,
     "metadata": {},
     "output_type": "execute_result"
    }
   ],
   "source": [
    "list(familia['sobrenome']['Machado']['criancas'])"
   ]
  },
  {
   "cell_type": "code",
   "execution_count": 284,
   "id": "a9da0dea-ef1f-4245-ad5e-87aff6c2efea",
   "metadata": {
    "jupyter": {
     "outputs_hidden": true,
     "source_hidden": true
    },
    "tags": []
   },
   "outputs": [
    {
     "data": {
      "text/plain": [
       "True"
      ]
     },
     "execution_count": 284,
     "metadata": {},
     "output_type": "execute_result"
    }
   ],
   "source": [
    "type(familia) == dict"
   ]
  },
  {
   "cell_type": "code",
   "execution_count": 280,
   "id": "76a98639-f22a-4263-ab7f-a8e884d91622",
   "metadata": {
    "jupyter": {
     "outputs_hidden": true,
     "source_hidden": true
    },
    "tags": []
   },
   "outputs": [
    {
     "data": {
      "text/plain": [
       "{'Maria': 15, 'Vitor': 7}"
      ]
     },
     "execution_count": 280,
     "metadata": {},
     "output_type": "execute_result"
    }
   ],
   "source": [
    "familia['sobrenome']['Machado']['criancas']"
   ]
  },
  {
   "cell_type": "code",
   "execution_count": 286,
   "id": "ca598cce-5d07-40b0-933b-6eaca837de02",
   "metadata": {
    "jupyter": {
     "outputs_hidden": true,
     "source_hidden": true
    },
    "tags": []
   },
   "outputs": [
    {
     "data": {
      "text/plain": [
       "str"
      ]
     },
     "execution_count": 286,
     "metadata": {},
     "output_type": "execute_result"
    }
   ],
   "source": [
    "type(familia['sobrenome']['Machado']['pai'])"
   ]
  },
  {
   "cell_type": "code",
   "execution_count": 289,
   "id": "6d039500-875d-4e81-b1f6-3f70b015bf98",
   "metadata": {
    "jupyter": {
     "outputs_hidden": true,
     "source_hidden": true
    },
    "tags": []
   },
   "outputs": [
    {
     "data": {
      "text/plain": [
       "True"
      ]
     },
     "execution_count": 289,
     "metadata": {},
     "output_type": "execute_result"
    }
   ],
   "source": [
    "type(familia['sobrenome']['Machado']['criancas']) is dict"
   ]
  },
  {
   "cell_type": "code",
   "execution_count": 63,
   "id": "284eaea1-45a8-4f34-ac56-2a9fc4c3cb21",
   "metadata": {},
   "outputs": [],
   "source": [
    "familia = {'Silva':   {'pai':'Joao',  \n",
    "                                     'mae': 'Maria', \n",
    "                                     'criancas': {'Pedro': 13},\n",
    "                                     'tio': 'Rick'},\n",
    "                         \n",
    "                         'Machado': {'pai':'Pedro', \n",
    "                                     'mae': 'Lidia', \n",
    "                                     'criancas': {'Maria': '15', \n",
    "                                                  'Vitor': '7'}}}"
   ]
  },
  {
   "cell_type": "code",
   "execution_count": 67,
   "id": "8fe6825a-47ec-4f69-a62f-83d8b2af9c59",
   "metadata": {},
   "outputs": [
    {
     "data": {
      "text/plain": [
       "{'pai': 'Pedro', 'mae': 'Lidia', 'criancas': {'Maria': '15', 'Vitor': '7'}}"
      ]
     },
     "execution_count": 67,
     "metadata": {},
     "output_type": "execute_result"
    }
   ],
   "source": [
    "familia['Machado']"
   ]
  },
  {
   "cell_type": "code",
   "execution_count": 66,
   "id": "3bedd3db-80e9-4643-8f9e-419574e6e6f0",
   "metadata": {},
   "outputs": [
    {
     "data": {
      "text/plain": [
       "{'Maria': '15', 'Vitor': '7'}"
      ]
     },
     "execution_count": 66,
     "metadata": {},
     "output_type": "execute_result"
    }
   ],
   "source": [
    "familia['Machado']['criancas']"
   ]
  },
  {
   "cell_type": "code",
   "execution_count": null,
   "id": "821f4c55-632b-4c4e-87ee-f0ebda595c56",
   "metadata": {},
   "outputs": [],
   "source": []
  },
  {
   "cell_type": "code",
   "execution_count": 70,
   "id": "32c756db-9329-4871-916b-35eda59e02f4",
   "metadata": {},
   "outputs": [],
   "source": [
    "familia = {'sobrenome': {'Silva':   {'pai':'Joao',  'mae': 'Maria', 'crianca 1': 'Pedro'},\n",
    "                         'Machado': {'pai':'Pedro', 'mae': 'Lidia', 'crianca 1': 'Maria', 'crianca 2': 'Vitor'}}}"
   ]
  },
  {
   "cell_type": "code",
   "execution_count": 71,
   "id": "fef383e3-5c0c-4f1f-9030-a231c677f496",
   "metadata": {},
   "outputs": [
    {
     "data": {
      "text/plain": [
       "{'sobrenome': {'Silva': {'pai': 'Joao', 'mae': 'Maria', 'crianca 1': 'Pedro'},\n",
       "  'Machado': {'pai': 'Pedro',\n",
       "   'mae': 'Lidia',\n",
       "   'crianca 1': 'Maria',\n",
       "   'crianca 2': 'Vitor'}}}"
      ]
     },
     "execution_count": 71,
     "metadata": {},
     "output_type": "execute_result"
    }
   ],
   "source": [
    "familia"
   ]
  },
  {
   "cell_type": "code",
   "execution_count": 72,
   "id": "6dc42203-8223-4e3e-830a-76a2e8cfdb4c",
   "metadata": {},
   "outputs": [
    {
     "data": {
      "text/plain": [
       "{'pai': 'Joao', 'mae': 'Maria', 'crianca 1': 'Pedro'}"
      ]
     },
     "execution_count": 72,
     "metadata": {},
     "output_type": "execute_result"
    }
   ],
   "source": [
    "familia['sobrenome']['Silva']"
   ]
  },
  {
   "cell_type": "code",
   "execution_count": 73,
   "id": "63d8cbb8-4d90-43f1-8790-1668c2320730",
   "metadata": {},
   "outputs": [
    {
     "data": {
      "text/plain": [
       "{'pai': 'Pedro', 'mae': 'Lidia', 'crianca 1': 'Maria', 'crianca 2': 'Vitor'}"
      ]
     },
     "execution_count": 73,
     "metadata": {},
     "output_type": "execute_result"
    }
   ],
   "source": [
    "familia['sobrenome']['Machado']"
   ]
  },
  {
   "cell_type": "code",
   "execution_count": 74,
   "id": "425ba904-f216-4ecb-85f5-ee58f66fff70",
   "metadata": {},
   "outputs": [
    {
     "data": {
      "text/plain": [
       "'Pedro'"
      ]
     },
     "execution_count": 74,
     "metadata": {},
     "output_type": "execute_result"
    }
   ],
   "source": [
    "familia['sobrenome']['Machado']['pai']"
   ]
  }
 ],
 "metadata": {
  "kernelspec": {
   "display_name": "Python 3 (ipykernel)",
   "language": "python",
   "name": "python3"
  },
  "language_info": {
   "codemirror_mode": {
    "name": "ipython",
    "version": 3
   },
   "file_extension": ".py",
   "mimetype": "text/x-python",
   "name": "python",
   "nbconvert_exporter": "python",
   "pygments_lexer": "ipython3",
   "version": "3.11.7"
  }
 },
 "nbformat": 4,
 "nbformat_minor": 5
}
