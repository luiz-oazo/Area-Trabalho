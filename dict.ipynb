{
  "nbformat": 4,
  "nbformat_minor": 0,
  "metadata": {
    "colab": {
      "provenance": []
    },
    "kernelspec": {
      "name": "python3",
      "display_name": "Python 3"
    },
    "language_info": {
      "name": "python"
    }
  },
  "cells": [
    {
      "cell_type": "code",
      "source": [
        "tarifa = [(\"onibus\", \"SP\", 10),\n",
        "          (\"onibus\", \"RJ\", 9),\n",
        "          (\"onibus\", \"ZZ\", 5),\n",
        "          (\"taxi\", \"RJ\", 15),\n",
        "          (\"taxi\", \"AL\", 50),\n",
        "          (\"taxi\", \"SP\", 20),\n",
        "          (\"taxi\", \"ZZ\", 30)]"
      ],
      "metadata": {
        "id": "Ps5K8ApRbVIV"
      },
      "execution_count": 61,
      "outputs": []
    },
    {
      "cell_type": "code",
      "source": [
        "tarifa"
      ],
      "metadata": {
        "colab": {
          "base_uri": "https://localhost:8080/"
        },
        "id": "8rDnb8UulRz1",
        "outputId": "de899e91-2f84-43cb-d69a-d6db2d461d5c"
      },
      "execution_count": 62,
      "outputs": [
        {
          "output_type": "execute_result",
          "data": {
            "text/plain": [
              "[('onibus', 'SP', 10),\n",
              " ('onibus', 'RJ', 9),\n",
              " ('onibus', 'ZZ', 5),\n",
              " ('taxi', 'RJ', 15),\n",
              " ('taxi', 'AL', 50),\n",
              " ('taxi', 'SP', 20),\n",
              " ('taxi', 'ZZ', 30)]"
            ]
          },
          "metadata": {},
          "execution_count": 62
        }
      ]
    },
    {
      "cell_type": "code",
      "source": [
        "transporte = input(\"Digite o transporte: \")\n",
        "estado = input(\"Digite o estado: \")\n",
        "\n",
        "for item in tarifa:\n",
        "  if item[0] == transporte:\n",
        "    if item[1] == estado:\n",
        "      print(item[1], item[2])\n",
        "      break\n",
        "    else:\n",
        "      if item[1] == \"ZZ\":\n",
        "        print(estado, item[2], item[1])"
      ],
      "metadata": {
        "colab": {
          "base_uri": "https://localhost:8080/"
        },
        "id": "jw3dczoUlRw_",
        "outputId": "21feb584-0323-4b7b-bee9-2f915e3602f2"
      },
      "execution_count": 63,
      "outputs": [
        {
          "output_type": "stream",
          "name": "stdout",
          "text": [
            "Digite o transporte: onibus\n",
            "Digite o estado: SC\n",
            "SC 5 ZZ\n"
          ]
        }
      ]
    },
    {
      "cell_type": "code",
      "source": [
        "conta = 0\n",
        "for item in tarifa:\n",
        "  if item[0] == \"taxi\":\n",
        "    print(conta, item[1], item[2])\n",
        "  conta += 1\n",
        "print(conta)"
      ],
      "metadata": {
        "colab": {
          "base_uri": "https://localhost:8080/"
        },
        "id": "9rV90FLzlRuL",
        "outputId": "1bdd09a0-3271-4c3e-d2c9-e9f2eb357658"
      },
      "execution_count": 46,
      "outputs": [
        {
          "output_type": "stream",
          "name": "stdout",
          "text": [
            "3 RJ 15\n",
            "4 AL 50\n",
            "5 SP 20\n",
            "6 ZZ 30\n",
            "7\n"
          ]
        }
      ]
    },
    {
      "cell_type": "code",
      "source": [
        "#DICT"
      ],
      "metadata": {
        "id": "qux6Y7falRq7"
      },
      "execution_count": null,
      "outputs": []
    },
    {
      "cell_type": "code",
      "source": [
        "tarifa_dict = {\"onibus\": {'RJ': 9,\n",
        "                          'SP': 10,\n",
        "                          'ZZ': 5},\n",
        "               \"taxi\": {'RJ': 15,\n",
        "                        'SP': 20,\n",
        "                        'AL': 50,\n",
        "                        'ZZ': 30}}\n",
        "tarifa_dict"
      ],
      "metadata": {
        "colab": {
          "base_uri": "https://localhost:8080/"
        },
        "id": "ewD6zbUvlRoH",
        "outputId": "d7ddb6c5-d4ad-41ec-cf3e-0540e99efdbe"
      },
      "execution_count": 64,
      "outputs": [
        {
          "output_type": "execute_result",
          "data": {
            "text/plain": [
              "{'onibus': {'RJ': 9, 'SP': 10, 'ZZ': 5},\n",
              " 'taxi': {'RJ': 15, 'SP': 20, 'AL': 50, 'ZZ': 30}}"
            ]
          },
          "metadata": {},
          "execution_count": 64
        }
      ]
    },
    {
      "cell_type": "code",
      "source": [
        "for tarifa in tarifa_dict.keys():\n",
        "  for i in tarifa_dict[tarifa].keys():\n",
        "    print(tarifa_dict[tarifa][i])"
      ],
      "metadata": {
        "id": "Qy3IxJ2QlRlk"
      },
      "execution_count": null,
      "outputs": []
    },
    {
      "cell_type": "code",
      "source": [
        "transporte = input(\"Digite o transporte: \")\n",
        "estado = input(\"Digite o estado: \")\n",
        "\n",
        "if tarifa_dict.get(transporte):\n",
        "  if tarifa_dict[transporte].get(estado):\n",
        "    print(tarifa_dict[transporte][estado])\n",
        "  else:\n",
        "    print(tarifa_dict[transporte]['ZZ'])"
      ],
      "metadata": {
        "colab": {
          "base_uri": "https://localhost:8080/"
        },
        "id": "kPiwoaJGqp6z",
        "outputId": "baa962d5-83ea-4c37-86bc-7ee1ad7ad564"
      },
      "execution_count": 82,
      "outputs": [
        {
          "output_type": "stream",
          "name": "stdout",
          "text": [
            "Digite o transporte: onibus\n",
            "Digite o estado: BA\n",
            "5\n"
          ]
        }
      ]
    },
    {
      "cell_type": "code",
      "source": [
        "tarifa_dict['onibus'].get('RJ', 'erro')"
      ],
      "metadata": {
        "colab": {
          "base_uri": "https://localhost:8080/"
        },
        "id": "Qs-LM-woqp4R",
        "outputId": "5caa580a-85d1-4f8c-bf2f-e025ed582c89"
      },
      "execution_count": 69,
      "outputs": [
        {
          "output_type": "execute_result",
          "data": {
            "text/plain": [
              "9"
            ]
          },
          "metadata": {},
          "execution_count": 69
        }
      ]
    },
    {
      "cell_type": "code",
      "source": [
        "dados_pessoais = {\n",
        "    \"Silva\": {\n",
        "        \"Joao\": {\"idade\": 20, \"cidade\": \"São Paulo\"},\n",
        "        \"Ana\": {\"idade\": 21, \"cidade\": \"Botucatu\", \"filho\": \"maria\"}\n",
        "    },\n",
        "    \"Souza\": {\n",
        "        \"Maria\": {\"idade\": 35, \"cidade\": \"Campinas\"},\n",
        "        \"Otavio\": {\"idade\": 44, \"cidade\": \"Campinas\", \"filho\": {\"maria\": 10,\n",
        "                                                                \"joao\": 5}}\n",
        "    },\n",
        "    \"Oliveira\": {\n",
        "        \"Jose\": {\"idade\": 56, \"cidade\": \"Santos\"},\n",
        "        \"Caio\": {\"idade\": 80, \"cidade\": \"Santos\"}\n",
        "    }\n",
        "}"
      ],
      "metadata": {
        "id": "tZdM-FfOqp1t"
      },
      "execution_count": 94,
      "outputs": []
    },
    {
      "cell_type": "code",
      "source": [
        "sobrenome = 'Souza'\n",
        "for i in dados_pessoais[sobrenome].keys():\n",
        "  for j in dados_pessoais[sobrenome][i].keys():\n",
        "    if not type(dados_pessoais[sobrenome][i][j]) == dict:\n",
        "      print(i, j, dados_pessoais[sobrenome][i][j])\n",
        "    else:\n",
        "      for k in dados_pessoais[sobrenome][i][j].keys():\n",
        "        print(i, j, k, dados_pessoais[sobrenome][i][j][k])"
      ],
      "metadata": {
        "colab": {
          "base_uri": "https://localhost:8080/"
        },
        "id": "lgAdr0n-qpy_",
        "outputId": "b3730ff4-d547-4967-c1c5-68d9455e2bc1"
      },
      "execution_count": 98,
      "outputs": [
        {
          "output_type": "stream",
          "name": "stdout",
          "text": [
            "Maria idade 35\n",
            "Maria cidade Campinas\n",
            "Otavio idade 44\n",
            "Otavio cidade Campinas\n",
            "Otavio filho maria 10\n",
            "Otavio filho joao 5\n"
          ]
        }
      ]
    },
    {
      "cell_type": "code",
      "source": [],
      "metadata": {
        "id": "AHqmrTvhqpwj"
      },
      "execution_count": null,
      "outputs": []
    },
    {
      "cell_type": "code",
      "source": [],
      "metadata": {
        "id": "nQ-tq9m7qptz"
      },
      "execution_count": null,
      "outputs": []
    }
  ]
}