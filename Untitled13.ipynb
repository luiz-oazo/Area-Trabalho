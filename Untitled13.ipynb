{
 "cells": [
  {
   "cell_type": "code",
   "execution_count": 2,
   "id": "8710d56a",
   "metadata": {},
   "outputs": [
    {
     "name": "stdout",
     "output_type": "stream",
     "text": [
      "[5 7 9]\n"
     ]
    }
   ],
   "source": [
    "import numpy as np\n",
    "a = np.array([1, 2, 3])\n",
    "b = np.array([4, 5, 6])\n",
    "c = a + b\n",
    "print(c)"
   ]
  },
  {
   "cell_type": "code",
   "execution_count": 12,
   "id": "42adb46d",
   "metadata": {},
   "outputs": [
    {
     "name": "stdout",
     "output_type": "stream",
     "text": [
      "[[1 1 1 1 1 0]\n",
      " [1 1 1 1 1 1]\n",
      " [1 1 1 1 1 1]\n",
      " [1 1 1 1 1 0]\n",
      " [1 1 1 1 1 0]\n",
      " [0 0 0 0 0 0]\n",
      " [0 0 1 0 0 0]\n",
      " [0 0 1 0 0 0]\n",
      " [0 0 1 0 0 0]\n",
      " [0 0 0 1 1 0]\n",
      " [0 0 0 0 0 0]\n",
      " [0 0 1 1 1 0]\n",
      " [1 1 1 0 0 1]\n",
      " [1 1 1 1 0 0]\n",
      " [0 0 0 1 0 0]\n",
      " [1 1 0 0 0 0]]\n"
     ]
    }
   ],
   "source": [
    "import numpy as np\n",
    "\n",
    "# Criando uma array 2D (2 linhas e 3 colunas)\n",
    "array_2d = np.array([[1, 1, 1, 1, 1, 0],\n",
    "[1, 1, 1, 1, 1, 1],\n",
    "[1, 1, 1, 1, 1, 1],\n",
    "[1, 1, 1, 1, 1, 0],\n",
    "[1, 1, 1, 1, 1, 0],\n",
    "[0, 0, 0, 0, 0, 0],\n",
    "[0, 0, 1, 0, 0, 0],\n",
    "[0, 0, 1, 0, 0, 0],\n",
    "[0, 0, 1, 0, 0, 0],\n",
    "[0, 0, 0, 1, 1, 0],\n",
    "[0, 0, 0, 0, 0, 0],\n",
    "[0, 0, 1, 1, 1, 0],\n",
    "[1, 1, 1, 0, 0, 1],\n",
    "[1, 1, 1, 1, 0, 0],\n",
    "[0, 0, 0, 1, 0, 0],\n",
    "[1, 1, 0, 0, 0, 0]])\n",
    "\n",
    "\n",
    "# Exibindo a array\n",
    "print(array_2d)"
   ]
  },
  {
   "cell_type": "code",
   "execution_count": 14,
   "id": "53461278",
   "metadata": {},
   "outputs": [
    {
     "name": "stdout",
     "output_type": "stream",
     "text": [
      "[[1 1 1 1 1 0]\n",
      " [1 9 9 9 8 1]\n",
      " [1 9 9 9 8 1]\n",
      " [1 9 9 9 7 0]\n",
      " [1 6 6 6 4 0]\n",
      " [0 4 4 4 2 0]\n",
      " [0 2 2 2 0 0]\n",
      " [0 3 3 3 0 0]\n",
      " [0 2 3 4 2 0]\n",
      " [0 1 2 3 2 0]\n",
      " [0 1 3 5 4 0]\n",
      " [0 4 4 4 3 0]\n",
      " [1 7 7 6 4 1]\n",
      " [1 6 6 4 3 0]\n",
      " [0 5 5 3 2 0]\n",
      " [1 1 0 0 0 0]]\n"
     ]
    }
   ],
   "source": [
    "from scipy.ndimage import convolve\n",
    "\n",
    "array_2da = array_2d\n",
    "\n",
    "# Definindo o kernel de 3x3 para somar todos os vizinhos\n",
    "kernel = np.ones((3, 3))\n",
    "\n",
    "# Aplicando a convolução\n",
    "convolved_array = convolve(array_2da, kernel, mode='constant', cval=0)\n",
    "\n",
    "# Definindo a subárea de (1,1) até (n-1,n-1)\n",
    "rows, cols = array_2da.shape\n",
    "array_2da[1:rows-1, 1:cols-1] = convolved_array[1:rows-1, 1:cols-1]\n",
    "\n",
    "# Exibindo a array modificada\n",
    "print(array_2da)"
   ]
  },
  {
   "cell_type": "code",
   "execution_count": 16,
   "id": "656508fd",
   "metadata": {},
   "outputs": [
    {
     "name": "stdout",
     "output_type": "stream",
     "text": [
      "Array original:\n",
      "[[1 1 1 1 1 0]\n",
      " [1 9 9 9 8 1]\n",
      " [1 9 9 9 8 1]\n",
      " [1 9 9 9 7 0]\n",
      " [1 6 6 6 4 0]\n",
      " [0 4 4 4 2 0]\n",
      " [0 2 2 2 0 0]\n",
      " [0 3 3 3 0 0]\n",
      " [0 2 3 4 2 0]\n",
      " [0 1 2 3 2 0]\n",
      " [0 1 3 5 4 0]\n",
      " [0 4 4 4 3 0]\n",
      " [1 7 7 6 4 1]\n",
      " [1 6 6 4 3 0]\n",
      " [0 5 5 3 2 0]\n",
      " [1 1 0 0 0 0]]\n",
      "Array com as posições do maior valor:\n",
      "[[0 0 0 0 0 0]\n",
      " [0 9 9 9 0 0]\n",
      " [0 9 9 9 0 0]\n",
      " [0 9 9 9 0 0]\n",
      " [0 0 0 0 0 0]\n",
      " [0 0 0 0 0 0]\n",
      " [0 0 0 0 0 0]\n",
      " [0 0 0 0 0 0]\n",
      " [0 0 0 0 0 0]\n",
      " [0 0 0 0 0 0]\n",
      " [0 0 0 0 0 0]\n",
      " [0 0 0 0 0 0]\n",
      " [0 0 0 0 0 0]\n",
      " [0 0 0 0 0 0]\n",
      " [0 0 0 0 0 0]\n",
      " [0 0 0 0 0 0]]\n"
     ]
    }
   ],
   "source": [
    "# Encontrando o maior valor na array\n",
    "maior_valor = np.max(array_2da)\n",
    "\n",
    "# Criando uma nova array onde as posições do maior valor serão marcadas com 1, o resto será 0\n",
    "array_maiores = np.where(array_2da == maior_valor, maior_valor, 0)\n",
    "\n",
    "# Exibindo a array com os maiores valores\n",
    "print(\"Array original:\")\n",
    "print(array_2d)\n",
    "print(\"Array com as posições do maior valor:\")\n",
    "print(array_maiores)"
   ]
  },
  {
   "cell_type": "code",
   "execution_count": null,
   "id": "1005cb3e",
   "metadata": {},
   "outputs": [],
   "source": []
  }
 ],
 "metadata": {
  "kernelspec": {
   "display_name": "Python 3 (ipykernel)",
   "language": "python",
   "name": "python3"
  },
  "language_info": {
   "codemirror_mode": {
    "name": "ipython",
    "version": 3
   },
   "file_extension": ".py",
   "mimetype": "text/x-python",
   "name": "python",
   "nbconvert_exporter": "python",
   "pygments_lexer": "ipython3",
   "version": "3.11.7"
  }
 },
 "nbformat": 4,
 "nbformat_minor": 5
}
