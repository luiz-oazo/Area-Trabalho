{
 "cells": [
  {
   "cell_type": "code",
   "execution_count": 1,
   "id": "80a668cd-4468-46b1-8cff-57b5ac00467d",
   "metadata": {},
   "outputs": [
    {
     "data": {
      "text/plain": [
       "256"
      ]
     },
     "execution_count": 1,
     "metadata": {},
     "output_type": "execute_result"
    }
   ],
   "source": [
    "2 ** 8"
   ]
  },
  {
   "cell_type": "code",
   "execution_count": 3,
   "id": "9c352c10-5bf6-4b02-8938-fd3eb1868edb",
   "metadata": {},
   "outputs": [
    {
     "name": "stdin",
     "output_type": "stream",
     "text": [
      "Consumo em kWh:  100\n",
      "Tipo da instalação (R, C ou I):  R\n"
     ]
    },
    {
     "name": "stdout",
     "output_type": "stream",
     "text": [
      "Valor a pagar: R$   40.00\n"
     ]
    }
   ],
   "source": [
    "consumo = int(input(\"Consumo em kWh: \"))\n",
    "tipo = input(\"Tipo da instalação (R, C ou I): \")\n",
    "if tipo == \"R\":\n",
    "    if consumo <= 500:\n",
    "        preco = 0.40\n",
    "    else:\n",
    "        preço = 0.65\n",
    "elif tipo == \"I\":\n",
    "    if consumo <= 5000:\n",
    "        preco = 0.55\n",
    "    else:\n",
    "        preco = 0.60\n",
    "elif tipo == \"C\":\n",
    "    if consumo <= 1000:\n",
    "        preco = 0.55\n",
    "    else:\n",
    "        preco = 0.60\n",
    "else:\n",
    "    preco = 0\n",
    "    print(\"Erro ! Tipo de instalação desconhecido!\")\n",
    "custo = consumo * preco\n",
    "print(f\"Valor a pagar: R$ {custo:7.2f}\")"
   ]
  },
  {
   "cell_type": "code",
   "execution_count": null,
   "id": "b5fb1cd0-733b-43f2-af18-1609758adf12",
   "metadata": {},
   "outputs": [],
   "source": [
    "consumo = int(input(\"Consumo em kWh: \"))\n",
    "tipo = input(\"Tipo da instalação (R, C ou I): \")\n",
    "\n",
    "instalacao = {'instalacao': {'R':   {'valor': {'0': 0.4,\n",
    "                                               '500': 0,65}}}}\n",
    "                         \n",
    "                         'Machado': {'pai':'Pedro', \n",
    "                                     'mae': 'Lidia', \n",
    "                                     'criancas': {'Maria': '15', \n",
    "                                                  'Vitor': '7'}}}}\n",
    "\n",
    "\n",
    "if tipo == \"R\":\n",
    "    if consumo <= 500:\n",
    "        preco = 0.40\n",
    "    else:\n",
    "        preço = 0.65\n",
    "elif tipo == \"I\":\n",
    "    if consumo <= 5000:\n",
    "        preco = 0.55\n",
    "    else:\n",
    "        preco = 0.60\n",
    "elif tipo == \"C\":\n",
    "    if consumo <= 1000:\n",
    "        preco = 0.55\n",
    "    else:\n",
    "        preco = 0.60\n",
    "else:\n",
    "    preco = 0\n",
    "    print(\"Erro ! Tipo de instalação desconhecido!\")\n",
    "custo = consumo * preco\n",
    "print(f\"Valor a pagar: R$ {custo:7.2f}\")"
   ]
  }
 ],
 "metadata": {
  "kernelspec": {
   "display_name": "Python 3 (ipykernel)",
   "language": "python",
   "name": "python3"
  },
  "language_info": {
   "codemirror_mode": {
    "name": "ipython",
    "version": 3
   },
   "file_extension": ".py",
   "mimetype": "text/x-python",
   "name": "python",
   "nbconvert_exporter": "python",
   "pygments_lexer": "ipython3",
   "version": "3.11.7"
  }
 },
 "nbformat": 4,
 "nbformat_minor": 5
}
