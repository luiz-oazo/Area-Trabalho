{
 "cells": [
  {
   "cell_type": "code",
   "execution_count": 79,
   "id": "130360bf-022b-44ae-a5f5-194f696543d9",
   "metadata": {},
   "outputs": [
    {
     "name": "stdout",
     "output_type": "stream",
     "text": [
      "11\n",
      "3\n"
     ]
    }
   ],
   "source": [
    "A = 11\n",
    "B = 3\n",
    "print(A)\n",
    "print(B)"
   ]
  },
  {
   "cell_type": "code",
   "execution_count": 22,
   "id": "3aa7068e-5d64-4f64-ac7d-a6a89079e877",
   "metadata": {},
   "outputs": [
    {
     "name": "stdout",
     "output_type": "stream",
     "text": [
      "True\n",
      "False\n"
     ]
    }
   ],
   "source": [
    "X = True\n",
    "Y = False\n",
    "print(X)\n",
    "print(Y)"
   ]
  },
  {
   "cell_type": "code",
   "execution_count": 23,
   "id": "97e0c961-2d2c-4c12-9a83-a2f37b446763",
   "metadata": {},
   "outputs": [
    {
     "name": "stdout",
     "output_type": "stream",
     "text": [
      "5\n",
      "9\n",
      "False\n",
      "False\n",
      "Casa\n",
      "Mesa\n"
     ]
    }
   ],
   "source": [
    "A = 5\n",
    "B = 9\n",
    "X = not True\n",
    "Y = False and True\n",
    "M = \"Casa\"\n",
    "N = \"Mesa\"\n",
    "print(A)\n",
    "print(B)\n",
    "print(X)\n",
    "print(Y)\n",
    "print(M)\n",
    "print(N)"
   ]
  },
  {
   "cell_type": "code",
   "execution_count": 25,
   "id": "76b76e6c-66bb-4b41-84f9-813a4d35ecbb",
   "metadata": {},
   "outputs": [
    {
     "name": "stdout",
     "output_type": "stream",
     "text": [
      "11\n",
      "3\n"
     ]
    }
   ],
   "source": [
    "print(A)\n",
    "print(B)"
   ]
  },
  {
   "cell_type": "code",
   "execution_count": 26,
   "id": "0a8a3d69-69f3-48fb-ada2-167b6845bb63",
   "metadata": {},
   "outputs": [
    {
     "data": {
      "text/plain": [
       "44"
      ]
     },
     "execution_count": 26,
     "metadata": {},
     "output_type": "execute_result"
    }
   ],
   "source": [
    "A + B * A"
   ]
  },
  {
   "cell_type": "code",
   "execution_count": 32,
   "id": "13d3fcd8-fb56-4345-82f5-c33386550f54",
   "metadata": {},
   "outputs": [
    {
     "data": {
      "text/plain": [
       "44"
      ]
     },
     "execution_count": 32,
     "metadata": {},
     "output_type": "execute_result"
    }
   ],
   "source": [
    "(1 + B) * A"
   ]
  },
  {
   "cell_type": "code",
   "execution_count": 27,
   "id": "83eb92d9-3d04-4d7b-a6b9-032c43928486",
   "metadata": {},
   "outputs": [
    {
     "data": {
      "text/plain": [
       "44"
      ]
     },
     "execution_count": 27,
     "metadata": {},
     "output_type": "execute_result"
    }
   ],
   "source": [
    "A + (B * A)"
   ]
  },
  {
   "cell_type": "code",
   "execution_count": 28,
   "id": "9bb499cf-5cb7-45d3-8baf-6b39c0f3d55c",
   "metadata": {},
   "outputs": [
    {
     "data": {
      "text/plain": [
       "154"
      ]
     },
     "execution_count": 28,
     "metadata": {},
     "output_type": "execute_result"
    }
   ],
   "source": [
    "(A + B) * A"
   ]
  },
  {
   "cell_type": "code",
   "execution_count": 30,
   "id": "e4008e61-e8e0-4df4-a7df-077080234033",
   "metadata": {},
   "outputs": [
    {
     "data": {
      "text/plain": [
       "1.2727272727272727"
      ]
     },
     "execution_count": 30,
     "metadata": {},
     "output_type": "execute_result"
    }
   ],
   "source": [
    "(A + B) / A"
   ]
  },
  {
   "cell_type": "code",
   "execution_count": 31,
   "id": "5c7f4669-516e-4b85-983a-1161d3cd88fd",
   "metadata": {},
   "outputs": [
    {
     "data": {
      "text/plain": [
       "11.272727272727273"
      ]
     },
     "execution_count": 31,
     "metadata": {},
     "output_type": "execute_result"
    }
   ],
   "source": [
    "A + B / A"
   ]
  },
  {
   "cell_type": "code",
   "execution_count": 33,
   "id": "b1210eba-e478-4782-b2b4-3bc091355515",
   "metadata": {},
   "outputs": [
    {
     "data": {
      "text/plain": [
       "36"
      ]
     },
     "execution_count": 33,
     "metadata": {},
     "output_type": "execute_result"
    }
   ],
   "source": [
    "B * A + B"
   ]
  },
  {
   "cell_type": "code",
   "execution_count": 36,
   "id": "6e703ab3-006a-475e-a968-4bebed2427d2",
   "metadata": {},
   "outputs": [
    {
     "data": {
      "text/plain": [
       "36"
      ]
     },
     "execution_count": 36,
     "metadata": {},
     "output_type": "execute_result"
    }
   ],
   "source": [
    "B * (A + 1)"
   ]
  },
  {
   "cell_type": "code",
   "execution_count": 34,
   "id": "964d039d-dd05-46f8-b727-7cda40169de9",
   "metadata": {},
   "outputs": [
    {
     "data": {
      "text/plain": [
       "36"
      ]
     },
     "execution_count": 34,
     "metadata": {},
     "output_type": "execute_result"
    }
   ],
   "source": [
    "(B * A) + B"
   ]
  },
  {
   "cell_type": "code",
   "execution_count": 35,
   "id": "1d210100-559a-4be9-8fe0-b731078f76a0",
   "metadata": {},
   "outputs": [
    {
     "data": {
      "text/plain": [
       "42"
      ]
     },
     "execution_count": 35,
     "metadata": {},
     "output_type": "execute_result"
    }
   ],
   "source": [
    "B * (A + B)"
   ]
  },
  {
   "cell_type": "code",
   "execution_count": 73,
   "id": "bbcca96b-3425-4730-a9de-8c541dc03a75",
   "metadata": {},
   "outputs": [
    {
     "data": {
      "text/plain": [
       "3.6666666666666665"
      ]
     },
     "execution_count": 73,
     "metadata": {},
     "output_type": "execute_result"
    }
   ],
   "source": [
    "A / B"
   ]
  },
  {
   "cell_type": "code",
   "execution_count": 72,
   "id": "88c63ba6-022f-435f-b4b7-239e1dc69724",
   "metadata": {},
   "outputs": [
    {
     "name": "stdout",
     "output_type": "stream",
     "text": [
      "3\n",
      "0.6666666666666665\n"
     ]
    }
   ],
   "source": [
    "Z = A / B\n",
    "Q = int(Z)\n",
    "P = Z - Q\n",
    "print(Q)\n",
    "print(P)"
   ]
  },
  {
   "cell_type": "code",
   "execution_count": 65,
   "id": "39350496-a74b-4581-a397-1ff43cb42ead",
   "metadata": {},
   "outputs": [
    {
     "data": {
      "text/plain": [
       "3"
      ]
     },
     "execution_count": 65,
     "metadata": {},
     "output_type": "execute_result"
    }
   ],
   "source": [
    "A // B"
   ]
  },
  {
   "cell_type": "code",
   "execution_count": 66,
   "id": "9097694d-e71c-46ed-92d3-492116a873d7",
   "metadata": {},
   "outputs": [
    {
     "data": {
      "text/plain": [
       "2"
      ]
     },
     "execution_count": 66,
     "metadata": {},
     "output_type": "execute_result"
    }
   ],
   "source": [
    "A % B"
   ]
  },
  {
   "cell_type": "code",
   "execution_count": 67,
   "id": "51dde364-05cd-4cbc-8f6f-7d110894d89d",
   "metadata": {},
   "outputs": [
    {
     "data": {
      "text/plain": [
       "11"
      ]
     },
     "execution_count": 67,
     "metadata": {},
     "output_type": "execute_result"
    }
   ],
   "source": [
    "B * (A // B) + (A % B)"
   ]
  },
  {
   "cell_type": "code",
   "execution_count": 42,
   "id": "b198eb9d-e8c8-4697-9304-9dab126c3250",
   "metadata": {},
   "outputs": [
    {
     "data": {
      "text/plain": [
       "0.6666666666666666"
      ]
     },
     "execution_count": 42,
     "metadata": {},
     "output_type": "execute_result"
    }
   ],
   "source": [
    "2 / 3"
   ]
  },
  {
   "cell_type": "code",
   "execution_count": 61,
   "id": "acdbbaa2-7dd5-441c-8bf4-439a7bd78f90",
   "metadata": {},
   "outputs": [
    {
     "data": {
      "text/plain": [
       "0.00411522633744856"
      ]
     },
     "execution_count": 61,
     "metadata": {},
     "output_type": "execute_result"
    }
   ],
   "source": [
    "w = (1) / 243\n",
    "w"
   ]
  },
  {
   "cell_type": "code",
   "execution_count": 54,
   "id": "49e41637-7a10-4095-a477-81f1a3621022",
   "metadata": {},
   "outputs": [
    {
     "data": {
      "text/plain": [
       "411.52263374485597"
      ]
     },
     "execution_count": 54,
     "metadata": {},
     "output_type": "execute_result"
    }
   ],
   "source": [
    "w = (1 * 100000) / 243\n",
    "w"
   ]
  },
  {
   "cell_type": "code",
   "execution_count": 62,
   "id": "6f4ab31e-3847-46d6-864f-4f5d106e2783",
   "metadata": {},
   "outputs": [
    {
     "data": {
      "text/plain": [
       "0.003745318352059925"
      ]
     },
     "execution_count": 62,
     "metadata": {},
     "output_type": "execute_result"
    }
   ],
   "source": [
    "r = 1/267\n",
    "r"
   ]
  },
  {
   "cell_type": "code",
   "execution_count": 58,
   "id": "f082eaf3-b106-4641-826a-86eb2e0d1434",
   "metadata": {},
   "outputs": [
    {
     "data": {
      "text/plain": [
       "374.53183520599254"
      ]
     },
     "execution_count": 58,
     "metadata": {},
     "output_type": "execute_result"
    }
   ],
   "source": [
    "r = (1 * 100000) / 267\n",
    "r"
   ]
  },
  {
   "cell_type": "code",
   "execution_count": 60,
   "id": "d43d475f-6c54-4cbd-bf8c-5a0b75facc9e",
   "metadata": {},
   "outputs": [
    {
     "data": {
      "text/plain": [
       "1.5412832724526443e-05"
      ]
     },
     "execution_count": 60,
     "metadata": {},
     "output_type": "execute_result"
    }
   ],
   "source": [
    "y = (w * r) / 10000000000\n",
    "y * 1000000000000"
   ]
  },
  {
   "cell_type": "code",
   "execution_count": 63,
   "id": "1542ff75-6590-425b-9f96-b4f31f6e8b9f",
   "metadata": {},
   "outputs": [
    {
     "data": {
      "text/plain": [
       "1.5412832724526443e-05"
      ]
     },
     "execution_count": 63,
     "metadata": {},
     "output_type": "execute_result"
    }
   ],
   "source": [
    "y = (w * r)\n",
    "y * 1000000000000"
   ]
  },
  {
   "cell_type": "code",
   "execution_count": 74,
   "id": "79ec8617-b3d8-46d1-8ed1-b83107a881b9",
   "metadata": {},
   "outputs": [
    {
     "data": {
      "text/plain": [
       "2"
      ]
     },
     "execution_count": 74,
     "metadata": {},
     "output_type": "execute_result"
    }
   ],
   "source": [
    "11 // 4"
   ]
  },
  {
   "cell_type": "code",
   "execution_count": 75,
   "id": "2aeb8def-b309-49b6-ae86-bffa3591117f",
   "metadata": {},
   "outputs": [
    {
     "data": {
      "text/plain": [
       "3"
      ]
     },
     "execution_count": 75,
     "metadata": {},
     "output_type": "execute_result"
    }
   ],
   "source": [
    "11 % 4"
   ]
  },
  {
   "cell_type": "code",
   "execution_count": 77,
   "id": "c4b53b05-fb63-429c-b6c0-e67bb9a0afd1",
   "metadata": {},
   "outputs": [
    {
     "data": {
      "text/plain": [
       "11"
      ]
     },
     "execution_count": 77,
     "metadata": {},
     "output_type": "execute_result"
    }
   ],
   "source": [
    "K = 4 * (11 // 4) + (11 % 4)\n",
    "K"
   ]
  },
  {
   "cell_type": "code",
   "execution_count": 78,
   "id": "8bf77769-c2bb-487a-9b86-ac7c869b6843",
   "metadata": {},
   "outputs": [
    {
     "data": {
      "text/plain": [
       "2.75"
      ]
     },
     "execution_count": 78,
     "metadata": {},
     "output_type": "execute_result"
    }
   ],
   "source": [
    "11 / 4"
   ]
  },
  {
   "cell_type": "code",
   "execution_count": 83,
   "id": "67c418c9-2449-430f-863c-f494df594ad9",
   "metadata": {},
   "outputs": [
    {
     "data": {
      "text/plain": [
       "0.2727272727272727"
      ]
     },
     "execution_count": 83,
     "metadata": {},
     "output_type": "execute_result"
    }
   ],
   "source": [
    "B / A"
   ]
  },
  {
   "cell_type": "code",
   "execution_count": 80,
   "id": "19341a5b-387d-4810-be31-1c5738c3e07c",
   "metadata": {},
   "outputs": [
    {
     "data": {
      "text/plain": [
       "0"
      ]
     },
     "execution_count": 80,
     "metadata": {},
     "output_type": "execute_result"
    }
   ],
   "source": [
    "B // A"
   ]
  },
  {
   "cell_type": "code",
   "execution_count": 81,
   "id": "4c41daed-810e-4035-b6ce-05b124f3d306",
   "metadata": {},
   "outputs": [
    {
     "data": {
      "text/plain": [
       "3"
      ]
     },
     "execution_count": 81,
     "metadata": {},
     "output_type": "execute_result"
    }
   ],
   "source": [
    "B % A"
   ]
  },
  {
   "cell_type": "code",
   "execution_count": 82,
   "id": "3c9b4a06-4428-4a51-8110-4195432c35a3",
   "metadata": {},
   "outputs": [
    {
     "name": "stdout",
     "output_type": "stream",
     "text": [
      "11\n",
      "3\n"
     ]
    }
   ],
   "source": [
    "print(A)\n",
    "print(B)"
   ]
  },
  {
   "cell_type": "code",
   "execution_count": 86,
   "id": "33e54b93-d72a-46fb-97c7-328a60154ec2",
   "metadata": {},
   "outputs": [
    {
     "data": {
      "text/plain": [
       "3.6666666666666665"
      ]
     },
     "execution_count": 86,
     "metadata": {},
     "output_type": "execute_result"
    }
   ],
   "source": [
    "A / B"
   ]
  },
  {
   "cell_type": "code",
   "execution_count": 85,
   "id": "f5ac2ae9-dcde-4c32-a6ab-8329c0c3b030",
   "metadata": {},
   "outputs": [
    {
     "data": {
      "text/plain": [
       "-0.6666666666666665"
      ]
     },
     "execution_count": 85,
     "metadata": {},
     "output_type": "execute_result"
    }
   ],
   "source": [
    "B - A / B"
   ]
  },
  {
   "cell_type": "code",
   "execution_count": 88,
   "id": "efe4df48-1e78-4466-bfb4-eedfae60880e",
   "metadata": {},
   "outputs": [
    {
     "data": {
      "text/plain": [
       "-2.6666666666666665"
      ]
     },
     "execution_count": 88,
     "metadata": {},
     "output_type": "execute_result"
    }
   ],
   "source": [
    "(B - A) / B"
   ]
  },
  {
   "cell_type": "code",
   "execution_count": 89,
   "id": "f307968e-4642-4708-af71-9e1854eaaa23",
   "metadata": {},
   "outputs": [
    {
     "data": {
      "text/plain": [
       "-8"
      ]
     },
     "execution_count": 89,
     "metadata": {},
     "output_type": "execute_result"
    }
   ],
   "source": [
    "B - A"
   ]
  },
  {
   "cell_type": "code",
   "execution_count": 90,
   "id": "f89c6029-cecb-464d-ba8f-d06eb6b97b4d",
   "metadata": {},
   "outputs": [
    {
     "data": {
      "text/plain": [
       "-2.6666666666666665"
      ]
     },
     "execution_count": 90,
     "metadata": {},
     "output_type": "execute_result"
    }
   ],
   "source": [
    "-8 / B"
   ]
  },
  {
   "cell_type": "code",
   "execution_count": 91,
   "id": "6af5be3a-7eed-4192-9a62-4a85d945c428",
   "metadata": {},
   "outputs": [
    {
     "data": {
      "text/plain": [
       "-29.333333333333332"
      ]
     },
     "execution_count": 91,
     "metadata": {},
     "output_type": "execute_result"
    }
   ],
   "source": [
    "A / B - A * B"
   ]
  },
  {
   "cell_type": "code",
   "execution_count": 92,
   "id": "32eca129-c795-4148-b0dd-3e68d47543ee",
   "metadata": {},
   "outputs": [
    {
     "data": {
      "text/plain": [
       "3.6666666666666665"
      ]
     },
     "execution_count": 92,
     "metadata": {},
     "output_type": "execute_result"
    }
   ],
   "source": [
    "A / B"
   ]
  },
  {
   "cell_type": "code",
   "execution_count": 93,
   "id": "a97553f8-ca1b-45ce-a62d-4a3d953fcf77",
   "metadata": {},
   "outputs": [
    {
     "data": {
      "text/plain": [
       "33"
      ]
     },
     "execution_count": 93,
     "metadata": {},
     "output_type": "execute_result"
    }
   ],
   "source": [
    "A * B"
   ]
  },
  {
   "cell_type": "code",
   "execution_count": 96,
   "id": "041a0208-0296-444e-9934-8c0f791a7ac0",
   "metadata": {},
   "outputs": [
    {
     "data": {
      "text/plain": [
       "-4.125"
      ]
     },
     "execution_count": 96,
     "metadata": {},
     "output_type": "execute_result"
    }
   ],
   "source": [
    "(A / (B - A)) * B"
   ]
  },
  {
   "cell_type": "code",
   "execution_count": 97,
   "id": "04acba84-1fe5-4960-b1c3-ee38d590db9d",
   "metadata": {},
   "outputs": [
    {
     "data": {
      "text/plain": [
       "-4.125"
      ]
     },
     "execution_count": 97,
     "metadata": {},
     "output_type": "execute_result"
    }
   ],
   "source": [
    "A / (B - A) * B"
   ]
  },
  {
   "cell_type": "code",
   "execution_count": 98,
   "id": "57384603-aa5f-45f8-9897-1a04ba70f85e",
   "metadata": {},
   "outputs": [
    {
     "data": {
      "text/plain": [
       "-0.4583333333333333"
      ]
     },
     "execution_count": 98,
     "metadata": {},
     "output_type": "execute_result"
    }
   ],
   "source": [
    "A / ((B - A) * B)"
   ]
  },
  {
   "cell_type": "code",
   "execution_count": 99,
   "id": "6e9f78bd-a960-44d9-a406-a28e1202ed7f",
   "metadata": {},
   "outputs": [
    {
     "data": {
      "text/plain": [
       "12"
      ]
     },
     "execution_count": 99,
     "metadata": {},
     "output_type": "execute_result"
    }
   ],
   "source": [
    "10 + A % B"
   ]
  },
  {
   "cell_type": "code",
   "execution_count": 100,
   "id": "2a7b084d-efd3-415e-b895-f33e4711afcd",
   "metadata": {},
   "outputs": [
    {
     "data": {
      "text/plain": [
       "2"
      ]
     },
     "execution_count": 100,
     "metadata": {},
     "output_type": "execute_result"
    }
   ],
   "source": [
    "A % B"
   ]
  },
  {
   "cell_type": "code",
   "execution_count": 102,
   "id": "fde43eec-750f-460e-8c32-b02100ae493d",
   "metadata": {},
   "outputs": [
    {
     "data": {
      "text/plain": [
       "10"
      ]
     },
     "execution_count": 102,
     "metadata": {},
     "output_type": "execute_result"
    }
   ],
   "source": [
    "10 - B // A"
   ]
  },
  {
   "cell_type": "code",
   "execution_count": 103,
   "id": "b4ea54b5-d3c7-4666-a78a-3d30dd162724",
   "metadata": {},
   "outputs": [
    {
     "data": {
      "text/plain": [
       "-50"
      ]
     },
     "execution_count": 103,
     "metadata": {},
     "output_type": "execute_result"
    }
   ],
   "source": [
    "B // A - 50"
   ]
  },
  {
   "cell_type": "code",
   "execution_count": 104,
   "id": "4ea0cadc-11ca-4226-889e-a9ac61195154",
   "metadata": {},
   "outputs": [
    {
     "data": {
      "text/plain": [
       "8"
      ]
     },
     "execution_count": 104,
     "metadata": {},
     "output_type": "execute_result"
    }
   ],
   "source": [
    "A + B % A - A // B * 2"
   ]
  },
  {
   "cell_type": "code",
   "execution_count": 105,
   "id": "d57842cc-b6f2-4019-a231-fa9d9d84f3ca",
   "metadata": {},
   "outputs": [
    {
     "data": {
      "text/plain": [
       "11"
      ]
     },
     "execution_count": 105,
     "metadata": {},
     "output_type": "execute_result"
    }
   ],
   "source": [
    "A"
   ]
  },
  {
   "cell_type": "code",
   "execution_count": 106,
   "id": "898bad42-6103-4e78-a231-da3994c48d8f",
   "metadata": {},
   "outputs": [
    {
     "data": {
      "text/plain": [
       "3"
      ]
     },
     "execution_count": 106,
     "metadata": {},
     "output_type": "execute_result"
    }
   ],
   "source": [
    "B% A"
   ]
  },
  {
   "cell_type": "code",
   "execution_count": 107,
   "id": "d693d3cd-e1f5-457f-a1d8-1d0bc388ab43",
   "metadata": {},
   "outputs": [
    {
     "data": {
      "text/plain": [
       "3"
      ]
     },
     "execution_count": 107,
     "metadata": {},
     "output_type": "execute_result"
    }
   ],
   "source": [
    "A // B"
   ]
  },
  {
   "cell_type": "code",
   "execution_count": 108,
   "id": "d7a00202-e325-4362-9bab-f6fac5d55149",
   "metadata": {},
   "outputs": [
    {
     "data": {
      "text/plain": [
       "150.0"
      ]
     },
     "execution_count": 108,
     "metadata": {},
     "output_type": "execute_result"
    }
   ],
   "source": [
    "A*(B+A)-(A-B)/2"
   ]
  },
  {
   "cell_type": "code",
   "execution_count": 109,
   "id": "d60aed77-ca81-4a0f-ad7c-8e70cc8987aa",
   "metadata": {},
   "outputs": [
    {
     "data": {
      "text/plain": [
       "3"
      ]
     },
     "execution_count": 109,
     "metadata": {},
     "output_type": "execute_result"
    }
   ],
   "source": [
    "B"
   ]
  },
  {
   "cell_type": "code",
   "execution_count": 110,
   "id": "fee6a8e7-45ac-4726-962d-35695ef57fce",
   "metadata": {},
   "outputs": [
    {
     "data": {
      "text/plain": [
       "2"
      ]
     },
     "execution_count": 110,
     "metadata": {},
     "output_type": "execute_result"
    }
   ],
   "source": [
    "A % B"
   ]
  },
  {
   "cell_type": "code",
   "execution_count": 111,
   "id": "1c825b9d-a4ba-4dbb-b64c-d1b322569d7e",
   "metadata": {},
   "outputs": [
    {
     "data": {
      "text/plain": [
       "3"
      ]
     },
     "execution_count": 111,
     "metadata": {},
     "output_type": "execute_result"
    }
   ],
   "source": [
    "B % A"
   ]
  },
  {
   "cell_type": "code",
   "execution_count": 112,
   "id": "86de2209-db75-419a-ba3f-97f11b94322b",
   "metadata": {},
   "outputs": [
    {
     "name": "stdout",
     "output_type": "stream",
     "text": [
      "True\n",
      "False\n"
     ]
    }
   ],
   "source": [
    "X = True\n",
    "Y = False\n",
    "print(X)\n",
    "print(Y)"
   ]
  },
  {
   "cell_type": "code",
   "execution_count": 113,
   "id": "9437eaa6-0952-42b1-a49d-19a3474538a6",
   "metadata": {},
   "outputs": [
    {
     "data": {
      "text/plain": [
       "False"
      ]
     },
     "execution_count": 113,
     "metadata": {},
     "output_type": "execute_result"
    }
   ],
   "source": [
    "X and Y"
   ]
  },
  {
   "cell_type": "code",
   "execution_count": 117,
   "id": "a0d60cb9-813d-4cca-81c1-56ac2b625db8",
   "metadata": {},
   "outputs": [
    {
     "data": {
      "text/plain": [
       "False"
      ]
     },
     "execution_count": 117,
     "metadata": {},
     "output_type": "execute_result"
    }
   ],
   "source": [
    "A == B"
   ]
  },
  {
   "cell_type": "code",
   "execution_count": 119,
   "id": "80e3321d-062d-481d-9cb6-afe064cce15e",
   "metadata": {},
   "outputs": [
    {
     "data": {
      "text/plain": [
       "False"
      ]
     },
     "execution_count": 119,
     "metadata": {},
     "output_type": "execute_result"
    }
   ],
   "source": [
    "T = (A == B)\n",
    "T"
   ]
  },
  {
   "cell_type": "code",
   "execution_count": 122,
   "id": "75a036f1-4da9-4161-933f-9b2b044ed7d3",
   "metadata": {},
   "outputs": [
    {
     "data": {
      "text/plain": [
       "True"
      ]
     },
     "execution_count": 122,
     "metadata": {},
     "output_type": "execute_result"
    }
   ],
   "source": [
    "(X or Y) and ((X and Y) or (X or Y))"
   ]
  },
  {
   "cell_type": "code",
   "execution_count": 123,
   "id": "26f3ec98-097d-4ff6-ac1a-b1e631190f22",
   "metadata": {},
   "outputs": [
    {
     "data": {
      "text/plain": [
       "True"
      ]
     },
     "execution_count": 123,
     "metadata": {},
     "output_type": "execute_result"
    }
   ],
   "source": [
    "X and Y or X"
   ]
  },
  {
   "cell_type": "code",
   "execution_count": 124,
   "id": "781e89ae-d954-42bf-b439-479d40649f42",
   "metadata": {},
   "outputs": [
    {
     "data": {
      "text/plain": [
       "True"
      ]
     },
     "execution_count": 124,
     "metadata": {},
     "output_type": "execute_result"
    }
   ],
   "source": [
    "(X and Y) or X"
   ]
  },
  {
   "cell_type": "code",
   "execution_count": 125,
   "id": "fbc59aae-9fb8-4725-8402-bb17efe3fe4a",
   "metadata": {},
   "outputs": [
    {
     "data": {
      "text/plain": [
       "True"
      ]
     },
     "execution_count": 125,
     "metadata": {},
     "output_type": "execute_result"
    }
   ],
   "source": [
    "X and (Y or X)"
   ]
  },
  {
   "cell_type": "code",
   "execution_count": 126,
   "id": "70d269db-638d-4ddc-b150-6c3566f5e68d",
   "metadata": {},
   "outputs": [
    {
     "data": {
      "text/plain": [
       "True"
      ]
     },
     "execution_count": 126,
     "metadata": {},
     "output_type": "execute_result"
    }
   ],
   "source": [
    "X or Y or X"
   ]
  },
  {
   "cell_type": "code",
   "execution_count": 127,
   "id": "a804ba89-deb1-4bb5-a17d-bf139107752f",
   "metadata": {},
   "outputs": [
    {
     "data": {
      "text/plain": [
       "False"
      ]
     },
     "execution_count": 127,
     "metadata": {},
     "output_type": "execute_result"
    }
   ],
   "source": [
    "Y"
   ]
  },
  {
   "cell_type": "code",
   "execution_count": 128,
   "id": "27b91a8c-1134-4ff0-be64-03c06d82bd18",
   "metadata": {},
   "outputs": [
    {
     "data": {
      "text/plain": [
       "False"
      ]
     },
     "execution_count": 128,
     "metadata": {},
     "output_type": "execute_result"
    }
   ],
   "source": [
    "Y and X or Y"
   ]
  },
  {
   "cell_type": "code",
   "execution_count": 129,
   "id": "401fee05-49c3-46e8-9917-0ae5f0b1ec3e",
   "metadata": {},
   "outputs": [
    {
     "data": {
      "text/plain": [
       "False"
      ]
     },
     "execution_count": 129,
     "metadata": {},
     "output_type": "execute_result"
    }
   ],
   "source": [
    "(Y and X) or Y"
   ]
  },
  {
   "cell_type": "code",
   "execution_count": 130,
   "id": "46ca909b-9c3e-4a2d-abe4-7807b9030bb0",
   "metadata": {},
   "outputs": [
    {
     "data": {
      "text/plain": [
       "False"
      ]
     },
     "execution_count": 130,
     "metadata": {},
     "output_type": "execute_result"
    }
   ],
   "source": [
    "Y and (X or Y)"
   ]
  },
  {
   "cell_type": "code",
   "execution_count": 131,
   "id": "f9a29c52-b81e-47f2-a89f-1d8e552857c2",
   "metadata": {},
   "outputs": [
    {
     "data": {
      "text/plain": [
       "False"
      ]
     },
     "execution_count": 131,
     "metadata": {},
     "output_type": "execute_result"
    }
   ],
   "source": [
    "not (X or not Y)"
   ]
  },
  {
   "cell_type": "code",
   "execution_count": 132,
   "id": "2b78c4e1-7240-4ad8-a75c-3fcf7ad70179",
   "metadata": {},
   "outputs": [
    {
     "data": {
      "text/plain": [
       "True"
      ]
     },
     "execution_count": 132,
     "metadata": {},
     "output_type": "execute_result"
    }
   ],
   "source": [
    "X"
   ]
  },
  {
   "cell_type": "code",
   "execution_count": 133,
   "id": "3228f046-6963-4c5f-8f4e-7b259aa65057",
   "metadata": {},
   "outputs": [
    {
     "data": {
      "text/plain": [
       "False"
      ]
     },
     "execution_count": 133,
     "metadata": {},
     "output_type": "execute_result"
    }
   ],
   "source": [
    "Y"
   ]
  },
  {
   "cell_type": "code",
   "execution_count": 134,
   "id": "b978cfb9-5123-41cb-880d-08b2e08cb039",
   "metadata": {},
   "outputs": [
    {
     "data": {
      "text/plain": [
       "True"
      ]
     },
     "execution_count": 134,
     "metadata": {},
     "output_type": "execute_result"
    }
   ],
   "source": [
    "not Y"
   ]
  },
  {
   "cell_type": "code",
   "execution_count": 135,
   "id": "a7d48000-d310-46a9-866a-58677ad85e59",
   "metadata": {},
   "outputs": [
    {
     "data": {
      "text/plain": [
       "False"
      ]
     },
     "execution_count": 135,
     "metadata": {},
     "output_type": "execute_result"
    }
   ],
   "source": [
    "not X"
   ]
  },
  {
   "cell_type": "code",
   "execution_count": 136,
   "id": "462ce255-f05a-4f45-9b1c-907f5c8570a6",
   "metadata": {},
   "outputs": [
    {
     "data": {
      "text/plain": [
       "True"
      ]
     },
     "execution_count": 136,
     "metadata": {},
     "output_type": "execute_result"
    }
   ],
   "source": [
    "not (not X and not Y)"
   ]
  },
  {
   "cell_type": "code",
   "execution_count": 137,
   "id": "3d3a59c0-5a5d-4846-acc6-112ba20f56b8",
   "metadata": {},
   "outputs": [
    {
     "data": {
      "text/plain": [
       "False"
      ]
     },
     "execution_count": 137,
     "metadata": {},
     "output_type": "execute_result"
    }
   ],
   "source": [
    "not X and Y"
   ]
  },
  {
   "cell_type": "code",
   "execution_count": 138,
   "id": "9c8cb1ed-f51c-4e7c-9fa0-7206e6fc9408",
   "metadata": {},
   "outputs": [
    {
     "data": {
      "text/plain": [
       "False"
      ]
     },
     "execution_count": 138,
     "metadata": {},
     "output_type": "execute_result"
    }
   ],
   "source": [
    "Y and Y"
   ]
  },
  {
   "cell_type": "code",
   "execution_count": 139,
   "id": "815b3f80-8283-401f-a4d5-97507947575d",
   "metadata": {},
   "outputs": [
    {
     "data": {
      "text/plain": [
       "True"
      ]
     },
     "execution_count": 139,
     "metadata": {},
     "output_type": "execute_result"
    }
   ],
   "source": [
    "X and X"
   ]
  },
  {
   "cell_type": "code",
   "execution_count": 140,
   "id": "5b0c76da-ae9f-4998-9bea-ecfb62f1b3d8",
   "metadata": {},
   "outputs": [
    {
     "data": {
      "text/plain": [
       "False"
      ]
     },
     "execution_count": 140,
     "metadata": {},
     "output_type": "execute_result"
    }
   ],
   "source": [
    "Y or Y"
   ]
  },
  {
   "cell_type": "code",
   "execution_count": 141,
   "id": "d440fb83-8320-487f-9141-321c9a07a877",
   "metadata": {},
   "outputs": [
    {
     "data": {
      "text/plain": [
       "True"
      ]
     },
     "execution_count": 141,
     "metadata": {},
     "output_type": "execute_result"
    }
   ],
   "source": [
    "X or X"
   ]
  },
  {
   "cell_type": "code",
   "execution_count": 142,
   "id": "d5d492d3-15f8-4545-bfda-421038bb17c9",
   "metadata": {},
   "outputs": [
    {
     "data": {
      "text/plain": [
       "True"
      ]
     },
     "execution_count": 142,
     "metadata": {},
     "output_type": "execute_result"
    }
   ],
   "source": [
    "not (X and Y)"
   ]
  },
  {
   "cell_type": "code",
   "execution_count": 143,
   "id": "b2d9a876-f182-4592-a229-be43b68055be",
   "metadata": {},
   "outputs": [
    {
     "data": {
      "text/plain": [
       "False"
      ]
     },
     "execution_count": 143,
     "metadata": {},
     "output_type": "execute_result"
    }
   ],
   "source": [
    "not X and Y"
   ]
  },
  {
   "cell_type": "code",
   "execution_count": 144,
   "id": "c53d9574-9315-4427-b9c9-91cabd4da269",
   "metadata": {},
   "outputs": [
    {
     "data": {
      "text/plain": [
       "True"
      ]
     },
     "execution_count": 144,
     "metadata": {},
     "output_type": "execute_result"
    }
   ],
   "source": [
    "not X and Y or X"
   ]
  },
  {
   "cell_type": "code",
   "execution_count": 145,
   "id": "0c1717b7-adad-4783-a39d-a8be5abd41ce",
   "metadata": {},
   "outputs": [
    {
     "data": {
      "text/plain": [
       "False"
      ]
     },
     "execution_count": 145,
     "metadata": {},
     "output_type": "execute_result"
    }
   ],
   "source": [
    "not (X and Y) and Y"
   ]
  },
  {
   "cell_type": "code",
   "execution_count": 146,
   "id": "b0b34287-43db-405f-bfb3-ff6239aadd87",
   "metadata": {},
   "outputs": [
    {
     "data": {
      "text/plain": [
       "0"
      ]
     },
     "execution_count": 146,
     "metadata": {},
     "output_type": "execute_result"
    }
   ],
   "source": [
    "3% 3"
   ]
  },
  {
   "cell_type": "code",
   "execution_count": 160,
   "id": "69550358-4921-471d-aaf3-a0c6e4d089f5",
   "metadata": {},
   "outputs": [
    {
     "data": {
      "text/plain": [
       "16172835"
      ]
     },
     "execution_count": 160,
     "metadata": {},
     "output_type": "execute_result"
    }
   ],
   "source": [
    "32345670 // 2"
   ]
  },
  {
   "cell_type": "code",
   "execution_count": 164,
   "id": "2ea284f5-9658-4549-b8b8-ed7ec86c80b9",
   "metadata": {},
   "outputs": [
    {
     "data": {
      "text/plain": [
       "0"
      ]
     },
     "execution_count": 164,
     "metadata": {},
     "output_type": "execute_result"
    }
   ],
   "source": [
    "16172835 % 3"
   ]
  },
  {
   "cell_type": "code",
   "execution_count": 161,
   "id": "bcb20db0-2e60-41b8-a443-1e47c6a4fd5e",
   "metadata": {},
   "outputs": [
    {
     "data": {
      "text/plain": [
       "5390945"
      ]
     },
     "execution_count": 161,
     "metadata": {},
     "output_type": "execute_result"
    }
   ],
   "source": [
    "16172835 // 3"
   ]
  },
  {
   "cell_type": "code",
   "execution_count": 165,
   "id": "91be730a-25f6-4d1e-bbe2-662f37092cd3",
   "metadata": {},
   "outputs": [
    {
     "data": {
      "text/plain": [
       "2"
      ]
     },
     "execution_count": 165,
     "metadata": {},
     "output_type": "execute_result"
    }
   ],
   "source": [
    "5390945 % 3"
   ]
  },
  {
   "cell_type": "code",
   "execution_count": 166,
   "id": "9b73256c-1f0d-4086-8234-d8bd8388a1df",
   "metadata": {},
   "outputs": [
    {
     "data": {
      "text/plain": [
       "1078189"
      ]
     },
     "execution_count": 166,
     "metadata": {},
     "output_type": "execute_result"
    }
   ],
   "source": [
    "5390945 // 5"
   ]
  },
  {
   "cell_type": "code",
   "execution_count": 168,
   "id": "f9b14b2d-50e5-4210-9a0b-1f4a1bd995d2",
   "metadata": {},
   "outputs": [
    {
     "data": {
      "text/plain": [
       "0"
      ]
     },
     "execution_count": 168,
     "metadata": {},
     "output_type": "execute_result"
    }
   ],
   "source": [
    "1078189 % 7"
   ]
  },
  {
   "cell_type": "code",
   "execution_count": 169,
   "id": "25e6b3d6-1478-46fb-88ad-61f0906c3cd0",
   "metadata": {},
   "outputs": [
    {
     "data": {
      "text/plain": [
       "154027"
      ]
     },
     "execution_count": 169,
     "metadata": {},
     "output_type": "execute_result"
    }
   ],
   "source": [
    "1078189 // 7"
   ]
  },
  {
   "cell_type": "code",
   "execution_count": 175,
   "id": "7d1ff8d9-fe12-4525-a6f6-ac8e47c27a81",
   "metadata": {},
   "outputs": [
    {
     "data": {
      "text/plain": [
       "19"
      ]
     },
     "execution_count": 175,
     "metadata": {},
     "output_type": "execute_result"
    }
   ],
   "source": [
    "154027 % 23"
   ]
  },
  {
   "cell_type": "code",
   "execution_count": 176,
   "id": "47a5530b-3da1-4dc8-8c19-fedfc0d61984",
   "metadata": {},
   "outputs": [
    {
     "data": {
      "text/plain": [
       "False"
      ]
     },
     "execution_count": 176,
     "metadata": {},
     "output_type": "execute_result"
    }
   ],
   "source": [
    "not (X or Y and Y or Y)"
   ]
  },
  {
   "cell_type": "code",
   "execution_count": 177,
   "id": "2314c2d4-72a5-4e13-828f-9d164f06d8ea",
   "metadata": {},
   "outputs": [
    {
     "name": "stdout",
     "output_type": "stream",
     "text": [
      "5\n",
      "9\n",
      "False\n",
      "False\n",
      "Casa\n",
      "Mesa\n"
     ]
    }
   ],
   "source": [
    "A = 5\n",
    "B = 9\n",
    "X = not True\n",
    "Y = False and True\n",
    "M = \"Casa\"\n",
    "N = \"Mesa\"\n",
    "print(A)\n",
    "print(B)\n",
    "print(X)\n",
    "print(Y)\n",
    "print(M)\n",
    "print(N)"
   ]
  },
  {
   "cell_type": "code",
   "execution_count": 178,
   "id": "ff41e7c5-0c0a-4853-a0c5-0f72f0f57244",
   "metadata": {},
   "outputs": [
    {
     "data": {
      "text/plain": [
       "False"
      ]
     },
     "execution_count": 178,
     "metadata": {},
     "output_type": "execute_result"
    }
   ],
   "source": [
    "X and Y == X or Y"
   ]
  },
  {
   "cell_type": "code",
   "execution_count": 179,
   "id": "bfccafa4-16b0-4190-9550-9da97c830278",
   "metadata": {},
   "outputs": [
    {
     "data": {
      "text/plain": [
       "False"
      ]
     },
     "execution_count": 179,
     "metadata": {},
     "output_type": "execute_result"
    }
   ],
   "source": [
    "A * B <= B - A"
   ]
  },
  {
   "cell_type": "code",
   "execution_count": 181,
   "id": "d83ce7ea-6dda-4fc7-85ca-a608a400e1c5",
   "metadata": {},
   "outputs": [
    {
     "data": {
      "text/plain": [
       "False"
      ]
     },
     "execution_count": 181,
     "metadata": {},
     "output_type": "execute_result"
    }
   ],
   "source": [
    "A == B"
   ]
  },
  {
   "cell_type": "code",
   "execution_count": 182,
   "id": "76a35fd2-80b1-49cb-9764-40ae93b759b1",
   "metadata": {},
   "outputs": [
    {
     "data": {
      "text/plain": [
       "False"
      ]
     },
     "execution_count": 182,
     "metadata": {},
     "output_type": "execute_result"
    }
   ],
   "source": [
    "not B != A"
   ]
  },
  {
   "cell_type": "code",
   "execution_count": 183,
   "id": "38ec2add-ae7f-407e-8bc8-d18b27e7dac0",
   "metadata": {},
   "outputs": [
    {
     "data": {
      "text/plain": [
       "False"
      ]
     },
     "execution_count": 183,
     "metadata": {},
     "output_type": "execute_result"
    }
   ],
   "source": [
    "A == B or not B != A"
   ]
  },
  {
   "cell_type": "code",
   "execution_count": 180,
   "id": "74285033-a5e8-4aad-95ce-d107979a4400",
   "metadata": {},
   "outputs": [
    {
     "data": {
      "text/plain": [
       "True"
      ]
     },
     "execution_count": 180,
     "metadata": {},
     "output_type": "execute_result"
    }
   ],
   "source": [
    "not (A == B or not B != A)"
   ]
  },
  {
   "cell_type": "code",
   "execution_count": 185,
   "id": "d6b2f91d-479f-411a-b075-befaff08d0ea",
   "metadata": {},
   "outputs": [
    {
     "name": "stdout",
     "output_type": "stream",
     "text": [
      "5\n",
      "9\n",
      "False\n",
      "False\n",
      "Casa\n",
      "Mesa\n"
     ]
    }
   ],
   "source": [
    "print(A)\n",
    "print(B)\n",
    "print(X)\n",
    "print(Y)\n",
    "print(M)\n",
    "print(N)"
   ]
  },
  {
   "cell_type": "code",
   "execution_count": 186,
   "id": "c05d995b-016c-42a9-8354-bc73fb0e8a49",
   "metadata": {},
   "outputs": [
    {
     "data": {
      "text/plain": [
       "True"
      ]
     },
     "execution_count": 186,
     "metadata": {},
     "output_type": "execute_result"
    }
   ],
   "source": [
    "M != N"
   ]
  },
  {
   "cell_type": "code",
   "execution_count": 187,
   "id": "36154056-a949-4ec5-a538-700fea51c581",
   "metadata": {},
   "outputs": [
    {
     "data": {
      "text/plain": [
       "True"
      ]
     },
     "execution_count": 187,
     "metadata": {},
     "output_type": "execute_result"
    }
   ],
   "source": [
    "B > A"
   ]
  },
  {
   "cell_type": "code",
   "execution_count": 188,
   "id": "45a027bd-f663-4dd6-bd71-18a2ef4db9e1",
   "metadata": {},
   "outputs": [
    {
     "data": {
      "text/plain": [
       "True"
      ]
     },
     "execution_count": 188,
     "metadata": {},
     "output_type": "execute_result"
    }
   ],
   "source": [
    "M != N and B > A"
   ]
  },
  {
   "cell_type": "code",
   "execution_count": 184,
   "id": "bbaf28fc-3fdf-4c27-b7b5-948e57cf3297",
   "metadata": {
    "tags": []
   },
   "outputs": [
    {
     "data": {
      "text/plain": [
       "False"
      ]
     },
     "execution_count": 184,
     "metadata": {},
     "output_type": "execute_result"
    }
   ],
   "source": [
    "not (M != N and B > A)"
   ]
  },
  {
   "cell_type": "code",
   "execution_count": 190,
   "id": "0b5278dd-fbbb-4666-9b68-1accfc5789aa",
   "metadata": {},
   "outputs": [
    {
     "data": {
      "text/plain": [
       "14"
      ]
     },
     "execution_count": 190,
     "metadata": {},
     "output_type": "execute_result"
    }
   ],
   "source": [
    "B + A"
   ]
  },
  {
   "cell_type": "code",
   "execution_count": 191,
   "id": "0ede6821-506d-4b9a-921e-68c911d7bd8d",
   "metadata": {},
   "outputs": [
    {
     "data": {
      "text/plain": [
       "45"
      ]
     },
     "execution_count": 191,
     "metadata": {},
     "output_type": "execute_result"
    }
   ],
   "source": [
    "A * B"
   ]
  },
  {
   "cell_type": "code",
   "execution_count": 192,
   "id": "7b846322-8ebf-497d-a94d-dc0db9d63639",
   "metadata": {},
   "outputs": [
    {
     "data": {
      "text/plain": [
       "True"
      ]
     },
     "execution_count": 192,
     "metadata": {},
     "output_type": "execute_result"
    }
   ],
   "source": [
    "B + A <= A * B"
   ]
  },
  {
   "cell_type": "code",
   "execution_count": 193,
   "id": "9645d455-d9a7-4ec1-8eb2-9f2a943d76d4",
   "metadata": {},
   "outputs": [
    {
     "data": {
      "text/plain": [
       "False"
      ]
     },
     "execution_count": 193,
     "metadata": {},
     "output_type": "execute_result"
    }
   ],
   "source": [
    "Y"
   ]
  },
  {
   "cell_type": "code",
   "execution_count": 189,
   "id": "b88af6d1-1e04-4a69-85c9-0ef4c3f5626a",
   "metadata": {},
   "outputs": [
    {
     "data": {
      "text/plain": [
       "False"
      ]
     },
     "execution_count": 189,
     "metadata": {},
     "output_type": "execute_result"
    }
   ],
   "source": [
    "B + A <= A * B and Y"
   ]
  },
  {
   "cell_type": "code",
   "execution_count": 194,
   "id": "fecb3570-6304-4707-98fc-438a9a1ae3f2",
   "metadata": {},
   "outputs": [
    {
     "data": {
      "text/plain": [
       "True"
      ]
     },
     "execution_count": 194,
     "metadata": {},
     "output_type": "execute_result"
    }
   ],
   "source": [
    "B + A <= A * B or Y"
   ]
  },
  {
   "cell_type": "code",
   "execution_count": 196,
   "id": "81764163-c8c9-4c8f-b2f7-5452ac323a50",
   "metadata": {},
   "outputs": [
    {
     "data": {
      "text/plain": [
       "False"
      ]
     },
     "execution_count": 196,
     "metadata": {},
     "output_type": "execute_result"
    }
   ],
   "source": [
    "X"
   ]
  },
  {
   "cell_type": "code",
   "execution_count": 197,
   "id": "4fc0b302-fe54-4fec-8828-6ab0fc15c815",
   "metadata": {},
   "outputs": [
    {
     "data": {
      "text/plain": [
       "True"
      ]
     },
     "execution_count": 197,
     "metadata": {},
     "output_type": "execute_result"
    }
   ],
   "source": [
    "not Y"
   ]
  },
  {
   "cell_type": "code",
   "execution_count": 198,
   "id": "90b735a2-f56c-48ea-8a9a-e97fc155d7a4",
   "metadata": {},
   "outputs": [
    {
     "data": {
      "text/plain": [
       "0"
      ]
     },
     "execution_count": 198,
     "metadata": {},
     "output_type": "execute_result"
    }
   ],
   "source": [
    "A // B"
   ]
  },
  {
   "cell_type": "code",
   "execution_count": 199,
   "id": "e592f690-a0bb-4890-82cb-17a7330cd44f",
   "metadata": {},
   "outputs": [
    {
     "data": {
      "text/plain": [
       "5"
      ]
     },
     "execution_count": 199,
     "metadata": {},
     "output_type": "execute_result"
    }
   ],
   "source": [
    "A % B"
   ]
  },
  {
   "cell_type": "code",
   "execution_count": 200,
   "id": "84fff48a-17fc-4d92-8822-4c9be51d8ab5",
   "metadata": {},
   "outputs": [
    {
     "data": {
      "text/plain": [
       "True"
      ]
     },
     "execution_count": 200,
     "metadata": {},
     "output_type": "execute_result"
    }
   ],
   "source": [
    "A // B != A % B"
   ]
  },
  {
   "cell_type": "code",
   "execution_count": 195,
   "id": "f829022e-6d27-4c5e-b330-ebf9f6b77cc4",
   "metadata": {},
   "outputs": [
    {
     "data": {
      "text/plain": [
       "True"
      ]
     },
     "execution_count": 195,
     "metadata": {},
     "output_type": "execute_result"
    }
   ],
   "source": [
    "X and not Y or A // B != A % B"
   ]
  },
  {
   "cell_type": "code",
   "execution_count": null,
   "id": "15056ed6-098c-4fee-8653-4f9e9f92242a",
   "metadata": {},
   "outputs": [],
   "source": []
  },
  {
   "cell_type": "code",
   "execution_count": null,
   "id": "532f8776-6872-4b04-8bb4-6651a520bb3e",
   "metadata": {},
   "outputs": [],
   "source": []
  },
  {
   "cell_type": "code",
   "execution_count": 21,
   "id": "a9683742-9789-4b7e-ac2a-c418795ed411",
   "metadata": {},
   "outputs": [],
   "source": [
    "saudacao = \"Olá mundo\""
   ]
  },
  {
   "cell_type": "code",
   "execution_count": 26,
   "id": "0180b988-bdf0-45c4-bb9d-9259f5477ebc",
   "metadata": {},
   "outputs": [
    {
     "data": {
      "text/plain": [
       "str"
      ]
     },
     "execution_count": 26,
     "metadata": {},
     "output_type": "execute_result"
    }
   ],
   "source": [
    "type(saudacao)"
   ]
  },
  {
   "cell_type": "code",
   "execution_count": 24,
   "id": "120eb72f-48bf-4bb5-b87e-ce972654121d",
   "metadata": {},
   "outputs": [
    {
     "name": "stdout",
     "output_type": "stream",
     "text": [
      "Olá mundo\n"
     ]
    }
   ],
   "source": [
    "print(saudacao)"
   ]
  },
  {
   "cell_type": "code",
   "execution_count": 25,
   "id": "a80bbda7-75c3-4784-a577-a0873433bf3b",
   "metadata": {},
   "outputs": [
    {
     "name": "stdout",
     "output_type": "stream",
     "text": [
      "Olá mundo\n"
     ]
    }
   ],
   "source": [
    "print(f\"{saudacao}\")"
   ]
  },
  {
   "cell_type": "code",
   "execution_count": null,
   "id": "cc4d5f18-4280-4efa-ac20-674827eaea3d",
   "metadata": {},
   "outputs": [],
   "source": []
  },
  {
   "cell_type": "code",
   "execution_count": null,
   "id": "dcac890c-7d1c-485e-8bd2-d26e6cdd8bbe",
   "metadata": {},
   "outputs": [],
   "source": []
  },
  {
   "cell_type": "code",
   "execution_count": 83,
   "id": "a22f7993-8499-475d-a291-7ee07689d013",
   "metadata": {},
   "outputs": [],
   "source": [
    "idade = 18"
   ]
  },
  {
   "cell_type": "code",
   "execution_count": 84,
   "id": "4d63f428-e6a1-42f9-82ba-96309dc622b9",
   "metadata": {},
   "outputs": [
    {
     "data": {
      "text/plain": [
       "int"
      ]
     },
     "execution_count": 84,
     "metadata": {},
     "output_type": "execute_result"
    }
   ],
   "source": [
    "type(idade)"
   ]
  },
  {
   "cell_type": "code",
   "execution_count": 85,
   "id": "26124c1c-1db1-460c-8cf5-de1f1203f845",
   "metadata": {},
   "outputs": [
    {
     "name": "stdout",
     "output_type": "stream",
     "text": [
      "idade\n"
     ]
    }
   ],
   "source": [
    "print(\"idade\")"
   ]
  },
  {
   "cell_type": "code",
   "execution_count": 86,
   "id": "5eb45825-a3f8-46a5-b82a-65a5763d6079",
   "metadata": {},
   "outputs": [
    {
     "name": "stdout",
     "output_type": "stream",
     "text": [
      "18\n"
     ]
    }
   ],
   "source": [
    "print(idade)"
   ]
  },
  {
   "cell_type": "code",
   "execution_count": 66,
   "id": "bc871ffd-0d18-4e2a-97a8-2afc18b4b9ea",
   "metadata": {},
   "outputs": [
    {
     "name": "stdout",
     "output_type": "stream",
     "text": [
      "idade 45\n"
     ]
    }
   ],
   "source": [
    "print(\"idade\", idade)"
   ]
  },
  {
   "cell_type": "code",
   "execution_count": 67,
   "id": "d6d559e6-e125-46e6-aedb-9429541f50c8",
   "metadata": {},
   "outputs": [
    {
     "name": "stdout",
     "output_type": "stream",
     "text": [
      "idade {idade}\n"
     ]
    }
   ],
   "source": [
    "print(\"idade {idade}\")"
   ]
  },
  {
   "cell_type": "code",
   "execution_count": 75,
   "id": "04182690-4a42-47e0-a843-56566979738d",
   "metadata": {},
   "outputs": [],
   "source": [
    "x = 0\n",
    "y = 1"
   ]
  },
  {
   "cell_type": "code",
   "execution_count": 81,
   "id": "61202299-900f-4b85-b65f-015ddfb26655",
   "metadata": {},
   "outputs": [
    {
     "name": "stdout",
     "output_type": "stream",
     "text": [
      "idade 45 0 1\n"
     ]
    }
   ],
   "source": [
    "print(\"idade\", idade, x, y)"
   ]
  },
  {
   "cell_type": "code",
   "execution_count": 82,
   "id": "1cee0642-199f-4f89-9cf9-49054b6f8073",
   "metadata": {},
   "outputs": [
    {
     "name": "stdout",
     "output_type": "stream",
     "text": [
      "idade 45 0 1\n"
     ]
    }
   ],
   "source": [
    "print(f\"idade {idade} {x} {y}\")"
   ]
  },
  {
   "cell_type": "code",
   "execution_count": 264,
   "id": "f61c4eb9-91f9-47fb-8a1f-b3027fcc1cbb",
   "metadata": {},
   "outputs": [],
   "source": [
    "idade = 44"
   ]
  },
  {
   "cell_type": "code",
   "execution_count": 289,
   "id": "4f6f7190-e9d3-461f-ad46-9bff6b6a989c",
   "metadata": {},
   "outputs": [
    {
     "name": "stdout",
     "output_type": "stream",
     "text": [
      "345 690\n"
     ]
    }
   ],
   "source": [
    "print(idade, dobro_idade)"
   ]
  },
  {
   "cell_type": "code",
   "execution_count": 295,
   "id": "2291784a-7913-4645-bf09-b8fce1b946bd",
   "metadata": {},
   "outputs": [],
   "source": [
    "dobro_idade = idade * 2"
   ]
  },
  {
   "cell_type": "code",
   "execution_count": 267,
   "id": "19c84967-fe0b-4d48-ad29-156ae4a1cb7c",
   "metadata": {},
   "outputs": [
    {
     "name": "stdout",
     "output_type": "stream",
     "text": [
      "44 88\n"
     ]
    }
   ],
   "source": [
    "print(idade, dobro_idade)"
   ]
  },
  {
   "cell_type": "code",
   "execution_count": 39,
   "id": "9205cd6a-cafd-4d9d-9766-3ce19b1d44dc",
   "metadata": {},
   "outputs": [
    {
     "data": {
      "text/plain": [
       "int"
      ]
     },
     "execution_count": 39,
     "metadata": {},
     "output_type": "execute_result"
    }
   ],
   "source": [
    "type(dobro_idade)"
   ]
  },
  {
   "cell_type": "code",
   "execution_count": 40,
   "id": "e263e0a0-a000-4e32-9b24-c90c98e70260",
   "metadata": {},
   "outputs": [
    {
     "name": "stdout",
     "output_type": "stream",
     "text": [
      "90\n"
     ]
    }
   ],
   "source": [
    "print(dobro_idade)"
   ]
  },
  {
   "cell_type": "code",
   "execution_count": 299,
   "id": "3af9b072-09c1-41fa-85d1-e16d42b701c1",
   "metadata": {},
   "outputs": [],
   "source": [
    "idade = 50"
   ]
  },
  {
   "cell_type": "code",
   "execution_count": 302,
   "id": "af85e85b-0e60-4bac-beb4-4541beaf36fa",
   "metadata": {},
   "outputs": [],
   "source": [
    "dobro_idade = idade * 2"
   ]
  },
  {
   "cell_type": "code",
   "execution_count": 303,
   "id": "6c282870-9897-4205-8406-8c859d18d257",
   "metadata": {
    "tags": []
   },
   "outputs": [
    {
     "name": "stdout",
     "output_type": "stream",
     "text": [
      "O dobro da idade de 50 é 100\n"
     ]
    }
   ],
   "source": [
    "print(f\"O dobro da idade de {idade} é {dobro_idade}\")"
   ]
  },
  {
   "cell_type": "code",
   "execution_count": 304,
   "id": "e3b9e4cb-7d6a-4c9d-b91e-a2ab19bae4e1",
   "metadata": {},
   "outputs": [
    {
     "name": "stdout",
     "output_type": "stream",
     "text": [
      "O dobro da idade de 50 é 100\n"
     ]
    }
   ],
   "source": [
    "print(f\"O dobro da idade de {idade} é {idade * 2}\")"
   ]
  },
  {
   "cell_type": "code",
   "execution_count": null,
   "id": "f0ab8665-be35-4c6f-82fb-014b793c6586",
   "metadata": {},
   "outputs": [],
   "source": []
  },
  {
   "cell_type": "code",
   "execution_count": null,
   "id": "565dcac9-02c6-4bd6-980c-2d4e4f6813a4",
   "metadata": {},
   "outputs": [],
   "source": []
  },
  {
   "cell_type": "code",
   "execution_count": 13,
   "id": "b3019f1e-18b2-4a29-9e50-f64581683814",
   "metadata": {},
   "outputs": [
    {
     "name": "stdout",
     "output_type": "stream",
     "text": [
      "idade: {idade}\n"
     ]
    }
   ],
   "source": [
    "print(\"idade: {idade}\")"
   ]
  },
  {
   "cell_type": "code",
   "execution_count": 17,
   "id": "f23a21d0-d2ad-4783-9689-58b98b248990",
   "metadata": {},
   "outputs": [],
   "source": [
    "crianca = 10"
   ]
  },
  {
   "cell_type": "code",
   "execution_count": 19,
   "id": "a445f47c-87e1-48f3-b79f-f2d0efb06f92",
   "metadata": {},
   "outputs": [
    {
     "name": "stdout",
     "output_type": "stream",
     "text": [
      "crianca: 10\n"
     ]
    }
   ],
   "source": [
    "print(f\"crianca: {crianca}\")"
   ]
  },
  {
   "cell_type": "code",
   "execution_count": null,
   "id": "77f14cfb-8330-42ec-bf3f-d8ff250d6bf1",
   "metadata": {},
   "outputs": [],
   "source": []
  },
  {
   "cell_type": "code",
   "execution_count": null,
   "id": "1e39a3f1-d925-4c01-9dbd-9b5e276f5303",
   "metadata": {},
   "outputs": [],
   "source": []
  },
  {
   "cell_type": "code",
   "execution_count": null,
   "id": "a9af0af6-88f9-4bd9-ad2d-4ef58c0a531a",
   "metadata": {},
   "outputs": [],
   "source": []
  },
  {
   "cell_type": "code",
   "execution_count": 169,
   "id": "af8e2439-4c02-44b1-8f9f-c4e46c514a24",
   "metadata": {},
   "outputs": [],
   "source": [
    "preco_arroz = 14.5475"
   ]
  },
  {
   "cell_type": "code",
   "execution_count": 170,
   "id": "26f38caa-82e4-4d42-88a2-45323ae8be03",
   "metadata": {},
   "outputs": [
    {
     "data": {
      "text/plain": [
       "float"
      ]
     },
     "execution_count": 170,
     "metadata": {},
     "output_type": "execute_result"
    }
   ],
   "source": [
    "type(preco_arroz)"
   ]
  },
  {
   "cell_type": "code",
   "execution_count": 171,
   "id": "d06fa30d-00e1-4054-9350-cfa62f6f06a5",
   "metadata": {},
   "outputs": [
    {
     "name": "stdout",
     "output_type": "stream",
     "text": [
      "14.5475000000\n"
     ]
    }
   ],
   "source": [
    "print(format(preco_arroz, '.10f'))"
   ]
  },
  {
   "cell_type": "code",
   "execution_count": 172,
   "id": "c01f169a-9182-4d89-9782-c75dc2acb0fc",
   "metadata": {},
   "outputs": [
    {
     "name": "stdout",
     "output_type": "stream",
     "text": [
      "14.55\n"
     ]
    }
   ],
   "source": [
    "print(format(preco_arroz, '.2f'))"
   ]
  },
  {
   "cell_type": "code",
   "execution_count": 173,
   "id": "32c7e662-c96d-496f-9d29-efd6eede8470",
   "metadata": {},
   "outputs": [
    {
     "name": "stdout",
     "output_type": "stream",
     "text": [
      "14.5475\n"
     ]
    }
   ],
   "source": [
    "print(preco_arroz)"
   ]
  },
  {
   "cell_type": "code",
   "execution_count": 174,
   "id": "7c3dd819-fc4b-4600-98e4-d4b341744c3c",
   "metadata": {},
   "outputs": [],
   "source": [
    "kg_arroz = 5.50"
   ]
  },
  {
   "cell_type": "code",
   "execution_count": 175,
   "id": "5964796f-5cef-4983-92a8-23d3b9b8e33d",
   "metadata": {},
   "outputs": [
    {
     "data": {
      "text/plain": [
       "float"
      ]
     },
     "execution_count": 175,
     "metadata": {},
     "output_type": "execute_result"
    }
   ],
   "source": [
    "type(kg_arroz)"
   ]
  },
  {
   "cell_type": "code",
   "execution_count": 176,
   "id": "a10336e9-9c50-4fb9-9625-baf9f3811269",
   "metadata": {},
   "outputs": [],
   "source": [
    "valor = preco_arroz * kg_arroz"
   ]
  },
  {
   "cell_type": "code",
   "execution_count": 177,
   "id": "8ad60e0a-d1c4-4af5-a0c6-11235f0e086a",
   "metadata": {},
   "outputs": [
    {
     "data": {
      "text/plain": [
       "float"
      ]
     },
     "execution_count": 177,
     "metadata": {},
     "output_type": "execute_result"
    }
   ],
   "source": [
    "type(valor)"
   ]
  },
  {
   "cell_type": "code",
   "execution_count": 178,
   "id": "186cf37c-fe20-4660-91a1-2a2b97674be6",
   "metadata": {},
   "outputs": [
    {
     "name": "stdout",
     "output_type": "stream",
     "text": [
      "80.01124999999999\n"
     ]
    }
   ],
   "source": [
    "print(valor)"
   ]
  },
  {
   "cell_type": "code",
   "execution_count": 179,
   "id": "689eb4e0-27e1-491f-959c-eb11185e3041",
   "metadata": {},
   "outputs": [
    {
     "name": "stdout",
     "output_type": "stream",
     "text": [
      "O preco total de 5.5 kg de arroz é de 80.01124999999999 pq o preco por kg é de 14.5475\n"
     ]
    }
   ],
   "source": [
    "print(f\"O preco total de {kg_arroz} kg de arroz é de {valor} pq o preco por kg é de {preco_arroz}\")"
   ]
  },
  {
   "cell_type": "code",
   "execution_count": 180,
   "id": "4342aa9f-cff1-4e98-8aee-9208768fae5f",
   "metadata": {},
   "outputs": [
    {
     "name": "stdout",
     "output_type": "stream",
     "text": [
      "O preco total de 5.50 kg de arroz é de 80.01 pq o preco por kg é de 14.547\n"
     ]
    }
   ],
   "source": [
    "print(f\"O preco total de {kg_arroz:.2f} kg de arroz é de {valor:.2f} pq o preco por kg é de {preco_arroz:.3f}\")"
   ]
  },
  {
   "cell_type": "code",
   "execution_count": 181,
   "id": "8fe9fad1-d72b-49e2-90a2-c74122a5cb93",
   "metadata": {},
   "outputs": [
    {
     "name": "stdout",
     "output_type": "stream",
     "text": [
      "80.01\n"
     ]
    }
   ],
   "source": [
    "x = 5.5\n",
    "y = 14.547\n",
    "z = x * y\n",
    "print(format(z, '.2f'))"
   ]
  },
  {
   "cell_type": "code",
   "execution_count": null,
   "id": "656ea4cc-581e-4a29-ba0c-a343ec43e957",
   "metadata": {},
   "outputs": [],
   "source": []
  },
  {
   "cell_type": "code",
   "execution_count": null,
   "id": "838c27bc-8b30-4938-8332-b8625aea9462",
   "metadata": {},
   "outputs": [],
   "source": []
  },
  {
   "cell_type": "code",
   "execution_count": null,
   "id": "3d92ac39-597d-4238-a2c7-ba48d62be128",
   "metadata": {},
   "outputs": [],
   "source": []
  },
  {
   "cell_type": "code",
   "execution_count": 248,
   "id": "943ec7ec-2a2a-4b89-9d35-397e04124d1b",
   "metadata": {},
   "outputs": [
    {
     "name": "stdout",
     "output_type": "stream",
     "text": [
      "<class 'int'> <class 'int'>\n"
     ]
    }
   ],
   "source": [
    "a = 123\n",
    "b = 5\n",
    "print(type(a), type(b))"
   ]
  },
  {
   "cell_type": "code",
   "execution_count": 249,
   "id": "b21ae611-9678-42c8-94ae-aaf4f636e694",
   "metadata": {},
   "outputs": [
    {
     "name": "stdout",
     "output_type": "stream",
     "text": [
      "<class 'int'> 128\n"
     ]
    }
   ],
   "source": [
    "soma = a + b\n",
    "print(type(soma), soma)"
   ]
  },
  {
   "cell_type": "code",
   "execution_count": 250,
   "id": "8291a6b5-9de1-4781-802e-a3b4725ab662",
   "metadata": {},
   "outputs": [
    {
     "name": "stdout",
     "output_type": "stream",
     "text": [
      "<class 'int'> 118\n"
     ]
    }
   ],
   "source": [
    "subtracao = a - b\n",
    "print(type(subtracao), subtracao)"
   ]
  },
  {
   "cell_type": "code",
   "execution_count": 251,
   "id": "ac625d46-a024-4cc8-978b-5f72b922a92d",
   "metadata": {},
   "outputs": [
    {
     "name": "stdout",
     "output_type": "stream",
     "text": [
      "<class 'float'> 24.6\n"
     ]
    }
   ],
   "source": [
    "divisao = a / b\n",
    "print(type(divisao), divisao)"
   ]
  },
  {
   "cell_type": "code",
   "execution_count": 252,
   "id": "5dc19e2f-6477-4311-97a3-02a68f8d50ac",
   "metadata": {},
   "outputs": [
    {
     "name": "stdout",
     "output_type": "stream",
     "text": [
      "<class 'int'> 615\n"
     ]
    }
   ],
   "source": [
    "multiplicacao = a * b\n",
    "print(type(multiplicacao), multiplicacao)"
   ]
  },
  {
   "cell_type": "code",
   "execution_count": null,
   "id": "9b2fda01-d6ea-497c-a0f4-48e591d81474",
   "metadata": {},
   "outputs": [],
   "source": []
  },
  {
   "cell_type": "code",
   "execution_count": 273,
   "id": "fa7e0f8a-2ba4-4c48-978a-826651f11871",
   "metadata": {},
   "outputs": [],
   "source": [
    "dividendo = 1234\n",
    "divisor = 53"
   ]
  },
  {
   "cell_type": "code",
   "execution_count": 274,
   "id": "9c881698-ebe5-4c4e-9c76-54e5cd64ec37",
   "metadata": {},
   "outputs": [],
   "source": [
    "resto = dividendo % divisor"
   ]
  },
  {
   "cell_type": "code",
   "execution_count": 275,
   "id": "a080f088-5300-4ead-a158-6cf64b2cb822",
   "metadata": {},
   "outputs": [],
   "source": [
    "quociente = dividendo // divisor"
   ]
  },
  {
   "cell_type": "code",
   "execution_count": 276,
   "id": "091a08c6-4164-4d1c-994a-02ee3f10f463",
   "metadata": {},
   "outputs": [],
   "source": [
    "resultado = dividendo / divisor"
   ]
  },
  {
   "cell_type": "code",
   "execution_count": 277,
   "id": "cfe19134-dd91-4f21-a955-391415f6ef63",
   "metadata": {
    "tags": []
   },
   "outputs": [
    {
     "name": "stdout",
     "output_type": "stream",
     "text": [
      "se dividir 1234 por 53 temos o quociente 23 e o resto 15, o reultado Real 23.28301886792453\n"
     ]
    }
   ],
   "source": [
    "print(f\"se dividir {dividendo} por {divisor} temos o quociente {quociente} e o resto {resto}, o reultado Real {resultado}\")"
   ]
  },
  {
   "cell_type": "code",
   "execution_count": 313,
   "id": "cd33746e-960f-4fa2-9019-4913c04c36f8",
   "metadata": {},
   "outputs": [],
   "source": [
    "dividendo = 124\n",
    "divisor = 53"
   ]
  },
  {
   "cell_type": "code",
   "execution_count": 315,
   "id": "8127ffb0-324d-4eb3-a667-ebb96d08d58e",
   "metadata": {},
   "outputs": [
    {
     "name": "stdout",
     "output_type": "stream",
     "text": [
      "se dividir   124 por 53 temos o quociente 2 e o resto 18, o reultado Real 2.339622641509434\n"
     ]
    }
   ],
   "source": [
    "print(f\"se dividir {dividendo:5d} por {divisor} temos o quociente {dividendo // divisor} e o resto {dividendo % divisor}, o reultado Real {dividendo / divisor}\")"
   ]
  },
  {
   "cell_type": "code",
   "execution_count": null,
   "id": "5d801d34-9c21-447c-8f3d-f513107391ad",
   "metadata": {},
   "outputs": [],
   "source": []
  },
  {
   "cell_type": "code",
   "execution_count": 309,
   "id": "509620d5-c973-4f8a-b63a-8294086eb522",
   "metadata": {},
   "outputs": [
    {
     "name": "stdout",
     "output_type": "stream",
     "text": [
      "Luiz\n"
     ]
    }
   ],
   "source": [
    "print(\"Luiz\")"
   ]
  },
  {
   "cell_type": "code",
   "execution_count": 327,
   "id": "fa7bd6f9-8653-48e2-ac15-6cc4789cbc83",
   "metadata": {},
   "outputs": [],
   "source": [
    "nome = \"Luiz\"\n",
    "sobrenome = \"Tavares\""
   ]
  },
  {
   "cell_type": "code",
   "execution_count": 323,
   "id": "09841407-1652-4929-8adf-7254a228ed57",
   "metadata": {},
   "outputs": [
    {
     "name": "stdout",
     "output_type": "stream",
     "text": [
      "<class 'str'>\n"
     ]
    }
   ],
   "source": [
    "print(type(nome))"
   ]
  },
  {
   "cell_type": "code",
   "execution_count": 324,
   "id": "7d732704-b5c4-4948-8fb7-bc5c399a67d5",
   "metadata": {},
   "outputs": [
    {
     "name": "stdout",
     "output_type": "stream",
     "text": [
      "Luiz\n"
     ]
    }
   ],
   "source": [
    "print(nome)"
   ]
  },
  {
   "cell_type": "code",
   "execution_count": 325,
   "id": "59dc49fb-4441-40ef-b019-d1277df094be",
   "metadata": {},
   "outputs": [
    {
     "name": "stdout",
     "output_type": "stream",
     "text": [
      "O meu nome é Luiz\n"
     ]
    }
   ],
   "source": [
    "print(f\"O meu nome é {nome}\")"
   ]
  },
  {
   "cell_type": "code",
   "execution_count": 326,
   "id": "8b98981c-9d9e-44cf-a069-4e635e55977c",
   "metadata": {},
   "outputs": [
    {
     "name": "stdout",
     "output_type": "stream",
     "text": [
      "O meu nome é Luiz      \n"
     ]
    }
   ],
   "source": [
    "print(f\"O meu nome é {nome:10s}\")"
   ]
  },
  {
   "cell_type": "code",
   "execution_count": 333,
   "id": "107c962b-cb86-401b-a790-6769a3bea17b",
   "metadata": {},
   "outputs": [],
   "source": [
    "completo = nome + format(sobrenome, '>10s')"
   ]
  },
  {
   "cell_type": "code",
   "execution_count": 335,
   "id": "f40186d4-8e6f-42c3-bdbc-ac22ac5ec09e",
   "metadata": {},
   "outputs": [],
   "source": [
    "completo = nome + \" \" + sobrenome"
   ]
  },
  {
   "cell_type": "code",
   "execution_count": 336,
   "id": "53a62927-ce90-4680-8541-932eeb5f500d",
   "metadata": {},
   "outputs": [
    {
     "name": "stdout",
     "output_type": "stream",
     "text": [
      "Luiz Tavares\n"
     ]
    }
   ],
   "source": [
    "print(completo)"
   ]
  },
  {
   "cell_type": "code",
   "execution_count": 349,
   "id": "85455652-60e4-41e8-bba1-3e747ad58fc2",
   "metadata": {},
   "outputs": [],
   "source": [
    "pedaco = completo[0:12:2]"
   ]
  },
  {
   "cell_type": "code",
   "execution_count": 350,
   "id": "b455b93e-2dd5-4a80-afb3-89fd309c9f18",
   "metadata": {},
   "outputs": [
    {
     "name": "stdout",
     "output_type": "stream",
     "text": [
      "Li aae\n"
     ]
    }
   ],
   "source": [
    "print(pedaco)"
   ]
  },
  {
   "cell_type": "code",
   "execution_count": 362,
   "id": "9924b61f-39dd-4404-948f-f539d166e501",
   "metadata": {},
   "outputs": [
    {
     "name": "stdout",
     "output_type": "stream",
     "text": [
      "3.4000000000000004 -7.0 15.4\n"
     ]
    }
   ],
   "source": [
    "x = 10\n",
    "y = 3\n",
    "z = 5\n",
    "t = 6\n",
    "\n",
    "resp1 = (x - y / z) - t\n",
    "resp2 = (x - y) / (z - t)\n",
    "resp3 = x - (y / z - t)\n",
    "\n",
    "print(resp1, resp2, resp3)"
   ]
  },
  {
   "cell_type": "code",
   "execution_count": null,
   "id": "26755dd0-42e6-4a86-8e1a-611df21cdb4d",
   "metadata": {},
   "outputs": [],
   "source": []
  },
  {
   "cell_type": "code",
   "execution_count": null,
   "id": "22dd5ccd-8efe-4b77-9eb2-92965d055ad9",
   "metadata": {},
   "outputs": [],
   "source": []
  },
  {
   "cell_type": "code",
   "execution_count": null,
   "id": "13b899fd-9a28-4063-a33e-ce5983ba701b",
   "metadata": {},
   "outputs": [],
   "source": []
  },
  {
   "cell_type": "code",
   "execution_count": null,
   "id": "d44b9073-8316-41df-8de8-b2ff59049771",
   "metadata": {},
   "outputs": [],
   "source": []
  },
  {
   "cell_type": "code",
   "execution_count": null,
   "id": "15c22a07-04ad-4abb-952f-335aeb75b7bc",
   "metadata": {},
   "outputs": [],
   "source": []
  },
  {
   "cell_type": "code",
   "execution_count": 363,
   "id": "34054b48-47f3-43ff-9d94-2c665f757967",
   "metadata": {},
   "outputs": [],
   "source": [
    "x = 0"
   ]
  },
  {
   "cell_type": "code",
   "execution_count": 364,
   "id": "a7425675-69c8-41fa-a73e-13129bea6304",
   "metadata": {},
   "outputs": [
    {
     "name": "stdout",
     "output_type": "stream",
     "text": [
      "entrei if\n"
     ]
    }
   ],
   "source": [
    "if (x == 0):\n",
    "    print(\"entrei if\")\n",
    "else:\n",
    "    print(\"entrei else\")"
   ]
  },
  {
   "cell_type": "code",
   "execution_count": 369,
   "id": "6d7dc9a4-083a-44fe-af9b-96ebe681bb2d",
   "metadata": {},
   "outputs": [],
   "source": [
    "x = 1"
   ]
  },
  {
   "cell_type": "code",
   "execution_count": 366,
   "id": "4aecdbf5-84d4-41ff-bb15-186a27c6dbfe",
   "metadata": {},
   "outputs": [
    {
     "name": "stdout",
     "output_type": "stream",
     "text": [
      "entrei else\n"
     ]
    }
   ],
   "source": [
    "if (x == 0):\n",
    "    print(\"entrei if\")\n",
    "else:\n",
    "    print(\"entrei else\")"
   ]
  },
  {
   "cell_type": "code",
   "execution_count": 377,
   "id": "73090235-b453-414c-9692-6c658d2533df",
   "metadata": {},
   "outputs": [],
   "source": [
    "x = 3"
   ]
  },
  {
   "cell_type": "code",
   "execution_count": 378,
   "id": "cf842f6b-39b7-47be-82b2-859ad51dab33",
   "metadata": {},
   "outputs": [
    {
     "name": "stdout",
     "output_type": "stream",
     "text": [
      "entrei else\n"
     ]
    }
   ],
   "source": [
    "if (x == 0):\n",
    "    print(\"entrei if\")\n",
    "elif (x == 1):\n",
    "    print(\"entrei elif\")\n",
    "else:\n",
    "    print(\"entrei else\")"
   ]
  },
  {
   "cell_type": "code",
   "execution_count": null,
   "id": "41590656-cb94-4770-9c98-d1c069e14a72",
   "metadata": {},
   "outputs": [],
   "source": []
  },
  {
   "cell_type": "code",
   "execution_count": 388,
   "id": "e998d325-d110-4d38-b3da-0ec34e42bdec",
   "metadata": {
    "tags": []
   },
   "outputs": [],
   "source": [
    "z = (x != 3)"
   ]
  },
  {
   "cell_type": "code",
   "execution_count": 389,
   "id": "edbc3005-de2f-47ae-aee2-30c7fc171851",
   "metadata": {},
   "outputs": [
    {
     "name": "stdout",
     "output_type": "stream",
     "text": [
      "<class 'bool'>\n"
     ]
    }
   ],
   "source": [
    "print(type(z))"
   ]
  },
  {
   "cell_type": "code",
   "execution_count": 392,
   "id": "c8597e0e-7377-4def-bb54-2893d8db3f23",
   "metadata": {},
   "outputs": [
    {
     "name": "stdout",
     "output_type": "stream",
     "text": [
      "3 False\n"
     ]
    }
   ],
   "source": [
    "print(x, (x != 3))"
   ]
  },
  {
   "cell_type": "code",
   "execution_count": null,
   "id": "11169747-ed8e-482a-9a37-5387a29f0b38",
   "metadata": {},
   "outputs": [],
   "source": []
  },
  {
   "cell_type": "code",
   "execution_count": 386,
   "id": "336f65e4-33b9-4610-81a6-f9af7b34c9bb",
   "metadata": {},
   "outputs": [],
   "source": [
    "a = False"
   ]
  },
  {
   "cell_type": "code",
   "execution_count": 387,
   "id": "2856d6c1-72fa-4b08-ad53-2545965e7fb9",
   "metadata": {},
   "outputs": [
    {
     "data": {
      "text/plain": [
       "False"
      ]
     },
     "execution_count": 387,
     "metadata": {},
     "output_type": "execute_result"
    }
   ],
   "source": [
    "a"
   ]
  },
  {
   "cell_type": "code",
   "execution_count": null,
   "id": "548b7376-4d3d-40f3-a13d-46c8a5ed6c8a",
   "metadata": {
    "tags": []
   },
   "outputs": [],
   "source": []
  },
  {
   "cell_type": "code",
   "execution_count": 433,
   "id": "503e9cfd-8715-4a40-858c-b33677196317",
   "metadata": {},
   "outputs": [
    {
     "name": "stdout",
     "output_type": "stream",
     "text": [
      "0 5\n",
      "1 5\n",
      "2 5\n",
      "3 5\n",
      "4 5\n",
      "5 5\n",
      "Entrei 1\n",
      "6 5\n",
      "Entrei 1\n",
      "7 5\n",
      "Entrei 1\n",
      "8 5\n",
      "Entrei 1\n",
      "9 5\n",
      "Entrei 1\n"
     ]
    }
   ],
   "source": [
    "j = 5\n",
    "\n",
    "for i in range(10):\n",
    "    print(i, j)\n",
    "    \n",
    "    g = i >= j\n",
    "    \n",
    "    if g:\n",
    "        print(\"Entrei 1\")"
   ]
  },
  {
   "cell_type": "code",
   "execution_count": 401,
   "id": "12f43043-094b-4ba2-8e78-8cc245fa8bbb",
   "metadata": {},
   "outputs": [
    {
     "name": "stdout",
     "output_type": "stream",
     "text": [
      "start\n",
      "entrei if\n",
      "end\n"
     ]
    }
   ],
   "source": [
    "print(\"start\")\n",
    "\n",
    "if z:\n",
    "    print(\"entrei if\")\n",
    "elif y:\n",
    "    print(\"entrei elif\")\n",
    "else:\n",
    "    print(\"entrei else\")\n",
    "    \n",
    "print(\"end\")"
   ]
  },
  {
   "cell_type": "code",
   "execution_count": null,
   "id": "1ff8d31c-85d5-4bfc-9697-fa482fb56a2e",
   "metadata": {},
   "outputs": [],
   "source": []
  },
  {
   "cell_type": "code",
   "execution_count": 402,
   "id": "59fdd560-db75-43b9-859c-d7e5b9524f8b",
   "metadata": {},
   "outputs": [],
   "source": [
    "a = 0\n",
    "b = 1\n",
    "c = 1"
   ]
  },
  {
   "cell_type": "code",
   "execution_count": 417,
   "id": "c80117d7-ba83-43d8-b65d-b01246b4ecd0",
   "metadata": {},
   "outputs": [
    {
     "data": {
      "text/plain": [
       "True"
      ]
     },
     "execution_count": 417,
     "metadata": {},
     "output_type": "execute_result"
    }
   ],
   "source": [
    "a <= b"
   ]
  },
  {
   "cell_type": "code",
   "execution_count": 404,
   "id": "bb723c69-abe4-46ab-82e4-4144f4e78da3",
   "metadata": {},
   "outputs": [
    {
     "data": {
      "text/plain": [
       "True"
      ]
     },
     "execution_count": 404,
     "metadata": {},
     "output_type": "execute_result"
    }
   ],
   "source": [
    "a != b"
   ]
  },
  {
   "cell_type": "code",
   "execution_count": 406,
   "id": "9db7b07d-496a-4e4c-9f4a-4ebd83e515ae",
   "metadata": {},
   "outputs": [
    {
     "data": {
      "text/plain": [
       "True"
      ]
     },
     "execution_count": 406,
     "metadata": {},
     "output_type": "execute_result"
    }
   ],
   "source": [
    "b == c"
   ]
  },
  {
   "cell_type": "code",
   "execution_count": 420,
   "id": "0e5dd03b-5b00-40fc-a11d-d781faf102c3",
   "metadata": {},
   "outputs": [],
   "source": [
    "if (a == b) and (b == c):\n",
    "    print(\"entrei\")"
   ]
  },
  {
   "cell_type": "code",
   "execution_count": 407,
   "id": "b2d991e7-7959-4f88-ac6b-6fea009ccf27",
   "metadata": {},
   "outputs": [
    {
     "data": {
      "text/plain": [
       "False"
      ]
     },
     "execution_count": 407,
     "metadata": {},
     "output_type": "execute_result"
    }
   ],
   "source": [
    "(a == b) and (b != c)"
   ]
  },
  {
   "cell_type": "code",
   "execution_count": 421,
   "id": "b7fd6292-a1a0-405c-bf84-9598867e8302",
   "metadata": {},
   "outputs": [
    {
     "name": "stdout",
     "output_type": "stream",
     "text": [
      "entrei\n"
     ]
    }
   ],
   "source": [
    "if (a != b) and (b == c):\n",
    "    print(\"entrei\")"
   ]
  },
  {
   "cell_type": "code",
   "execution_count": 439,
   "id": "20f810ad-2bfa-43cb-9cd4-cabd9eb2acca",
   "metadata": {},
   "outputs": [
    {
     "data": {
      "text/plain": [
       "False"
      ]
     },
     "execution_count": 439,
     "metadata": {},
     "output_type": "execute_result"
    }
   ],
   "source": [
    "(a == b) or ((a == c) and (b == c))"
   ]
  },
  {
   "cell_type": "code",
   "execution_count": 434,
   "id": "0a659d2d-0150-483e-83c6-6fbdbfd792cf",
   "metadata": {},
   "outputs": [
    {
     "data": {
      "text/plain": [
       "True"
      ]
     },
     "execution_count": 434,
     "metadata": {},
     "output_type": "execute_result"
    }
   ],
   "source": [
    "(a == b) or (b == c) or (a == c)"
   ]
  },
  {
   "cell_type": "code",
   "execution_count": 422,
   "id": "cbcca81b-2be2-4c22-9416-87edb449d4d8",
   "metadata": {},
   "outputs": [],
   "source": [
    "if (a == b) or (b != c):\n",
    "    print(\"entrei\")"
   ]
  },
  {
   "cell_type": "code",
   "execution_count": 423,
   "id": "bc456ced-fe35-4903-ae9b-545c9a8d2eb4",
   "metadata": {},
   "outputs": [
    {
     "name": "stdout",
     "output_type": "stream",
     "text": [
      "entrei\n"
     ]
    }
   ],
   "source": [
    "if (a != b) or (b == c):\n",
    "    print(\"entrei\")"
   ]
  },
  {
   "cell_type": "code",
   "execution_count": 1,
   "id": "81a06ea1-2fb4-47e6-bbc5-81c2f6ef4761",
   "metadata": {},
   "outputs": [],
   "source": [
    "import sys"
   ]
  },
  {
   "cell_type": "code",
   "execution_count": 6,
   "id": "94dd5feb-75fc-4b30-88d5-7211367cc7a9",
   "metadata": {},
   "outputs": [
    {
     "name": "stdin",
     "output_type": "stream",
     "text": [
      "valor:  90\n",
      "S ou N:  sdfsdfsdf\n"
     ]
    },
    {
     "name": "stdout",
     "output_type": "stream",
     "text": [
      "90.0\n"
     ]
    }
   ],
   "source": [
    "entrada = input(\"valor: \")\n",
    "entrada = float(entrada)\n",
    "teste = input(\"S ou N: \")\n",
    "\n",
    "#if teste == \"S\":\n",
    "#    teste_bool = True\n",
    "#elif teste == \"N\":\n",
    "#    teste_bool = False\n",
    "#else:\n",
    "#    teste_bool = False\n",
    "#    print(\"Erro\")\n",
    "    \n",
    "#print(entrada, type(entrada))\n",
    "\n",
    "if teste == \"S\":\n",
    "    resultado = entrada - 50\n",
    "else:\n",
    "    resultado = entrada\n",
    "\n",
    "print(resultado)"
   ]
  },
  {
   "cell_type": "code",
   "execution_count": 445,
   "id": "802750a7-0d69-4292-8a39-f59dc4e92c48",
   "metadata": {},
   "outputs": [
    {
     "name": "stdout",
     "output_type": "stream",
     "text": [
      "<class 'str'>\n"
     ]
    }
   ],
   "source": [
    "print(type(entrada))"
   ]
  },
  {
   "cell_type": "code",
   "execution_count": null,
   "id": "3a9b79aa-7381-475a-8854-53390a9a5a5d",
   "metadata": {},
   "outputs": [],
   "source": []
  },
  {
   "cell_type": "code",
   "execution_count": 21,
   "id": "2e19148b-2f8f-4d44-a86f-45b1a258ced6",
   "metadata": {},
   "outputs": [
    {
     "name": "stdin",
     "output_type": "stream",
     "text": [
      "valor:  200\n",
      "Desconto 10% S ou N:  S\n"
     ]
    },
    {
     "name": "stdout",
     "output_type": "stream",
     "text": [
      "Valor da venda: 200.00 com o desconto de 20.00 o total é de 180.00\n"
     ]
    }
   ],
   "source": [
    "valor = input(\"valor: \")\n",
    "valor = float(valor)\n",
    "desconto = input(\"Desconto 10% S ou N: \")\n",
    "\n",
    "if desconto == \"S\":\n",
    "    resultado = valor * 0.9\n",
    "    print(f\"Valor da venda: {valor:.2f} com o desconto de {(valor * .1):.2f} o total é de {resultado:.2f}\")\n",
    "else:\n",
    "    resultado = valor\n",
    "    print(f\"Valor total da venda: {resultado:.2f}\")\n"
   ]
  },
  {
   "cell_type": "code",
   "execution_count": null,
   "id": "a3f2bf5e-9418-4a9c-8334-56315f8aece4",
   "metadata": {},
   "outputs": [],
   "source": []
  },
  {
   "cell_type": "code",
   "execution_count": 50,
   "id": "fcfc92f3-da4b-4eb2-987f-16afaea40173",
   "metadata": {},
   "outputs": [
    {
     "name": "stdin",
     "output_type": "stream",
     "text": [
      "a: s / n s\n",
      "b: s / n n\n",
      "c: s / n s\n"
     ]
    },
    {
     "name": "stdout",
     "output_type": "stream",
     "text": [
      "a: s  b: n   c: s\n",
      "if i1\n",
      "else i1e2\n",
      "if i1e2i3\n"
     ]
    }
   ],
   "source": [
    "a = input(\"a: s / n\")\n",
    "b = input(\"b: s / n\")\n",
    "c = input(\"c: s / n\")\n",
    "\n",
    "print(f\"a: {a}  b: {b}   c: {c}\")\n",
    "\n",
    "if a == \"s\":\n",
    "    print(\"if i1\")\n",
    "    if b == \"s\":\n",
    "        print(\"if i1i2\")\n",
    "        if c == \"s\":\n",
    "            print(\"if i1i2i3\")\n",
    "        else:\n",
    "            print(\"else i1i2e3\")\n",
    "    else:\n",
    "        print(\"else i1e2\")\n",
    "        if c == \"s\":\n",
    "            print(\"if i1e2i3\")\n",
    "        else:\n",
    "            print(\"else i1e2e3\")\n",
    "else:\n",
    "    print(\"else e1\")\n",
    "    if b == \"s\":\n",
    "        print(\"if e1i2\")\n",
    "        if c == \"s\":\n",
    "            print(\"if e1i2i3\")\n",
    "        else:\n",
    "            print(\"else e1i2e3\")\n",
    "    else:\n",
    "        print(\"else e1e2\")\n",
    "        if c == \"s\":\n",
    "            print(\"if e1e2i3\")\n",
    "        else:\n",
    "            print(\"else e1e2e3\")"
   ]
  },
  {
   "cell_type": "code",
   "execution_count": 111,
   "id": "d0776dc8-894a-49a2-8f0d-2c4e998a5771",
   "metadata": {},
   "outputs": [
    {
     "name": "stdin",
     "output_type": "stream",
     "text": [
      "Saque:  40\n"
     ]
    },
    {
     "name": "stdout",
     "output_type": "stream",
     "text": [
      "Nota 50: 0 \n",
      "Nota 20: 1 \n",
      "Nota 10: 2\n"
     ]
    }
   ],
   "source": [
    "valor = input(\"Saque: \")\n",
    "valor = float(valor)\n",
    "\n",
    "qi50 = 1\n",
    "qi20 = 1\n",
    "qi10 = 2\n",
    "\n",
    "q50 = 0\n",
    "q20 = 0\n",
    "q10 = 0 \n",
    "\n",
    "q50 = int(valor // 50)\n",
    "\n",
    "if q50 > qi50:\n",
    "    q50 = qi50\n",
    "    valor = valor - (q50 * 50)\n",
    "else:\n",
    "    valor = valor % 50\n",
    "\n",
    "q20 = int(valor // 20)\n",
    "    \n",
    "if q20 > qi20:\n",
    "    q20 = qi20\n",
    "    valor = valor - (q20 * 20)\n",
    "else:\n",
    "    valor = valor % 20\n",
    "\n",
    "q10 = int(valor // 10)\n",
    "\n",
    "if q10 > qi10:\n",
    "    print(\"Valor não possível\")\n",
    "else:\n",
    "    print(f\"Nota 50: {q50} \\nNota 20: {q20} \\nNota 10: {q10}\")"
   ]
  },
  {
   "cell_type": "code",
   "execution_count": null,
   "id": "8afe6780-224b-4ea2-af87-b1a722c61fc7",
   "metadata": {},
   "outputs": [],
   "source": []
  },
  {
   "cell_type": "code",
   "execution_count": 105,
   "id": "025d0d41-72f2-4828-ace3-df75fc024bf5",
   "metadata": {},
   "outputs": [
    {
     "name": "stdin",
     "output_type": "stream",
     "text": [
      "saque:  100\n"
     ]
    },
    {
     "name": "stdout",
     "output_type": "stream",
     "text": [
      "Nota 50: 2 \n",
      "Nota 20: 0 \n",
      "Nota 10: 0\n"
     ]
    }
   ],
   "source": [
    "valor = input(\"saque: \")\n",
    "valor = float(valor)\n",
    "\n",
    "q50 = 0\n",
    "q20 = 0\n",
    "q10 = 0 \n",
    "\n",
    "q50 = int(valor // 50)\n",
    "valor = valor % 50\n",
    "\n",
    "q20 = int(valor // 20)\n",
    "valor = valor % 20\n",
    "\n",
    "q10 = int(valor // 10)\n",
    "\n",
    "print(f\"Nota 50: {q50} \\nNota 20: {q20} \\nNota 10: {q10}\")"
   ]
  },
  {
   "cell_type": "code",
   "execution_count": null,
   "id": "c04263b1-0087-4a5a-8694-cf3b0805e629",
   "metadata": {},
   "outputs": [],
   "source": []
  }
 ],
 "metadata": {
  "kernelspec": {
   "display_name": "Python 3 (ipykernel)",
   "language": "python",
   "name": "python3"
  },
  "language_info": {
   "codemirror_mode": {
    "name": "ipython",
    "version": 3
   },
   "file_extension": ".py",
   "mimetype": "text/x-python",
   "name": "python",
   "nbconvert_exporter": "python",
   "pygments_lexer": "ipython3",
   "version": "3.9.12"
  }
 },
 "nbformat": 4,
 "nbformat_minor": 5
}
