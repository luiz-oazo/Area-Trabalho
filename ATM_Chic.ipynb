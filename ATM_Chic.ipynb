{
 "cells": [
  {
   "cell_type": "code",
   "execution_count": 1,
   "id": "390e7ff3",
   "metadata": {},
   "outputs": [
    {
     "name": "stdin",
     "output_type": "stream",
     "text": [
      "digite um número ou <ENTER>:  3\n",
      "digite um número ou <ENTER>:  5\n",
      "digite um número ou <ENTER>:  \n"
     ]
    },
    {
     "name": "stdout",
     "output_type": "stream",
     "text": [
      "4.0\n"
     ]
    }
   ],
   "source": [
    "import numpy as py\n",
    "\n",
    "x = float(0)\n",
    "y = float(0)\n",
    "ys = 1\n",
    "\n",
    "while ys:\n",
    "    ys = input(\"digite um número ou <ENTER>: \")\n",
    "    if ys:\n",
    "        y = y + 1\n",
    "        x = ( x + float(ys) )\n",
    "    \n",
    "print(x / y)"
   ]
  },
  {
   "cell_type": "code",
   "execution_count": 7,
   "id": "cfb5f986",
   "metadata": {},
   "outputs": [
    {
     "name": "stdout",
     "output_type": "stream",
     "text": [
      "-0.6931471805599453\n"
     ]
    }
   ],
   "source": [
    "import math\n",
    "print(math.log(1/2))"
   ]
  },
  {
   "cell_type": "code",
   "execution_count": 4,
   "id": "1007f0ee",
   "metadata": {},
   "outputs": [
    {
     "name": "stdin",
     "output_type": "stream",
     "text": [
      "Digite n1 20\n",
      "Digite n2 10\n"
     ]
    },
    {
     "name": "stdout",
     "output_type": "stream",
     "text": [
      "A média de 20.0 e 10.0 é 15.0\n"
     ]
    }
   ],
   "source": [
    "n1 = input(\"Digite n1\")\n",
    "\n",
    "n1 = float(n1)\n",
    "\n",
    "n2 = input(\"Digite n2\")\n",
    "\n",
    "n2 = float(n2)\n",
    "\n",
    "med = (n1 + n2) / 2\n",
    "\n",
    "print(f\"A média de {n1} e {n2} é {med}\")"
   ]
  },
  {
   "cell_type": "code",
   "execution_count": 124,
   "id": "78c4cefc-41e6-4eba-be79-2ab68131c9bb",
   "metadata": {},
   "outputs": [
    {
     "name": "stdin",
     "output_type": "stream",
     "text": [
      "km 300\n",
      "l 50\n"
     ]
    },
    {
     "name": "stdout",
     "output_type": "stream",
     "text": [
      "o carro andou 300.0 km com 50.0 litros e teve uma autonomia de 6.0 km/l\n"
     ]
    }
   ],
   "source": [
    "km = 0.0\n",
    "l = 0.0\n",
    "autonomia = 0.0\n",
    "\n",
    "km = input(\"km\")\n",
    "km = float(km)\n",
    "l = input(\"l\")\n",
    "l = float(l)\n",
    "autonomia = km / l\n",
    "\n",
    "print(f\"o carro andou {km} km com {l} litros e teve uma autonomia de {autonomia} km/l\")"
   ]
  },
  {
   "cell_type": "code",
   "execution_count": 126,
   "id": "80badb1b-fa40-4f42-9dac-42a56c1ce5bb",
   "metadata": {},
   "outputs": [
    {
     "name": "stdin",
     "output_type": "stream",
     "text": [
      "custo 10\n",
      "macos 1\n",
      "anos 2\n"
     ]
    },
    {
     "data": {
      "text/plain": [
       "8225.82271996338"
      ]
     },
     "execution_count": 126,
     "metadata": {},
     "output_type": "execute_result"
    }
   ],
   "source": [
    "valor = 0.0\n",
    "macos = 0.0\n",
    "anos = 0.0\n",
    "custo = 0.0\n",
    "\n",
    "custo = input(\"custo\")\n",
    "macos = input(\"macos\")\n",
    "anos = input(\"anos\")\n",
    "\n",
    "custo = float(custo)\n",
    "macos = float(macos)\n",
    "anos = float(anos)\n",
    "\n",
    "bisexto = anos // 4\n",
    "\n",
    "inflacao = 1.01 ** (anos * 6)\n",
    "\n",
    "valor = macos * custo * anos * 365 + macos * custo * anos * bisexto\n",
    "valor = valor * inflacao\n",
    "valor"
   ]
  },
  {
   "cell_type": "code",
   "execution_count": 25,
   "id": "f35836e7-e3c0-499d-8105-b021edbc12f3",
   "metadata": {},
   "outputs": [
    {
     "data": {
      "text/plain": [
       "2.0"
      ]
     },
     "execution_count": 25,
     "metadata": {},
     "output_type": "execute_result"
    }
   ],
   "source": [
    "bisexto"
   ]
  },
  {
   "cell_type": "code",
   "execution_count": 27,
   "id": "6825c1f3-14bb-4a39-81bf-5d71d0e7d24f",
   "metadata": {},
   "outputs": [],
   "source": [
    "infla = 1.01 ** 12"
   ]
  },
  {
   "cell_type": "code",
   "execution_count": 30,
   "id": "38a955a7-e70d-4d9f-aa33-9d89c7f57087",
   "metadata": {},
   "outputs": [
    {
     "data": {
      "text/plain": [
       "1.8166966985640907"
      ]
     },
     "execution_count": 30,
     "metadata": {},
     "output_type": "execute_result"
    }
   ],
   "source": [
    "infla"
   ]
  },
  {
   "cell_type": "code",
   "execution_count": 31,
   "id": "5385fd64-ac8c-41a9-90c9-5f07e655d8bd",
   "metadata": {},
   "outputs": [],
   "source": [
    "valor = valor * infla"
   ]
  },
  {
   "cell_type": "code",
   "execution_count": 32,
   "id": "b5f6e647-a2b5-407e-96ca-3684abd83728",
   "metadata": {},
   "outputs": [
    {
     "data": {
      "text/plain": [
       "200018.30651190638"
      ]
     },
     "execution_count": 32,
     "metadata": {},
     "output_type": "execute_result"
    }
   ],
   "source": [
    "valor"
   ]
  },
  {
   "cell_type": "code",
   "execution_count": 172,
   "id": "12fe3786-2124-4da6-bbda-aba7c3745acc",
   "metadata": {},
   "outputs": [
    {
     "name": "stdin",
     "output_type": "stream",
     "text": [
      "quantia 210\n"
     ]
    },
    {
     "name": "stdout",
     "output_type": "stream",
     "text": [
      "100 - 2.0  50 - 0.0  20 - 0  10 - 1.0  \n"
     ]
    }
   ],
   "source": [
    "quantia = 1\n",
    "ced100 = -1\n",
    "ced50 = -1\n",
    "ced20 = -1\n",
    "ced10 = -1\n",
    "\n",
    "problema = 0\n",
    "\n",
    "if not ced50:\n",
    "    problema = 1\n",
    "    if not ced10:\n",
    "        problema = 3\n",
    "elif not ced10:\n",
    "    problema = 2\n",
    "else:\n",
    "    problema = 0\n",
    "\n",
    "while quantia % 10:\n",
    "    quantia = input(\"quantia\")\n",
    "    quantia = float(quantia)\n",
    "    \n",
    "    if problema == 3:\n",
    "        if (quantia % 20):\n",
    "            print(\"Valor não possivel\")\n",
    "            quantia = 1\n",
    "            continue\n",
    "    \n",
    "    if (problema == 2 and quantia < 50):\n",
    "        print(\"Valor não possivel\")\n",
    "        quantia = 1\n",
    "        continue\n",
    "\n",
    "if (ced100 and quantia >= 100 and problema == 0):\n",
    "    ced100 = quantia // 100\n",
    "    quantia = quantia % 100\n",
    "\n",
    "if (problema == 2 and quantia >=50):\n",
    "    quantia = quantia - 50\n",
    "    ced50 = 1\n",
    "elif ced50:\n",
    "    ced50 = quantia // 50\n",
    "    quantia = quantia % 50\n",
    "else:\n",
    "    ced50 = 0\n",
    "\n",
    "if (ced100 and quantia >= 100):\n",
    "    ced100 = quantia // 100\n",
    "    quantia = quantia % 100\n",
    "\n",
    "if ced100 < 0:\n",
    "    ced100 = 0\n",
    "\n",
    "if (ced20 and quantia >= 20):\n",
    "    ced20 = quantia // 20\n",
    "    quantia = quantia % 20\n",
    "else:\n",
    "    ced20 = 0\n",
    "\n",
    "if ced10:\n",
    "    ced10 = quantia // 10\n",
    "else:\n",
    "    ced10 = 0\n",
    "    \n",
    "print(f\"100 - {ced100}  50 - {ced50}  20 - {ced20}  10 - {ced10}  \")"
   ]
  },
  {
   "cell_type": "code",
   "execution_count": 159,
   "id": "08138ad3-02ce-4f5f-bffa-706d4ac87c0d",
   "metadata": {},
   "outputs": [
    {
     "data": {
      "text/plain": [
       "0"
      ]
     },
     "execution_count": 159,
     "metadata": {},
     "output_type": "execute_result"
    }
   ],
   "source": [
    "ced100"
   ]
  },
  {
   "cell_type": "code",
   "execution_count": 61,
   "id": "b5614d84-58de-4050-8e7d-d464df44cff9",
   "metadata": {},
   "outputs": [
    {
     "name": "stdout",
     "output_type": "stream",
     "text": [
      "Conteudo = 45 \t| Tipo = <class 'int'>\n"
     ]
    }
   ],
   "source": [
    "valor = 45\n",
    "print(f\"Conteudo = {valor} \\t| Tipo = {type(valor)}\")"
   ]
  },
  {
   "cell_type": "code",
   "execution_count": 52,
   "id": "ffbaf143-5c71-4ca7-b6e9-aa65d715c5a7",
   "metadata": {},
   "outputs": [
    {
     "data": {
      "text/plain": [
       "45"
      ]
     },
     "execution_count": 52,
     "metadata": {},
     "output_type": "execute_result"
    }
   ],
   "source": [
    "valor"
   ]
  },
  {
   "cell_type": "code",
   "execution_count": 53,
   "id": "257f598f-2186-4f55-944b-c08c81e407c6",
   "metadata": {},
   "outputs": [
    {
     "name": "stdout",
     "output_type": "stream",
     "text": [
      "Conteudo = 45 \t| Tipo = <class 'int'>\n"
     ]
    }
   ],
   "source": [
    "valor = int(valor)\n",
    "print(f\"Conteudo = {valor} \\t| Tipo = {type(valor)}\")"
   ]
  },
  {
   "cell_type": "code",
   "execution_count": 59,
   "id": "10544b52-b48a-4586-bc74-9b3fc9f764ab",
   "metadata": {},
   "outputs": [],
   "source": [
    "valor = 45.3453"
   ]
  },
  {
   "cell_type": "code",
   "execution_count": 60,
   "id": "2630f35e-7931-4923-887d-505eef6188b1",
   "metadata": {},
   "outputs": [
    {
     "name": "stdout",
     "output_type": "stream",
     "text": [
      "Conteudo = 45.3453 \t| Tipo = <class 'float'>\n",
      "Conteudo = 45 \t| Tipo = <class 'float'>\n"
     ]
    }
   ],
   "source": [
    "valor = float(valor)\n",
    "print(f\"Conteudo = {valor} \\t| Tipo = {type(valor)}\")\n",
    "print(f\"Conteudo = {valor:.0f} \\t| Tipo = {type(valor)}\")"
   ]
  },
  {
   "cell_type": "code",
   "execution_count": 62,
   "id": "3878d84b-299d-401d-9a6b-9b47247b9df5",
   "metadata": {},
   "outputs": [
    {
     "name": "stdout",
     "output_type": "stream",
     "text": [
      "Conteudo = 45 \t| Tipo = <class 'str'>\n"
     ]
    }
   ],
   "source": [
    "valor = str(valor)\n",
    "print(f\"Conteudo = {valor} \\t| Tipo = {type(valor)}\")"
   ]
  },
  {
   "cell_type": "code",
   "execution_count": 65,
   "id": "6e0eccb0-6eb1-4e71-8210-89ef21f896e6",
   "metadata": {},
   "outputs": [
    {
     "name": "stdout",
     "output_type": "stream",
     "text": [
      "Conteudo = True \t| Tipo = <class 'bool'>\n"
     ]
    }
   ],
   "source": [
    "valor = 45\n",
    "valor = bool(valor)\n",
    "print(f\"Conteudo = {valor} \\t| Tipo = {type(valor)}\")"
   ]
  },
  {
   "cell_type": "code",
   "execution_count": 67,
   "id": "5a46065d-aebe-400d-9a5d-2db771e20b9d",
   "metadata": {},
   "outputs": [
    {
     "name": "stdout",
     "output_type": "stream",
     "text": [
      "----- Forma 1 - Separando com vírgulas\n",
      "Luiz 57 3000\n",
      "----- Forma 2 - Separando com vírgulas\n",
      "Nome:  Luiz Idade:  57 Salario: 3000\n",
      "----- Forma 3 - Separando com vírgulas | quebrando a linha\n",
      "Nome:  Luiz \n",
      "Idade:  57 \n",
      "Salario: 3000\n"
     ]
    }
   ],
   "source": [
    "# FORMATAÇÕES DO PRINT\n",
    "nome = \"Luiz\"\n",
    "idade = 57\n",
    "salario = 3000\n",
    "print(\"----- Forma 1 - Separando com vírgulas\")\n",
    "print(nome, idade, salario)\n",
    "print(\"----- Forma 2 - Separando com vírgulas\")\n",
    "print(\"Nome: \", nome, \"Idade: \", idade, \"Salario:\", salario)\n",
    "print(\"----- Forma 3 - Separando com vírgulas | quebrando a linha\")\n",
    "print(\"Nome: \", nome, \"\\nIdade: \", idade, \"\\nSalario:\", salario) # O \\n força a mudança de linha"
   ]
  },
  {
   "cell_type": "code",
   "execution_count": 72,
   "id": "75df9d33-c6df-4a06-a1bc-a39d3139af61",
   "metadata": {},
   "outputs": [
    {
     "name": "stdout",
     "output_type": "stream",
     "text": [
      "Nome: Luiz \n",
      "\n",
      "Idade: 57 \n",
      "\n",
      "Salario: 3000\n"
     ]
    }
   ],
   "source": [
    "print(f\"Nome: {nome} \\n\\nIdade: {idade} \\n\\nSalario: {salario}\")"
   ]
  },
  {
   "cell_type": "code",
   "execution_count": 74,
   "id": "9eeddbed-d1bf-4522-baf6-30acd945819f",
   "metadata": {},
   "outputs": [
    {
     "name": "stdout",
     "output_type": "stream",
     "text": [
      "Nome: Luiz Idade: 57 Salario: 3000\n",
      "Nome: Luiz Idade: 57 Salario: 3000 \n",
      "Nome: Luiz Idade: 57 Salario: 3000\n"
     ]
    }
   ],
   "source": [
    "print(\"Nome: {} Idade: {} Salario: {}\".format(nome, idade, salario))\n",
    "\n",
    "print(\"Nome: {n} Idade: {i} Salario: {s} \".format(n = nome, i = idade, s = salario))\n",
    "\n",
    "print(f\"Nome: {nome} Idade: {idade} Salario: {salario}\")"
   ]
  },
  {
   "cell_type": "code",
   "execution_count": 82,
   "id": "5984930f-32bd-4549-83ed-f396feca4dbe",
   "metadata": {},
   "outputs": [
    {
     "name": "stdout",
     "output_type": "stream",
     "text": [
      "Nome.......: Luiz \n",
      "Idade......: 57    \n",
      "Salario....: R$ 3000.00\n",
      "\n",
      "Extrato:\n",
      "Valor 1: R$      45.94\n",
      "Valor 2: R$     234.10\n",
      "Valor 3: R$  234244.00\n",
      "Valor 4: R$       2.00\n"
     ]
    }
   ],
   "source": [
    "# Forma 8 - utilizando o print'f'\n",
    "idade = 57\n",
    "print(f\"Nome.......: {nome} \\nIdade......: {idade:<5d} \\nSalario....: R$ {salario:.2f}\") \n",
    "valor1 = 45.93838\n",
    "valor2 = 234.1\n",
    "valor3 = 234244.0\n",
    "valor4 = 2\n",
    "\n",
    "print(\"\\nExtrato:\")\n",
    "print(f\"Valor 1: R$ {valor1:10.2f}\")\n",
    "print(f\"Valor 2: R$ {valor2:10.2f}\")\n",
    "print(f\"Valor 3: R$ {valor3:10.2f}\")\n",
    "print(f\"Valor 4: R$ {valor4:10.2f}\")"
   ]
  },
  {
   "cell_type": "code",
   "execution_count": 85,
   "id": "7315299a-008e-4fdf-9257-4e62a5937066",
   "metadata": {},
   "outputs": [
    {
     "name": "stdout",
     "output_type": "stream",
     "text": [
      "\n",
      "    Extrato:\n",
      "    R$      45.94\n",
      "    R$     234.10\n",
      "    R$  234244.00\n",
      "    R$       2.00\n",
      "\n"
     ]
    }
   ],
   "source": [
    "print(f\"\"\"\n",
    "    Extrato:\n",
    "    R$ {valor1:10.2f}\n",
    "    R$ {valor2:10.2f}\n",
    "    R$ {valor3:10.2f}\n",
    "    R$ {valor4:10.2f}\n",
    "\"\"\")"
   ]
  },
  {
   "cell_type": "code",
   "execution_count": 97,
   "id": "15730a03-5e15-41da-975c-10962095e3dc",
   "metadata": {},
   "outputs": [],
   "source": [
    "valor = 140\n",
    "\n",
    "if valor % 10:\n",
    "    print(\"não é multiplo de 10\")\n",
    "\n",
    "if valor % 20:\n",
    "    print(\"não é multiplo de 20\")\n"
   ]
  },
  {
   "cell_type": "code",
   "execution_count": 112,
   "id": "06fb6db0-ff23-4ab3-b985-8e02c6b7474a",
   "metadata": {},
   "outputs": [
    {
     "name": "stdin",
     "output_type": "stream",
     "text": [
      " 45\n",
      " 45\n"
     ]
    }
   ],
   "source": [
    "valor = input()\n",
    "elevado = input()\n",
    "valor = float(valor)\n",
    "elevado = float(elevado)\n",
    "x = valor ** elevado"
   ]
  },
  {
   "cell_type": "code",
   "execution_count": 115,
   "id": "df685fa2-f250-4715-9e78-72ac1b8429c9",
   "metadata": {},
   "outputs": [
    {
     "name": "stdout",
     "output_type": "stream",
     "text": [
      "248063644451341166494904932117536038627489494122437750596140370320953442304\n"
     ]
    }
   ],
   "source": [
    "print(f\"{x:.0f}\")"
   ]
  },
  {
   "cell_type": "code",
   "execution_count": 114,
   "id": "1283d7b0-2f81-4bdf-8e66-3b443efbc2fc",
   "metadata": {},
   "outputs": [
    {
     "data": {
      "text/plain": [
       "2.4806364445134117e+74"
      ]
     },
     "execution_count": 114,
     "metadata": {},
     "output_type": "execute_result"
    }
   ],
   "source": [
    "x"
   ]
  },
  {
   "cell_type": "code",
   "execution_count": 118,
   "id": "5d6eb739-99bf-4170-b6b0-02521fdce870",
   "metadata": {},
   "outputs": [
    {
     "name": "stdin",
     "output_type": "stream",
     "text": [
      " 345\n",
      " 123\n"
     ]
    },
    {
     "data": {
      "text/plain": [
       "42435.0"
      ]
     },
     "execution_count": 118,
     "metadata": {},
     "output_type": "execute_result"
    }
   ],
   "source": [
    "valor = input()\n",
    "multiplo = input()\n",
    "valor = float(valor)\n",
    "multiplo = float(multiplo)\n",
    "x = valor * multiplo\n",
    "x"
   ]
  },
  {
   "cell_type": "code",
   "execution_count": 123,
   "id": "53daa11f-6f9b-4399-94d9-02838329d622",
   "metadata": {},
   "outputs": [
    {
     "name": "stdin",
     "output_type": "stream",
     "text": [
      "digite um número ou <ENTER>:  4\n",
      "digite um número ou <ENTER>:  5\n",
      "digite um número ou <ENTER>:  6\n",
      "digite um número ou <ENTER>:  7\n",
      "digite um número ou <ENTER>:  \n"
     ]
    },
    {
     "name": "stdout",
     "output_type": "stream",
     "text": [
      "22.0\n",
      "4.0\n",
      "5.5\n"
     ]
    }
   ],
   "source": [
    "import numpy as py\n",
    "\n",
    "x = float(0)\n",
    "y = float(0)\n",
    "ys = 1\n",
    "\n",
    "while ys:\n",
    "    ys = input(\"digite um número ou <ENTER>: \")\n",
    "    if ys:\n",
    "        y = y + 1\n",
    "        x = ( x + float(ys) )\n",
    "    \n",
    "print(x)\n",
    "print(y)\n",
    "print(x / y)"
   ]
  },
  {
   "cell_type": "code",
   "execution_count": null,
   "id": "b4c2c410-bf0d-43b5-aa4c-176ecb30a9dc",
   "metadata": {},
   "outputs": [],
   "source": []
  }
 ],
 "metadata": {
  "kernelspec": {
   "display_name": "Python 3 (ipykernel)",
   "language": "python",
   "name": "python3"
  },
  "language_info": {
   "codemirror_mode": {
    "name": "ipython",
    "version": 3
   },
   "file_extension": ".py",
   "mimetype": "text/x-python",
   "name": "python",
   "nbconvert_exporter": "python",
   "pygments_lexer": "ipython3",
   "version": "3.9.12"
  }
 },
 "nbformat": 4,
 "nbformat_minor": 5
}
