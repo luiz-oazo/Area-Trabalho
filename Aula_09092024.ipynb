{
 "cells": [
  {
   "cell_type": "code",
   "execution_count": 50,
   "id": "feb69fe5",
   "metadata": {},
   "outputs": [
    {
     "name": "stdout",
     "output_type": "stream",
     "text": [
      "Requirement already satisfied: Pillow in /opt/anaconda3/lib/python3.11/site-packages (10.2.0)\r\n"
     ]
    }
   ],
   "source": [
    "!pip install Pillow"
   ]
  },
  {
   "cell_type": "code",
   "execution_count": 14,
   "id": "69cbdea3",
   "metadata": {},
   "outputs": [
    {
     "name": "stdout",
     "output_type": "stream",
     "text": [
      "echo comando1\n",
      "ls -l\n",
      "echo comando2\n",
      "cat exemplo.txt\n",
      "\n",
      "imprimindo novamente ====================\n",
      "\n",
      "agora sim ===========================\n",
      "echo coman\n",
      "do1\n",
      "ls -l\n",
      "\n",
      "echo coman\n"
     ]
    }
   ],
   "source": [
    "with open('exemplo.txt', 'r') as arquivo:\n",
    "    print(arquivo.read())\n",
    "    print('imprimindo novamente ====================')\n",
    "    print(arquivo.read())\n",
    "    arquivo.seek(0)  # Move o ponteiro de volta para o início\n",
    "    print('agora sim ===========================')\n",
    "    print(arquivo.read(10))\n",
    "    print(arquivo.read(10))\n",
    "    print(arquivo.read(10))"
   ]
  },
  {
   "cell_type": "code",
   "execution_count": 16,
   "id": "c727bfca",
   "metadata": {},
   "outputs": [
    {
     "name": "stdout",
     "output_type": "stream",
     "text": [
      "echo comando1\n",
      "\n",
      "ls -l\n",
      "\n"
     ]
    }
   ],
   "source": [
    "with open('exemplo.txt', 'r') as arquivo:\n",
    "    print(arquivo.readline())\n",
    "    print(arquivo.readline())"
   ]
  },
  {
   "cell_type": "code",
   "execution_count": 18,
   "id": "90b46a69",
   "metadata": {},
   "outputs": [
    {
     "name": "stdout",
     "output_type": "stream",
     "text": [
      "['echo comando1\\n', 'ls -l\\n', 'echo comando2\\n', 'cat exemplo.txt\\n']\n",
      "50\n",
      "[]\n"
     ]
    }
   ],
   "source": [
    "with open('exemplo.txt', 'r') as arquivo:\n",
    "    print(arquivo.readlines())\n",
    "    print(arquivo.tell())\n",
    "    print(arquivo.readlines())"
   ]
  },
  {
   "cell_type": "code",
   "execution_count": 44,
   "id": "67c14599",
   "metadata": {},
   "outputs": [
    {
     "name": "stdout",
     "output_type": "stream",
     "text": [
      "echo comando1\n",
      "ls -l\n",
      "echo comando2\n",
      "cat exemplo.txt\n",
      "\n"
     ]
    }
   ],
   "source": [
    "with open('exemplo.txt', 'r') as arquivo:\n",
    "    print(arquivo.read())"
   ]
  },
  {
   "cell_type": "code",
   "execution_count": 46,
   "id": "a66d9ad5",
   "metadata": {
    "scrolled": false
   },
   "outputs": [],
   "source": [
    "with open('AWS-LOGO.png', 'rb') as arquivo:\n",
    "    aws_image = arquivo.read()"
   ]
  },
  {
   "cell_type": "code",
   "execution_count": 48,
   "id": "95f4c242",
   "metadata": {},
   "outputs": [
    {
     "data": {
      "text/plain": [
       "True"
      ]
     },
     "execution_count": 48,
     "metadata": {},
     "output_type": "execute_result"
    }
   ],
   "source": [
    "bool(aws_image)"
   ]
  },
  {
   "cell_type": "code",
   "execution_count": null,
   "id": "4221e1bc",
   "metadata": {},
   "outputs": [],
   "source": []
  },
  {
   "cell_type": "code",
   "execution_count": 51,
   "id": "184be358",
   "metadata": {},
   "outputs": [],
   "source": [
    "from PIL import Image\n",
    "\n",
    "# Carregar a imagem\n",
    "imagem = Image.open('AWS-LOGO.png')\n",
    "\n",
    "# Exibir a imagem\n",
    "imagem.show()"
   ]
  },
  {
   "cell_type": "code",
   "execution_count": 52,
   "id": "1048f517",
   "metadata": {},
   "outputs": [],
   "source": [
    "imagem.show()"
   ]
  },
  {
   "cell_type": "code",
   "execution_count": null,
   "id": "ca2a0796",
   "metadata": {},
   "outputs": [],
   "source": []
  },
  {
   "cell_type": "code",
   "execution_count": null,
   "id": "fef6cf68",
   "metadata": {},
   "outputs": [],
   "source": []
  },
  {
   "cell_type": "code",
   "execution_count": null,
   "id": "345fcab8",
   "metadata": {},
   "outputs": [],
   "source": []
  },
  {
   "cell_type": "code",
   "execution_count": 27,
   "id": "d298d8d7",
   "metadata": {},
   "outputs": [
    {
     "data": {
      "text/plain": [
       "20"
      ]
     },
     "execution_count": 27,
     "metadata": {},
     "output_type": "execute_result"
    }
   ],
   "source": [
    "arquivo.tell()"
   ]
  },
  {
   "cell_type": "code",
   "execution_count": 33,
   "id": "140d2695",
   "metadata": {},
   "outputs": [
    {
     "data": {
      "text/plain": [
       "14"
      ]
     },
     "execution_count": 33,
     "metadata": {},
     "output_type": "execute_result"
    }
   ],
   "source": [
    "arquivo.seek(14)"
   ]
  },
  {
   "cell_type": "code",
   "execution_count": 34,
   "id": "f6be20b4",
   "metadata": {},
   "outputs": [
    {
     "name": "stdout",
     "output_type": "stream",
     "text": [
      "ls -l\n",
      "\n"
     ]
    }
   ],
   "source": [
    "print(arquivo.readline())"
   ]
  },
  {
   "cell_type": "code",
   "execution_count": 35,
   "id": "11dd4e2a",
   "metadata": {},
   "outputs": [
    {
     "data": {
      "text/plain": [
       "20"
      ]
     },
     "execution_count": 35,
     "metadata": {},
     "output_type": "execute_result"
    }
   ],
   "source": [
    "arquivo.tell()"
   ]
  },
  {
   "cell_type": "code",
   "execution_count": 36,
   "id": "142c091c",
   "metadata": {},
   "outputs": [
    {
     "name": "stdout",
     "output_type": "stream",
     "text": [
      "echo comando2\n",
      "\n"
     ]
    }
   ],
   "source": [
    "print(arquivo.readline())"
   ]
  },
  {
   "cell_type": "code",
   "execution_count": 37,
   "id": "1e7498ec",
   "metadata": {},
   "outputs": [
    {
     "data": {
      "text/plain": [
       "34"
      ]
     },
     "execution_count": 37,
     "metadata": {},
     "output_type": "execute_result"
    }
   ],
   "source": [
    "arquivo.tell()"
   ]
  },
  {
   "cell_type": "code",
   "execution_count": 38,
   "id": "edbdb8de",
   "metadata": {},
   "outputs": [
    {
     "name": "stdout",
     "output_type": "stream",
     "text": [
      "cat exemplo.txt\n",
      "\n"
     ]
    }
   ],
   "source": [
    "print(arquivo.readline())"
   ]
  },
  {
   "cell_type": "code",
   "execution_count": 41,
   "id": "4a9a3e99",
   "metadata": {},
   "outputs": [
    {
     "name": "stdout",
     "output_type": "stream",
     "text": [
      "\n"
     ]
    }
   ],
   "source": [
    "print(arquivo.readline())"
   ]
  },
  {
   "cell_type": "code",
   "execution_count": 42,
   "id": "d55d11cf",
   "metadata": {},
   "outputs": [
    {
     "data": {
      "text/plain": [
       "50"
      ]
     },
     "execution_count": 42,
     "metadata": {},
     "output_type": "execute_result"
    }
   ],
   "source": [
    "arquivo.tell()"
   ]
  },
  {
   "cell_type": "code",
   "execution_count": 43,
   "id": "79dfd7e5",
   "metadata": {},
   "outputs": [],
   "source": [
    "arquivo.close()"
   ]
  },
  {
   "cell_type": "code",
   "execution_count": null,
   "id": "0f1fbf6b",
   "metadata": {},
   "outputs": [],
   "source": []
  },
  {
   "cell_type": "code",
   "execution_count": 53,
   "id": "2269d871",
   "metadata": {},
   "outputs": [],
   "source": [
    "import os"
   ]
  },
  {
   "cell_type": "code",
   "execution_count": 54,
   "id": "42fb6d66",
   "metadata": {},
   "outputs": [],
   "source": [
    "os.rename('exp.txt', 'ttt.txt')"
   ]
  },
  {
   "cell_type": "code",
   "execution_count": 55,
   "id": "68b1d824",
   "metadata": {},
   "outputs": [],
   "source": [
    "os.remove('ttt.txt')"
   ]
  },
  {
   "cell_type": "code",
   "execution_count": 62,
   "id": "e4d91a46",
   "metadata": {},
   "outputs": [
    {
     "data": {
      "text/plain": [
       "'luiz'"
      ]
     },
     "execution_count": 62,
     "metadata": {},
     "output_type": "execute_result"
    }
   ],
   "source": [
    "os.getlogin()"
   ]
  },
  {
   "cell_type": "code",
   "execution_count": 56,
   "id": "d94b41c1",
   "metadata": {},
   "outputs": [],
   "source": [
    "!cp exemplo.txt exp.txt"
   ]
  },
  {
   "cell_type": "code",
   "execution_count": 65,
   "id": "40e15ca2",
   "metadata": {},
   "outputs": [
    {
     "name": "stdout",
     "output_type": "stream",
     "text": [
      "O arquivo contém 4 linhas.\n",
      "50\n"
     ]
    }
   ],
   "source": [
    "with open('exemplo.txt', 'r') as arquivo:\n",
    "    linhas = arquivo.readlines()\n",
    "    print(f'O arquivo contém {len(linhas)} linhas.')\n",
    "    print(arquivo.tell())"
   ]
  },
  {
   "cell_type": "code",
   "execution_count": 134,
   "id": "eeb4d58f",
   "metadata": {},
   "outputs": [
    {
     "name": "stdout",
     "output_type": "stream",
     "text": [
      "O arquivo contém 42256 palavras.\n"
     ]
    }
   ],
   "source": [
    "with open('teste_conta.txt', 'r') as arquivo:\n",
    "    conteudo = arquivo.read()\n",
    "    palavras = conteudo.split()\n",
    "    print(f'O arquivo contém {len(palavras)} palavras.')"
   ]
  },
  {
   "cell_type": "code",
   "execution_count": 74,
   "id": "6d814334",
   "metadata": {},
   "outputs": [],
   "source": [
    "from collections import Counter"
   ]
  },
  {
   "cell_type": "code",
   "execution_count": 106,
   "id": "6b2a9558",
   "metadata": {
    "scrolled": false
   },
   "outputs": [
    {
     "name": "stdout",
     "output_type": "stream",
     "text": [
      "('de', 2584) 2584 0.06115107913669065\n",
      "('3', 2569) 2569 0.06079609996213556\n",
      "('SP', 1216) 1216 0.02877697841726619\n",
      "('Sao', 1216) 1216 0.02877697841726619\n",
      "('Paulo', 1216) 1216 0.02877697841726619\n",
      "('1', 1116) 1116 0.026410450586898903\n",
      "('4', 957) 957 0.022647671336614918\n",
      "('2', 936) 936 0.022150700492237788\n",
      "('e', 912) 912 0.02158273381294964\n",
      "('2023', 768) 768 0.01817493373722075\n",
      "('Comércio', 760) 760 0.017985611510791366\n",
      "('varejista', 760) 760 0.017985611510791366\n",
      "('produtos', 760) 760 0.017985611510791366\n",
      "('0', 608) 608 0.014388489208633094\n",
      "('para', 608) 608 0.014388489208633094\n",
      "('5', 534) 534 0.012637258614161302\n",
      "('alimentícios.', 456) 456 0.01079136690647482\n",
      "('bebidas', 456) 456 0.01079136690647482\n",
      "('fumo', 456) 456 0.01079136690647482\n",
      "('ou', 456) 456 0.01079136690647482\n",
      "('ao', 456) 456 0.01079136690647482\n",
      "('da', 456) 456 0.01079136690647482\n",
      "('dívidas', 456) 456 0.01079136690647482\n",
      "('2024', 448) 448 0.010602044680045438\n",
      "('uma', 304) 304 0.007194244604316547\n",
      "('do', 304) 304 0.007194244604316547\n",
      "('impostos.', 304) 304 0.007194244604316547\n",
      "('empresa.', 304) 304 0.007194244604316547\n",
      "('Despesas', 304) 304 0.007194244604316547\n",
      "('Fabricação', 304) 304 0.007194244604316547\n",
      "('00000002000180', 304) 304 0.007194244604316547\n",
      "('combustíveis', 304) 304 0.007194244604316547\n",
      "('veículos', 304) 304 0.007194244604316547\n",
      "('automotores', 304) 304 0.007194244604316547\n",
      "('00000005000114', 304) 304 0.007194244604316547\n",
      "('4721102', 153) 153 0.003620787580461946\n",
      "('crescimento', 152) 152 0.0035971223021582736\n",
      "('Aumento', 152) 152 0.0035971223021582736\n",
      "('nas', 152) 152 0.0035971223021582736\n",
      "('receitas.', 152) 152 0.0035971223021582736\n",
      "('lucros', 152) 152 0.0035971223021582736\n",
      "('ativos', 152) 152 0.0035971223021582736\n",
      "('empresa', 152) 152 0.0035971223021582736\n",
      "('longo', 152) 152 0.0035971223021582736\n",
      "('tempo.', 152) 152 0.0035971223021582736\n",
      "('ebitda', 152) 152 0.0035971223021582736\n",
      "('Lucro', 152) 152 0.0035971223021582736\n",
      "('antes', 152) 152 0.0035971223021582736\n",
      "('juros.', 152) 152 0.0035971223021582736\n",
      "('depreciação', 152) 152 0.0035971223021582736\n",
      "('amortização.', 152) 152 0.0035971223021582736\n",
      "('seca_III', 152) 152 0.0035971223021582736\n",
      "('Medida', 152) 152 0.0035971223021582736\n",
      "('capacidade', 152) 152 0.0035971223021582736\n",
      "('pagar', 152) 152 0.0035971223021582736\n",
      "('curto', 152) 152 0.0035971223021582736\n",
      "('prazo', 152) 152 0.0035971223021582736\n",
      "('sem', 152) 152 0.0035971223021582736\n",
      "('considerar', 152) 152 0.0035971223021582736\n",
      "('estoques.', 152) 152 0.0035971223021582736\n",
      "('endividamento', 152) 152 0.0035971223021582736\n",
      "('Proporção', 152) 152 0.0035971223021582736\n",
      "('total', 152) 152 0.0035971223021582736\n",
      "('em', 152) 152 0.0035971223021582736\n",
      "('relação', 152) 152 0.0035971223021582736\n",
      "('patrimônio', 152) 152 0.0035971223021582736\n",
      "('ativos.', 152) 152 0.0035971223021582736\n",
      "('despesas', 152) 152 0.0035971223021582736\n",
      "('Gastos', 152) 152 0.0035971223021582736\n",
      "('operacionais', 152) 152 0.0035971223021582736\n",
      "('necessários', 152) 152 0.0035971223021582736\n",
      "('a', 152) 152 0.0035971223021582736\n",
      "('manutenção', 152) 152 0.0035971223021582736\n",
      "('das', 152) 152 0.0035971223021582736\n",
      "('atividades', 152) 152 0.0035971223021582736\n",
      "('carga_tributaria', 152) 152 0.0035971223021582736\n",
      "('Percentual', 152) 152 0.0035971223021582736\n",
      "('receita', 152) 152 0.0035971223021582736\n",
      "('dedicado', 152) 152 0.0035971223021582736\n",
      "('pagamento', 152) 152 0.0035971223021582736\n",
      "('custo_operacional', 152) 152 0.0035971223021582736\n",
      "('necessárias', 152) 152 0.0035971223021582736\n",
      "('manter', 152) 152 0.0035971223021582736\n",
      "('as', 152) 152 0.0035971223021582736\n",
      "('operações', 152) 152 0.0035971223021582736\n",
      "('diárias', 152) 152 0.0035971223021582736\n",
      "('custo_financeiro', 152) 152 0.0035971223021582736\n",
      "('com', 152) 152 0.0035971223021582736\n",
      "('juros', 152) 152 0.0035971223021582736\n",
      "('sobre', 152) 152 0.0035971223021582736\n",
      "('financiamentos.', 152) 152 0.0035971223021582736\n",
      "('00000004000170', 152) 152 0.0035971223021582736\n",
      "('têxteis', 152) 152 0.0035971223021582736\n",
      "('00000003000125', 152) 152 0.0035971223021582736\n",
      "('Serviços', 152) 152 0.0035971223021582736\n",
      "('catering.', 152) 152 0.0035971223021582736\n",
      "('bufê', 152) 152 0.0035971223021582736\n",
      "('outros', 152) 152 0.0035971223021582736\n",
      "('serviços', 152) 152 0.0035971223021582736\n",
      "('comida', 152) 152 0.0035971223021582736\n",
      "('preparada', 152) 152 0.0035971223021582736\n",
      "('00000006000169', 152) 152 0.0035971223021582736\n",
      "('madeira.', 152) 152 0.0035971223021582736\n",
      "('cortiça', 152) 152 0.0035971223021582736\n",
      "('material', 152) 152 0.0035971223021582736\n",
      "('trançado.', 152) 152 0.0035971223021582736\n",
      "('exceto', 152) 152 0.0035971223021582736\n",
      "('móveis', 152) 152 0.0035971223021582736\n",
      "('00000001000136', 151) 151 0.0035734570238546005\n",
      "('6', 128) 128 0.003029155622870125\n",
      "('7', 128) 128 0.003029155622870125\n",
      "('12345243.99', 80) 80 0.001893222264293828\n"
     ]
    }
   ],
   "source": [
    "for i in Counter(palavras).most_common():\n",
    "    print(i, i[1], i[1]/len(palavras))\n",
    "    \n",
    "    if i[1] < 100:\n",
    "        break"
   ]
  },
  {
   "cell_type": "code",
   "execution_count": 113,
   "id": "8e41cc4a",
   "metadata": {},
   "outputs": [
    {
     "name": "stdout",
     "output_type": "stream",
     "text": [
      "﻿00000001000136 4721102 Comércio varejista de produtos alimentícios.  bebidas e fumo 1 2023 SP Sao Paulo 1775340.45 1775340.45 622 crescimento 3 0.06 0 4 3 3 Aumento nas receitas. lucros ou ativos de uma empresa ao longo do tempo.\n",
      "\n",
      "236\n"
     ]
    }
   ],
   "source": [
    "arquivo = open('teste_conta.txt', 'r+')\n",
    "print(arquivo.readline())\n",
    "print(arquivo.tell())"
   ]
  },
  {
   "cell_type": "code",
   "execution_count": 132,
   "id": "a64da000",
   "metadata": {},
   "outputs": [
    {
     "name": "stdout",
     "output_type": "stream",
     "text": [
      "00000001000136 4721102 Comércio varejista de produtos alimentícios.  bebidas e fumo 10 2023 SP Sao Paulo 1664024.891 1664024.891 583 seca_III 2 0.58 0 3 1 3 Medida da capacidade de pagar dívidas de curto prazo sem considerar estoques.\n",
      "\n",
      "17619\n"
     ]
    }
   ],
   "source": [
    "print(arquivo.readline())\n",
    "print(arquivo.tell())"
   ]
  },
  {
   "cell_type": "code",
   "execution_count": 127,
   "id": "0a001f19",
   "metadata": {},
   "outputs": [],
   "source": [
    "texto = 'Digite o texto a ser salvo no arquivo:'"
   ]
  },
  {
   "cell_type": "code",
   "execution_count": 124,
   "id": "3b8c9684",
   "metadata": {},
   "outputs": [
    {
     "data": {
      "text/plain": [
       "38"
      ]
     },
     "execution_count": 124,
     "metadata": {},
     "output_type": "execute_result"
    }
   ],
   "source": [
    "arquivo.write(texto)"
   ]
  },
  {
   "cell_type": "code",
   "execution_count": 125,
   "id": "8f9c705c",
   "metadata": {},
   "outputs": [
    {
     "name": "stdout",
     "output_type": "stream",
     "text": [
      "16422\n"
     ]
    }
   ],
   "source": [
    "print(arquivo.tell())"
   ]
  },
  {
   "cell_type": "code",
   "execution_count": 121,
   "id": "d24b003a",
   "metadata": {},
   "outputs": [
    {
     "data": {
      "text/plain": [
       "8192"
      ]
     },
     "execution_count": 121,
     "metadata": {},
     "output_type": "execute_result"
    }
   ],
   "source": [
    "arquivo.seek(8192)"
   ]
  },
  {
   "cell_type": "code",
   "execution_count": 122,
   "id": "f89049cd",
   "metadata": {},
   "outputs": [
    {
     "name": "stdout",
     "output_type": "stream",
     "text": [
      "Digite o texto a ser salvo no arquivo:102 Comércio varejista de produtos alimentícios.  bebidas e fumo 5 2023 SP Sao Paulo 1795320.166 1795320.166 629 endividamento 4 0.67 0 5 3 3 Proporção do total de dívidas em relação ao patrimônio ou ativos.\n",
      "\n"
     ]
    }
   ],
   "source": [
    "print(arquivo.readline())"
   ]
  },
  {
   "cell_type": "code",
   "execution_count": null,
   "id": "4cb549fa",
   "metadata": {},
   "outputs": [],
   "source": []
  },
  {
   "cell_type": "code",
   "execution_count": 112,
   "id": "877a63b3",
   "metadata": {},
   "outputs": [],
   "source": [
    "arquivo.close()"
   ]
  },
  {
   "cell_type": "code",
   "execution_count": 171,
   "id": "26a62b4b",
   "metadata": {},
   "outputs": [
    {
     "name": "stdout",
     "output_type": "stream",
     "text": [
      "O arquivo contém 8 palavras.\n"
     ]
    }
   ],
   "source": [
    "with open('teste_conta.txt', 'r') as arquivo:\n",
    "    conteudo = arquivo.read()\n",
    "    palavras = conteudo.split()\n",
    "    print(f'O arquivo contém {len(palavras)} palavras.')"
   ]
  },
  {
   "cell_type": "code",
   "execution_count": 172,
   "id": "df316ec6",
   "metadata": {},
   "outputs": [
    {
     "name": "stdout",
     "output_type": "stream",
     "text": [
      "O arquivo contém 8 linhas.\n"
     ]
    }
   ],
   "source": [
    "with open('teste_conta.txt', 'r') as arquivo:\n",
    "    linhas = arquivo.readlines()\n",
    "    print(f'O arquivo contém {len(linhas)} linhas.')"
   ]
  },
  {
   "cell_type": "code",
   "execution_count": 170,
   "id": "1f5c7d2f",
   "metadata": {},
   "outputs": [],
   "source": [
    "with open('teste_conta.txt', 'r') as arquivo:\n",
    "    conteudo = arquivo.read()\n",
    "\n",
    "palavra_antiga = '00000001000'\n",
    "palavra_nova = '\\n00000001000'\n",
    "novo_conteudo = conteudo.replace(palavra_antiga, palavra_nova)\n",
    "\n",
    "with open('teste_conta.txt', 'w') as arquivo:\n",
    "    arquivo.write(novo_conteudo)"
   ]
  },
  {
   "cell_type": "code",
   "execution_count": 174,
   "id": "587af37a",
   "metadata": {},
   "outputs": [
    {
     "name": "stdout",
     "output_type": "stream",
     "text": [
      "Requirement already satisfied: tensorflow_hub in /opt/anaconda3/lib/python3.11/site-packages (0.16.1)\n",
      "Requirement already satisfied: numpy>=1.12.0 in /opt/anaconda3/lib/python3.11/site-packages (from tensorflow_hub) (1.26.4)\n",
      "Requirement already satisfied: protobuf>=3.19.6 in /opt/anaconda3/lib/python3.11/site-packages (from tensorflow_hub) (4.25.4)\n",
      "Requirement already satisfied: tf-keras>=2.14.1 in /opt/anaconda3/lib/python3.11/site-packages (from tensorflow_hub) (2.17.0)\n",
      "Collecting tensorflow<2.18,>=2.17 (from tf-keras>=2.14.1->tensorflow_hub)\n",
      "  Using cached tensorflow-2.17.0-cp311-cp311-macosx_12_0_arm64.whl.metadata (4.1 kB)\n",
      "Requirement already satisfied: absl-py>=1.0.0 in /opt/anaconda3/lib/python3.11/site-packages (from tensorflow<2.18,>=2.17->tf-keras>=2.14.1->tensorflow_hub) (2.1.0)\n",
      "Requirement already satisfied: astunparse>=1.6.0 in /opt/anaconda3/lib/python3.11/site-packages (from tensorflow<2.18,>=2.17->tf-keras>=2.14.1->tensorflow_hub) (1.6.3)\n",
      "Requirement already satisfied: flatbuffers>=24.3.25 in /opt/anaconda3/lib/python3.11/site-packages (from tensorflow<2.18,>=2.17->tf-keras>=2.14.1->tensorflow_hub) (24.3.25)\n",
      "Requirement already satisfied: gast!=0.5.0,!=0.5.1,!=0.5.2,>=0.2.1 in /opt/anaconda3/lib/python3.11/site-packages (from tensorflow<2.18,>=2.17->tf-keras>=2.14.1->tensorflow_hub) (0.6.0)\n",
      "Requirement already satisfied: google-pasta>=0.1.1 in /opt/anaconda3/lib/python3.11/site-packages (from tensorflow<2.18,>=2.17->tf-keras>=2.14.1->tensorflow_hub) (0.2.0)\n",
      "Requirement already satisfied: h5py>=3.10.0 in /opt/anaconda3/lib/python3.11/site-packages (from tensorflow<2.18,>=2.17->tf-keras>=2.14.1->tensorflow_hub) (3.11.0)\n",
      "Requirement already satisfied: libclang>=13.0.0 in /opt/anaconda3/lib/python3.11/site-packages (from tensorflow<2.18,>=2.17->tf-keras>=2.14.1->tensorflow_hub) (18.1.1)\n",
      "Requirement already satisfied: ml-dtypes<0.5.0,>=0.3.1 in /opt/anaconda3/lib/python3.11/site-packages (from tensorflow<2.18,>=2.17->tf-keras>=2.14.1->tensorflow_hub) (0.4.0)\n",
      "Requirement already satisfied: opt-einsum>=2.3.2 in /opt/anaconda3/lib/python3.11/site-packages (from tensorflow<2.18,>=2.17->tf-keras>=2.14.1->tensorflow_hub) (3.3.0)\n",
      "Requirement already satisfied: packaging in /opt/anaconda3/lib/python3.11/site-packages (from tensorflow<2.18,>=2.17->tf-keras>=2.14.1->tensorflow_hub) (24.1)\n",
      "Requirement already satisfied: requests<3,>=2.21.0 in /opt/anaconda3/lib/python3.11/site-packages (from tensorflow<2.18,>=2.17->tf-keras>=2.14.1->tensorflow_hub) (2.32.3)\n",
      "Requirement already satisfied: setuptools in /opt/anaconda3/lib/python3.11/site-packages (from tensorflow<2.18,>=2.17->tf-keras>=2.14.1->tensorflow_hub) (72.2.0)\n",
      "Requirement already satisfied: six>=1.12.0 in /opt/anaconda3/lib/python3.11/site-packages (from tensorflow<2.18,>=2.17->tf-keras>=2.14.1->tensorflow_hub) (1.16.0)\n",
      "Requirement already satisfied: termcolor>=1.1.0 in /opt/anaconda3/lib/python3.11/site-packages (from tensorflow<2.18,>=2.17->tf-keras>=2.14.1->tensorflow_hub) (2.4.0)\n",
      "Requirement already satisfied: typing-extensions>=3.6.6 in /opt/anaconda3/lib/python3.11/site-packages (from tensorflow<2.18,>=2.17->tf-keras>=2.14.1->tensorflow_hub) (4.12.2)\n",
      "Requirement already satisfied: wrapt>=1.11.0 in /opt/anaconda3/lib/python3.11/site-packages (from tensorflow<2.18,>=2.17->tf-keras>=2.14.1->tensorflow_hub) (1.14.1)\n",
      "Requirement already satisfied: grpcio<2.0,>=1.24.3 in /opt/anaconda3/lib/python3.11/site-packages (from tensorflow<2.18,>=2.17->tf-keras>=2.14.1->tensorflow_hub) (1.65.4)\n",
      "Requirement already satisfied: tensorboard<2.18,>=2.17 in /opt/anaconda3/lib/python3.11/site-packages (from tensorflow<2.18,>=2.17->tf-keras>=2.14.1->tensorflow_hub) (2.17.1)\n",
      "Collecting keras>=3.2.0 (from tensorflow<2.18,>=2.17->tf-keras>=2.14.1->tensorflow_hub)\n",
      "  Using cached keras-3.5.0-py3-none-any.whl.metadata (5.8 kB)\n",
      "Requirement already satisfied: tensorflow-io-gcs-filesystem>=0.23.1 in /opt/anaconda3/lib/python3.11/site-packages (from tensorflow<2.18,>=2.17->tf-keras>=2.14.1->tensorflow_hub) (0.37.1)\n",
      "Requirement already satisfied: wheel<1.0,>=0.23.0 in /opt/anaconda3/lib/python3.11/site-packages (from astunparse>=1.6.0->tensorflow<2.18,>=2.17->tf-keras>=2.14.1->tensorflow_hub) (0.44.0)\n",
      "Requirement already satisfied: rich in /opt/anaconda3/lib/python3.11/site-packages (from keras>=3.2.0->tensorflow<2.18,>=2.17->tf-keras>=2.14.1->tensorflow_hub) (13.7.1)\n",
      "Requirement already satisfied: namex in /opt/anaconda3/lib/python3.11/site-packages (from keras>=3.2.0->tensorflow<2.18,>=2.17->tf-keras>=2.14.1->tensorflow_hub) (0.0.8)\n",
      "Requirement already satisfied: optree in /opt/anaconda3/lib/python3.11/site-packages (from keras>=3.2.0->tensorflow<2.18,>=2.17->tf-keras>=2.14.1->tensorflow_hub) (0.12.1)\n",
      "Requirement already satisfied: charset-normalizer<4,>=2 in /opt/anaconda3/lib/python3.11/site-packages (from requests<3,>=2.21.0->tensorflow<2.18,>=2.17->tf-keras>=2.14.1->tensorflow_hub) (3.3.2)\n",
      "Requirement already satisfied: idna<4,>=2.5 in /opt/anaconda3/lib/python3.11/site-packages (from requests<3,>=2.21.0->tensorflow<2.18,>=2.17->tf-keras>=2.14.1->tensorflow_hub) (3.7)\n",
      "Requirement already satisfied: urllib3<3,>=1.21.1 in /opt/anaconda3/lib/python3.11/site-packages (from requests<3,>=2.21.0->tensorflow<2.18,>=2.17->tf-keras>=2.14.1->tensorflow_hub) (2.2.2)\n",
      "Requirement already satisfied: certifi>=2017.4.17 in /opt/anaconda3/lib/python3.11/site-packages (from requests<3,>=2.21.0->tensorflow<2.18,>=2.17->tf-keras>=2.14.1->tensorflow_hub) (2024.7.4)\n",
      "Requirement already satisfied: markdown>=2.6.8 in /opt/anaconda3/lib/python3.11/site-packages (from tensorboard<2.18,>=2.17->tensorflow<2.18,>=2.17->tf-keras>=2.14.1->tensorflow_hub) (3.6)\n",
      "Requirement already satisfied: tensorboard-data-server<0.8.0,>=0.7.0 in /opt/anaconda3/lib/python3.11/site-packages (from tensorboard<2.18,>=2.17->tensorflow<2.18,>=2.17->tf-keras>=2.14.1->tensorflow_hub) (0.7.2)\n",
      "Requirement already satisfied: werkzeug>=1.0.1 in /opt/anaconda3/lib/python3.11/site-packages (from tensorboard<2.18,>=2.17->tensorflow<2.18,>=2.17->tf-keras>=2.14.1->tensorflow_hub) (3.0.3)\n",
      "Requirement already satisfied: MarkupSafe>=2.1.1 in /opt/anaconda3/lib/python3.11/site-packages (from werkzeug>=1.0.1->tensorboard<2.18,>=2.17->tensorflow<2.18,>=2.17->tf-keras>=2.14.1->tensorflow_hub) (2.1.5)\n",
      "Requirement already satisfied: markdown-it-py>=2.2.0 in /opt/anaconda3/lib/python3.11/site-packages (from rich->keras>=3.2.0->tensorflow<2.18,>=2.17->tf-keras>=2.14.1->tensorflow_hub) (3.0.0)\n",
      "Requirement already satisfied: pygments<3.0.0,>=2.13.0 in /opt/anaconda3/lib/python3.11/site-packages (from rich->keras>=3.2.0->tensorflow<2.18,>=2.17->tf-keras>=2.14.1->tensorflow_hub) (2.18.0)\n",
      "Requirement already satisfied: mdurl~=0.1 in /opt/anaconda3/lib/python3.11/site-packages (from markdown-it-py>=2.2.0->rich->keras>=3.2.0->tensorflow<2.18,>=2.17->tf-keras>=2.14.1->tensorflow_hub) (0.1.2)\n",
      "Using cached tensorflow-2.17.0-cp311-cp311-macosx_12_0_arm64.whl (236.2 MB)\n",
      "Using cached keras-3.5.0-py3-none-any.whl (1.1 MB)\n",
      "Installing collected packages: keras, tensorflow\n",
      "\u001b[31mERROR: pip's dependency resolver does not currently take into account all the packages that are installed. This behaviour is the source of the following dependency conflicts.\n",
      "tensorflow-macos 2.15.0 requires keras<2.16,>=2.15.0, but you have keras 3.5.0 which is incompatible.\n",
      "tensorflow-macos 2.15.0 requires ml-dtypes~=0.2.0, but you have ml-dtypes 0.4.0 which is incompatible.\n",
      "tensorflow-macos 2.15.0 requires tensorboard<2.16,>=2.15, but you have tensorboard 2.17.1 which is incompatible.\u001b[0m\u001b[31m\n",
      "\u001b[0mSuccessfully installed keras-3.5.0 tensorflow-2.17.0\n"
     ]
    }
   ],
   "source": [
    "!pip install tensorflow_hub"
   ]
  },
  {
   "cell_type": "code",
   "execution_count": 176,
   "id": "7f636643",
   "metadata": {},
   "outputs": [
    {
     "name": "stdout",
     "output_type": "stream",
     "text": [
      "Requirement already satisfied: tensorflow in /opt/anaconda3/lib/python3.11/site-packages (2.17.0)\n",
      "Requirement already satisfied: absl-py>=1.0.0 in /opt/anaconda3/lib/python3.11/site-packages (from tensorflow) (2.1.0)\n",
      "Requirement already satisfied: astunparse>=1.6.0 in /opt/anaconda3/lib/python3.11/site-packages (from tensorflow) (1.6.3)\n",
      "Requirement already satisfied: flatbuffers>=24.3.25 in /opt/anaconda3/lib/python3.11/site-packages (from tensorflow) (24.3.25)\n",
      "Requirement already satisfied: gast!=0.5.0,!=0.5.1,!=0.5.2,>=0.2.1 in /opt/anaconda3/lib/python3.11/site-packages (from tensorflow) (0.6.0)\n",
      "Requirement already satisfied: google-pasta>=0.1.1 in /opt/anaconda3/lib/python3.11/site-packages (from tensorflow) (0.2.0)\n",
      "Requirement already satisfied: h5py>=3.10.0 in /opt/anaconda3/lib/python3.11/site-packages (from tensorflow) (3.11.0)\n",
      "Requirement already satisfied: libclang>=13.0.0 in /opt/anaconda3/lib/python3.11/site-packages (from tensorflow) (18.1.1)\n",
      "Requirement already satisfied: ml-dtypes<0.5.0,>=0.3.1 in /opt/anaconda3/lib/python3.11/site-packages (from tensorflow) (0.4.0)\n",
      "Requirement already satisfied: opt-einsum>=2.3.2 in /opt/anaconda3/lib/python3.11/site-packages (from tensorflow) (3.3.0)\n",
      "Requirement already satisfied: packaging in /opt/anaconda3/lib/python3.11/site-packages (from tensorflow) (24.1)\n",
      "Requirement already satisfied: protobuf!=4.21.0,!=4.21.1,!=4.21.2,!=4.21.3,!=4.21.4,!=4.21.5,<5.0.0dev,>=3.20.3 in /opt/anaconda3/lib/python3.11/site-packages (from tensorflow) (4.25.4)\n",
      "Requirement already satisfied: requests<3,>=2.21.0 in /opt/anaconda3/lib/python3.11/site-packages (from tensorflow) (2.32.3)\n",
      "Requirement already satisfied: setuptools in /opt/anaconda3/lib/python3.11/site-packages (from tensorflow) (72.2.0)\n",
      "Requirement already satisfied: six>=1.12.0 in /opt/anaconda3/lib/python3.11/site-packages (from tensorflow) (1.16.0)\n",
      "Requirement already satisfied: termcolor>=1.1.0 in /opt/anaconda3/lib/python3.11/site-packages (from tensorflow) (2.4.0)\n",
      "Requirement already satisfied: typing-extensions>=3.6.6 in /opt/anaconda3/lib/python3.11/site-packages (from tensorflow) (4.12.2)\n",
      "Requirement already satisfied: wrapt>=1.11.0 in /opt/anaconda3/lib/python3.11/site-packages (from tensorflow) (1.14.1)\n",
      "Requirement already satisfied: grpcio<2.0,>=1.24.3 in /opt/anaconda3/lib/python3.11/site-packages (from tensorflow) (1.65.4)\n",
      "Requirement already satisfied: tensorboard<2.18,>=2.17 in /opt/anaconda3/lib/python3.11/site-packages (from tensorflow) (2.17.1)\n",
      "Requirement already satisfied: keras>=3.2.0 in /opt/anaconda3/lib/python3.11/site-packages (from tensorflow) (3.5.0)\n",
      "Requirement already satisfied: tensorflow-io-gcs-filesystem>=0.23.1 in /opt/anaconda3/lib/python3.11/site-packages (from tensorflow) (0.37.1)\n",
      "Requirement already satisfied: numpy<2.0.0,>=1.23.5 in /opt/anaconda3/lib/python3.11/site-packages (from tensorflow) (1.26.4)\n",
      "Requirement already satisfied: wheel<1.0,>=0.23.0 in /opt/anaconda3/lib/python3.11/site-packages (from astunparse>=1.6.0->tensorflow) (0.44.0)\n",
      "Requirement already satisfied: rich in /opt/anaconda3/lib/python3.11/site-packages (from keras>=3.2.0->tensorflow) (13.7.1)\n",
      "Requirement already satisfied: namex in /opt/anaconda3/lib/python3.11/site-packages (from keras>=3.2.0->tensorflow) (0.0.8)\n",
      "Requirement already satisfied: optree in /opt/anaconda3/lib/python3.11/site-packages (from keras>=3.2.0->tensorflow) (0.12.1)\n",
      "Requirement already satisfied: charset-normalizer<4,>=2 in /opt/anaconda3/lib/python3.11/site-packages (from requests<3,>=2.21.0->tensorflow) (3.3.2)\n",
      "Requirement already satisfied: idna<4,>=2.5 in /opt/anaconda3/lib/python3.11/site-packages (from requests<3,>=2.21.0->tensorflow) (3.7)\n",
      "Requirement already satisfied: urllib3<3,>=1.21.1 in /opt/anaconda3/lib/python3.11/site-packages (from requests<3,>=2.21.0->tensorflow) (2.2.2)\n",
      "Requirement already satisfied: certifi>=2017.4.17 in /opt/anaconda3/lib/python3.11/site-packages (from requests<3,>=2.21.0->tensorflow) (2024.7.4)\n",
      "Requirement already satisfied: markdown>=2.6.8 in /opt/anaconda3/lib/python3.11/site-packages (from tensorboard<2.18,>=2.17->tensorflow) (3.6)\n",
      "Requirement already satisfied: tensorboard-data-server<0.8.0,>=0.7.0 in /opt/anaconda3/lib/python3.11/site-packages (from tensorboard<2.18,>=2.17->tensorflow) (0.7.2)\n",
      "Requirement already satisfied: werkzeug>=1.0.1 in /opt/anaconda3/lib/python3.11/site-packages (from tensorboard<2.18,>=2.17->tensorflow) (3.0.3)\n",
      "Requirement already satisfied: MarkupSafe>=2.1.1 in /opt/anaconda3/lib/python3.11/site-packages (from werkzeug>=1.0.1->tensorboard<2.18,>=2.17->tensorflow) (2.1.5)\n",
      "Requirement already satisfied: markdown-it-py>=2.2.0 in /opt/anaconda3/lib/python3.11/site-packages (from rich->keras>=3.2.0->tensorflow) (3.0.0)\n",
      "Requirement already satisfied: pygments<3.0.0,>=2.13.0 in /opt/anaconda3/lib/python3.11/site-packages (from rich->keras>=3.2.0->tensorflow) (2.18.0)\n",
      "Requirement already satisfied: mdurl~=0.1 in /opt/anaconda3/lib/python3.11/site-packages (from markdown-it-py>=2.2.0->rich->keras>=3.2.0->tensorflow) (0.1.2)\n"
     ]
    }
   ],
   "source": [
    "!pip install tensorflow\n"
   ]
  },
  {
   "cell_type": "code",
   "execution_count": 184,
   "id": "d30c0ff4",
   "metadata": {},
   "outputs": [
    {
     "name": "stdout",
     "output_type": "stream",
     "text": [
      "Collecting tensorflow-text\n",
      "  Downloading tensorflow_text-2.17.0-cp311-cp311-macosx_11_0_arm64.whl.metadata (1.8 kB)\n",
      "Requirement already satisfied: tensorflow<2.18,>=2.17.0 in /opt/anaconda3/lib/python3.11/site-packages (from tensorflow-text) (2.17.0)\n",
      "Requirement already satisfied: absl-py>=1.0.0 in /opt/anaconda3/lib/python3.11/site-packages (from tensorflow<2.18,>=2.17.0->tensorflow-text) (2.1.0)\n",
      "Requirement already satisfied: astunparse>=1.6.0 in /opt/anaconda3/lib/python3.11/site-packages (from tensorflow<2.18,>=2.17.0->tensorflow-text) (1.6.3)\n",
      "Requirement already satisfied: flatbuffers>=24.3.25 in /opt/anaconda3/lib/python3.11/site-packages (from tensorflow<2.18,>=2.17.0->tensorflow-text) (24.3.25)\n",
      "Requirement already satisfied: gast!=0.5.0,!=0.5.1,!=0.5.2,>=0.2.1 in /opt/anaconda3/lib/python3.11/site-packages (from tensorflow<2.18,>=2.17.0->tensorflow-text) (0.6.0)\n",
      "Requirement already satisfied: google-pasta>=0.1.1 in /opt/anaconda3/lib/python3.11/site-packages (from tensorflow<2.18,>=2.17.0->tensorflow-text) (0.2.0)\n",
      "Requirement already satisfied: h5py>=3.10.0 in /opt/anaconda3/lib/python3.11/site-packages (from tensorflow<2.18,>=2.17.0->tensorflow-text) (3.11.0)\n",
      "Requirement already satisfied: libclang>=13.0.0 in /opt/anaconda3/lib/python3.11/site-packages (from tensorflow<2.18,>=2.17.0->tensorflow-text) (18.1.1)\n",
      "Requirement already satisfied: ml-dtypes<0.5.0,>=0.3.1 in /opt/anaconda3/lib/python3.11/site-packages (from tensorflow<2.18,>=2.17.0->tensorflow-text) (0.4.0)\n",
      "Requirement already satisfied: opt-einsum>=2.3.2 in /opt/anaconda3/lib/python3.11/site-packages (from tensorflow<2.18,>=2.17.0->tensorflow-text) (3.3.0)\n",
      "Requirement already satisfied: packaging in /opt/anaconda3/lib/python3.11/site-packages (from tensorflow<2.18,>=2.17.0->tensorflow-text) (24.1)\n",
      "Requirement already satisfied: protobuf!=4.21.0,!=4.21.1,!=4.21.2,!=4.21.3,!=4.21.4,!=4.21.5,<5.0.0dev,>=3.20.3 in /opt/anaconda3/lib/python3.11/site-packages (from tensorflow<2.18,>=2.17.0->tensorflow-text) (4.25.4)\n",
      "Requirement already satisfied: requests<3,>=2.21.0 in /opt/anaconda3/lib/python3.11/site-packages (from tensorflow<2.18,>=2.17.0->tensorflow-text) (2.32.3)\n",
      "Requirement already satisfied: setuptools in /opt/anaconda3/lib/python3.11/site-packages (from tensorflow<2.18,>=2.17.0->tensorflow-text) (72.2.0)\n",
      "Requirement already satisfied: six>=1.12.0 in /opt/anaconda3/lib/python3.11/site-packages (from tensorflow<2.18,>=2.17.0->tensorflow-text) (1.16.0)\n",
      "Requirement already satisfied: termcolor>=1.1.0 in /opt/anaconda3/lib/python3.11/site-packages (from tensorflow<2.18,>=2.17.0->tensorflow-text) (2.4.0)\n",
      "Requirement already satisfied: typing-extensions>=3.6.6 in /opt/anaconda3/lib/python3.11/site-packages (from tensorflow<2.18,>=2.17.0->tensorflow-text) (4.12.2)\n",
      "Requirement already satisfied: wrapt>=1.11.0 in /opt/anaconda3/lib/python3.11/site-packages (from tensorflow<2.18,>=2.17.0->tensorflow-text) (1.14.1)\n",
      "Requirement already satisfied: grpcio<2.0,>=1.24.3 in /opt/anaconda3/lib/python3.11/site-packages (from tensorflow<2.18,>=2.17.0->tensorflow-text) (1.65.4)\n",
      "Requirement already satisfied: tensorboard<2.18,>=2.17 in /opt/anaconda3/lib/python3.11/site-packages (from tensorflow<2.18,>=2.17.0->tensorflow-text) (2.17.1)\n",
      "Requirement already satisfied: keras>=3.2.0 in /opt/anaconda3/lib/python3.11/site-packages (from tensorflow<2.18,>=2.17.0->tensorflow-text) (3.5.0)\n",
      "Requirement already satisfied: tensorflow-io-gcs-filesystem>=0.23.1 in /opt/anaconda3/lib/python3.11/site-packages (from tensorflow<2.18,>=2.17.0->tensorflow-text) (0.37.1)\n",
      "Requirement already satisfied: numpy<2.0.0,>=1.23.5 in /opt/anaconda3/lib/python3.11/site-packages (from tensorflow<2.18,>=2.17.0->tensorflow-text) (1.26.4)\n",
      "Requirement already satisfied: wheel<1.0,>=0.23.0 in /opt/anaconda3/lib/python3.11/site-packages (from astunparse>=1.6.0->tensorflow<2.18,>=2.17.0->tensorflow-text) (0.44.0)\n",
      "Requirement already satisfied: rich in /opt/anaconda3/lib/python3.11/site-packages (from keras>=3.2.0->tensorflow<2.18,>=2.17.0->tensorflow-text) (13.7.1)\n",
      "Requirement already satisfied: namex in /opt/anaconda3/lib/python3.11/site-packages (from keras>=3.2.0->tensorflow<2.18,>=2.17.0->tensorflow-text) (0.0.8)\n",
      "Requirement already satisfied: optree in /opt/anaconda3/lib/python3.11/site-packages (from keras>=3.2.0->tensorflow<2.18,>=2.17.0->tensorflow-text) (0.12.1)\n",
      "Requirement already satisfied: charset-normalizer<4,>=2 in /opt/anaconda3/lib/python3.11/site-packages (from requests<3,>=2.21.0->tensorflow<2.18,>=2.17.0->tensorflow-text) (3.3.2)\n",
      "Requirement already satisfied: idna<4,>=2.5 in /opt/anaconda3/lib/python3.11/site-packages (from requests<3,>=2.21.0->tensorflow<2.18,>=2.17.0->tensorflow-text) (3.7)\n",
      "Requirement already satisfied: urllib3<3,>=1.21.1 in /opt/anaconda3/lib/python3.11/site-packages (from requests<3,>=2.21.0->tensorflow<2.18,>=2.17.0->tensorflow-text) (2.2.2)\n",
      "Requirement already satisfied: certifi>=2017.4.17 in /opt/anaconda3/lib/python3.11/site-packages (from requests<3,>=2.21.0->tensorflow<2.18,>=2.17.0->tensorflow-text) (2024.7.4)\n",
      "Requirement already satisfied: markdown>=2.6.8 in /opt/anaconda3/lib/python3.11/site-packages (from tensorboard<2.18,>=2.17->tensorflow<2.18,>=2.17.0->tensorflow-text) (3.6)\n",
      "Requirement already satisfied: tensorboard-data-server<0.8.0,>=0.7.0 in /opt/anaconda3/lib/python3.11/site-packages (from tensorboard<2.18,>=2.17->tensorflow<2.18,>=2.17.0->tensorflow-text) (0.7.2)\n",
      "Requirement already satisfied: werkzeug>=1.0.1 in /opt/anaconda3/lib/python3.11/site-packages (from tensorboard<2.18,>=2.17->tensorflow<2.18,>=2.17.0->tensorflow-text) (3.0.3)\n",
      "Requirement already satisfied: MarkupSafe>=2.1.1 in /opt/anaconda3/lib/python3.11/site-packages (from werkzeug>=1.0.1->tensorboard<2.18,>=2.17->tensorflow<2.18,>=2.17.0->tensorflow-text) (2.1.5)\n",
      "Requirement already satisfied: markdown-it-py>=2.2.0 in /opt/anaconda3/lib/python3.11/site-packages (from rich->keras>=3.2.0->tensorflow<2.18,>=2.17.0->tensorflow-text) (3.0.0)\n",
      "Requirement already satisfied: pygments<3.0.0,>=2.13.0 in /opt/anaconda3/lib/python3.11/site-packages (from rich->keras>=3.2.0->tensorflow<2.18,>=2.17.0->tensorflow-text) (2.18.0)\n",
      "Requirement already satisfied: mdurl~=0.1 in /opt/anaconda3/lib/python3.11/site-packages (from markdown-it-py>=2.2.0->rich->keras>=3.2.0->tensorflow<2.18,>=2.17.0->tensorflow-text) (0.1.2)\n",
      "Downloading tensorflow_text-2.17.0-cp311-cp311-macosx_11_0_arm64.whl (6.1 MB)\n",
      "\u001b[2K   \u001b[90m━━━━━━━━━━━━━━━━━━━━━━━━━━━━━━━━━━━━━━━━\u001b[0m \u001b[32m6.1/6.1 MB\u001b[0m \u001b[31m5.2 MB/s\u001b[0m eta \u001b[36m0:00:00\u001b[0m00:01\u001b[0m00:01\u001b[0m\n",
      "\u001b[?25hInstalling collected packages: tensorflow-text\n",
      "Successfully installed tensorflow-text-2.17.0\n"
     ]
    }
   ],
   "source": [
    "!pip install tensorflow-text\n"
   ]
  },
  {
   "cell_type": "code",
   "execution_count": 181,
   "id": "a8d71d4e",
   "metadata": {},
   "outputs": [],
   "source": [
    "import tarfile"
   ]
  },
  {
   "cell_type": "code",
   "execution_count": 182,
   "id": "89b89657",
   "metadata": {},
   "outputs": [
    {
     "name": "stdout",
     "output_type": "stream",
     "text": [
      "\u001b[33mWARNING: Skipping backports as it is not installed.\u001b[0m\u001b[33m\n",
      "\u001b[0m\u001b[31mERROR: Could not find a version that satisfies the requirement backports (from versions: none)\u001b[0m\u001b[31m\n",
      "\u001b[0m\u001b[31mERROR: No matching distribution found for backports\u001b[0m\u001b[31m\n",
      "\u001b[0m"
     ]
    }
   ],
   "source": [
    "!pip uninstall backports\n",
    "!pip install backports"
   ]
  },
  {
   "cell_type": "code",
   "execution_count": 185,
   "id": "58c650b6",
   "metadata": {},
   "outputs": [
    {
     "ename": "ImportError",
     "evalue": "cannot import name 'tarfile' from 'backports' (/opt/anaconda3/lib/python3.11/site-packages/backports/__init__.py)",
     "output_type": "error",
     "traceback": [
      "\u001b[0;31m---------------------------------------------------------------------------\u001b[0m",
      "\u001b[0;31mImportError\u001b[0m                               Traceback (most recent call last)",
      "Cell \u001b[0;32mIn[185], line 1\u001b[0m\n\u001b[0;32m----> 1\u001b[0m \u001b[38;5;28;01mimport\u001b[39;00m \u001b[38;5;21;01mtensorflow_hub\u001b[39;00m \u001b[38;5;28;01mas\u001b[39;00m \u001b[38;5;21;01mhub\u001b[39;00m\n\u001b[1;32m      2\u001b[0m embed \u001b[38;5;241m=\u001b[39m hub\u001b[38;5;241m.\u001b[39mload(\u001b[38;5;124m\"\u001b[39m\u001b[38;5;124m/Users/luiz/Library/CloudStorage/Dropbox/Mac/Downloads/universal-sentence-encoder-multilingual-large_3/\u001b[39m\u001b[38;5;124m\"\u001b[39m)\n\u001b[1;32m      3\u001b[0m embeddings \u001b[38;5;241m=\u001b[39m embed([\n\u001b[1;32m      4\u001b[0m     \u001b[38;5;124m\"\u001b[39m\u001b[38;5;124mThe quick brown fox jumps over the lazy dog.\u001b[39m\u001b[38;5;124m\"\u001b[39m,\n\u001b[1;32m      5\u001b[0m     \u001b[38;5;124m\"\u001b[39m\u001b[38;5;124mI am a sentence for which I would like to get its embedding\u001b[39m\u001b[38;5;124m\"\u001b[39m])\n",
      "File \u001b[0;32m/opt/anaconda3/lib/python3.11/site-packages/tensorflow_hub/__init__.py:85\u001b[0m\n\u001b[1;32m     74\u001b[0m   \u001b[38;5;28;01mif\u001b[39;00m (parse_version(tf\u001b[38;5;241m.\u001b[39m__version__) \u001b[38;5;241m<\u001b[39m\n\u001b[1;32m     75\u001b[0m       parse_version(required_tensorflow_version)):\n\u001b[1;32m     76\u001b[0m     \u001b[38;5;28;01mraise\u001b[39;00m \u001b[38;5;167;01mImportError\u001b[39;00m(\n\u001b[1;32m     77\u001b[0m         \u001b[38;5;124m\"\u001b[39m\u001b[38;5;130;01m\\n\u001b[39;00m\u001b[38;5;130;01m\\n\u001b[39;00m\u001b[38;5;124mThis version of tensorflow_hub requires tensorflow \u001b[39m\u001b[38;5;124m\"\u001b[39m\n\u001b[1;32m     78\u001b[0m         \u001b[38;5;124m\"\u001b[39m\u001b[38;5;124mversion >= \u001b[39m\u001b[38;5;132;01m{required}\u001b[39;00m\u001b[38;5;124m; Detected an installation of version \u001b[39m\u001b[38;5;132;01m{present}\u001b[39;00m\u001b[38;5;124m. \u001b[39m\u001b[38;5;124m\"\u001b[39m\n\u001b[0;32m   (...)\u001b[0m\n\u001b[1;32m     82\u001b[0m             required\u001b[38;5;241m=\u001b[39mrequired_tensorflow_version,\n\u001b[1;32m     83\u001b[0m             present\u001b[38;5;241m=\u001b[39mtf\u001b[38;5;241m.\u001b[39m__version__))\n\u001b[0;32m---> 85\u001b[0m _ensure_tf_install()\n\u001b[1;32m     88\u001b[0m \u001b[38;5;28;01mdef\u001b[39;00m \u001b[38;5;21m_ensure_keras_2_importable\u001b[39m():\n\u001b[1;32m     89\u001b[0m \u001b[38;5;250m  \u001b[39m\u001b[38;5;124;03m\"\"\"Check that Keras 2 can be used by attempting to import tf_keras.\u001b[39;00m\n\u001b[1;32m     90\u001b[0m \n\u001b[1;32m     91\u001b[0m \u001b[38;5;124;03m  Raises:\u001b[39;00m\n\u001b[1;32m     92\u001b[0m \u001b[38;5;124;03m    ImportError: if using tf.keras would mean using Keras 3 and tf_keras is not\u001b[39;00m\n\u001b[1;32m     93\u001b[0m \u001b[38;5;124;03m      installed.\u001b[39;00m\n\u001b[1;32m     94\u001b[0m \u001b[38;5;124;03m  \"\"\"\u001b[39;00m\n",
      "File \u001b[0;32m/opt/anaconda3/lib/python3.11/site-packages/tensorflow_hub/__init__.py:61\u001b[0m, in \u001b[0;36m_ensure_tf_install\u001b[0;34m()\u001b[0m\n\u001b[1;32m     52\u001b[0m   \u001b[38;5;28mprint\u001b[39m(\n\u001b[1;32m     53\u001b[0m       \u001b[38;5;124m\"\u001b[39m\u001b[38;5;130;01m\\n\u001b[39;00m\u001b[38;5;130;01m\\n\u001b[39;00m\u001b[38;5;124mFailed to import tensorflow. Please note that tensorflow is not \u001b[39m\u001b[38;5;124m\"\u001b[39m\n\u001b[1;32m     54\u001b[0m       \u001b[38;5;124m\"\u001b[39m\u001b[38;5;124minstalled by default when you install tensorflow_hub. This is so that \u001b[39m\u001b[38;5;124m\"\u001b[39m\n\u001b[0;32m   (...)\u001b[0m\n\u001b[1;32m     57\u001b[0m       \u001b[38;5;124m\"\u001b[39m\u001b[38;5;124mby following the instructions at https://tensorflow.org/install and \u001b[39m\u001b[38;5;124m\"\u001b[39m\n\u001b[1;32m     58\u001b[0m       \u001b[38;5;124m\"\u001b[39m\u001b[38;5;124mhttps://tensorflow.org/hub/installation.\u001b[39m\u001b[38;5;130;01m\\n\u001b[39;00m\u001b[38;5;130;01m\\n\u001b[39;00m\u001b[38;5;124m\"\u001b[39m)\n\u001b[1;32m     59\u001b[0m   \u001b[38;5;28;01mraise\u001b[39;00m\n\u001b[0;32m---> 61\u001b[0m \u001b[38;5;28;01mfrom\u001b[39;00m \u001b[38;5;21;01mpkg_resources\u001b[39;00m \u001b[38;5;28;01mimport\u001b[39;00m parse_version\n\u001b[1;32m     63\u001b[0m \u001b[38;5;66;03m#\u001b[39;00m\n\u001b[1;32m     64\u001b[0m \u001b[38;5;66;03m# Update this whenever we need to depend on a newer TensorFlow release.\u001b[39;00m\n\u001b[1;32m     65\u001b[0m \u001b[38;5;66;03m#\u001b[39;00m\n\u001b[0;32m   (...)\u001b[0m\n\u001b[1;32m     71\u001b[0m \u001b[38;5;66;03m# and character class transitions.\u001b[39;00m\n\u001b[1;32m     72\u001b[0m \u001b[38;5;66;03m#\u001b[39;00m\n\u001b[1;32m     73\u001b[0m required_tensorflow_version \u001b[38;5;241m=\u001b[39m \u001b[38;5;124m\"\u001b[39m\u001b[38;5;124m1.15.0\u001b[39m\u001b[38;5;124m\"\u001b[39m\n",
      "File \u001b[0;32m/opt/anaconda3/lib/python3.11/site-packages/pkg_resources/__init__.py:96\u001b[0m\n\u001b[1;32m     93\u001b[0m     WRITE_SUPPORT \u001b[38;5;241m=\u001b[39m \u001b[38;5;28;01mFalse\u001b[39;00m\n\u001b[1;32m     95\u001b[0m \u001b[38;5;28;01mimport\u001b[39;00m \u001b[38;5;21;01mpackaging\u001b[39;00m\u001b[38;5;21;01m.\u001b[39;00m\u001b[38;5;21;01mspecifiers\u001b[39;00m\n\u001b[0;32m---> 96\u001b[0m \u001b[38;5;28;01mfrom\u001b[39;00m \u001b[38;5;21;01mjaraco\u001b[39;00m\u001b[38;5;21;01m.\u001b[39;00m\u001b[38;5;21;01mtext\u001b[39;00m \u001b[38;5;28;01mimport\u001b[39;00m (\n\u001b[1;32m     97\u001b[0m     yield_lines,\n\u001b[1;32m     98\u001b[0m     drop_comment,\n\u001b[1;32m     99\u001b[0m     join_continuation,\n\u001b[1;32m    100\u001b[0m )\n\u001b[1;32m    101\u001b[0m \u001b[38;5;28;01mfrom\u001b[39;00m \u001b[38;5;21;01mpackaging\u001b[39;00m \u001b[38;5;28;01mimport\u001b[39;00m markers \u001b[38;5;28;01mas\u001b[39;00m _packaging_markers\n\u001b[1;32m    102\u001b[0m \u001b[38;5;28;01mfrom\u001b[39;00m \u001b[38;5;21;01mpackaging\u001b[39;00m \u001b[38;5;28;01mimport\u001b[39;00m requirements \u001b[38;5;28;01mas\u001b[39;00m _packaging_requirements\n",
      "File \u001b[0;32m/opt/anaconda3/lib/python3.11/site-packages/setuptools/_vendor/jaraco/text/__init__.py:12\u001b[0m\n\u001b[1;32m      9\u001b[0m     \u001b[38;5;28;01mfrom\u001b[39;00m \u001b[38;5;21;01mimportlib_resources\u001b[39;00m \u001b[38;5;28;01mimport\u001b[39;00m files  \u001b[38;5;66;03m# type: ignore\u001b[39;00m\n\u001b[1;32m     11\u001b[0m \u001b[38;5;28;01mfrom\u001b[39;00m \u001b[38;5;21;01mjaraco\u001b[39;00m\u001b[38;5;21;01m.\u001b[39;00m\u001b[38;5;21;01mfunctools\u001b[39;00m \u001b[38;5;28;01mimport\u001b[39;00m compose, method_cache\n\u001b[0;32m---> 12\u001b[0m \u001b[38;5;28;01mfrom\u001b[39;00m \u001b[38;5;21;01mjaraco\u001b[39;00m\u001b[38;5;21;01m.\u001b[39;00m\u001b[38;5;21;01mcontext\u001b[39;00m \u001b[38;5;28;01mimport\u001b[39;00m ExceptionTrap\n\u001b[1;32m     15\u001b[0m \u001b[38;5;28;01mdef\u001b[39;00m \u001b[38;5;21msubstitution\u001b[39m(old, new):\n\u001b[1;32m     16\u001b[0m \u001b[38;5;250m    \u001b[39m\u001b[38;5;124;03m\"\"\"\u001b[39;00m\n\u001b[1;32m     17\u001b[0m \u001b[38;5;124;03m    Return a function that will perform a substitution on a string\u001b[39;00m\n\u001b[1;32m     18\u001b[0m \u001b[38;5;124;03m    \"\"\"\u001b[39;00m\n",
      "File \u001b[0;32m/opt/anaconda3/lib/python3.11/site-packages/setuptools/_vendor/jaraco/context.py:17\u001b[0m\n\u001b[1;32m     13\u001b[0m \u001b[38;5;28;01mfrom\u001b[39;00m \u001b[38;5;21;01mtyping\u001b[39;00m \u001b[38;5;28;01mimport\u001b[39;00m Iterator\n\u001b[1;32m     16\u001b[0m \u001b[38;5;28;01mif\u001b[39;00m sys\u001b[38;5;241m.\u001b[39mversion_info \u001b[38;5;241m<\u001b[39m (\u001b[38;5;241m3\u001b[39m, \u001b[38;5;241m12\u001b[39m):\n\u001b[0;32m---> 17\u001b[0m     \u001b[38;5;28;01mfrom\u001b[39;00m \u001b[38;5;21;01mbackports\u001b[39;00m \u001b[38;5;28;01mimport\u001b[39;00m tarfile\n\u001b[1;32m     18\u001b[0m \u001b[38;5;28;01melse\u001b[39;00m:\n\u001b[1;32m     19\u001b[0m     \u001b[38;5;28;01mimport\u001b[39;00m \u001b[38;5;21;01mtarfile\u001b[39;00m\n",
      "\u001b[0;31mImportError\u001b[0m: cannot import name 'tarfile' from 'backports' (/opt/anaconda3/lib/python3.11/site-packages/backports/__init__.py)"
     ]
    }
   ],
   "source": [
    "import tensorflow_hub as hub\n",
    "embed = hub.load(\"/Users/luiz/Library/CloudStorage/Dropbox/Mac/Downloads/universal-sentence-encoder-multilingual-large_3/\")\n",
    "embeddings = embed([\n",
    "    \"The quick brown fox jumps over the lazy dog.\",\n",
    "    \"I am a sentence for which I would like to get its embedding\"])\n",
    "\n",
    "print(session.run(embeddings))"
   ]
  },
  {
   "cell_type": "code",
   "execution_count": null,
   "id": "f46c698d",
   "metadata": {},
   "outputs": [],
   "source": []
  }
 ],
 "metadata": {
  "kernelspec": {
   "display_name": "Python 3 (ipykernel)",
   "language": "python",
   "name": "python3"
  },
  "language_info": {
   "codemirror_mode": {
    "name": "ipython",
    "version": 3
   },
   "file_extension": ".py",
   "mimetype": "text/x-python",
   "name": "python",
   "nbconvert_exporter": "python",
   "pygments_lexer": "ipython3",
   "version": "3.11.7"
  }
 },
 "nbformat": 4,
 "nbformat_minor": 5
}
