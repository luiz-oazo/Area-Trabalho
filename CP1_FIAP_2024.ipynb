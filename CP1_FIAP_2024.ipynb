{
 "cells": [
  {
   "cell_type": "code",
   "execution_count": 56,
   "id": "38593ab4-b6b9-4488-966a-e51da07858d8",
   "metadata": {},
   "outputs": [
    {
     "name": "stdin",
     "output_type": "stream",
     "text": [
      "Venda.......................:  999999.99\n",
      "Tem cupom, [s]im ou [n]ão?..:  s\n"
     ]
    },
    {
     "name": "stdout",
     "output_type": "stream",
     "text": [
      "RELATÓRIO:\n",
      "Venda........:     999999.99\n",
      "Desconto.....:     100000.00\n",
      "Cupom........:         50.00\n",
      "Venda Final..:     899949.99\n"
     ]
    }
   ],
   "source": [
    "valor = input(\"Venda.......................: \")\n",
    "\n",
    "tamanho = str(len(valor) + 4)\n",
    "timp = tamanho + \".2\"\n",
    "mask = '{0: ' + timp + 'f}'\n",
    "\n",
    "valor = float(valor)\n",
    "\n",
    "if valor <= 1000:\n",
    "    desconto = float(valor * 0.05)\n",
    "else:\n",
    "    desconto = float(valor * 0.1)\n",
    "\n",
    "sncupom = input(\"Tem cupom, [s]im ou [n]ão?..: \")    \n",
    "\n",
    "cupom = -1\n",
    "if sncupom == 's':\n",
    "    cupom = float(50)\n",
    "elif sncupom == 'n':\n",
    "    cupom = float(0)\n",
    "\n",
    "if cupom >= 0:\n",
    "    valor_final = valor - desconto - cupom\n",
    "\n",
    "    print(\"RELATÓRIO:\")\n",
    "    print(f\"Venda........: {mask}\".format(valor))\n",
    "    print(f\"Desconto.....: {mask}\".format(desconto))\n",
    "    print(f\"Cupom........: {mask}\".format(cupom))\n",
    "    print(f\"Venda Final..: {mask}\".format(valor_final))\n",
    "else:\n",
    "    print(\"Opção errada\")"
   ]
  },
  {
   "cell_type": "code",
   "execution_count": null,
   "id": "2ccafbf6-5f07-43ea-9c6d-9a782483bafe",
   "metadata": {},
   "outputs": [],
   "source": []
  },
  {
   "cell_type": "code",
   "execution_count": null,
   "id": "50466d02-7b93-489d-978f-5262c4ca3aa5",
   "metadata": {},
   "outputs": [],
   "source": []
  },
  {
   "cell_type": "code",
   "execution_count": 58,
   "id": "2ba0dcab-72e3-4871-8432-a887f8b31db1",
   "metadata": {},
   "outputs": [
    {
     "name": "stdin",
     "output_type": "stream",
     "text": [
      "Venda.......................:  2000\n",
      "Tem cupom, [s]im ou [n]ão?..:  s\n"
     ]
    },
    {
     "name": "stdout",
     "output_type": "stream",
     "text": [
      "RELATÓRIO:\n",
      "Venda........:  2000.00\n",
      "Desconto.....:   200.00\n",
      "Cupom........:    50.00\n",
      "Venda Final..:  1750.00\n"
     ]
    }
   ],
   "source": [
    "valor = input(\"Venda.......................: \")\n",
    "\n",
    "tamanho = str(len(valor) + 4)\n",
    "timp = tamanho + \".2\"\n",
    "mask = '{0: ' + timp + 'f}'\n",
    "\n",
    "valor = float(valor)\n",
    "\n",
    "if valor <= 1000:\n",
    "    desconto = float(float(int(valor * 5.0)) / 100.0)\n",
    "else:\n",
    "    desconto = float(float(int(valor * 10.0)) / 100.0)\n",
    "\n",
    "sncupom = input(\"Tem cupom, [s]im ou [n]ão?..: \")    \n",
    "\n",
    "cupom = -1\n",
    "if sncupom == 's':\n",
    "    cupom = float(50)\n",
    "elif sncupom == 'n':\n",
    "    cupom = float(0)\n",
    "\n",
    "if cupom >= 0:\n",
    "    valor_final = valor - desconto - cupom\n",
    "\n",
    "    print(\"RELATÓRIO:\")\n",
    "    print(f\"Venda........: {mask}\".format(valor))\n",
    "    print(f\"Desconto.....: {mask}\".format(desconto))\n",
    "    print(f\"Cupom........: {mask}\".format(cupom))\n",
    "    print(f\"Venda Final..: {mask}\".format(valor_final))\n",
    "else:\n",
    "    print(\"Opção errada\")"
   ]
  },
  {
   "cell_type": "code",
   "execution_count": 59,
   "id": "82c69ac1-c5c4-4c50-9557-6c1253433e12",
   "metadata": {},
   "outputs": [
    {
     "data": {
      "text/plain": [
       "'{0: 8.2f}'"
      ]
     },
     "execution_count": 59,
     "metadata": {},
     "output_type": "execute_result"
    }
   ],
   "source": [
    "mask"
   ]
  },
  {
   "cell_type": "code",
   "execution_count": null,
   "id": "6b9217f8-497a-41e0-a80f-1909c5088e44",
   "metadata": {},
   "outputs": [],
   "source": []
  },
  {
   "cell_type": "code",
   "execution_count": 120,
   "id": "6bdbeb15-bcb1-47c6-839d-f7beee5f6009",
   "metadata": {},
   "outputs": [
    {
     "name": "stdin",
     "output_type": "stream",
     "text": [
      "Venda.......................:  1000000000000\n",
      "Tem cupom, [s]im ou [n]ão?..:  s\n"
     ]
    },
    {
     "name": "stdout",
     "output_type": "stream",
     "text": [
      "RELATÓRIO:\n",
      "| Venda........:  1,000,000,000,000.00 |\n",
      "| Desconto.....:    100,000,000,000.00 |\n",
      "| Cupom........:                 50.00 |\n",
      "| Venda Final..:    899,999,999,950.00 |\n"
     ]
    }
   ],
   "source": [
    "valor = input(\"Venda.......................: \")\n",
    "sncupom = input(\"Tem cupom, [s]im ou [n]ão?..: \")\n",
    "\n",
    "cupom = -1\n",
    "if sncupom == 's':\n",
    "    cupom = float(50)\n",
    "elif sncupom == 'n':\n",
    "    cupom = float(0)\n",
    "\n",
    "if cupom >= 0:\n",
    "    tamanho = str(len(valor) + len(valor) // 3 + 4)\n",
    "    \n",
    "    valor = float(valor)\n",
    "    \n",
    "    if valor <= 1000:\n",
    "        desconto = float(float(int(valor * 5.0))/100.0)\n",
    "    else:\n",
    "        desconto = float(float(int(valor * 10.0))/100.0)\n",
    "    \n",
    "    decimais = int(((valor - int(valor)) * 100))\n",
    "\n",
    "    if decimais > 0 and decimais < 10:\n",
    "        tamanho = str(int(tamanho) - 3)\n",
    "    elif decimais > 9:\n",
    "        tamanho = str(int(tamanho) - 4)\n",
    "\n",
    "    timp = tamanho + \",.2\"\n",
    "    mask = '{0: ' + timp + 'f}'\n",
    "    \n",
    "    valor_final = valor - desconto - cupom\n",
    "\n",
    "    print(\"RELATÓRIO:\")\n",
    "    print(f\"| Venda........: {mask}\".format(valor), \"|\")\n",
    "    print(f\"| Desconto.....: {mask}\".format(desconto), \"|\")\n",
    "    print(f\"| Cupom........: {mask}\".format(cupom), \"|\")\n",
    "    print(f\"| Venda Final..: {mask}\".format(valor_final), \"|\")\n",
    "else:\n",
    "    print(\"Opção errada\")"
   ]
  },
  {
   "cell_type": "code",
   "execution_count": 87,
   "id": "fece386e-aef6-415e-872f-6d65f2f6b266",
   "metadata": {},
   "outputs": [
    {
     "data": {
      "text/plain": [
       "'{0: 8,.2f}'"
      ]
     },
     "execution_count": 87,
     "metadata": {},
     "output_type": "execute_result"
    }
   ],
   "source": [
    "mask"
   ]
  },
  {
   "cell_type": "code",
   "execution_count": null,
   "id": "4e397f74-0ed8-4c42-84d9-d92825713dcf",
   "metadata": {},
   "outputs": [],
   "source": []
  },
  {
   "cell_type": "code",
   "execution_count": null,
   "id": "94ba027c-d124-4fd1-9fda-25109207deb4",
   "metadata": {},
   "outputs": [],
   "source": []
  },
  {
   "cell_type": "code",
   "execution_count": null,
   "id": "b56b3697-b84f-486b-9c1a-9f5fb188c89a",
   "metadata": {},
   "outputs": [],
   "source": [
    "# pedir valor\n",
    "\n",
    "# perguntar cupom pegar valor\n",
    "\n",
    "# calcular desconto\n",
    "\n",
    "# calcular valor final\n",
    "\n",
    "# imprimir\n"
   ]
  },
  {
   "cell_type": "code",
   "execution_count": 122,
   "id": "84b74c5c-2f3a-4b53-9f64-bfa938cafc44",
   "metadata": {},
   "outputs": [
    {
     "name": "stdin",
     "output_type": "stream",
     "text": [
      "Venda.......................:  123123.12\n",
      "Tem cupom, [s]im ou [n]ão?..:  s\n"
     ]
    },
    {
     "name": "stdout",
     "output_type": "stream",
     "text": [
      "RELATÓRIO\n",
      "| Venda.......:   123,123.12 |\n",
      "| Desconto....:    12,312.00 |\n",
      "| Cupom.......:        50.00 |\n",
      "| Venda Final.:   110,761.12 |\n"
     ]
    }
   ],
   "source": [
    "valor_venda = float(input('Venda.......................: '))\n",
    "tem_cupom = input('Tem cupom, [s]im ou [n]ão?..: ')\n",
    "cupom_desconto = float(0)\n",
    "porcentagem = float(0)\n",
    "\n",
    "## TESTE CONDICIONAIS\n",
    "if valor_venda <= 1000:\n",
    "    porcentagem = float(int((valor_venda * 5) / 100.0))\n",
    "\n",
    "else:\n",
    "    porcentagem = float(int((valor_venda * 10) / 100.0))\n",
    "    \n",
    "if tem_cupom == 's':\n",
    "    cupom_desconto = 50\n",
    "\n",
    "## DEFINIÇÃO DO VALOR FINAL\n",
    "valor_final = valor_venda - (porcentagem + cupom_desconto)\n",
    "\n",
    "## RELATÓRIO\n",
    "print('RELATÓRIO')\n",
    "print('| Venda.......: {0: 12,.2f}'.format(valor_venda), \"|\")\n",
    "print('| Desconto....: {0: 12,.2f}'.format(porcentagem), \"|\")\n",
    "print('| Cupom.......: {0: 12,.2f}'.format(cupom_desconto), \"|\")\n",
    "print('| Venda Final.: {0: 12,.2f}'.format(valor_final), \"|\")"
   ]
  },
  {
   "cell_type": "code",
   "execution_count": 60,
   "id": "2a42f3e7-5216-44c7-a818-d764a98c6216",
   "metadata": {},
   "outputs": [
    {
     "data": {
      "text/plain": [
       "'{0: 8.2f}'"
      ]
     },
     "execution_count": 60,
     "metadata": {},
     "output_type": "execute_result"
    }
   ],
   "source": [
    "mask"
   ]
  },
  {
   "cell_type": "code",
   "execution_count": 90,
   "id": "25849770-d20f-4d51-8658-b70425b27327",
   "metadata": {},
   "outputs": [
    {
     "data": {
      "text/plain": [
       "'        1,000,000.00'"
      ]
     },
     "execution_count": 90,
     "metadata": {},
     "output_type": "execute_result"
    }
   ],
   "source": [
    "'{0: 20,.2f}'.format(valor_venda)"
   ]
  },
  {
   "cell_type": "code",
   "execution_count": 91,
   "id": "c7c94b18-bc8b-4353-8abf-fa88125b4e86",
   "metadata": {},
   "outputs": [
    {
     "data": {
      "text/plain": [
       "'1000000.00'"
      ]
     },
     "execution_count": 91,
     "metadata": {},
     "output_type": "execute_result"
    }
   ],
   "source": [
    "'{:.2f}'.format(valor_venda)"
   ]
  },
  {
   "cell_type": "code",
   "execution_count": 92,
   "id": "83f8022c-f40f-47b7-be04-ecea0edfe6a9",
   "metadata": {},
   "outputs": [
    {
     "data": {
      "text/plain": [
       "' 1,000,000.00'"
      ]
     },
     "execution_count": 92,
     "metadata": {},
     "output_type": "execute_result"
    }
   ],
   "source": [
    "mask.format(valor_venda)"
   ]
  },
  {
   "cell_type": "code",
   "execution_count": 105,
   "id": "3bba7f43-a2f0-423c-aa18-29dd5146469a",
   "metadata": {},
   "outputs": [],
   "source": [
    "valor_venda = 50"
   ]
  },
  {
   "cell_type": "code",
   "execution_count": 112,
   "id": "75b308f8-396d-4889-b98e-4ddb3a06fa0d",
   "metadata": {},
   "outputs": [],
   "source": [
    "poi = '{: 10.2f}'"
   ]
  },
  {
   "cell_type": "code",
   "execution_count": 113,
   "id": "9b6dd2e8-f35c-484f-bc77-feb3147e304e",
   "metadata": {},
   "outputs": [
    {
     "data": {
      "text/plain": [
       "'{: 10.2f}'"
      ]
     },
     "execution_count": 113,
     "metadata": {},
     "output_type": "execute_result"
    }
   ],
   "source": [
    "poi"
   ]
  },
  {
   "cell_type": "code",
   "execution_count": 114,
   "id": "a08e61e1-2b1f-4ef2-828d-ef8489356025",
   "metadata": {},
   "outputs": [
    {
     "data": {
      "text/plain": [
       "'     50.00'"
      ]
     },
     "execution_count": 114,
     "metadata": {},
     "output_type": "execute_result"
    }
   ],
   "source": [
    "poi.format(valor_venda)"
   ]
  },
  {
   "cell_type": "code",
   "execution_count": null,
   "id": "97062bdd-3ea8-4ad1-8886-b75a6f1b241b",
   "metadata": {},
   "outputs": [],
   "source": []
  }
 ],
 "metadata": {
  "kernelspec": {
   "display_name": "Python 3 (ipykernel)",
   "language": "python",
   "name": "python3"
  },
  "language_info": {
   "codemirror_mode": {
    "name": "ipython",
    "version": 3
   },
   "file_extension": ".py",
   "mimetype": "text/x-python",
   "name": "python",
   "nbconvert_exporter": "python",
   "pygments_lexer": "ipython3",
   "version": "3.9.12"
  }
 },
 "nbformat": 4,
 "nbformat_minor": 5
}
