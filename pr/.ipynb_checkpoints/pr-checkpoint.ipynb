{
 "cells": [
  {
   "cell_type": "code",
   "execution_count": 1,
   "id": "3c0e7a7d",
   "metadata": {},
   "outputs": [],
   "source": [
    "import numpy as np\n",
    "import pandas as pd\n",
    "from scipy.stats import norm\n",
    "from process import process"
   ]
  },
  {
   "cell_type": "code",
   "execution_count": 2,
   "id": "78dd1ada",
   "metadata": {},
   "outputs": [],
   "source": [
    "teste = pd.read_json(\"events_data.json\")"
   ]
  },
  {
   "cell_type": "code",
   "execution_count": 3,
   "id": "91266552",
   "metadata": {},
   "outputs": [
    {
     "data": {
      "text/plain": [
       "name                                          LEAR LIFE RUN 2023\n",
       "data                                                  29/10/2023\n",
       "city                                               Cacapava - SP\n",
       "url_details    http://www.chiptiming.com.br/resultados/learli...\n",
       "categories     {'CORRIDA': {'GERAL FEMININO': {'name': 'GERAL...\n",
       "Name: LEAR LIFE RUN 2023, dtype: object"
      ]
     },
     "execution_count": 3,
     "metadata": {},
     "output_type": "execute_result"
    }
   ],
   "source": [
    "teste['LEAR LIFE RUN 2023']"
   ]
  },
  {
   "cell_type": "code",
   "execution_count": 4,
   "id": "2402bf58",
   "metadata": {},
   "outputs": [],
   "source": [
    "data = process(pd.read_json(\"events_data.json\"))"
   ]
  },
  {
   "cell_type": "code",
   "execution_count": 5,
   "id": "2b1ccb7f",
   "metadata": {
    "scrolled": true
   },
   "outputs": [
    {
     "data": {
      "text/html": [
       "<div>\n",
       "<style scoped>\n",
       "    .dataframe tbody tr th:only-of-type {\n",
       "        vertical-align: middle;\n",
       "    }\n",
       "\n",
       "    .dataframe tbody tr th {\n",
       "        vertical-align: top;\n",
       "    }\n",
       "\n",
       "    .dataframe thead th {\n",
       "        text-align: right;\n",
       "    }\n",
       "</style>\n",
       "<table border=\"1\" class=\"dataframe\">\n",
       "  <thead>\n",
       "    <tr style=\"text-align: right;\">\n",
       "      <th></th>\n",
       "      <th>race_name</th>\n",
       "      <th>name</th>\n",
       "      <th>date</th>\n",
       "      <th>city</th>\n",
       "      <th>race_distance</th>\n",
       "      <th>category</th>\n",
       "      <th>highlight_place</th>\n",
       "      <th>number</th>\n",
       "      <th>gender</th>\n",
       "      <th>age</th>\n",
       "      <th>age_group</th>\n",
       "      <th>team</th>\n",
       "      <th>timing</th>\n",
       "      <th>liquid_timing</th>\n",
       "      <th>pace (rhythm)</th>\n",
       "    </tr>\n",
       "  </thead>\n",
       "  <tbody>\n",
       "    <tr>\n",
       "      <th>0</th>\n",
       "      <td>Lear Life Run 2023</td>\n",
       "      <td>Juraci C De Andrade</td>\n",
       "      <td>29/10/2023</td>\n",
       "      <td>Cacapava - SP</td>\n",
       "      <td>CORRIDA</td>\n",
       "      <td>GERAL FEMININO</td>\n",
       "      <td>1</td>\n",
       "      <td>90</td>\n",
       "      <td>F</td>\n",
       "      <td>51</td>\n",
       "      <td>F4959</td>\n",
       "      <td></td>\n",
       "      <td>00:29:28</td>\n",
       "      <td>00:29:23</td>\n",
       "      <td>05:52</td>\n",
       "    </tr>\n",
       "    <tr>\n",
       "      <th>1</th>\n",
       "      <td>Lear Life Run 2023</td>\n",
       "      <td>Suellen Dos Santos</td>\n",
       "      <td>29/10/2023</td>\n",
       "      <td>Cacapava - SP</td>\n",
       "      <td>CORRIDA</td>\n",
       "      <td>GERAL FEMININO</td>\n",
       "      <td>2</td>\n",
       "      <td>73</td>\n",
       "      <td>F</td>\n",
       "      <td>34</td>\n",
       "      <td>F2737</td>\n",
       "      <td>STRUCTURES</td>\n",
       "      <td>00:32:37</td>\n",
       "      <td>00:32:37</td>\n",
       "      <td>06:31</td>\n",
       "    </tr>\n",
       "    <tr>\n",
       "      <th>2</th>\n",
       "      <td>Lear Life Run 2023</td>\n",
       "      <td>Natalia Da Silva Veloso</td>\n",
       "      <td>29/10/2023</td>\n",
       "      <td>Cacapava - SP</td>\n",
       "      <td>CORRIDA</td>\n",
       "      <td>GERAL FEMININO</td>\n",
       "      <td>3</td>\n",
       "      <td>67</td>\n",
       "      <td>F</td>\n",
       "      <td>31</td>\n",
       "      <td>F2737</td>\n",
       "      <td>STRUCTURES</td>\n",
       "      <td>00:32:57</td>\n",
       "      <td>00:32:56</td>\n",
       "      <td>06:35</td>\n",
       "    </tr>\n",
       "    <tr>\n",
       "      <th>3</th>\n",
       "      <td>Lear Life Run 2023</td>\n",
       "      <td>Luana Inacia Ferreira</td>\n",
       "      <td>29/10/2023</td>\n",
       "      <td>Cacapava - SP</td>\n",
       "      <td>CORRIDA</td>\n",
       "      <td>GERAL FEMININO</td>\n",
       "      <td>4</td>\n",
       "      <td>22</td>\n",
       "      <td>F</td>\n",
       "      <td>30</td>\n",
       "      <td>F2737</td>\n",
       "      <td>NÃO HYPERION</td>\n",
       "      <td>00:33:13</td>\n",
       "      <td>00:33:12</td>\n",
       "      <td>06:38</td>\n",
       "    </tr>\n",
       "    <tr>\n",
       "      <th>4</th>\n",
       "      <td>Lear Life Run 2023</td>\n",
       "      <td>Eloise Fregatto</td>\n",
       "      <td>29/10/2023</td>\n",
       "      <td>Cacapava - SP</td>\n",
       "      <td>CORRIDA</td>\n",
       "      <td>GERAL FEMININO</td>\n",
       "      <td>5</td>\n",
       "      <td>3</td>\n",
       "      <td>F</td>\n",
       "      <td>28</td>\n",
       "      <td>F2737</td>\n",
       "      <td>FACILITES</td>\n",
       "      <td>00:34:32</td>\n",
       "      <td>00:34:24</td>\n",
       "      <td>06:52</td>\n",
       "    </tr>\n",
       "  </tbody>\n",
       "</table>\n",
       "</div>"
      ],
      "text/plain": [
       "            race_name                     name        date           city  \\\n",
       "0  Lear Life Run 2023      Juraci C De Andrade  29/10/2023  Cacapava - SP   \n",
       "1  Lear Life Run 2023       Suellen Dos Santos  29/10/2023  Cacapava - SP   \n",
       "2  Lear Life Run 2023  Natalia Da Silva Veloso  29/10/2023  Cacapava - SP   \n",
       "3  Lear Life Run 2023    Luana Inacia Ferreira  29/10/2023  Cacapava - SP   \n",
       "4  Lear Life Run 2023          Eloise Fregatto  29/10/2023  Cacapava - SP   \n",
       "\n",
       "  race_distance        category highlight_place number gender age age_group  \\\n",
       "0       CORRIDA  GERAL FEMININO               1     90      F  51     F4959   \n",
       "1       CORRIDA  GERAL FEMININO               2     73      F  34     F2737   \n",
       "2       CORRIDA  GERAL FEMININO               3     67      F  31     F2737   \n",
       "3       CORRIDA  GERAL FEMININO               4     22      F  30     F2737   \n",
       "4       CORRIDA  GERAL FEMININO               5      3      F  28     F2737   \n",
       "\n",
       "           team    timing liquid_timing pace (rhythm)  \n",
       "0                00:29:28      00:29:23         05:52  \n",
       "1    STRUCTURES  00:32:37      00:32:37         06:31  \n",
       "2    STRUCTURES  00:32:57      00:32:56         06:35  \n",
       "3  NÃO HYPERION  00:33:13      00:33:12         06:38  \n",
       "4     FACILITES  00:34:32      00:34:24         06:52  "
      ]
     },
     "execution_count": 5,
     "metadata": {},
     "output_type": "execute_result"
    }
   ],
   "source": [
    "data.head(5)"
   ]
  },
  {
   "cell_type": "code",
   "execution_count": 7,
   "id": "5305a03f",
   "metadata": {},
   "outputs": [],
   "source": [
    "def calc_pr_num(df):\n",
    "    output = df.copy(deep = True)\n",
    "    \n",
    "    # some times are in the format HH:MM.SS\n",
    "    output[\"timing\"] = output[\"timing\"].str.replace(\".\", \":\")\n",
    "    \n",
    "    # filter out rows that have null times or null paces\n",
    "    output = output[(~output[\"timing\"].isna()) & (~filtered[\"pace (rhythm)\"].isna())]\n",
    "    \n",
    "    # helper function to convert race times into seconds\n",
    "    def time_to_seconds(df):\n",
    "        hms = df[\"timing\"].split(\":\")\n",
    "        return 3600 * int(hms[0]) + 60 * int(hms[1]) + int(hms[2])\n",
    "    \n",
    "    # convert race times into seconds\n",
    "    output[\"time_in_seconds\"] = output.apply(time_to_seconds, axis = 1)\n",
    "    \n",
    "    # helper function to convert pace/rhythm into seconds\n",
    "    def pace_to_seconds(df):\n",
    "        ms = df[\"pace (rhythm)\"].split(\":\")\n",
    "        return 60 * int(ms[0]) + int(ms[1])\n",
    "    \n",
    "    # convert pace into seconds\n",
    "    output[\"pace_in_seconds\"] = output.apply(pace_to_seconds, axis = 1)\n",
    "    \n",
    "    # calculate race distance from total time and pace\n",
    "    filtered[\"race_distance\"] = round(filtered[\"time_in_seconds\"] / filtered[\"pace_in_seconds\"], 1)\n",
    "    \n",
    "    # group by race distance and compute the z-score of the total time in relation to that distance group\n",
    "    filtered[\"pace_z_score\"] = (filtered.groupby(\"race_distance\")[\"time_in_seconds\"]\n",
    "        .transform(lambda x: (x - x.mean()) / x.std()))\n",
    "    \n",
    "    # compute the percentile of each pace and use as pr number (faster paces will have lower z-scores)\n",
    "    filtered[\"pr_num\"] = 100 * norm.cdf(filtered['pace_z_score'])\n",
    "    \n",
    "    # drop intermediate columns used for calculation\n",
    "    return filtered.drop(columns = [\"time_in_seconds\", \"pace_in_seconds\", \"pace_z_score\", \"percentile\"])"
   ]
  },
  {
   "cell_type": "code",
   "execution_count": 8,
   "id": "e698bbb0",
   "metadata": {},
   "outputs": [
    {
     "ename": "NameError",
     "evalue": "name 'filtered' is not defined",
     "output_type": "error",
     "traceback": [
      "\u001b[0;31m---------------------------------------------------------------------------\u001b[0m",
      "\u001b[0;31mNameError\u001b[0m                                 Traceback (most recent call last)",
      "Cell \u001b[0;32mIn[8], line 1\u001b[0m\n\u001b[0;32m----> 1\u001b[0m pr_nums \u001b[38;5;241m=\u001b[39m calc_pr_num(data)\n",
      "Cell \u001b[0;32mIn[7], line 8\u001b[0m, in \u001b[0;36mcalc_pr_num\u001b[0;34m(df)\u001b[0m\n\u001b[1;32m      5\u001b[0m output[\u001b[38;5;124m\"\u001b[39m\u001b[38;5;124mtiming\u001b[39m\u001b[38;5;124m\"\u001b[39m] \u001b[38;5;241m=\u001b[39m output[\u001b[38;5;124m\"\u001b[39m\u001b[38;5;124mtiming\u001b[39m\u001b[38;5;124m\"\u001b[39m]\u001b[38;5;241m.\u001b[39mstr\u001b[38;5;241m.\u001b[39mreplace(\u001b[38;5;124m\"\u001b[39m\u001b[38;5;124m.\u001b[39m\u001b[38;5;124m\"\u001b[39m, \u001b[38;5;124m\"\u001b[39m\u001b[38;5;124m:\u001b[39m\u001b[38;5;124m\"\u001b[39m)\n\u001b[1;32m      7\u001b[0m \u001b[38;5;66;03m# filter out rows that have null times or null paces\u001b[39;00m\n\u001b[0;32m----> 8\u001b[0m output \u001b[38;5;241m=\u001b[39m output[(\u001b[38;5;241m~\u001b[39moutput[\u001b[38;5;124m\"\u001b[39m\u001b[38;5;124mtiming\u001b[39m\u001b[38;5;124m\"\u001b[39m]\u001b[38;5;241m.\u001b[39misna()) \u001b[38;5;241m&\u001b[39m (\u001b[38;5;241m~\u001b[39mfiltered[\u001b[38;5;124m\"\u001b[39m\u001b[38;5;124mpace (rhythm)\u001b[39m\u001b[38;5;124m\"\u001b[39m]\u001b[38;5;241m.\u001b[39misna())]\n\u001b[1;32m     10\u001b[0m \u001b[38;5;66;03m# helper function to convert race times into seconds\u001b[39;00m\n\u001b[1;32m     11\u001b[0m \u001b[38;5;28;01mdef\u001b[39;00m \u001b[38;5;21mtime_to_seconds\u001b[39m(df):\n",
      "\u001b[0;31mNameError\u001b[0m: name 'filtered' is not defined"
     ]
    }
   ],
   "source": [
    "pr_nums = calc_pr_num(data)"
   ]
  },
  {
   "cell_type": "code",
   "execution_count": null,
   "id": "ef0731b6",
   "metadata": {},
   "outputs": [],
   "source": [
    "pr_nums.head()"
   ]
  },
  {
   "cell_type": "code",
   "execution_count": 115,
   "id": "a34c2ae1",
   "metadata": {},
   "outputs": [
    {
     "data": {
      "image/png": "[encoded data removed]",
      "text/plain": [
       "<Figure size 640x480 with 1 Axes>"
      ]
     },
     "metadata": {},
     "output_type": "display_data"
    }
   ],
   "source": [
    "pr_nums[\"pr_num\"].plot.hist(bins = 100);"
   ]
  },
  {
   "cell_type": "code",
   "execution_count": null,
   "id": "71c69d7e",
   "metadata": {},
   "outputs": [],
   "source": []
  }
 ],
 "metadata": {
  "kernelspec": {
   "display_name": "Python 3 (ipykernel)",
   "language": "python",
   "name": "python3"
  },
  "language_info": {
   "codemirror_mode": {
    "name": "ipython",
    "version": 3
   },
   "file_extension": ".py",
   "mimetype": "text/x-python",
   "name": "python",
   "nbconvert_exporter": "python",
   "pygments_lexer": "ipython3",
   "version": "3.11.7"
  }
 },
 "nbformat": 4,
 "nbformat_minor": 5
}
