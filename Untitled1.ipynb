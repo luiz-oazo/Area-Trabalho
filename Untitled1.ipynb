{
 "cells": [
  {
   "cell_type": "code",
   "execution_count": null,
   "id": "905eebe3-4e14-4e96-bf61-eeb706732c74",
   "metadata": {},
   "outputs": [],
   "source": [
    "print('Teste')"
   ]
  },
  {
   "cell_type": "code",
   "execution_count": null,
   "id": "23938435-a429-4e6f-9a64-3ae9c665cea6",
   "metadata": {},
   "outputs": [],
   "source": [
    "p = \"print('Teste')\""
   ]
  },
  {
   "cell_type": "code",
   "execution_count": null,
   "id": "cf21d846-e4d6-4412-b5f0-998aa652fb32",
   "metadata": {},
   "outputs": [],
   "source": [
    "exec(p)"
   ]
  },
  {
   "cell_type": "code",
   "execution_count": null,
   "id": "c8b7905b-a460-4749-9540-32934f5b25b1",
   "metadata": {},
   "outputs": [],
   "source": []
  },
  {
   "cell_type": "code",
   "execution_count": null,
   "id": "4ab16188-827f-4697-ab2f-ab9a0e05af81",
   "metadata": {},
   "outputs": [],
   "source": [
    "x = input(\"Digite x: \")\n",
    "y = input(\"Digite y: \")\n",
    "o = input(\"Digite a operacão: \")\n",
    "\n",
    "c = \"r = \" + x + o + y\n",
    "print(c)\n",
    "exec(c)\n",
    "print(f\"Resultado de {x} {o} {y} = {r}\")"
   ]
  },
  {
   "cell_type": "code",
   "execution_count": null,
   "id": "bfd2f232-16ac-4c46-8ab7-b0418d93ca59",
   "metadata": {},
   "outputs": [],
   "source": []
  },
  {
   "cell_type": "code",
   "execution_count": 79,
   "id": "87205807-3378-4f5a-8048-8fc506a55b22",
   "metadata": {},
   "outputs": [
    {
     "name": "stdin",
     "output_type": "stream",
     "text": [
      "Digite x:  4\n",
      "Digite y:  2\n",
      "Digite a operacão:  /\n"
     ]
    },
    {
     "name": "stdout",
     "output_type": "stream",
     "text": [
      "Resultado de 4 / 2 = 2.0\n"
     ]
    }
   ],
   "source": [
    "x = input(\"Digite x: \")\n",
    "y = input(\"Digite y: \")\n",
    "o = input(\"Digite a operacão: \")\n",
    "\n",
    "c = \"r = \" + x + o + y\n",
    "exec(c)\n",
    "print(f\"Resultado de {x} {o} {y} = {r}\")"
   ]
  },
  {
   "cell_type": "code",
   "execution_count": 81,
   "id": "abba25a6-34c0-469d-be9d-4f1186b3fd37",
   "metadata": {},
   "outputs": [],
   "source": [
    "c = \"4/2\""
   ]
  },
  {
   "cell_type": "code",
   "execution_count": 82,
   "id": "9966ed28-7821-48ce-b9b7-57d96263613a",
   "metadata": {},
   "outputs": [
    {
     "name": "stdout",
     "output_type": "stream",
     "text": [
      "Resultado de 4 / 2 = None\n"
     ]
    }
   ],
   "source": [
    "print(f\"Resultado de {x} {o} {y} = {exec(c)}\")"
   ]
  },
  {
   "cell_type": "code",
   "execution_count": null,
   "id": "b4016c2f-bc3b-43f5-84e2-c10b15e26632",
   "metadata": {},
   "outputs": [],
   "source": []
  },
  {
   "cell_type": "code",
   "execution_count": 26,
   "id": "f809678d-2e83-4b17-8549-3a7d9b38bd79",
   "metadata": {},
   "outputs": [
    {
     "name": "stdin",
     "output_type": "stream",
     "text": [
      "Digite x:  3\n",
      "Digite y:  4\n",
      "Digite a operacão:  /\n"
     ]
    },
    {
     "name": "stdout",
     "output_type": "stream",
     "text": [
      "Resultado de 3 / 4 = 0.75\n"
     ]
    }
   ],
   "source": [
    "x = input(\"Digite x: \")\n",
    "y = input(\"Digite y: \")\n",
    "o = input(\"Digite a operacão: \")\n",
    "\n",
    "exec(('r = ' + x + o + y))\n",
    "print(f\"Resultado de {x} {o} {y} = {r}\")"
   ]
  },
  {
   "cell_type": "code",
   "execution_count": null,
   "id": "41c5660e-fcd6-4656-b46d-fd184158ca5f",
   "metadata": {},
   "outputs": [],
   "source": []
  },
  {
   "cell_type": "code",
   "execution_count": 38,
   "id": "e5fc17d0-bc34-4733-9980-7634716ad98c",
   "metadata": {},
   "outputs": [
    {
     "name": "stdin",
     "output_type": "stream",
     "text": [
      "digite:  sfgsfgsdfgfdsgdsfgdsfgdsfgdfsgsgsdfgsdgsdfg\n"
     ]
    },
    {
     "name": "stdout",
     "output_type": "stream",
     "text": [
      "{'s': 12, 'f': 10, 'g': 12, 'd': 9}\n"
     ]
    }
   ],
   "source": [
    "x = input(\"digite: \")\n",
    "\n",
    "y = {}\n",
    "\n",
    "for i in x:\n",
    "    y[i] = y.get(i, 0) + 1\n",
    "\n",
    "print(y)"
   ]
  },
  {
   "cell_type": "code",
   "execution_count": null,
   "id": "8ea2120f-fa46-4161-9365-21e986f98207",
   "metadata": {},
   "outputs": [],
   "source": []
  },
  {
   "cell_type": "code",
   "execution_count": null,
   "id": "4e0f6c30-be88-4a13-8a54-614e38d1a239",
   "metadata": {},
   "outputs": [],
   "source": []
  },
  {
   "cell_type": "code",
   "execution_count": 53,
   "id": "314002a3-5bfd-4d89-a621-1c9b3a753a74",
   "metadata": {},
   "outputs": [
    {
     "name": "stdin",
     "output_type": "stream",
     "text": [
      "Digite um valor para a primeira lista (0 para terminar):  1\n",
      "Digite um valor para a primeira lista (0 para terminar):  2\n",
      "Digite um valor para a primeira lista (0 para terminar):  3\n",
      "Digite um valor para a primeira lista (0 para terminar):  0\n",
      "Digite um valor para a segunda lista (0 para terminar):  6\n",
      "Digite um valor para a segunda lista (0 para terminar):  7\n",
      "Digite um valor para a segunda lista (0 para terminar):  8\n",
      "Digite um valor para a segunda lista (0 para terminar):  0\n"
     ]
    },
    {
     "name": "stdout",
     "output_type": "stream",
     "text": [
      "0: 1\n",
      "1: 2\n",
      "2: 3\n",
      "3: 6\n",
      "4: 7\n",
      "5: 8\n"
     ]
    }
   ],
   "source": [
    "primeira = []\n",
    "segunda = []\n",
    "while True:\n",
    "    e = int(input(\"Digite um valor para a primeira lista (0 para terminar): \"))\n",
    "    if e == 0:\n",
    "        break\n",
    "    primeira.append(e)\n",
    "while True:\n",
    "    e = int(input(\"Digite um valor para a segunda lista (0 para terminar): \"))\n",
    "    if e == 0:\n",
    "        break\n",
    "    segunda.append(e)\n",
    "terceira = primeira[:]  # Copia os elementos da primeira lista\n",
    "terceira.extend(segunda)\n",
    "x = 0\n",
    "while x < len(terceira):\n",
    "    print(f\"{x}: {terceira[x]}\")\n",
    "    x = x + 1"
   ]
  },
  {
   "cell_type": "code",
   "execution_count": 54,
   "id": "341f6d18-8c59-4bde-83e5-d3d9cee79851",
   "metadata": {},
   "outputs": [
    {
     "data": {
      "text/plain": [
       "[1, 2, 3]"
      ]
     },
     "execution_count": 54,
     "metadata": {},
     "output_type": "execute_result"
    }
   ],
   "source": [
    "primeira"
   ]
  },
  {
   "cell_type": "code",
   "execution_count": 55,
   "id": "e1c91ac3-187a-4a5a-a70f-f7e410239fd0",
   "metadata": {},
   "outputs": [
    {
     "data": {
      "text/plain": [
       "[6, 7, 8]"
      ]
     },
     "execution_count": 55,
     "metadata": {},
     "output_type": "execute_result"
    }
   ],
   "source": [
    "segunda"
   ]
  },
  {
   "cell_type": "code",
   "execution_count": 56,
   "id": "35952c67-6168-44bc-81bc-c0c777f92821",
   "metadata": {},
   "outputs": [
    {
     "data": {
      "text/plain": [
       "[1, 2, 3, 6, 7, 8]"
      ]
     },
     "execution_count": 56,
     "metadata": {},
     "output_type": "execute_result"
    }
   ],
   "source": [
    "terceira"
   ]
  },
  {
   "cell_type": "code",
   "execution_count": 49,
   "id": "4b5e39f3-c8c1-467b-bdeb-5181e51ecfd8",
   "metadata": {},
   "outputs": [
    {
     "name": "stdin",
     "output_type": "stream",
     "text": [
      "Digite um valor para a primeira lista (0 para terminar):  1\n",
      "Digite um valor para a primeira lista (0 para terminar):  2\n",
      "Digite um valor para a primeira lista (0 para terminar):  3\n",
      "Digite um valor para a primeira lista (0 para terminar):  4\n",
      "Digite um valor para a primeira lista (0 para terminar):  5\n",
      "Digite um valor para a primeira lista (0 para terminar):  6\n",
      "Digite um valor para a primeira lista (0 para terminar):  0\n",
      "Digite um valor para a segunda lista (0 para terminar):  8\n",
      "Digite um valor para a segunda lista (0 para terminar):  9\n",
      "Digite um valor para a segunda lista (0 para terminar):  0\n"
     ]
    },
    {
     "name": "stdout",
     "output_type": "stream",
     "text": [
      "0: 1\n",
      "1: 2\n",
      "2: 3\n",
      "3: 4\n",
      "4: 5\n",
      "5: 6\n",
      "6: 8\n",
      "7: 9\n"
     ]
    }
   ],
   "source": [
    "primeira = []\n",
    "segunda = []\n",
    "terceira = []\n",
    "while True:\n",
    "    e = int(input(\"Digite um valor para a primeira lista (0 para terminar): \"))\n",
    "    if e == 0:\n",
    "        break\n",
    "    primeira.append(e)\n",
    "while True:\n",
    "    e = int(input(\"Digite um valor para a segunda lista (0 para terminar): \"))\n",
    "    if e == 0:\n",
    "        break\n",
    "    segunda.append(e)\n",
    "terceira = primeira  # Copia os elementos da primeira lista\n",
    "terceira.extend(segunda)\n",
    "x = 0\n",
    "terceira"
   ]
  },
  {
   "cell_type": "code",
   "execution_count": null,
   "id": "11209d76-771b-4a60-81bb-b03e446d8bea",
   "metadata": {},
   "outputs": [],
   "source": []
  },
  {
   "cell_type": "code",
   "execution_count": 77,
   "id": "49209d03-7325-4759-a652-9abf18463583",
   "metadata": {},
   "outputs": [],
   "source": [
    "lista = [0, 1, 2, 3, 4, 5, 6, 7, 8, 9, 10]\n",
    "sublista = lista[2:8:3]  "
   ]
  },
  {
   "cell_type": "code",
   "execution_count": 78,
   "id": "7b618380-3bbd-4902-8e66-dfb69b129dc7",
   "metadata": {},
   "outputs": [
    {
     "data": {
      "text/plain": [
       "[2, 5]"
      ]
     },
     "execution_count": 78,
     "metadata": {},
     "output_type": "execute_result"
    }
   ],
   "source": [
    "sublista"
   ]
  },
  {
   "cell_type": "code",
   "execution_count": null,
   "id": "bc95c753-0610-4ac9-814b-93bbe9370e4b",
   "metadata": {},
   "outputs": [],
   "source": []
  },
  {
   "cell_type": "code",
   "execution_count": null,
   "id": "b5822837-9413-4ec8-9256-087e4730a4fa",
   "metadata": {},
   "outputs": [],
   "source": []
  },
  {
   "cell_type": "code",
   "execution_count": 84,
   "id": "b8f93d98-e127-469e-881d-f165ab63d31f",
   "metadata": {},
   "outputs": [
    {
     "name": "stdout",
     "output_type": "stream",
     "text": [
      "None\n"
     ]
    }
   ],
   "source": [
    "print(exec(\"4/2\"))"
   ]
  },
  {
   "cell_type": "code",
   "execution_count": null,
   "id": "a3e42f9f-3246-42f7-a13f-0efc20dca1bc",
   "metadata": {},
   "outputs": [],
   "source": []
  },
  {
   "cell_type": "code",
   "execution_count": 61,
   "id": "afcd7501-ded5-4640-a40d-7435309c53a1",
   "metadata": {},
   "outputs": [],
   "source": [
    "a = [1,2,3]\n",
    "b = [5,6,7]\n",
    "c = a[:]\n",
    "c.extend(b)"
   ]
  },
  {
   "cell_type": "code",
   "execution_count": 62,
   "id": "cb708fee-b5ce-4fcd-8f67-eaef3c33a5d8",
   "metadata": {},
   "outputs": [
    {
     "data": {
      "text/plain": [
       "[1, 2, 3]"
      ]
     },
     "execution_count": 62,
     "metadata": {},
     "output_type": "execute_result"
    }
   ],
   "source": [
    "a"
   ]
  },
  {
   "cell_type": "code",
   "execution_count": 63,
   "id": "1998960b-63a2-43d9-83b3-9185c8d0780e",
   "metadata": {},
   "outputs": [
    {
     "data": {
      "text/plain": [
       "[5, 6, 7]"
      ]
     },
     "execution_count": 63,
     "metadata": {},
     "output_type": "execute_result"
    }
   ],
   "source": [
    "b"
   ]
  },
  {
   "cell_type": "code",
   "execution_count": 64,
   "id": "11c1f80d-fe91-4534-a986-1a59f17567c3",
   "metadata": {},
   "outputs": [
    {
     "data": {
      "text/plain": [
       "[1, 2, 3, 5, 6, 7]"
      ]
     },
     "execution_count": 64,
     "metadata": {},
     "output_type": "execute_result"
    }
   ],
   "source": [
    "c"
   ]
  },
  {
   "cell_type": "code",
   "execution_count": 83,
   "id": "116d6372-3f4f-4f7b-b0dd-dae7e0432041",
   "metadata": {},
   "outputs": [
    {
     "data": {
      "text/plain": [
       "2.0"
      ]
     },
     "execution_count": 83,
     "metadata": {},
     "output_type": "execute_result"
    }
   ],
   "source": [
    "4/ 2"
   ]
  },
  {
   "cell_type": "code",
   "execution_count": 86,
   "id": "ba39d9a2-7558-423d-b48c-061cddc00bd5",
   "metadata": {},
   "outputs": [
    {
     "data": {
      "text/plain": [
       "{'__name__': '__main__',\n",
       " '__doc__': 'Automatically created module for IPython interactive environment',\n",
       " '__package__': None,\n",
       " '__loader__': None,\n",
       " '__spec__': None,\n",
       " '__builtin__': <module 'builtins' (built-in)>,\n",
       " '__builtins__': <module 'builtins' (built-in)>,\n",
       " '_ih': ['',\n",
       "  'frase = input(\"Digite uma frase para contar as letras:\")\\nd = {}\\nfor letra in frase:\\n    if letra in d:\\n        d[letra] = d[letra] + 1\\n    else:\\n        d[letra] = 1\\nprint(d)',\n",
       "  'n = int(input(\"Digite um número:\"))\\nif n < 0:\\n    print(\"Número inválido. Digite apenas valores positivos\")\\nif n == 0 or n == 1:\\n    print(f\"{n} é um caso especial.\")\\nelse:\\n    if n == 2:\\n        print(\"2 é primo\")\\n    elif n % 2 == 0:\\n        print(f\"{n} não é primo, pois 2 é o único número par primo.\")\\n    else:\\n        x = 3\\n        while x < n:\\n            if n % x == 0:\\n                break\\n            x = x + 2\\n        if x == n:\\n            print(f\"{n} é primo\")\\n        else:\\n            print(f\"{n} não é primo, pois é divisível por {x}\")',\n",
       "  'n = int(input(\"Digite um número:\"))\\nif n < 0:\\n    print(\"Número inválido. Digite apenas valores positivos\")\\nif n == 0 or n == 1:\\n    print(f\"{n} é um caso especial.\")\\nelse:\\n    if n == 2:\\n        print(\"2 é primo\")\\n    elif n % 2 == 0:\\n        print(f\"{n} não é primo, pois 2 é o único número par primo.\")\\n    else:\\n        x = 3\\n        while x < n:\\n            if n % x == 0:\\n                break\\n            x = x + 2\\n        if x == n:\\n            print(f\"{n} é primo\")\\n        else:\\n            print(f\"{n} não é primo, pois é divisível por {x}\")',\n",
       "  'cadastro_pessoal = []\\ncadastro_veiculo = []\\nano_atual = 2024\\ndef marca():\\n    print(\"\"\"\\n░█████╗░██╗░░░██╗████████╗░█████╗░██████╗░██████╗░░█████╗░██████╗░██╗░░░░░███████╗███╗░░░███╗░██████╗\\n██╔══██╗██║░░░██║╚══██╔══╝██╔══██╗██╔══██╗██╔══██╗██╔══██╗██╔══██╗██║░░░░░██╔════╝████╗░████║██╔════╝\\n███████║██║░░░██║░░░██║░░░██║░░██║██████╔╝██████╔╝██║░░██║██████╦╝██║░░░░░█████╗░░██╔████╔██║╚█████╗░\\n██╔══██║██║░░░██║░░░██║░░░██║░░██║██╔═══╝░██╔══██╗██║░░██║██╔══██╗██║░░░░░██╔══╝░░██║╚██╔╝██║░╚═══██╗\\n██║░░██║╚██████╔╝░░░██║░░░╚█████╔╝██║░░░░░██║░░██║╚█████╔╝██████╦╝███████╗███████╗██║░╚═╝░██║██████╔╝\\n╚═╝░░╚═╝░╚═════╝░░░░╚═╝░░░░╚════╝░╚═╝░░░░░╚═╝░░╚═╝░╚════╝░╚═════╝░╚══════╝╚══════╝╚═╝░░░░░╚═╝╚═════╝░\"\"\")\\n    \\n\\ndef menu():\\n    print(\"-- 𝕄𝕖𝕟𝕦 -- \")\\n    print(\"\"\"Digite (1) - Para Cadastro Pessoal.\\nDigite (2) - Cadastrar Veiculos.\\nDigite (3) - Consultar Dados.  \"\"\")\\n    \\ndef voltar_ao_menu():\\n    input(\"Digite uma tecla para voltar ao menu: \")\\n    os.system(\\'cls\\')\\n    marca()\\n    menu()\\n    escolha_opcao()\\n\\ndef opçao_invalida():\\n    print(\"Digite uma opção valida!\")\\n    voltar_ao_menu()\\n\\n\\ndef dados_incorretos():\\n    dados_usuario = int(input(\"\"\"Digite (1) - Para Dados Corretos.\\nDigite (2) - Para Dados Incorretos. \"\"\"))\\n    if dados_usuario == 1:\\n        voltar_ao_menu()\\n    elif dados_usuario == 2: \\n        cadastro_pessoal.clear()\\n        os.system(\\'cls\\')\\n        cadastroPessoal()\\n\\ndef dados_incorretos_veiculos():\\n    dados_usuario = int(input(\"\"\"Digite (1) - Para Dados Corretos.\\nDigite (2) - Para Dados Incorretos. \"\"\"))\\n    if dados_usuario == 1:\\n        voltar_ao_menu()\\n    elif dados_usuario == 2: \\n        cadastro_veiculo.clear()\\n        os.system(\\'cls\\')\\n        cadastroCarro()\\n\\ndef cadastroPessoal():\\n    print(\"Opção Escolhida (1) - Cadastro Pessoal \")\\n    nome = input(\"Digite seu nome completo. \")\\n    email = input(\"Digite seu email. \")\\n    cpf = input(\"Digite seu CPF. \")\\n    dados_pessoais = {\"nome\": nome, \"email\": email,\"cpf\" : cpf }\\n    cadastro_pessoal.append(dados_pessoais)\\n    os.system(\\'cls\\')\\n    print(\"Seus Dados Estão corretos? \")\\n    for dado in cadastro_pessoal:\\n            nome = dado[\"nome\"]\\n            cpf = dado[\"cpf\"]\\n            email = dado[\"email\"]\\n            print(f\"Nome: {nome}\")\\n            print(f\"Email: {email}\")\\n            print(f\"CPF: {cpf}\")\\n    dados_incorretos()\\n\\ndef ConsultaDados():\\n    print(\"Opção Escolhida (3) - Consultar Dados.\")\\n    for dado in cadastro_pessoal:\\n            nome = dado[\"nome\"]\\n            cpf = dado[\"cpf\"]\\n            email = dado[\"email\"]\\n            print(f\"Nome: {nome}\")\\n            print(f\"Email: {email}\")\\n            print(f\"CPF: {cpf}\")\\n    for dado in cadastro_veiculo:\\n        marca = dado[\"marca\"]\\n        nome_veiculo = dado[\"veiculo\"]\\n        ano = dado[\"ano\"]\\n        print(f\"Marca: {marca}\")\\n        print(f\"Veiculo: {nome_veiculo}\")\\n        print(f\"Ano: {ano}\")\\n    voltar_ao_menu()\\n    \\n\\n\\ndef cadastroCarro():\\n    print(\"Opção Escolhida (3) - Cadastro Carro.\")\\n   \\n    marca = input(\"Digite a Marca do seu veiculo. \")\\n        \\n    nome_veiculo = input(\"Digite o nome do veiculo. \")\\n    \\n\\n    while True:\\n        ano = int(input(\"Digite o ano do veiculo. \"))\\n        if ano > ano_atual:\\n            print(\"Erro. O Ano Do Veiculo está maior que o Ano Atual.\")\\n        else:\\n            break\\n        \\n    dados_veiculos = {\"marca\": marca, \"veiculo\": nome_veiculo, \"ano\": ano}\\n    cadastro_veiculo.append(dados_veiculos)\\n    os.system(\\'cls\\')\\n    print(\"Seus Dados Estão Corretos? \")\\n    for dado in cadastro_veiculo:\\n        marca = dado[\"marca\"]\\n        nome_veiculo = dado[\"veiculo\"]\\n        ano = dado[\"ano\"]\\n        print(f\"Marca: {marca}\")\\n        print(f\"Veiculo: {nome_veiculo}\")\\n        print(f\"Ano: {ano}\")\\n    dados_incorretos_veiculos()\\n\\n\\n\\n\\n\\ndef escolha_opcao():\\n    try:\\n        escolha = int(input(\"Digite aqui: \"))\\n        if escolha == 1:\\n            cadastroPessoal()\\n        elif escolha == 2:\\n            cadastroCarro()\\n        elif escolha == 3:\\n            ConsultaDados()\\n            \\n        else:\\n            opçao_invalida()\\n                \\n                \\n\\n    except:\\n        opçao_invalida()\\n\\n\\ndef main():\\n    marca()\\n    menu()\\n    escolha_opcao()\\n \\n\\n        \\n\\nif __name__ == \\'__main__\\':\\n    main()\\n    ',\n",
       "  'cadastro_pessoal = []\\ncadastro_veiculo = []\\nano_atual = 2024\\ndef marca():\\n    print(\"\"\"\\n░█████╗░██╗░░░██╗████████╗░█████╗░██████╗░██████╗░░█████╗░██████╗░██╗░░░░░███████╗███╗░░░███╗░██████╗\\n██╔══██╗██║░░░██║╚══██╔══╝██╔══██╗██╔══██╗██╔══██╗██╔══██╗██╔══██╗██║░░░░░██╔════╝████╗░████║██╔════╝\\n███████║██║░░░██║░░░██║░░░██║░░██║██████╔╝██████╔╝██║░░██║██████╦╝██║░░░░░█████╗░░██╔████╔██║╚█████╗░\\n██╔══██║██║░░░██║░░░██║░░░██║░░██║██╔═══╝░██╔══██╗██║░░██║██╔══██╗██║░░░░░██╔══╝░░██║╚██╔╝██║░╚═══██╗\\n██║░░██║╚██████╔╝░░░██║░░░╚█████╔╝██║░░░░░██║░░██║╚█████╔╝██████╦╝███████╗███████╗██║░╚═╝░██║██████╔╝\\n╚═╝░░╚═╝░╚═════╝░░░░╚═╝░░░░╚════╝░╚═╝░░░░░╚═╝░░╚═╝░╚════╝░╚═════╝░╚══════╝╚══════╝╚═╝░░░░░╚═╝╚═════╝░\"\"\")\\n    \\n\\ndef menu():\\n    print(\"-- 𝕄𝕖𝕟𝕦 -- \")\\n    print(\"\"\"Digite (1) - Para Cadastro Pessoal.\\nDigite (2) - Cadastrar Veiculos.\\nDigite (3) - Consultar Dados.  \"\"\")\\n    \\ndef voltar_ao_menu():\\n    input(\"Digite uma tecla para voltar ao menu: \")\\n    os.system(\\'cls\\')\\n    marca()\\n    menu()\\n    escolha_opcao()\\n\\ndef opçao_invalida():\\n    print(\"Digite uma opção valida!\")\\n    voltar_ao_menu()\\n\\n\\ndef dados_incorretos():\\n    dados_usuario = int(input(\"\"\"Digite (1) - Para Dados Corretos.\\nDigite (2) - Para Dados Incorretos. \"\"\"))\\n    if dados_usuario == 1:\\n        voltar_ao_menu()\\n    elif dados_usuario == 2: \\n        cadastro_pessoal.clear()\\n        os.system(\\'cls\\')\\n        cadastroPessoal()\\n\\ndef dados_incorretos_veiculos():\\n    dados_usuario = int(input(\"\"\"Digite (1) - Para Dados Corretos.\\nDigite (2) - Para Dados Incorretos. \"\"\"))\\n    if dados_usuario == 1:\\n        voltar_ao_menu()\\n    elif dados_usuario == 2: \\n        cadastro_veiculo.clear()\\n        os.system(\\'cls\\')\\n        cadastroCarro()\\n\\ndef cadastroPessoal():\\n    print(\"Opção Escolhida (1) - Cadastro Pessoal \")\\n    nome = input(\"Digite seu nome completo. \")\\n    email = input(\"Digite seu email. \")\\n    cpf = input(\"Digite seu CPF. \")\\n    dados_pessoais = {\"nome\": nome, \"email\": email,\"cpf\" : cpf }\\n    cadastro_pessoal.append(dados_pessoais)\\n    os.system(\\'cls\\')\\n    print(\"Seus Dados Estão corretos? \")\\n    for dado in cadastro_pessoal:\\n            nome = dado[\"nome\"]\\n            cpf = dado[\"cpf\"]\\n            email = dado[\"email\"]\\n            print(f\"Nome: {nome}\")\\n            print(f\"Email: {email}\")\\n            print(f\"CPF: {cpf}\")\\n    dados_incorretos()\\n\\ndef ConsultaDados():\\n    print(\"Opção Escolhida (3) - Consultar Dados.\")\\n    for dado in cadastro_pessoal:\\n            nome = dado[\"nome\"]\\n            cpf = dado[\"cpf\"]\\n            email = dado[\"email\"]\\n            print(f\"Nome: {nome}\")\\n            print(f\"Email: {email}\")\\n            print(f\"CPF: {cpf}\")\\n    for dado in cadastro_veiculo:\\n        marca = dado[\"marca\"]\\n        nome_veiculo = dado[\"veiculo\"]\\n        ano = dado[\"ano\"]\\n        print(f\"Marca: {marca}\")\\n        print(f\"Veiculo: {nome_veiculo}\")\\n        print(f\"Ano: {ano}\")\\n    voltar_ao_menu()\\n    \\n\\n\\ndef cadastroCarro():\\n    print(\"Opção Escolhida (3) - Cadastro Carro.\")\\n   \\n    marca = input(\"Digite a Marca do seu veiculo. \")\\n        \\n    nome_veiculo = input(\"Digite o nome do veiculo. \")\\n    \\n\\n    while True:\\n        ano = int(input(\"Digite o ano do veiculo. \"))\\n        if ano > ano_atual:\\n            print(\"Erro. O Ano Do Veiculo está maior que o Ano Atual.\")\\n        else:\\n            break\\n        \\n    dados_veiculos = {\"marca\": marca, \"veiculo\": nome_veiculo, \"ano\": ano}\\n    cadastro_veiculo.append(dados_veiculos)\\n    os.system(\\'cls\\')\\n    print(\"Seus Dados Estão Corretos? \")\\n    for dado in cadastro_veiculo:\\n        marca = dado[\"marca\"]\\n        nome_veiculo = dado[\"veiculo\"]\\n        ano = dado[\"ano\"]\\n        print(f\"Marca: {marca}\")\\n        print(f\"Veiculo: {nome_veiculo}\")\\n        print(f\"Ano: {ano}\")\\n    dados_incorretos_veiculos()\\n\\n\\n\\n\\n\\ndef escolha_opcao():\\n    try:\\n        escolha = int(input(\"Digite aqui: \"))\\n        if escolha == 1:\\n            cadastroPessoal()\\n        elif escolha == 2:\\n            cadastroCarro()\\n        elif escolha == 3:\\n            ConsultaDados()\\n            \\n        else:\\n            opçao_invalida()\\n                \\n                \\n\\n    except:\\n        opçao_invalida()\\n\\n\\ndef main():\\n    marca()\\n    menu()\\n    escolha_opcao()\\n \\n\\n        \\n\\nif __name__ == \\'__main__\\':\\n    main()',\n",
       "  'import os\\nimport sys\\n\\ncadastro_pessoal = []\\ncadastro_veiculo = []\\nano_atual = 2024\\ndef marca():\\n    print(\"\"\"\\n░█████╗░██╗░░░██╗████████╗░█████╗░██████╗░██████╗░░█████╗░██████╗░██╗░░░░░███████╗███╗░░░███╗░██████╗\\n██╔══██╗██║░░░██║╚══██╔══╝██╔══██╗██╔══██╗██╔══██╗██╔══██╗██╔══██╗██║░░░░░██╔════╝████╗░████║██╔════╝\\n███████║██║░░░██║░░░██║░░░██║░░██║██████╔╝██████╔╝██║░░██║██████╦╝██║░░░░░█████╗░░██╔████╔██║╚█████╗░\\n██╔══██║██║░░░██║░░░██║░░░██║░░██║██╔═══╝░██╔══██╗██║░░██║██╔══██╗██║░░░░░██╔══╝░░██║╚██╔╝██║░╚═══██╗\\n██║░░██║╚██████╔╝░░░██║░░░╚█████╔╝██║░░░░░██║░░██║╚█████╔╝██████╦╝███████╗███████╗██║░╚═╝░██║██████╔╝\\n╚═╝░░╚═╝░╚═════╝░░░░╚═╝░░░░╚════╝░╚═╝░░░░░╚═╝░░╚═╝░╚════╝░╚═════╝░╚══════╝╚══════╝╚═╝░░░░░╚═╝╚═════╝░\"\"\")\\n    \\n\\ndef menu():\\n    print(\"-- 𝕄𝕖𝕟𝕦 -- \")\\n    print(\"\"\"Digite (1) - Para Cadastro Pessoal.\\nDigite (2) - Cadastrar Veiculos.\\nDigite (3) - Consultar Dados.  \"\"\")\\n    \\ndef voltar_ao_menu():\\n    input(\"Digite uma tecla para voltar ao menu: \")\\n    os.system(\\'cls\\')\\n    marca()\\n    menu()\\n    escolha_opcao()\\n\\ndef opçao_invalida():\\n    print(\"Digite uma opção valida!\")\\n    voltar_ao_menu()\\n\\n\\ndef dados_incorretos():\\n    dados_usuario = int(input(\"\"\"Digite (1) - Para Dados Corretos.\\nDigite (2) - Para Dados Incorretos. \"\"\"))\\n    if dados_usuario == 1:\\n        voltar_ao_menu()\\n    elif dados_usuario == 2: \\n        cadastro_pessoal.clear()\\n        os.system(\\'cls\\')\\n        cadastroPessoal()\\n\\ndef dados_incorretos_veiculos():\\n    dados_usuario = int(input(\"\"\"Digite (1) - Para Dados Corretos.\\nDigite (2) - Para Dados Incorretos. \"\"\"))\\n    if dados_usuario == 1:\\n        voltar_ao_menu()\\n    elif dados_usuario == 2: \\n        cadastro_veiculo.clear()\\n        os.system(\\'cls\\')\\n        cadastroCarro()\\n\\ndef cadastroPessoal():\\n    print(\"Opção Escolhida (1) - Cadastro Pessoal \")\\n    nome = input(\"Digite seu nome completo. \")\\n    email = input(\"Digite seu email. \")\\n    cpf = input(\"Digite seu CPF. \")\\n    dados_pessoais = {\"nome\": nome, \"email\": email,\"cpf\" : cpf }\\n    cadastro_pessoal.append(dados_pessoais)\\n    os.system(\\'cls\\')\\n    print(\"Seus Dados Estão corretos? \")\\n    for dado in cadastro_pessoal:\\n            nome = dado[\"nome\"]\\n            cpf = dado[\"cpf\"]\\n            email = dado[\"email\"]\\n            print(f\"Nome: {nome}\")\\n            print(f\"Email: {email}\")\\n            print(f\"CPF: {cpf}\")\\n    dados_incorretos()\\n\\ndef ConsultaDados():\\n    print(\"Opção Escolhida (3) - Consultar Dados.\")\\n    for dado in cadastro_pessoal:\\n            nome = dado[\"nome\"]\\n            cpf = dado[\"cpf\"]\\n            email = dado[\"email\"]\\n            print(f\"Nome: {nome}\")\\n            print(f\"Email: {email}\")\\n            print(f\"CPF: {cpf}\")\\n    for dado in cadastro_veiculo:\\n        marca = dado[\"marca\"]\\n        nome_veiculo = dado[\"veiculo\"]\\n        ano = dado[\"ano\"]\\n        print(f\"Marca: {marca}\")\\n        print(f\"Veiculo: {nome_veiculo}\")\\n        print(f\"Ano: {ano}\")\\n    voltar_ao_menu()\\n    \\n\\n\\ndef cadastroCarro():\\n    print(\"Opção Escolhida (3) - Cadastro Carro.\")\\n   \\n    marca = input(\"Digite a Marca do seu veiculo. \")\\n        \\n    nome_veiculo = input(\"Digite o nome do veiculo. \")\\n    \\n\\n    while True:\\n        ano = int(input(\"Digite o ano do veiculo. \"))\\n        if ano > ano_atual:\\n            print(\"Erro. O Ano Do Veiculo está maior que o Ano Atual.\")\\n        else:\\n            break\\n        \\n    dados_veiculos = {\"marca\": marca, \"veiculo\": nome_veiculo, \"ano\": ano}\\n    cadastro_veiculo.append(dados_veiculos)\\n    os.system(\\'cls\\')\\n    print(\"Seus Dados Estão Corretos? \")\\n    for dado in cadastro_veiculo:\\n        marca = dado[\"marca\"]\\n        nome_veiculo = dado[\"veiculo\"]\\n        ano = dado[\"ano\"]\\n        print(f\"Marca: {marca}\")\\n        print(f\"Veiculo: {nome_veiculo}\")\\n        print(f\"Ano: {ano}\")\\n    dados_incorretos_veiculos()\\n\\ndef escolha_opcao():\\n    try:\\n        escolha = int(input(\"Digite aqui: \"))\\n        if escolha == 1:\\n            cadastroPessoal()\\n        elif escolha == 2:\\n            cadastroCarro()\\n        elif escolha == 3:\\n            ConsultaDados()\\n            \\n        else:\\n            opçao_invalida()\\n                \\n                \\n\\n    except:\\n        opçao_invalida()\\n\\n\\ndef main():\\n    marca()\\n    menu()\\n    escolha_opcao()\\n \\n\\n        \\n\\nif __name__ == \\'__main__\\':\\n    main()',\n",
       "  'import os\\nimport sys\\n\\ncadastro_pessoal = []\\ncadastro_veiculo = []\\nano_atual = 2024\\ndef marca():\\n    print(\"\"\"\\n░█████╗░██╗░░░██╗████████╗░█████╗░██████╗░██████╗░░█████╗░██████╗░██╗░░░░░███████╗███╗░░░███╗░██████╗\\n██╔══██╗██║░░░██║╚══██╔══╝██╔══██╗██╔══██╗██╔══██╗██╔══██╗██╔══██╗██║░░░░░██╔════╝████╗░████║██╔════╝\\n███████║██║░░░██║░░░██║░░░██║░░██║██████╔╝██████╔╝██║░░██║██████╦╝██║░░░░░█████╗░░██╔████╔██║╚█████╗░\\n██╔══██║██║░░░██║░░░██║░░░██║░░██║██╔═══╝░██╔══██╗██║░░██║██╔══██╗██║░░░░░██╔══╝░░██║╚██╔╝██║░╚═══██╗\\n██║░░██║╚██████╔╝░░░██║░░░╚█████╔╝██║░░░░░██║░░██║╚█████╔╝██████╦╝███████╗███████╗██║░╚═╝░██║██████╔╝\\n╚═╝░░╚═╝░╚═════╝░░░░╚═╝░░░░╚════╝░╚═╝░░░░░╚═╝░░╚═╝░╚════╝░╚═════╝░╚══════╝╚══════╝╚═╝░░░░░╚═╝╚═════╝░\"\"\")\\n    \\n\\ndef menu():\\n    print(\"-- 𝕄𝕖𝕟𝕦 -- \")\\n    print(\"\"\"Digite (1) - Para Cadastro Pessoal.\\nDigite (2) - Cadastrar Veiculos.\\nDigite (3) - Consultar Dados.  \"\"\")\\n    \\ndef voltar_ao_menu():\\n    input(\"Digite uma tecla para voltar ao menu: \")\\n    os.system(\\'cls\\')\\n    marca()\\n    menu()\\n    escolha_opcao()\\n\\ndef opçao_invalida():\\n    print(\"Digite uma opção valida!\")\\n    voltar_ao_menu()\\n\\n\\ndef dados_incorretos():\\n    dados_usuario = int(input(\"\"\"Digite (1) - Para Dados Corretos.\\nDigite (2) - Para Dados Incorretos. \"\"\"))\\n    if dados_usuario == 1:\\n        voltar_ao_menu()\\n    elif dados_usuario == 2: \\n        cadastro_pessoal.clear()\\n        os.system(\\'clear\\')\\n        cadastroPessoal()\\n\\ndef dados_incorretos_veiculos():\\n    dados_usuario = int(input(\"\"\"Digite (1) - Para Dados Corretos.\\nDigite (2) - Para Dados Incorretos. \"\"\"))\\n    if dados_usuario == 1:\\n        voltar_ao_menu()\\n    elif dados_usuario == 2: \\n        cadastro_veiculo.clear()\\n        os.system(\\'cls\\')\\n        cadastroCarro()\\n\\ndef cadastroPessoal():\\n    print(\"Opção Escolhida (1) - Cadastro Pessoal \")\\n    nome = input(\"Digite seu nome completo. \")\\n    email = input(\"Digite seu email. \")\\n    cpf = input(\"Digite seu CPF. \")\\n    dados_pessoais = {\"nome\": nome, \"email\": email,\"cpf\" : cpf }\\n    cadastro_pessoal.append(dados_pessoais)\\n    os.system(\\'clear\\')\\n    print(\"Seus Dados Estão corretos? \")\\n    for dado in cadastro_pessoal:\\n            nome = dado[\"nome\"]\\n            cpf = dado[\"cpf\"]\\n            email = dado[\"email\"]\\n            print(f\"Nome: {nome}\")\\n            print(f\"Email: {email}\")\\n            print(f\"CPF: {cpf}\")\\n    dados_incorretos()\\n\\ndef ConsultaDados():\\n    print(\"Opção Escolhida (3) - Consultar Dados.\")\\n    for dado in cadastro_pessoal:\\n            nome = dado[\"nome\"]\\n            cpf = dado[\"cpf\"]\\n            email = dado[\"email\"]\\n            print(f\"Nome: {nome}\")\\n            print(f\"Email: {email}\")\\n            print(f\"CPF: {cpf}\")\\n    for dado in cadastro_veiculo:\\n        marca = dado[\"marca\"]\\n        nome_veiculo = dado[\"veiculo\"]\\n        ano = dado[\"ano\"]\\n        print(f\"Marca: {marca}\")\\n        print(f\"Veiculo: {nome_veiculo}\")\\n        print(f\"Ano: {ano}\")\\n    voltar_ao_menu()\\n    \\n\\n\\ndef cadastroCarro():\\n    print(\"Opção Escolhida (3) - Cadastro Carro.\")\\n   \\n    marca = input(\"Digite a Marca do seu veiculo. \")\\n        \\n    nome_veiculo = input(\"Digite o nome do veiculo. \")\\n    \\n\\n    while True:\\n        ano = int(input(\"Digite o ano do veiculo. \"))\\n        if ano > ano_atual:\\n            print(\"Erro. O Ano Do Veiculo está maior que o Ano Atual.\")\\n        else:\\n            break\\n        \\n    dados_veiculos = {\"marca\": marca, \"veiculo\": nome_veiculo, \"ano\": ano}\\n    cadastro_veiculo.append(dados_veiculos)\\n    os.system(\\'clear\\')\\n    print(\"Seus Dados Estão Corretos? \")\\n    for dado in cadastro_veiculo:\\n        marca = dado[\"marca\"]\\n        nome_veiculo = dado[\"veiculo\"]\\n        ano = dado[\"ano\"]\\n        print(f\"Marca: {marca}\")\\n        print(f\"Veiculo: {nome_veiculo}\")\\n        print(f\"Ano: {ano}\")\\n    dados_incorretos_veiculos()\\n\\ndef escolha_opcao():\\n    try:\\n        escolha = int(input(\"Digite aqui: \"))\\n        if escolha == 1:\\n            cadastroPessoal()\\n        elif escolha == 2:\\n            cadastroCarro()\\n        elif escolha == 3:\\n            ConsultaDados()\\n            \\n        else:\\n            opçao_invalida()\\n                \\n                \\n\\n    except:\\n        opçao_invalida()\\n\\n\\ndef main():\\n    marca()\\n    menu()\\n    escolha_opcao()\\n \\n\\n        \\n\\nif __name__ == \\'__main__\\':\\n    main()',\n",
       "  'import os\\nimport sys\\n\\ncadastro_pessoal = []\\ncadastro_veiculo = []\\nano_atual = 2024\\ndef marca():\\n    print(\"\"\"\\n░█████╗░██╗░░░██╗████████╗░█████╗░██████╗░██████╗░░█████╗░██████╗░██╗░░░░░███████╗███╗░░░███╗░██████╗\\n██╔══██╗██║░░░██║╚══██╔══╝██╔══██╗██╔══██╗██╔══██╗██╔══██╗██╔══██╗██║░░░░░██╔════╝████╗░████║██╔════╝\\n███████║██║░░░██║░░░██║░░░██║░░██║██████╔╝██████╔╝██║░░██║██████╦╝██║░░░░░█████╗░░██╔████╔██║╚█████╗░\\n██╔══██║██║░░░██║░░░██║░░░██║░░██║██╔═══╝░██╔══██╗██║░░██║██╔══██╗██║░░░░░██╔══╝░░██║╚██╔╝██║░╚═══██╗\\n██║░░██║╚██████╔╝░░░██║░░░╚█████╔╝██║░░░░░██║░░██║╚█████╔╝██████╦╝███████╗███████╗██║░╚═╝░██║██████╔╝\\n╚═╝░░╚═╝░╚═════╝░░░░╚═╝░░░░╚════╝░╚═╝░░░░░╚═╝░░╚═╝░╚════╝░╚═════╝░╚══════╝╚══════╝╚═╝░░░░░╚═╝╚═════╝░\"\"\")\\n    \\n\\ndef menu():\\n    print(\"-- 𝕄𝕖𝕟𝕦 -- \")\\n    print(\"\"\"Digite (1) - Para Cadastro Pessoal.\\nDigite (2) - Cadastrar Veiculos.\\nDigite (3) - Consultar Dados.  \"\"\")\\n    \\ndef voltar_ao_menu():\\n    input(\"Digite uma tecla para voltar ao menu: \")\\n    os.system(\\'cls\\')\\n    marca()\\n    menu()\\n    escolha_opcao()\\n\\ndef opçao_invalida():\\n    print(\"Digite uma opção valida!\")\\n    voltar_ao_menu()\\n\\n\\ndef dados_incorretos():\\n    dados_usuario = int(input(\"\"\"Digite (1) - Para Dados Corretos.\\nDigite (2) - Para Dados Incorretos. \"\"\"))\\n    if dados_usuario == 1:\\n        voltar_ao_menu()\\n    elif dados_usuario == 2: \\n        cadastro_pessoal.clear()\\n        os.system(\\'clear\\')\\n        cadastroPessoal()\\n\\ndef dados_incorretos_veiculos():\\n    dados_usuario = int(input(\"\"\"Digite (1) - Para Dados Corretos.\\nDigite (2) - Para Dados Incorretos. \"\"\"))\\n    if dados_usuario == 1:\\n        voltar_ao_menu()\\n    elif dados_usuario == 2: \\n        cadastro_veiculo.clear()\\n        os.system(\\'cls\\')\\n        cadastroCarro()\\n\\ndef cadastroPessoal():\\n    print(\"Opção Escolhida (1) - Cadastro Pessoal \")\\n    nome = input(\"Digite seu nome completo. \")\\n    email = input(\"Digite seu email. \")\\n    cpf = input(\"Digite seu CPF. \")\\n    dados_pessoais = {\"nome\": nome, \"email\": email,\"cpf\" : cpf }\\n    cadastro_pessoal.append(dados_pessoais)\\n    os.system(\\'clear\\')\\n    print(\"Seus Dados Estão corretos? \")\\n    for dado in cadastro_pessoal:\\n            nome = dado[\"nome\"]\\n            cpf = dado[\"cpf\"]\\n            email = dado[\"email\"]\\n            print(f\"Nome: {nome}\")\\n            print(f\"Email: {email}\")\\n            print(f\"CPF: {cpf}\")\\n    dados_incorretos()\\n\\ndef ConsultaDados():\\n    print(\"Opção Escolhida (3) - Consultar Dados.\")\\n    for dado in cadastro_pessoal:\\n            nome = dado[\"nome\"]\\n            cpf = dado[\"cpf\"]\\n            email = dado[\"email\"]\\n            print(f\"Nome: {nome}\")\\n            print(f\"Email: {email}\")\\n            print(f\"CPF: {cpf}\")\\n    for dado in cadastro_veiculo:\\n        marca = dado[\"marca\"]\\n        nome_veiculo = dado[\"veiculo\"]\\n        ano = dado[\"ano\"]\\n        print(f\"Marca: {marca}\")\\n        print(f\"Veiculo: {nome_veiculo}\")\\n        print(f\"Ano: {ano}\")\\n    voltar_ao_menu()\\n    \\n\\n\\ndef cadastroCarro():\\n    print(\"Opção Escolhida (3) - Cadastro Carro.\")\\n   \\n    marca = input(\"Digite a Marca do seu veiculo. \")\\n        \\n    nome_veiculo = input(\"Digite o nome do veiculo. \")\\n    \\n\\n    while True:\\n        ano = int(input(\"Digite o ano do veiculo. \"))\\n        if ano > ano_atual:\\n            print(\"Erro. O Ano Do Veiculo está maior que o Ano Atual.\")\\n        else:\\n            break\\n        \\n    dados_veiculos = {\"marca\": marca, \"veiculo\": nome_veiculo, \"ano\": ano}\\n    cadastro_veiculo.append(dados_veiculos)\\n    os.system(\\'clear\\')\\n    print(\"Seus Dados Estão Corretos? \")\\n    for dado in cadastro_veiculo:\\n        marca = dado[\"marca\"]\\n        nome_veiculo = dado[\"veiculo\"]\\n        ano = dado[\"ano\"]\\n        print(f\"Marca: {marca}\")\\n        print(f\"Veiculo: {nome_veiculo}\")\\n        print(f\"Ano: {ano}\")\\n    dados_incorretos_veiculos()\\n\\ndef escolha_opcao():\\n    try:\\n        escolha = int(input(\"Digite aqui: \"))\\n        if escolha == 1:\\n            cadastroPessoal()\\n        elif escolha == 2:\\n            cadastroCarro()\\n        elif escolha == 3:\\n            ConsultaDados()\\n            \\n        else:\\n            opçao_invalida()\\n                \\n                \\n\\n    except:\\n        opçao_invalida()\\n\\n\\ndef main():\\n    marca()\\n    menu()\\n    escolha_opcao()\\n \\n\\n        \\n\\nif __name__ == \\'__main__\\':\\n    main()',\n",
       "  'formula = \"10 - 5\"',\n",
       "  'formula',\n",
       "  'exec(formula)',\n",
       "  'exec(formula, conteudo)',\n",
       "  'formula = \"x = 10 - 5\"',\n",
       "  'formula',\n",
       "  'exec(formula)',\n",
       "  'x',\n",
       "  'formula = \"x = 10 * 5\"',\n",
       "  'formula',\n",
       "  'exec(formula)',\n",
       "  'x',\n",
       "  'x = input(\"Digite x: \")\\ny = input(\"Digite y: \")\\no = input(\"Digite a operacão: \")\\n\\nc = \"r = \"+ x + o + y\\nexec(c)\\nprint(f\"resultado {x} {o} {y} = {r}\")',\n",
       "  'x = input(\"Digite x: \")\\ny = input(\"Digite y: \")\\no = input(\"Digite a operacão: \")\\n\\nprint(f\"Resultado de {x} {o} {y} = {exec(\"r = \"+ x + o + y)}\")',\n",
       "  'x = input(\"Digite x: \")\\ny = input(\"Digite y: \")\\no = input(\"Digite a operacão: \")\\n\\nprint(f\"Resultado de {x} {o} {y} = {exec((\"r = \" + x + o + y))}\")',\n",
       "  'x = input(\"Digite x: \")\\ny = input(\"Digite y: \")\\no = input(\"Digite a operacão: \")\\n\\nprint(f\"Resultado de {x} {o} {y} = {exec((\\'r = \\' + x + o + y))}\")',\n",
       "  'x = input(\"Digite x: \")\\ny = input(\"Digite y: \")\\no = input(\"Digite a operacão: \")\\n\\nc = \"r = \" + x + o + y\\nexec(c)\\nprint(f\"Resultado de {x} {o} {y} = {r}\")',\n",
       "  'x = input(\"Digite x: \")\\ny = input(\"Digite y: \")\\no = input(\"Digite a operacão: \")\\n\\nexec((\\'r = \\' + x + o + y))\\nprint(f\"Resultado de {x} {o} {y} = {r}\")',\n",
       "  'c',\n",
       "  'exec(\"print(\\'s\\')\")',\n",
       "  'exec(\"print(\\'Teste\\')\")',\n",
       "  \"print('Teste')\",\n",
       "  \"p = print('Teste')\",\n",
       "  'exec(p)',\n",
       "  \"print('Teste')\",\n",
       "  'p = \"print(\\'Teste\\')\"',\n",
       "  'exec(p)',\n",
       "  'x = input(\"Digite x: \")\\ny = input(\"Digite y: \")\\no = input(\"Digite a operacão: \")\\n\\nc = \"r = \" + x + o + y\\nexec(c)\\nprint(f\"Resultado de {x} {o} {y} = {r}\")',\n",
       "  'x = input(\"digite: \")\\n\\ny = {}\\n\\nfor i in x:\\n    y{i} = y.get(i, 0) + 1\\n\\nprint(y)',\n",
       "  'x = input(\"digite: \")\\n\\ny = {}\\n\\nfor i in x:\\n    y[i] = y.get(i, 0) + 1\\n\\nprint(y)',\n",
       "  'x',\n",
       "  'y = {x: input(\"Digite uma palavra: \").count(x) for x in set(input())}\\nprint(y)',\n",
       "  'primeira = []\\nsegunda = []\\nwhile True:\\n    e = int(input(\"Digite um valor para a primeira lista (0 para terminar): \"))\\n    if e == 0:\\n        break\\n    primeira.append(e)\\nwhile True:\\n    e = int(input(\"Digite um valor para a segunda lista (0 para terminar): \"))\\n    if e == 0:\\n        break\\n    segunda.append(e)\\nterceira = primeira[:]  # Copia os elementos da primeira lista\\nterceira.extend(segunda)\\nx = 0\\nwhile x < len(terceira):\\n    print(f\"{x}: {terceira[x]}\")\\n    x = x + 1',\n",
       "  'primeira',\n",
       "  'segunda',\n",
       "  'terceira',\n",
       "  'primeira = []\\nsegunda = []\\nwhile True:\\n    e = int(input(\"Digite um valor para a primeira lista (0 para terminar): \"))\\n    if e == 0:\\n        break\\n    primeira.append(e)\\nwhile True:\\n    e = int(input(\"Digite um valor para a segunda lista (0 para terminar): \"))\\n    if e == 0:\\n        break\\n    segunda.append(e)\\nterceira = primeira  # Copia os elementos da primeira lista\\nterceira.extend(segunda)\\nx = 0\\nwhile x < len(terceira):\\n    print(f\"{x}: {terceira[x]}\")\\n    x = x + 1',\n",
       "  'primeira',\n",
       "  'segunda',\n",
       "  'terceira',\n",
       "  'primeira = []\\nsegunda = []\\nterceira = []\\nwhile True:\\n    e = int(input(\"Digite um valor para a primeira lista (0 para terminar): \"))\\n    if e == 0:\\n        break\\n    primeira.append(e)\\nwhile True:\\n    e = int(input(\"Digite um valor para a segunda lista (0 para terminar): \"))\\n    if e == 0:\\n        break\\n    segunda.append(e)\\nterceira = primeira  # Copia os elementos da primeira lista\\nterceira.extend(segunda)\\nx = 0\\nwhile x < len(terceira):\\n    print(f\"{x}: {terceira[x]}\")\\n    x = x + 1',\n",
       "  'primeira',\n",
       "  'segunda',\n",
       "  'terceira',\n",
       "  'primeira = []\\nsegunda = []\\nwhile True:\\n    e = int(input(\"Digite um valor para a primeira lista (0 para terminar): \"))\\n    if e == 0:\\n        break\\n    primeira.append(e)\\nwhile True:\\n    e = int(input(\"Digite um valor para a segunda lista (0 para terminar): \"))\\n    if e == 0:\\n        break\\n    segunda.append(e)\\nterceira = primeira[:]  # Copia os elementos da primeira lista\\nterceira.extend(segunda)\\nx = 0\\nwhile x < len(terceira):\\n    print(f\"{x}: {terceira[x]}\")\\n    x = x + 1',\n",
       "  'primeira',\n",
       "  'segunda',\n",
       "  'terceira',\n",
       "  'a = [1,2,3]\\nb = [5,6,7]\\nc = a\\nc.extend(b)',\n",
       "  'a',\n",
       "  'b',\n",
       "  'c',\n",
       "  'a = [1,2,3]\\nb = [5,6,7]\\nc = a[:]\\nc.extend(b)',\n",
       "  'a',\n",
       "  'b',\n",
       "  'c',\n",
       "  'lista = [10, 20, 30, 40, 50, 60]\\nsublista = lista[1:4]  ',\n",
       "  'sublista',\n",
       "  'lista = [10, 20, 30, 40, 50, 60, 70, 80, 90, 100, 110, 120, 140, 160, 180, 200]\\nsublista = lista[1:4]  ',\n",
       "  'sublista',\n",
       "  'lista = [10, 20, 30, 40, 50, 60, 70, 80, 90, 100, 110, 120, 140, 160, 180, 200]\\nsublista = lista[1:4:2]  ',\n",
       "  'sublista',\n",
       "  'lista = [0, 1, 2, 3, 4, 5, 6, 7, 8, 9, 10]\\nsublista = lista[1:4:2]  ',\n",
       "  'sublista',\n",
       "  'lista = [0, 1, 2, 3, 4, 5, 6, 7, 8, 9, 10]\\nsublista = lista[1:8:2]  ',\n",
       "  'sublista',\n",
       "  'lista = [0, 1, 2, 3, 4, 5, 6, 7, 8, 9, 10]\\nsublista = lista[1:8:3]  ',\n",
       "  'sublista',\n",
       "  'lista = [0, 1, 2, 3, 4, 5, 6, 7, 8, 9, 10]\\nsublista = lista[2:8:3]  ',\n",
       "  'sublista',\n",
       "  'x = input(\"Digite x: \")\\ny = input(\"Digite y: \")\\no = input(\"Digite a operacão: \")\\n\\nc = \"r = \" + x + o + y\\nexec(c)\\nprint(f\"Resultado de {x} {o} {y} = {r}\")',\n",
       "  'c',\n",
       "  'c = \"4/2\"',\n",
       "  'print(f\"Resultado de {x} {o} {y} = {exec(c)}\")',\n",
       "  '4/ 2',\n",
       "  'print(exec(\"4/2\"))',\n",
       "  'var()',\n",
       "  'vars()'],\n",
       " '_oh': {10: '10 - 5',\n",
       "  14: 'x = 10 - 5',\n",
       "  16: 5,\n",
       "  18: 'x = 10 * 5',\n",
       "  20: 50,\n",
       "  27: 'r = 3/4',\n",
       "  39: 'sfgsfgsdfgfdsgdsfgdsfgdsfgdfsgsgsdfgsdgsdfg',\n",
       "  42: [1, 2, 3, 2, 1, 2, 3],\n",
       "  43: [4, 3, 2, 2, 3, 3, 4],\n",
       "  44: [1, 2, 3, 2, 1, 2, 3, 4, 3, 2, 2, 3, 3, 4],\n",
       "  46: [3, 2, 3, 6, 7, 8],\n",
       "  47: [6, 7, 8],\n",
       "  48: [3, 2, 3, 6, 7, 8],\n",
       "  50: [1, 2, 3, 4, 5, 6, 8, 9],\n",
       "  51: [8, 9],\n",
       "  52: [1, 2, 3, 4, 5, 6, 8, 9],\n",
       "  54: [1, 2, 3],\n",
       "  55: [6, 7, 8],\n",
       "  56: [1, 2, 3, 6, 7, 8],\n",
       "  58: [1, 2, 3, 5, 6, 7],\n",
       "  59: [5, 6, 7],\n",
       "  60: [1, 2, 3, 5, 6, 7],\n",
       "  62: [1, 2, 3],\n",
       "  63: [5, 6, 7],\n",
       "  64: [1, 2, 3, 5, 6, 7],\n",
       "  66: [20, 30, 40],\n",
       "  68: [20, 30, 40],\n",
       "  70: [20, 40],\n",
       "  72: [1, 3],\n",
       "  74: [1, 3, 5, 7],\n",
       "  76: [1, 4, 7],\n",
       "  78: [2, 5],\n",
       "  80: 'r = 4/2',\n",
       "  83: 2.0},\n",
       " '_dh': [PosixPath('/Users/luiz')],\n",
       " 'In': ['',\n",
       "  'frase = input(\"Digite uma frase para contar as letras:\")\\nd = {}\\nfor letra in frase:\\n    if letra in d:\\n        d[letra] = d[letra] + 1\\n    else:\\n        d[letra] = 1\\nprint(d)',\n",
       "  'n = int(input(\"Digite um número:\"))\\nif n < 0:\\n    print(\"Número inválido. Digite apenas valores positivos\")\\nif n == 0 or n == 1:\\n    print(f\"{n} é um caso especial.\")\\nelse:\\n    if n == 2:\\n        print(\"2 é primo\")\\n    elif n % 2 == 0:\\n        print(f\"{n} não é primo, pois 2 é o único número par primo.\")\\n    else:\\n        x = 3\\n        while x < n:\\n            if n % x == 0:\\n                break\\n            x = x + 2\\n        if x == n:\\n            print(f\"{n} é primo\")\\n        else:\\n            print(f\"{n} não é primo, pois é divisível por {x}\")',\n",
       "  'n = int(input(\"Digite um número:\"))\\nif n < 0:\\n    print(\"Número inválido. Digite apenas valores positivos\")\\nif n == 0 or n == 1:\\n    print(f\"{n} é um caso especial.\")\\nelse:\\n    if n == 2:\\n        print(\"2 é primo\")\\n    elif n % 2 == 0:\\n        print(f\"{n} não é primo, pois 2 é o único número par primo.\")\\n    else:\\n        x = 3\\n        while x < n:\\n            if n % x == 0:\\n                break\\n            x = x + 2\\n        if x == n:\\n            print(f\"{n} é primo\")\\n        else:\\n            print(f\"{n} não é primo, pois é divisível por {x}\")',\n",
       "  'cadastro_pessoal = []\\ncadastro_veiculo = []\\nano_atual = 2024\\ndef marca():\\n    print(\"\"\"\\n░█████╗░██╗░░░██╗████████╗░█████╗░██████╗░██████╗░░█████╗░██████╗░██╗░░░░░███████╗███╗░░░███╗░██████╗\\n██╔══██╗██║░░░██║╚══██╔══╝██╔══██╗██╔══██╗██╔══██╗██╔══██╗██╔══██╗██║░░░░░██╔════╝████╗░████║██╔════╝\\n███████║██║░░░██║░░░██║░░░██║░░██║██████╔╝██████╔╝██║░░██║██████╦╝██║░░░░░█████╗░░██╔████╔██║╚█████╗░\\n██╔══██║██║░░░██║░░░██║░░░██║░░██║██╔═══╝░██╔══██╗██║░░██║██╔══██╗██║░░░░░██╔══╝░░██║╚██╔╝██║░╚═══██╗\\n██║░░██║╚██████╔╝░░░██║░░░╚█████╔╝██║░░░░░██║░░██║╚█████╔╝██████╦╝███████╗███████╗██║░╚═╝░██║██████╔╝\\n╚═╝░░╚═╝░╚═════╝░░░░╚═╝░░░░╚════╝░╚═╝░░░░░╚═╝░░╚═╝░╚════╝░╚═════╝░╚══════╝╚══════╝╚═╝░░░░░╚═╝╚═════╝░\"\"\")\\n    \\n\\ndef menu():\\n    print(\"-- 𝕄𝕖𝕟𝕦 -- \")\\n    print(\"\"\"Digite (1) - Para Cadastro Pessoal.\\nDigite (2) - Cadastrar Veiculos.\\nDigite (3) - Consultar Dados.  \"\"\")\\n    \\ndef voltar_ao_menu():\\n    input(\"Digite uma tecla para voltar ao menu: \")\\n    os.system(\\'cls\\')\\n    marca()\\n    menu()\\n    escolha_opcao()\\n\\ndef opçao_invalida():\\n    print(\"Digite uma opção valida!\")\\n    voltar_ao_menu()\\n\\n\\ndef dados_incorretos():\\n    dados_usuario = int(input(\"\"\"Digite (1) - Para Dados Corretos.\\nDigite (2) - Para Dados Incorretos. \"\"\"))\\n    if dados_usuario == 1:\\n        voltar_ao_menu()\\n    elif dados_usuario == 2: \\n        cadastro_pessoal.clear()\\n        os.system(\\'cls\\')\\n        cadastroPessoal()\\n\\ndef dados_incorretos_veiculos():\\n    dados_usuario = int(input(\"\"\"Digite (1) - Para Dados Corretos.\\nDigite (2) - Para Dados Incorretos. \"\"\"))\\n    if dados_usuario == 1:\\n        voltar_ao_menu()\\n    elif dados_usuario == 2: \\n        cadastro_veiculo.clear()\\n        os.system(\\'cls\\')\\n        cadastroCarro()\\n\\ndef cadastroPessoal():\\n    print(\"Opção Escolhida (1) - Cadastro Pessoal \")\\n    nome = input(\"Digite seu nome completo. \")\\n    email = input(\"Digite seu email. \")\\n    cpf = input(\"Digite seu CPF. \")\\n    dados_pessoais = {\"nome\": nome, \"email\": email,\"cpf\" : cpf }\\n    cadastro_pessoal.append(dados_pessoais)\\n    os.system(\\'cls\\')\\n    print(\"Seus Dados Estão corretos? \")\\n    for dado in cadastro_pessoal:\\n            nome = dado[\"nome\"]\\n            cpf = dado[\"cpf\"]\\n            email = dado[\"email\"]\\n            print(f\"Nome: {nome}\")\\n            print(f\"Email: {email}\")\\n            print(f\"CPF: {cpf}\")\\n    dados_incorretos()\\n\\ndef ConsultaDados():\\n    print(\"Opção Escolhida (3) - Consultar Dados.\")\\n    for dado in cadastro_pessoal:\\n            nome = dado[\"nome\"]\\n            cpf = dado[\"cpf\"]\\n            email = dado[\"email\"]\\n            print(f\"Nome: {nome}\")\\n            print(f\"Email: {email}\")\\n            print(f\"CPF: {cpf}\")\\n    for dado in cadastro_veiculo:\\n        marca = dado[\"marca\"]\\n        nome_veiculo = dado[\"veiculo\"]\\n        ano = dado[\"ano\"]\\n        print(f\"Marca: {marca}\")\\n        print(f\"Veiculo: {nome_veiculo}\")\\n        print(f\"Ano: {ano}\")\\n    voltar_ao_menu()\\n    \\n\\n\\ndef cadastroCarro():\\n    print(\"Opção Escolhida (3) - Cadastro Carro.\")\\n   \\n    marca = input(\"Digite a Marca do seu veiculo. \")\\n        \\n    nome_veiculo = input(\"Digite o nome do veiculo. \")\\n    \\n\\n    while True:\\n        ano = int(input(\"Digite o ano do veiculo. \"))\\n        if ano > ano_atual:\\n            print(\"Erro. O Ano Do Veiculo está maior que o Ano Atual.\")\\n        else:\\n            break\\n        \\n    dados_veiculos = {\"marca\": marca, \"veiculo\": nome_veiculo, \"ano\": ano}\\n    cadastro_veiculo.append(dados_veiculos)\\n    os.system(\\'cls\\')\\n    print(\"Seus Dados Estão Corretos? \")\\n    for dado in cadastro_veiculo:\\n        marca = dado[\"marca\"]\\n        nome_veiculo = dado[\"veiculo\"]\\n        ano = dado[\"ano\"]\\n        print(f\"Marca: {marca}\")\\n        print(f\"Veiculo: {nome_veiculo}\")\\n        print(f\"Ano: {ano}\")\\n    dados_incorretos_veiculos()\\n\\n\\n\\n\\n\\ndef escolha_opcao():\\n    try:\\n        escolha = int(input(\"Digite aqui: \"))\\n        if escolha == 1:\\n            cadastroPessoal()\\n        elif escolha == 2:\\n            cadastroCarro()\\n        elif escolha == 3:\\n            ConsultaDados()\\n            \\n        else:\\n            opçao_invalida()\\n                \\n                \\n\\n    except:\\n        opçao_invalida()\\n\\n\\ndef main():\\n    marca()\\n    menu()\\n    escolha_opcao()\\n \\n\\n        \\n\\nif __name__ == \\'__main__\\':\\n    main()\\n    ',\n",
       "  'cadastro_pessoal = []\\ncadastro_veiculo = []\\nano_atual = 2024\\ndef marca():\\n    print(\"\"\"\\n░█████╗░██╗░░░██╗████████╗░█████╗░██████╗░██████╗░░█████╗░██████╗░██╗░░░░░███████╗███╗░░░███╗░██████╗\\n██╔══██╗██║░░░██║╚══██╔══╝██╔══██╗██╔══██╗██╔══██╗██╔══██╗██╔══██╗██║░░░░░██╔════╝████╗░████║██╔════╝\\n███████║██║░░░██║░░░██║░░░██║░░██║██████╔╝██████╔╝██║░░██║██████╦╝██║░░░░░█████╗░░██╔████╔██║╚█████╗░\\n██╔══██║██║░░░██║░░░██║░░░██║░░██║██╔═══╝░██╔══██╗██║░░██║██╔══██╗██║░░░░░██╔══╝░░██║╚██╔╝██║░╚═══██╗\\n██║░░██║╚██████╔╝░░░██║░░░╚█████╔╝██║░░░░░██║░░██║╚█████╔╝██████╦╝███████╗███████╗██║░╚═╝░██║██████╔╝\\n╚═╝░░╚═╝░╚═════╝░░░░╚═╝░░░░╚════╝░╚═╝░░░░░╚═╝░░╚═╝░╚════╝░╚═════╝░╚══════╝╚══════╝╚═╝░░░░░╚═╝╚═════╝░\"\"\")\\n    \\n\\ndef menu():\\n    print(\"-- 𝕄𝕖𝕟𝕦 -- \")\\n    print(\"\"\"Digite (1) - Para Cadastro Pessoal.\\nDigite (2) - Cadastrar Veiculos.\\nDigite (3) - Consultar Dados.  \"\"\")\\n    \\ndef voltar_ao_menu():\\n    input(\"Digite uma tecla para voltar ao menu: \")\\n    os.system(\\'cls\\')\\n    marca()\\n    menu()\\n    escolha_opcao()\\n\\ndef opçao_invalida():\\n    print(\"Digite uma opção valida!\")\\n    voltar_ao_menu()\\n\\n\\ndef dados_incorretos():\\n    dados_usuario = int(input(\"\"\"Digite (1) - Para Dados Corretos.\\nDigite (2) - Para Dados Incorretos. \"\"\"))\\n    if dados_usuario == 1:\\n        voltar_ao_menu()\\n    elif dados_usuario == 2: \\n        cadastro_pessoal.clear()\\n        os.system(\\'cls\\')\\n        cadastroPessoal()\\n\\ndef dados_incorretos_veiculos():\\n    dados_usuario = int(input(\"\"\"Digite (1) - Para Dados Corretos.\\nDigite (2) - Para Dados Incorretos. \"\"\"))\\n    if dados_usuario == 1:\\n        voltar_ao_menu()\\n    elif dados_usuario == 2: \\n        cadastro_veiculo.clear()\\n        os.system(\\'cls\\')\\n        cadastroCarro()\\n\\ndef cadastroPessoal():\\n    print(\"Opção Escolhida (1) - Cadastro Pessoal \")\\n    nome = input(\"Digite seu nome completo. \")\\n    email = input(\"Digite seu email. \")\\n    cpf = input(\"Digite seu CPF. \")\\n    dados_pessoais = {\"nome\": nome, \"email\": email,\"cpf\" : cpf }\\n    cadastro_pessoal.append(dados_pessoais)\\n    os.system(\\'cls\\')\\n    print(\"Seus Dados Estão corretos? \")\\n    for dado in cadastro_pessoal:\\n            nome = dado[\"nome\"]\\n            cpf = dado[\"cpf\"]\\n            email = dado[\"email\"]\\n            print(f\"Nome: {nome}\")\\n            print(f\"Email: {email}\")\\n            print(f\"CPF: {cpf}\")\\n    dados_incorretos()\\n\\ndef ConsultaDados():\\n    print(\"Opção Escolhida (3) - Consultar Dados.\")\\n    for dado in cadastro_pessoal:\\n            nome = dado[\"nome\"]\\n            cpf = dado[\"cpf\"]\\n            email = dado[\"email\"]\\n            print(f\"Nome: {nome}\")\\n            print(f\"Email: {email}\")\\n            print(f\"CPF: {cpf}\")\\n    for dado in cadastro_veiculo:\\n        marca = dado[\"marca\"]\\n        nome_veiculo = dado[\"veiculo\"]\\n        ano = dado[\"ano\"]\\n        print(f\"Marca: {marca}\")\\n        print(f\"Veiculo: {nome_veiculo}\")\\n        print(f\"Ano: {ano}\")\\n    voltar_ao_menu()\\n    \\n\\n\\ndef cadastroCarro():\\n    print(\"Opção Escolhida (3) - Cadastro Carro.\")\\n   \\n    marca = input(\"Digite a Marca do seu veiculo. \")\\n        \\n    nome_veiculo = input(\"Digite o nome do veiculo. \")\\n    \\n\\n    while True:\\n        ano = int(input(\"Digite o ano do veiculo. \"))\\n        if ano > ano_atual:\\n            print(\"Erro. O Ano Do Veiculo está maior que o Ano Atual.\")\\n        else:\\n            break\\n        \\n    dados_veiculos = {\"marca\": marca, \"veiculo\": nome_veiculo, \"ano\": ano}\\n    cadastro_veiculo.append(dados_veiculos)\\n    os.system(\\'cls\\')\\n    print(\"Seus Dados Estão Corretos? \")\\n    for dado in cadastro_veiculo:\\n        marca = dado[\"marca\"]\\n        nome_veiculo = dado[\"veiculo\"]\\n        ano = dado[\"ano\"]\\n        print(f\"Marca: {marca}\")\\n        print(f\"Veiculo: {nome_veiculo}\")\\n        print(f\"Ano: {ano}\")\\n    dados_incorretos_veiculos()\\n\\n\\n\\n\\n\\ndef escolha_opcao():\\n    try:\\n        escolha = int(input(\"Digite aqui: \"))\\n        if escolha == 1:\\n            cadastroPessoal()\\n        elif escolha == 2:\\n            cadastroCarro()\\n        elif escolha == 3:\\n            ConsultaDados()\\n            \\n        else:\\n            opçao_invalida()\\n                \\n                \\n\\n    except:\\n        opçao_invalida()\\n\\n\\ndef main():\\n    marca()\\n    menu()\\n    escolha_opcao()\\n \\n\\n        \\n\\nif __name__ == \\'__main__\\':\\n    main()',\n",
       "  'import os\\nimport sys\\n\\ncadastro_pessoal = []\\ncadastro_veiculo = []\\nano_atual = 2024\\ndef marca():\\n    print(\"\"\"\\n░█████╗░██╗░░░██╗████████╗░█████╗░██████╗░██████╗░░█████╗░██████╗░██╗░░░░░███████╗███╗░░░███╗░██████╗\\n██╔══██╗██║░░░██║╚══██╔══╝██╔══██╗██╔══██╗██╔══██╗██╔══██╗██╔══██╗██║░░░░░██╔════╝████╗░████║██╔════╝\\n███████║██║░░░██║░░░██║░░░██║░░██║██████╔╝██████╔╝██║░░██║██████╦╝██║░░░░░█████╗░░██╔████╔██║╚█████╗░\\n██╔══██║██║░░░██║░░░██║░░░██║░░██║██╔═══╝░██╔══██╗██║░░██║██╔══██╗██║░░░░░██╔══╝░░██║╚██╔╝██║░╚═══██╗\\n██║░░██║╚██████╔╝░░░██║░░░╚█████╔╝██║░░░░░██║░░██║╚█████╔╝██████╦╝███████╗███████╗██║░╚═╝░██║██████╔╝\\n╚═╝░░╚═╝░╚═════╝░░░░╚═╝░░░░╚════╝░╚═╝░░░░░╚═╝░░╚═╝░╚════╝░╚═════╝░╚══════╝╚══════╝╚═╝░░░░░╚═╝╚═════╝░\"\"\")\\n    \\n\\ndef menu():\\n    print(\"-- 𝕄𝕖𝕟𝕦 -- \")\\n    print(\"\"\"Digite (1) - Para Cadastro Pessoal.\\nDigite (2) - Cadastrar Veiculos.\\nDigite (3) - Consultar Dados.  \"\"\")\\n    \\ndef voltar_ao_menu():\\n    input(\"Digite uma tecla para voltar ao menu: \")\\n    os.system(\\'cls\\')\\n    marca()\\n    menu()\\n    escolha_opcao()\\n\\ndef opçao_invalida():\\n    print(\"Digite uma opção valida!\")\\n    voltar_ao_menu()\\n\\n\\ndef dados_incorretos():\\n    dados_usuario = int(input(\"\"\"Digite (1) - Para Dados Corretos.\\nDigite (2) - Para Dados Incorretos. \"\"\"))\\n    if dados_usuario == 1:\\n        voltar_ao_menu()\\n    elif dados_usuario == 2: \\n        cadastro_pessoal.clear()\\n        os.system(\\'cls\\')\\n        cadastroPessoal()\\n\\ndef dados_incorretos_veiculos():\\n    dados_usuario = int(input(\"\"\"Digite (1) - Para Dados Corretos.\\nDigite (2) - Para Dados Incorretos. \"\"\"))\\n    if dados_usuario == 1:\\n        voltar_ao_menu()\\n    elif dados_usuario == 2: \\n        cadastro_veiculo.clear()\\n        os.system(\\'cls\\')\\n        cadastroCarro()\\n\\ndef cadastroPessoal():\\n    print(\"Opção Escolhida (1) - Cadastro Pessoal \")\\n    nome = input(\"Digite seu nome completo. \")\\n    email = input(\"Digite seu email. \")\\n    cpf = input(\"Digite seu CPF. \")\\n    dados_pessoais = {\"nome\": nome, \"email\": email,\"cpf\" : cpf }\\n    cadastro_pessoal.append(dados_pessoais)\\n    os.system(\\'cls\\')\\n    print(\"Seus Dados Estão corretos? \")\\n    for dado in cadastro_pessoal:\\n            nome = dado[\"nome\"]\\n            cpf = dado[\"cpf\"]\\n            email = dado[\"email\"]\\n            print(f\"Nome: {nome}\")\\n            print(f\"Email: {email}\")\\n            print(f\"CPF: {cpf}\")\\n    dados_incorretos()\\n\\ndef ConsultaDados():\\n    print(\"Opção Escolhida (3) - Consultar Dados.\")\\n    for dado in cadastro_pessoal:\\n            nome = dado[\"nome\"]\\n            cpf = dado[\"cpf\"]\\n            email = dado[\"email\"]\\n            print(f\"Nome: {nome}\")\\n            print(f\"Email: {email}\")\\n            print(f\"CPF: {cpf}\")\\n    for dado in cadastro_veiculo:\\n        marca = dado[\"marca\"]\\n        nome_veiculo = dado[\"veiculo\"]\\n        ano = dado[\"ano\"]\\n        print(f\"Marca: {marca}\")\\n        print(f\"Veiculo: {nome_veiculo}\")\\n        print(f\"Ano: {ano}\")\\n    voltar_ao_menu()\\n    \\n\\n\\ndef cadastroCarro():\\n    print(\"Opção Escolhida (3) - Cadastro Carro.\")\\n   \\n    marca = input(\"Digite a Marca do seu veiculo. \")\\n        \\n    nome_veiculo = input(\"Digite o nome do veiculo. \")\\n    \\n\\n    while True:\\n        ano = int(input(\"Digite o ano do veiculo. \"))\\n        if ano > ano_atual:\\n            print(\"Erro. O Ano Do Veiculo está maior que o Ano Atual.\")\\n        else:\\n            break\\n        \\n    dados_veiculos = {\"marca\": marca, \"veiculo\": nome_veiculo, \"ano\": ano}\\n    cadastro_veiculo.append(dados_veiculos)\\n    os.system(\\'cls\\')\\n    print(\"Seus Dados Estão Corretos? \")\\n    for dado in cadastro_veiculo:\\n        marca = dado[\"marca\"]\\n        nome_veiculo = dado[\"veiculo\"]\\n        ano = dado[\"ano\"]\\n        print(f\"Marca: {marca}\")\\n        print(f\"Veiculo: {nome_veiculo}\")\\n        print(f\"Ano: {ano}\")\\n    dados_incorretos_veiculos()\\n\\ndef escolha_opcao():\\n    try:\\n        escolha = int(input(\"Digite aqui: \"))\\n        if escolha == 1:\\n            cadastroPessoal()\\n        elif escolha == 2:\\n            cadastroCarro()\\n        elif escolha == 3:\\n            ConsultaDados()\\n            \\n        else:\\n            opçao_invalida()\\n                \\n                \\n\\n    except:\\n        opçao_invalida()\\n\\n\\ndef main():\\n    marca()\\n    menu()\\n    escolha_opcao()\\n \\n\\n        \\n\\nif __name__ == \\'__main__\\':\\n    main()',\n",
       "  'import os\\nimport sys\\n\\ncadastro_pessoal = []\\ncadastro_veiculo = []\\nano_atual = 2024\\ndef marca():\\n    print(\"\"\"\\n░█████╗░██╗░░░██╗████████╗░█████╗░██████╗░██████╗░░█████╗░██████╗░██╗░░░░░███████╗███╗░░░███╗░██████╗\\n██╔══██╗██║░░░██║╚══██╔══╝██╔══██╗██╔══██╗██╔══██╗██╔══██╗██╔══██╗██║░░░░░██╔════╝████╗░████║██╔════╝\\n███████║██║░░░██║░░░██║░░░██║░░██║██████╔╝██████╔╝██║░░██║██████╦╝██║░░░░░█████╗░░██╔████╔██║╚█████╗░\\n██╔══██║██║░░░██║░░░██║░░░██║░░██║██╔═══╝░██╔══██╗██║░░██║██╔══██╗██║░░░░░██╔══╝░░██║╚██╔╝██║░╚═══██╗\\n██║░░██║╚██████╔╝░░░██║░░░╚█████╔╝██║░░░░░██║░░██║╚█████╔╝██████╦╝███████╗███████╗██║░╚═╝░██║██████╔╝\\n╚═╝░░╚═╝░╚═════╝░░░░╚═╝░░░░╚════╝░╚═╝░░░░░╚═╝░░╚═╝░╚════╝░╚═════╝░╚══════╝╚══════╝╚═╝░░░░░╚═╝╚═════╝░\"\"\")\\n    \\n\\ndef menu():\\n    print(\"-- 𝕄𝕖𝕟𝕦 -- \")\\n    print(\"\"\"Digite (1) - Para Cadastro Pessoal.\\nDigite (2) - Cadastrar Veiculos.\\nDigite (3) - Consultar Dados.  \"\"\")\\n    \\ndef voltar_ao_menu():\\n    input(\"Digite uma tecla para voltar ao menu: \")\\n    os.system(\\'cls\\')\\n    marca()\\n    menu()\\n    escolha_opcao()\\n\\ndef opçao_invalida():\\n    print(\"Digite uma opção valida!\")\\n    voltar_ao_menu()\\n\\n\\ndef dados_incorretos():\\n    dados_usuario = int(input(\"\"\"Digite (1) - Para Dados Corretos.\\nDigite (2) - Para Dados Incorretos. \"\"\"))\\n    if dados_usuario == 1:\\n        voltar_ao_menu()\\n    elif dados_usuario == 2: \\n        cadastro_pessoal.clear()\\n        os.system(\\'clear\\')\\n        cadastroPessoal()\\n\\ndef dados_incorretos_veiculos():\\n    dados_usuario = int(input(\"\"\"Digite (1) - Para Dados Corretos.\\nDigite (2) - Para Dados Incorretos. \"\"\"))\\n    if dados_usuario == 1:\\n        voltar_ao_menu()\\n    elif dados_usuario == 2: \\n        cadastro_veiculo.clear()\\n        os.system(\\'cls\\')\\n        cadastroCarro()\\n\\ndef cadastroPessoal():\\n    print(\"Opção Escolhida (1) - Cadastro Pessoal \")\\n    nome = input(\"Digite seu nome completo. \")\\n    email = input(\"Digite seu email. \")\\n    cpf = input(\"Digite seu CPF. \")\\n    dados_pessoais = {\"nome\": nome, \"email\": email,\"cpf\" : cpf }\\n    cadastro_pessoal.append(dados_pessoais)\\n    os.system(\\'clear\\')\\n    print(\"Seus Dados Estão corretos? \")\\n    for dado in cadastro_pessoal:\\n            nome = dado[\"nome\"]\\n            cpf = dado[\"cpf\"]\\n            email = dado[\"email\"]\\n            print(f\"Nome: {nome}\")\\n            print(f\"Email: {email}\")\\n            print(f\"CPF: {cpf}\")\\n    dados_incorretos()\\n\\ndef ConsultaDados():\\n    print(\"Opção Escolhida (3) - Consultar Dados.\")\\n    for dado in cadastro_pessoal:\\n            nome = dado[\"nome\"]\\n            cpf = dado[\"cpf\"]\\n            email = dado[\"email\"]\\n            print(f\"Nome: {nome}\")\\n            print(f\"Email: {email}\")\\n            print(f\"CPF: {cpf}\")\\n    for dado in cadastro_veiculo:\\n        marca = dado[\"marca\"]\\n        nome_veiculo = dado[\"veiculo\"]\\n        ano = dado[\"ano\"]\\n        print(f\"Marca: {marca}\")\\n        print(f\"Veiculo: {nome_veiculo}\")\\n        print(f\"Ano: {ano}\")\\n    voltar_ao_menu()\\n    \\n\\n\\ndef cadastroCarro():\\n    print(\"Opção Escolhida (3) - Cadastro Carro.\")\\n   \\n    marca = input(\"Digite a Marca do seu veiculo. \")\\n        \\n    nome_veiculo = input(\"Digite o nome do veiculo. \")\\n    \\n\\n    while True:\\n        ano = int(input(\"Digite o ano do veiculo. \"))\\n        if ano > ano_atual:\\n            print(\"Erro. O Ano Do Veiculo está maior que o Ano Atual.\")\\n        else:\\n            break\\n        \\n    dados_veiculos = {\"marca\": marca, \"veiculo\": nome_veiculo, \"ano\": ano}\\n    cadastro_veiculo.append(dados_veiculos)\\n    os.system(\\'clear\\')\\n    print(\"Seus Dados Estão Corretos? \")\\n    for dado in cadastro_veiculo:\\n        marca = dado[\"marca\"]\\n        nome_veiculo = dado[\"veiculo\"]\\n        ano = dado[\"ano\"]\\n        print(f\"Marca: {marca}\")\\n        print(f\"Veiculo: {nome_veiculo}\")\\n        print(f\"Ano: {ano}\")\\n    dados_incorretos_veiculos()\\n\\ndef escolha_opcao():\\n    try:\\n        escolha = int(input(\"Digite aqui: \"))\\n        if escolha == 1:\\n            cadastroPessoal()\\n        elif escolha == 2:\\n            cadastroCarro()\\n        elif escolha == 3:\\n            ConsultaDados()\\n            \\n        else:\\n            opçao_invalida()\\n                \\n                \\n\\n    except:\\n        opçao_invalida()\\n\\n\\ndef main():\\n    marca()\\n    menu()\\n    escolha_opcao()\\n \\n\\n        \\n\\nif __name__ == \\'__main__\\':\\n    main()',\n",
       "  'import os\\nimport sys\\n\\ncadastro_pessoal = []\\ncadastro_veiculo = []\\nano_atual = 2024\\ndef marca():\\n    print(\"\"\"\\n░█████╗░██╗░░░██╗████████╗░█████╗░██████╗░██████╗░░█████╗░██████╗░██╗░░░░░███████╗███╗░░░███╗░██████╗\\n██╔══██╗██║░░░██║╚══██╔══╝██╔══██╗██╔══██╗██╔══██╗██╔══██╗██╔══██╗██║░░░░░██╔════╝████╗░████║██╔════╝\\n███████║██║░░░██║░░░██║░░░██║░░██║██████╔╝██████╔╝██║░░██║██████╦╝██║░░░░░█████╗░░██╔████╔██║╚█████╗░\\n██╔══██║██║░░░██║░░░██║░░░██║░░██║██╔═══╝░██╔══██╗██║░░██║██╔══██╗██║░░░░░██╔══╝░░██║╚██╔╝██║░╚═══██╗\\n██║░░██║╚██████╔╝░░░██║░░░╚█████╔╝██║░░░░░██║░░██║╚█████╔╝██████╦╝███████╗███████╗██║░╚═╝░██║██████╔╝\\n╚═╝░░╚═╝░╚═════╝░░░░╚═╝░░░░╚════╝░╚═╝░░░░░╚═╝░░╚═╝░╚════╝░╚═════╝░╚══════╝╚══════╝╚═╝░░░░░╚═╝╚═════╝░\"\"\")\\n    \\n\\ndef menu():\\n    print(\"-- 𝕄𝕖𝕟𝕦 -- \")\\n    print(\"\"\"Digite (1) - Para Cadastro Pessoal.\\nDigite (2) - Cadastrar Veiculos.\\nDigite (3) - Consultar Dados.  \"\"\")\\n    \\ndef voltar_ao_menu():\\n    input(\"Digite uma tecla para voltar ao menu: \")\\n    os.system(\\'cls\\')\\n    marca()\\n    menu()\\n    escolha_opcao()\\n\\ndef opçao_invalida():\\n    print(\"Digite uma opção valida!\")\\n    voltar_ao_menu()\\n\\n\\ndef dados_incorretos():\\n    dados_usuario = int(input(\"\"\"Digite (1) - Para Dados Corretos.\\nDigite (2) - Para Dados Incorretos. \"\"\"))\\n    if dados_usuario == 1:\\n        voltar_ao_menu()\\n    elif dados_usuario == 2: \\n        cadastro_pessoal.clear()\\n        os.system(\\'clear\\')\\n        cadastroPessoal()\\n\\ndef dados_incorretos_veiculos():\\n    dados_usuario = int(input(\"\"\"Digite (1) - Para Dados Corretos.\\nDigite (2) - Para Dados Incorretos. \"\"\"))\\n    if dados_usuario == 1:\\n        voltar_ao_menu()\\n    elif dados_usuario == 2: \\n        cadastro_veiculo.clear()\\n        os.system(\\'cls\\')\\n        cadastroCarro()\\n\\ndef cadastroPessoal():\\n    print(\"Opção Escolhida (1) - Cadastro Pessoal \")\\n    nome = input(\"Digite seu nome completo. \")\\n    email = input(\"Digite seu email. \")\\n    cpf = input(\"Digite seu CPF. \")\\n    dados_pessoais = {\"nome\": nome, \"email\": email,\"cpf\" : cpf }\\n    cadastro_pessoal.append(dados_pessoais)\\n    os.system(\\'clear\\')\\n    print(\"Seus Dados Estão corretos? \")\\n    for dado in cadastro_pessoal:\\n            nome = dado[\"nome\"]\\n            cpf = dado[\"cpf\"]\\n            email = dado[\"email\"]\\n            print(f\"Nome: {nome}\")\\n            print(f\"Email: {email}\")\\n            print(f\"CPF: {cpf}\")\\n    dados_incorretos()\\n\\ndef ConsultaDados():\\n    print(\"Opção Escolhida (3) - Consultar Dados.\")\\n    for dado in cadastro_pessoal:\\n            nome = dado[\"nome\"]\\n            cpf = dado[\"cpf\"]\\n            email = dado[\"email\"]\\n            print(f\"Nome: {nome}\")\\n            print(f\"Email: {email}\")\\n            print(f\"CPF: {cpf}\")\\n    for dado in cadastro_veiculo:\\n        marca = dado[\"marca\"]\\n        nome_veiculo = dado[\"veiculo\"]\\n        ano = dado[\"ano\"]\\n        print(f\"Marca: {marca}\")\\n        print(f\"Veiculo: {nome_veiculo}\")\\n        print(f\"Ano: {ano}\")\\n    voltar_ao_menu()\\n    \\n\\n\\ndef cadastroCarro():\\n    print(\"Opção Escolhida (3) - Cadastro Carro.\")\\n   \\n    marca = input(\"Digite a Marca do seu veiculo. \")\\n        \\n    nome_veiculo = input(\"Digite o nome do veiculo. \")\\n    \\n\\n    while True:\\n        ano = int(input(\"Digite o ano do veiculo. \"))\\n        if ano > ano_atual:\\n            print(\"Erro. O Ano Do Veiculo está maior que o Ano Atual.\")\\n        else:\\n            break\\n        \\n    dados_veiculos = {\"marca\": marca, \"veiculo\": nome_veiculo, \"ano\": ano}\\n    cadastro_veiculo.append(dados_veiculos)\\n    os.system(\\'clear\\')\\n    print(\"Seus Dados Estão Corretos? \")\\n    for dado in cadastro_veiculo:\\n        marca = dado[\"marca\"]\\n        nome_veiculo = dado[\"veiculo\"]\\n        ano = dado[\"ano\"]\\n        print(f\"Marca: {marca}\")\\n        print(f\"Veiculo: {nome_veiculo}\")\\n        print(f\"Ano: {ano}\")\\n    dados_incorretos_veiculos()\\n\\ndef escolha_opcao():\\n    try:\\n        escolha = int(input(\"Digite aqui: \"))\\n        if escolha == 1:\\n            cadastroPessoal()\\n        elif escolha == 2:\\n            cadastroCarro()\\n        elif escolha == 3:\\n            ConsultaDados()\\n            \\n        else:\\n            opçao_invalida()\\n                \\n                \\n\\n    except:\\n        opçao_invalida()\\n\\n\\ndef main():\\n    marca()\\n    menu()\\n    escolha_opcao()\\n \\n\\n        \\n\\nif __name__ == \\'__main__\\':\\n    main()',\n",
       "  'formula = \"10 - 5\"',\n",
       "  'formula',\n",
       "  'exec(formula)',\n",
       "  'exec(formula, conteudo)',\n",
       "  'formula = \"x = 10 - 5\"',\n",
       "  'formula',\n",
       "  'exec(formula)',\n",
       "  'x',\n",
       "  'formula = \"x = 10 * 5\"',\n",
       "  'formula',\n",
       "  'exec(formula)',\n",
       "  'x',\n",
       "  'x = input(\"Digite x: \")\\ny = input(\"Digite y: \")\\no = input(\"Digite a operacão: \")\\n\\nc = \"r = \"+ x + o + y\\nexec(c)\\nprint(f\"resultado {x} {o} {y} = {r}\")',\n",
       "  'x = input(\"Digite x: \")\\ny = input(\"Digite y: \")\\no = input(\"Digite a operacão: \")\\n\\nprint(f\"Resultado de {x} {o} {y} = {exec(\"r = \"+ x + o + y)}\")',\n",
       "  'x = input(\"Digite x: \")\\ny = input(\"Digite y: \")\\no = input(\"Digite a operacão: \")\\n\\nprint(f\"Resultado de {x} {o} {y} = {exec((\"r = \" + x + o + y))}\")',\n",
       "  'x = input(\"Digite x: \")\\ny = input(\"Digite y: \")\\no = input(\"Digite a operacão: \")\\n\\nprint(f\"Resultado de {x} {o} {y} = {exec((\\'r = \\' + x + o + y))}\")',\n",
       "  'x = input(\"Digite x: \")\\ny = input(\"Digite y: \")\\no = input(\"Digite a operacão: \")\\n\\nc = \"r = \" + x + o + y\\nexec(c)\\nprint(f\"Resultado de {x} {o} {y} = {r}\")',\n",
       "  'x = input(\"Digite x: \")\\ny = input(\"Digite y: \")\\no = input(\"Digite a operacão: \")\\n\\nexec((\\'r = \\' + x + o + y))\\nprint(f\"Resultado de {x} {o} {y} = {r}\")',\n",
       "  'c',\n",
       "  'exec(\"print(\\'s\\')\")',\n",
       "  'exec(\"print(\\'Teste\\')\")',\n",
       "  \"print('Teste')\",\n",
       "  \"p = print('Teste')\",\n",
       "  'exec(p)',\n",
       "  \"print('Teste')\",\n",
       "  'p = \"print(\\'Teste\\')\"',\n",
       "  'exec(p)',\n",
       "  'x = input(\"Digite x: \")\\ny = input(\"Digite y: \")\\no = input(\"Digite a operacão: \")\\n\\nc = \"r = \" + x + o + y\\nexec(c)\\nprint(f\"Resultado de {x} {o} {y} = {r}\")',\n",
       "  'x = input(\"digite: \")\\n\\ny = {}\\n\\nfor i in x:\\n    y{i} = y.get(i, 0) + 1\\n\\nprint(y)',\n",
       "  'x = input(\"digite: \")\\n\\ny = {}\\n\\nfor i in x:\\n    y[i] = y.get(i, 0) + 1\\n\\nprint(y)',\n",
       "  'x',\n",
       "  'y = {x: input(\"Digite uma palavra: \").count(x) for x in set(input())}\\nprint(y)',\n",
       "  'primeira = []\\nsegunda = []\\nwhile True:\\n    e = int(input(\"Digite um valor para a primeira lista (0 para terminar): \"))\\n    if e == 0:\\n        break\\n    primeira.append(e)\\nwhile True:\\n    e = int(input(\"Digite um valor para a segunda lista (0 para terminar): \"))\\n    if e == 0:\\n        break\\n    segunda.append(e)\\nterceira = primeira[:]  # Copia os elementos da primeira lista\\nterceira.extend(segunda)\\nx = 0\\nwhile x < len(terceira):\\n    print(f\"{x}: {terceira[x]}\")\\n    x = x + 1',\n",
       "  'primeira',\n",
       "  'segunda',\n",
       "  'terceira',\n",
       "  'primeira = []\\nsegunda = []\\nwhile True:\\n    e = int(input(\"Digite um valor para a primeira lista (0 para terminar): \"))\\n    if e == 0:\\n        break\\n    primeira.append(e)\\nwhile True:\\n    e = int(input(\"Digite um valor para a segunda lista (0 para terminar): \"))\\n    if e == 0:\\n        break\\n    segunda.append(e)\\nterceira = primeira  # Copia os elementos da primeira lista\\nterceira.extend(segunda)\\nx = 0\\nwhile x < len(terceira):\\n    print(f\"{x}: {terceira[x]}\")\\n    x = x + 1',\n",
       "  'primeira',\n",
       "  'segunda',\n",
       "  'terceira',\n",
       "  'primeira = []\\nsegunda = []\\nterceira = []\\nwhile True:\\n    e = int(input(\"Digite um valor para a primeira lista (0 para terminar): \"))\\n    if e == 0:\\n        break\\n    primeira.append(e)\\nwhile True:\\n    e = int(input(\"Digite um valor para a segunda lista (0 para terminar): \"))\\n    if e == 0:\\n        break\\n    segunda.append(e)\\nterceira = primeira  # Copia os elementos da primeira lista\\nterceira.extend(segunda)\\nx = 0\\nwhile x < len(terceira):\\n    print(f\"{x}: {terceira[x]}\")\\n    x = x + 1',\n",
       "  'primeira',\n",
       "  'segunda',\n",
       "  'terceira',\n",
       "  'primeira = []\\nsegunda = []\\nwhile True:\\n    e = int(input(\"Digite um valor para a primeira lista (0 para terminar): \"))\\n    if e == 0:\\n        break\\n    primeira.append(e)\\nwhile True:\\n    e = int(input(\"Digite um valor para a segunda lista (0 para terminar): \"))\\n    if e == 0:\\n        break\\n    segunda.append(e)\\nterceira = primeira[:]  # Copia os elementos da primeira lista\\nterceira.extend(segunda)\\nx = 0\\nwhile x < len(terceira):\\n    print(f\"{x}: {terceira[x]}\")\\n    x = x + 1',\n",
       "  'primeira',\n",
       "  'segunda',\n",
       "  'terceira',\n",
       "  'a = [1,2,3]\\nb = [5,6,7]\\nc = a\\nc.extend(b)',\n",
       "  'a',\n",
       "  'b',\n",
       "  'c',\n",
       "  'a = [1,2,3]\\nb = [5,6,7]\\nc = a[:]\\nc.extend(b)',\n",
       "  'a',\n",
       "  'b',\n",
       "  'c',\n",
       "  'lista = [10, 20, 30, 40, 50, 60]\\nsublista = lista[1:4]  ',\n",
       "  'sublista',\n",
       "  'lista = [10, 20, 30, 40, 50, 60, 70, 80, 90, 100, 110, 120, 140, 160, 180, 200]\\nsublista = lista[1:4]  ',\n",
       "  'sublista',\n",
       "  'lista = [10, 20, 30, 40, 50, 60, 70, 80, 90, 100, 110, 120, 140, 160, 180, 200]\\nsublista = lista[1:4:2]  ',\n",
       "  'sublista',\n",
       "  'lista = [0, 1, 2, 3, 4, 5, 6, 7, 8, 9, 10]\\nsublista = lista[1:4:2]  ',\n",
       "  'sublista',\n",
       "  'lista = [0, 1, 2, 3, 4, 5, 6, 7, 8, 9, 10]\\nsublista = lista[1:8:2]  ',\n",
       "  'sublista',\n",
       "  'lista = [0, 1, 2, 3, 4, 5, 6, 7, 8, 9, 10]\\nsublista = lista[1:8:3]  ',\n",
       "  'sublista',\n",
       "  'lista = [0, 1, 2, 3, 4, 5, 6, 7, 8, 9, 10]\\nsublista = lista[2:8:3]  ',\n",
       "  'sublista',\n",
       "  'x = input(\"Digite x: \")\\ny = input(\"Digite y: \")\\no = input(\"Digite a operacão: \")\\n\\nc = \"r = \" + x + o + y\\nexec(c)\\nprint(f\"Resultado de {x} {o} {y} = {r}\")',\n",
       "  'c',\n",
       "  'c = \"4/2\"',\n",
       "  'print(f\"Resultado de {x} {o} {y} = {exec(c)}\")',\n",
       "  '4/ 2',\n",
       "  'print(exec(\"4/2\"))',\n",
       "  'var()',\n",
       "  'vars()'],\n",
       " 'Out': {10: '10 - 5',\n",
       "  14: 'x = 10 - 5',\n",
       "  16: 5,\n",
       "  18: 'x = 10 * 5',\n",
       "  20: 50,\n",
       "  27: 'r = 3/4',\n",
       "  39: 'sfgsfgsdfgfdsgdsfgdsfgdsfgdfsgsgsdfgsdgsdfg',\n",
       "  42: [1, 2, 3, 2, 1, 2, 3],\n",
       "  43: [4, 3, 2, 2, 3, 3, 4],\n",
       "  44: [1, 2, 3, 2, 1, 2, 3, 4, 3, 2, 2, 3, 3, 4],\n",
       "  46: [3, 2, 3, 6, 7, 8],\n",
       "  47: [6, 7, 8],\n",
       "  48: [3, 2, 3, 6, 7, 8],\n",
       "  50: [1, 2, 3, 4, 5, 6, 8, 9],\n",
       "  51: [8, 9],\n",
       "  52: [1, 2, 3, 4, 5, 6, 8, 9],\n",
       "  54: [1, 2, 3],\n",
       "  55: [6, 7, 8],\n",
       "  56: [1, 2, 3, 6, 7, 8],\n",
       "  58: [1, 2, 3, 5, 6, 7],\n",
       "  59: [5, 6, 7],\n",
       "  60: [1, 2, 3, 5, 6, 7],\n",
       "  62: [1, 2, 3],\n",
       "  63: [5, 6, 7],\n",
       "  64: [1, 2, 3, 5, 6, 7],\n",
       "  66: [20, 30, 40],\n",
       "  68: [20, 30, 40],\n",
       "  70: [20, 40],\n",
       "  72: [1, 3],\n",
       "  74: [1, 3, 5, 7],\n",
       "  76: [1, 4, 7],\n",
       "  78: [2, 5],\n",
       "  80: 'r = 4/2',\n",
       "  83: 2.0},\n",
       " 'get_ipython': <bound method InteractiveShell.get_ipython of <ipykernel.zmqshell.ZMQInteractiveShell object at 0x7ff2a8d7bf40>>,\n",
       " 'exit': <IPython.core.autocall.ZMQExitAutocall at 0x7ff2a8d95ee0>,\n",
       " 'quit': <IPython.core.autocall.ZMQExitAutocall at 0x7ff2a8d95ee0>,\n",
       " '_': 2.0,\n",
       " '__': 'r = 4/2',\n",
       " '___': [2, 5],\n",
       " '_i': 'var()',\n",
       " '_ii': 'print(exec(\"4/2\"))',\n",
       " '_iii': '4/ 2',\n",
       " '_i1': 'frase = input(\"Digite uma frase para contar as letras:\")\\nd = {}\\nfor letra in frase:\\n    if letra in d:\\n        d[letra] = d[letra] + 1\\n    else:\\n        d[letra] = 1\\nprint(d)',\n",
       " 'frase': 'sdfgsdfhgdfghdhdfghdghdfghdfh',\n",
       " 'd': {'s': 2, 'd': 8, 'f': 6, 'g': 6, 'h': 7},\n",
       " 'letra': 'h',\n",
       " '_i2': 'n = int(input(\"Digite um número:\"))\\nif n < 0:\\n    print(\"Número inválido. Digite apenas valores positivos\")\\nif n == 0 or n == 1:\\n    print(f\"{n} é um caso especial.\")\\nelse:\\n    if n == 2:\\n        print(\"2 é primo\")\\n    elif n % 2 == 0:\\n        print(f\"{n} não é primo, pois 2 é o único número par primo.\")\\n    else:\\n        x = 3\\n        while x < n:\\n            if n % x == 0:\\n                break\\n            x = x + 2\\n        if x == n:\\n            print(f\"{n} é primo\")\\n        else:\\n            print(f\"{n} não é primo, pois é divisível por {x}\")',\n",
       " 'n': 31,\n",
       " 'x': '4',\n",
       " '_i3': 'n = int(input(\"Digite um número:\"))\\nif n < 0:\\n    print(\"Número inválido. Digite apenas valores positivos\")\\nif n == 0 or n == 1:\\n    print(f\"{n} é um caso especial.\")\\nelse:\\n    if n == 2:\\n        print(\"2 é primo\")\\n    elif n % 2 == 0:\\n        print(f\"{n} não é primo, pois 2 é o único número par primo.\")\\n    else:\\n        x = 3\\n        while x < n:\\n            if n % x == 0:\\n                break\\n            x = x + 2\\n        if x == n:\\n            print(f\"{n} é primo\")\\n        else:\\n            print(f\"{n} não é primo, pois é divisível por {x}\")',\n",
       " '_i4': 'cadastro_pessoal = []\\ncadastro_veiculo = []\\nano_atual = 2024\\ndef marca():\\n    print(\"\"\"\\n░█████╗░██╗░░░██╗████████╗░█████╗░██████╗░██████╗░░█████╗░██████╗░██╗░░░░░███████╗███╗░░░███╗░██████╗\\n██╔══██╗██║░░░██║╚══██╔══╝██╔══██╗██╔══██╗██╔══██╗██╔══██╗██╔══██╗██║░░░░░██╔════╝████╗░████║██╔════╝\\n███████║██║░░░██║░░░██║░░░██║░░██║██████╔╝██████╔╝██║░░██║██████╦╝██║░░░░░█████╗░░██╔████╔██║╚█████╗░\\n██╔══██║██║░░░██║░░░██║░░░██║░░██║██╔═══╝░██╔══██╗██║░░██║██╔══██╗██║░░░░░██╔══╝░░██║╚██╔╝██║░╚═══██╗\\n██║░░██║╚██████╔╝░░░██║░░░╚█████╔╝██║░░░░░██║░░██║╚█████╔╝██████╦╝███████╗███████╗██║░╚═╝░██║██████╔╝\\n╚═╝░░╚═╝░╚═════╝░░░░╚═╝░░░░╚════╝░╚═╝░░░░░╚═╝░░╚═╝░╚════╝░╚═════╝░╚══════╝╚══════╝╚═╝░░░░░╚═╝╚═════╝░\"\"\")\\n    \\n\\ndef menu():\\n    print(\"-- 𝕄𝕖𝕟𝕦 -- \")\\n    print(\"\"\"Digite (1) - Para Cadastro Pessoal.\\nDigite (2) - Cadastrar Veiculos.\\nDigite (3) - Consultar Dados.  \"\"\")\\n    \\ndef voltar_ao_menu():\\n    input(\"Digite uma tecla para voltar ao menu: \")\\n    os.system(\\'cls\\')\\n    marca()\\n    menu()\\n    escolha_opcao()\\n\\ndef opçao_invalida():\\n    print(\"Digite uma opção valida!\")\\n    voltar_ao_menu()\\n\\n\\ndef dados_incorretos():\\n    dados_usuario = int(input(\"\"\"Digite (1) - Para Dados Corretos.\\nDigite (2) - Para Dados Incorretos. \"\"\"))\\n    if dados_usuario == 1:\\n        voltar_ao_menu()\\n    elif dados_usuario == 2: \\n        cadastro_pessoal.clear()\\n        os.system(\\'cls\\')\\n        cadastroPessoal()\\n\\ndef dados_incorretos_veiculos():\\n    dados_usuario = int(input(\"\"\"Digite (1) - Para Dados Corretos.\\nDigite (2) - Para Dados Incorretos. \"\"\"))\\n    if dados_usuario == 1:\\n        voltar_ao_menu()\\n    elif dados_usuario == 2: \\n        cadastro_veiculo.clear()\\n        os.system(\\'cls\\')\\n        cadastroCarro()\\n\\ndef cadastroPessoal():\\n    print(\"Opção Escolhida (1) - Cadastro Pessoal \")\\n    nome = input(\"Digite seu nome completo. \")\\n    email = input(\"Digite seu email. \")\\n    cpf = input(\"Digite seu CPF. \")\\n    dados_pessoais = {\"nome\": nome, \"email\": email,\"cpf\" : cpf }\\n    cadastro_pessoal.append(dados_pessoais)\\n    os.system(\\'cls\\')\\n    print(\"Seus Dados Estão corretos? \")\\n    for dado in cadastro_pessoal:\\n            nome = dado[\"nome\"]\\n            cpf = dado[\"cpf\"]\\n            email = dado[\"email\"]\\n            print(f\"Nome: {nome}\")\\n            print(f\"Email: {email}\")\\n            print(f\"CPF: {cpf}\")\\n    dados_incorretos()\\n\\ndef ConsultaDados():\\n    print(\"Opção Escolhida (3) - Consultar Dados.\")\\n    for dado in cadastro_pessoal:\\n            nome = dado[\"nome\"]\\n            cpf = dado[\"cpf\"]\\n            email = dado[\"email\"]\\n            print(f\"Nome: {nome}\")\\n            print(f\"Email: {email}\")\\n            print(f\"CPF: {cpf}\")\\n    for dado in cadastro_veiculo:\\n        marca = dado[\"marca\"]\\n        nome_veiculo = dado[\"veiculo\"]\\n        ano = dado[\"ano\"]\\n        print(f\"Marca: {marca}\")\\n        print(f\"Veiculo: {nome_veiculo}\")\\n        print(f\"Ano: {ano}\")\\n    voltar_ao_menu()\\n    \\n\\n\\ndef cadastroCarro():\\n    print(\"Opção Escolhida (3) - Cadastro Carro.\")\\n   \\n    marca = input(\"Digite a Marca do seu veiculo. \")\\n        \\n    nome_veiculo = input(\"Digite o nome do veiculo. \")\\n    \\n\\n    while True:\\n        ano = int(input(\"Digite o ano do veiculo. \"))\\n        if ano > ano_atual:\\n            print(\"Erro. O Ano Do Veiculo está maior que o Ano Atual.\")\\n        else:\\n            break\\n        \\n    dados_veiculos = {\"marca\": marca, \"veiculo\": nome_veiculo, \"ano\": ano}\\n    cadastro_veiculo.append(dados_veiculos)\\n    os.system(\\'cls\\')\\n    print(\"Seus Dados Estão Corretos? \")\\n    for dado in cadastro_veiculo:\\n        marca = dado[\"marca\"]\\n        nome_veiculo = dado[\"veiculo\"]\\n        ano = dado[\"ano\"]\\n        print(f\"Marca: {marca}\")\\n        print(f\"Veiculo: {nome_veiculo}\")\\n        print(f\"Ano: {ano}\")\\n    dados_incorretos_veiculos()\\n\\n\\n\\n\\n\\ndef escolha_opcao():\\n    try:\\n        escolha = int(input(\"Digite aqui: \"))\\n        if escolha == 1:\\n            cadastroPessoal()\\n        elif escolha == 2:\\n            cadastroCarro()\\n        elif escolha == 3:\\n            ConsultaDados()\\n            \\n        else:\\n            opçao_invalida()\\n                \\n                \\n\\n    except:\\n        opçao_invalida()\\n\\n\\ndef main():\\n    marca()\\n    menu()\\n    escolha_opcao()\\n \\n\\n        \\n\\nif __name__ == \\'__main__\\':\\n    main()\\n    ',\n",
       " 'cadastro_pessoal': [{'nome': 'sdfsdfsdfdsfdsf',\n",
       "   'email': 'sdfsdfsdfds',\n",
       "   'cpf': 'dsfsdfsdffds'}],\n",
       " 'cadastro_veiculo': [],\n",
       " 'ano_atual': 2024,\n",
       " 'marca': <function __main__.marca()>,\n",
       " 'menu': <function __main__.menu()>,\n",
       " 'voltar_ao_menu': <function __main__.voltar_ao_menu()>,\n",
       " 'opçao_invalida': <function __main__.opçao_invalida()>,\n",
       " 'dados_incorretos': <function __main__.dados_incorretos()>,\n",
       " 'dados_incorretos_veiculos': <function __main__.dados_incorretos_veiculos()>,\n",
       " 'cadastroPessoal': <function __main__.cadastroPessoal()>,\n",
       " 'ConsultaDados': <function __main__.ConsultaDados()>,\n",
       " 'cadastroCarro': <function __main__.cadastroCarro()>,\n",
       " 'escolha_opcao': <function __main__.escolha_opcao()>,\n",
       " 'main': <function __main__.main()>,\n",
       " '_i5': 'cadastro_pessoal = []\\ncadastro_veiculo = []\\nano_atual = 2024\\ndef marca():\\n    print(\"\"\"\\n░█████╗░██╗░░░██╗████████╗░█████╗░██████╗░██████╗░░█████╗░██████╗░██╗░░░░░███████╗███╗░░░███╗░██████╗\\n██╔══██╗██║░░░██║╚══██╔══╝██╔══██╗██╔══██╗██╔══██╗██╔══██╗██╔══██╗██║░░░░░██╔════╝████╗░████║██╔════╝\\n███████║██║░░░██║░░░██║░░░██║░░██║██████╔╝██████╔╝██║░░██║██████╦╝██║░░░░░█████╗░░██╔████╔██║╚█████╗░\\n██╔══██║██║░░░██║░░░██║░░░██║░░██║██╔═══╝░██╔══██╗██║░░██║██╔══██╗██║░░░░░██╔══╝░░██║╚██╔╝██║░╚═══██╗\\n██║░░██║╚██████╔╝░░░██║░░░╚█████╔╝██║░░░░░██║░░██║╚█████╔╝██████╦╝███████╗███████╗██║░╚═╝░██║██████╔╝\\n╚═╝░░╚═╝░╚═════╝░░░░╚═╝░░░░╚════╝░╚═╝░░░░░╚═╝░░╚═╝░╚════╝░╚═════╝░╚══════╝╚══════╝╚═╝░░░░░╚═╝╚═════╝░\"\"\")\\n    \\n\\ndef menu():\\n    print(\"-- 𝕄𝕖𝕟𝕦 -- \")\\n    print(\"\"\"Digite (1) - Para Cadastro Pessoal.\\nDigite (2) - Cadastrar Veiculos.\\nDigite (3) - Consultar Dados.  \"\"\")\\n    \\ndef voltar_ao_menu():\\n    input(\"Digite uma tecla para voltar ao menu: \")\\n    os.system(\\'cls\\')\\n    marca()\\n    menu()\\n    escolha_opcao()\\n\\ndef opçao_invalida():\\n    print(\"Digite uma opção valida!\")\\n    voltar_ao_menu()\\n\\n\\ndef dados_incorretos():\\n    dados_usuario = int(input(\"\"\"Digite (1) - Para Dados Corretos.\\nDigite (2) - Para Dados Incorretos. \"\"\"))\\n    if dados_usuario == 1:\\n        voltar_ao_menu()\\n    elif dados_usuario == 2: \\n        cadastro_pessoal.clear()\\n        os.system(\\'cls\\')\\n        cadastroPessoal()\\n\\ndef dados_incorretos_veiculos():\\n    dados_usuario = int(input(\"\"\"Digite (1) - Para Dados Corretos.\\nDigite (2) - Para Dados Incorretos. \"\"\"))\\n    if dados_usuario == 1:\\n        voltar_ao_menu()\\n    elif dados_usuario == 2: \\n        cadastro_veiculo.clear()\\n        os.system(\\'cls\\')\\n        cadastroCarro()\\n\\ndef cadastroPessoal():\\n    print(\"Opção Escolhida (1) - Cadastro Pessoal \")\\n    nome = input(\"Digite seu nome completo. \")\\n    email = input(\"Digite seu email. \")\\n    cpf = input(\"Digite seu CPF. \")\\n    dados_pessoais = {\"nome\": nome, \"email\": email,\"cpf\" : cpf }\\n    cadastro_pessoal.append(dados_pessoais)\\n    os.system(\\'cls\\')\\n    print(\"Seus Dados Estão corretos? \")\\n    for dado in cadastro_pessoal:\\n            nome = dado[\"nome\"]\\n            cpf = dado[\"cpf\"]\\n            email = dado[\"email\"]\\n            print(f\"Nome: {nome}\")\\n            print(f\"Email: {email}\")\\n            print(f\"CPF: {cpf}\")\\n    dados_incorretos()\\n\\ndef ConsultaDados():\\n    print(\"Opção Escolhida (3) - Consultar Dados.\")\\n    for dado in cadastro_pessoal:\\n            nome = dado[\"nome\"]\\n            cpf = dado[\"cpf\"]\\n            email = dado[\"email\"]\\n            print(f\"Nome: {nome}\")\\n            print(f\"Email: {email}\")\\n            print(f\"CPF: {cpf}\")\\n    for dado in cadastro_veiculo:\\n        marca = dado[\"marca\"]\\n        nome_veiculo = dado[\"veiculo\"]\\n        ano = dado[\"ano\"]\\n        print(f\"Marca: {marca}\")\\n        print(f\"Veiculo: {nome_veiculo}\")\\n        print(f\"Ano: {ano}\")\\n    voltar_ao_menu()\\n    \\n\\n\\ndef cadastroCarro():\\n    print(\"Opção Escolhida (3) - Cadastro Carro.\")\\n   \\n    marca = input(\"Digite a Marca do seu veiculo. \")\\n        \\n    nome_veiculo = input(\"Digite o nome do veiculo. \")\\n    \\n\\n    while True:\\n        ano = int(input(\"Digite o ano do veiculo. \"))\\n        if ano > ano_atual:\\n            print(\"Erro. O Ano Do Veiculo está maior que o Ano Atual.\")\\n        else:\\n            break\\n        \\n    dados_veiculos = {\"marca\": marca, \"veiculo\": nome_veiculo, \"ano\": ano}\\n    cadastro_veiculo.append(dados_veiculos)\\n    os.system(\\'cls\\')\\n    print(\"Seus Dados Estão Corretos? \")\\n    for dado in cadastro_veiculo:\\n        marca = dado[\"marca\"]\\n        nome_veiculo = dado[\"veiculo\"]\\n        ano = dado[\"ano\"]\\n        print(f\"Marca: {marca}\")\\n        print(f\"Veiculo: {nome_veiculo}\")\\n        print(f\"Ano: {ano}\")\\n    dados_incorretos_veiculos()\\n\\n\\n\\n\\n\\ndef escolha_opcao():\\n    try:\\n        escolha = int(input(\"Digite aqui: \"))\\n        if escolha == 1:\\n            cadastroPessoal()\\n        elif escolha == 2:\\n            cadastroCarro()\\n        elif escolha == 3:\\n            ConsultaDados()\\n            \\n        else:\\n            opçao_invalida()\\n                \\n                \\n\\n    except:\\n        opçao_invalida()\\n\\n\\ndef main():\\n    marca()\\n    menu()\\n    escolha_opcao()\\n \\n\\n        \\n\\nif __name__ == \\'__main__\\':\\n    main()',\n",
       " '_i6': 'import os\\nimport sys\\n\\ncadastro_pessoal = []\\ncadastro_veiculo = []\\nano_atual = 2024\\ndef marca():\\n    print(\"\"\"\\n░█████╗░██╗░░░██╗████████╗░█████╗░██████╗░██████╗░░█████╗░██████╗░██╗░░░░░███████╗███╗░░░███╗░██████╗\\n██╔══██╗██║░░░██║╚══██╔══╝██╔══██╗██╔══██╗██╔══██╗██╔══██╗██╔══██╗██║░░░░░██╔════╝████╗░████║██╔════╝\\n███████║██║░░░██║░░░██║░░░██║░░██║██████╔╝██████╔╝██║░░██║██████╦╝██║░░░░░█████╗░░██╔████╔██║╚█████╗░\\n██╔══██║██║░░░██║░░░██║░░░██║░░██║██╔═══╝░██╔══██╗██║░░██║██╔══██╗██║░░░░░██╔══╝░░██║╚██╔╝██║░╚═══██╗\\n██║░░██║╚██████╔╝░░░██║░░░╚█████╔╝██║░░░░░██║░░██║╚█████╔╝██████╦╝███████╗███████╗██║░╚═╝░██║██████╔╝\\n╚═╝░░╚═╝░╚═════╝░░░░╚═╝░░░░╚════╝░╚═╝░░░░░╚═╝░░╚═╝░╚════╝░╚═════╝░╚══════╝╚══════╝╚═╝░░░░░╚═╝╚═════╝░\"\"\")\\n    \\n\\ndef menu():\\n    print(\"-- 𝕄𝕖𝕟𝕦 -- \")\\n    print(\"\"\"Digite (1) - Para Cadastro Pessoal.\\nDigite (2) - Cadastrar Veiculos.\\nDigite (3) - Consultar Dados.  \"\"\")\\n    \\ndef voltar_ao_menu():\\n    input(\"Digite uma tecla para voltar ao menu: \")\\n    os.system(\\'cls\\')\\n    marca()\\n    menu()\\n    escolha_opcao()\\n\\ndef opçao_invalida():\\n    print(\"Digite uma opção valida!\")\\n    voltar_ao_menu()\\n\\n\\ndef dados_incorretos():\\n    dados_usuario = int(input(\"\"\"Digite (1) - Para Dados Corretos.\\nDigite (2) - Para Dados Incorretos. \"\"\"))\\n    if dados_usuario == 1:\\n        voltar_ao_menu()\\n    elif dados_usuario == 2: \\n        cadastro_pessoal.clear()\\n        os.system(\\'cls\\')\\n        cadastroPessoal()\\n\\ndef dados_incorretos_veiculos():\\n    dados_usuario = int(input(\"\"\"Digite (1) - Para Dados Corretos.\\nDigite (2) - Para Dados Incorretos. \"\"\"))\\n    if dados_usuario == 1:\\n        voltar_ao_menu()\\n    elif dados_usuario == 2: \\n        cadastro_veiculo.clear()\\n        os.system(\\'cls\\')\\n        cadastroCarro()\\n\\ndef cadastroPessoal():\\n    print(\"Opção Escolhida (1) - Cadastro Pessoal \")\\n    nome = input(\"Digite seu nome completo. \")\\n    email = input(\"Digite seu email. \")\\n    cpf = input(\"Digite seu CPF. \")\\n    dados_pessoais = {\"nome\": nome, \"email\": email,\"cpf\" : cpf }\\n    cadastro_pessoal.append(dados_pessoais)\\n    os.system(\\'cls\\')\\n    print(\"Seus Dados Estão corretos? \")\\n    for dado in cadastro_pessoal:\\n            nome = dado[\"nome\"]\\n            cpf = dado[\"cpf\"]\\n            email = dado[\"email\"]\\n            print(f\"Nome: {nome}\")\\n            print(f\"Email: {email}\")\\n            print(f\"CPF: {cpf}\")\\n    dados_incorretos()\\n\\ndef ConsultaDados():\\n    print(\"Opção Escolhida (3) - Consultar Dados.\")\\n    for dado in cadastro_pessoal:\\n            nome = dado[\"nome\"]\\n            cpf = dado[\"cpf\"]\\n            email = dado[\"email\"]\\n            print(f\"Nome: {nome}\")\\n            print(f\"Email: {email}\")\\n            print(f\"CPF: {cpf}\")\\n    for dado in cadastro_veiculo:\\n        marca = dado[\"marca\"]\\n        nome_veiculo = dado[\"veiculo\"]\\n        ano = dado[\"ano\"]\\n        print(f\"Marca: {marca}\")\\n        print(f\"Veiculo: {nome_veiculo}\")\\n        print(f\"Ano: {ano}\")\\n    voltar_ao_menu()\\n    \\n\\n\\ndef cadastroCarro():\\n    print(\"Opção Escolhida (3) - Cadastro Carro.\")\\n   \\n    marca = input(\"Digite a Marca do seu veiculo. \")\\n        \\n    nome_veiculo = input(\"Digite o nome do veiculo. \")\\n    \\n\\n    while True:\\n        ano = int(input(\"Digite o ano do veiculo. \"))\\n        if ano > ano_atual:\\n            print(\"Erro. O Ano Do Veiculo está maior que o Ano Atual.\")\\n        else:\\n            break\\n        \\n    dados_veiculos = {\"marca\": marca, \"veiculo\": nome_veiculo, \"ano\": ano}\\n    cadastro_veiculo.append(dados_veiculos)\\n    os.system(\\'cls\\')\\n    print(\"Seus Dados Estão Corretos? \")\\n    for dado in cadastro_veiculo:\\n        marca = dado[\"marca\"]\\n        nome_veiculo = dado[\"veiculo\"]\\n        ano = dado[\"ano\"]\\n        print(f\"Marca: {marca}\")\\n        print(f\"Veiculo: {nome_veiculo}\")\\n        print(f\"Ano: {ano}\")\\n    dados_incorretos_veiculos()\\n\\ndef escolha_opcao():\\n    try:\\n        escolha = int(input(\"Digite aqui: \"))\\n        if escolha == 1:\\n            cadastroPessoal()\\n        elif escolha == 2:\\n            cadastroCarro()\\n        elif escolha == 3:\\n            ConsultaDados()\\n            \\n        else:\\n            opçao_invalida()\\n                \\n                \\n\\n    except:\\n        opçao_invalida()\\n\\n\\ndef main():\\n    marca()\\n    menu()\\n    escolha_opcao()\\n \\n\\n        \\n\\nif __name__ == \\'__main__\\':\\n    main()',\n",
       " 'os': <module 'os' from '/Users/luiz/opt/anaconda3/lib/python3.9/os.py'>,\n",
       " 'sys': <module 'sys' (built-in)>,\n",
       " '_i7': 'import os\\nimport sys\\n\\ncadastro_pessoal = []\\ncadastro_veiculo = []\\nano_atual = 2024\\ndef marca():\\n    print(\"\"\"\\n░█████╗░██╗░░░██╗████████╗░█████╗░██████╗░██████╗░░█████╗░██████╗░██╗░░░░░███████╗███╗░░░███╗░██████╗\\n██╔══██╗██║░░░██║╚══██╔══╝██╔══██╗██╔══██╗██╔══██╗██╔══██╗██╔══██╗██║░░░░░██╔════╝████╗░████║██╔════╝\\n███████║██║░░░██║░░░██║░░░██║░░██║██████╔╝██████╔╝██║░░██║██████╦╝██║░░░░░█████╗░░██╔████╔██║╚█████╗░\\n██╔══██║██║░░░██║░░░██║░░░██║░░██║██╔═══╝░██╔══██╗██║░░██║██╔══██╗██║░░░░░██╔══╝░░██║╚██╔╝██║░╚═══██╗\\n██║░░██║╚██████╔╝░░░██║░░░╚█████╔╝██║░░░░░██║░░██║╚█████╔╝██████╦╝███████╗███████╗██║░╚═╝░██║██████╔╝\\n╚═╝░░╚═╝░╚═════╝░░░░╚═╝░░░░╚════╝░╚═╝░░░░░╚═╝░░╚═╝░╚════╝░╚═════╝░╚══════╝╚══════╝╚═╝░░░░░╚═╝╚═════╝░\"\"\")\\n    \\n\\ndef menu():\\n    print(\"-- 𝕄𝕖𝕟𝕦 -- \")\\n    print(\"\"\"Digite (1) - Para Cadastro Pessoal.\\nDigite (2) - Cadastrar Veiculos.\\nDigite (3) - Consultar Dados.  \"\"\")\\n    \\ndef voltar_ao_menu():\\n    input(\"Digite uma tecla para voltar ao menu: \")\\n    os.system(\\'cls\\')\\n    marca()\\n    menu()\\n    escolha_opcao()\\n\\ndef opçao_invalida():\\n    print(\"Digite uma opção valida!\")\\n    voltar_ao_menu()\\n\\n\\ndef dados_incorretos():\\n    dados_usuario = int(input(\"\"\"Digite (1) - Para Dados Corretos.\\nDigite (2) - Para Dados Incorretos. \"\"\"))\\n    if dados_usuario == 1:\\n        voltar_ao_menu()\\n    elif dados_usuario == 2: \\n        cadastro_pessoal.clear()\\n        os.system(\\'clear\\')\\n        cadastroPessoal()\\n\\ndef dados_incorretos_veiculos():\\n    dados_usuario = int(input(\"\"\"Digite (1) - Para Dados Corretos.\\nDigite (2) - Para Dados Incorretos. \"\"\"))\\n    if dados_usuario == 1:\\n        voltar_ao_menu()\\n    elif dados_usuario == 2: \\n        cadastro_veiculo.clear()\\n        os.system(\\'cls\\')\\n        cadastroCarro()\\n\\ndef cadastroPessoal():\\n    print(\"Opção Escolhida (1) - Cadastro Pessoal \")\\n    nome = input(\"Digite seu nome completo. \")\\n    email = input(\"Digite seu email. \")\\n    cpf = input(\"Digite seu CPF. \")\\n    dados_pessoais = {\"nome\": nome, \"email\": email,\"cpf\" : cpf }\\n    cadastro_pessoal.append(dados_pessoais)\\n    os.system(\\'clear\\')\\n    print(\"Seus Dados Estão corretos? \")\\n    for dado in cadastro_pessoal:\\n            nome = dado[\"nome\"]\\n            cpf = dado[\"cpf\"]\\n            email = dado[\"email\"]\\n            print(f\"Nome: {nome}\")\\n            print(f\"Email: {email}\")\\n            print(f\"CPF: {cpf}\")\\n    dados_incorretos()\\n\\ndef ConsultaDados():\\n    print(\"Opção Escolhida (3) - Consultar Dados.\")\\n    for dado in cadastro_pessoal:\\n            nome = dado[\"nome\"]\\n            cpf = dado[\"cpf\"]\\n            email = dado[\"email\"]\\n            print(f\"Nome: {nome}\")\\n            print(f\"Email: {email}\")\\n            print(f\"CPF: {cpf}\")\\n    for dado in cadastro_veiculo:\\n        marca = dado[\"marca\"]\\n        nome_veiculo = dado[\"veiculo\"]\\n        ano = dado[\"ano\"]\\n        print(f\"Marca: {marca}\")\\n        print(f\"Veiculo: {nome_veiculo}\")\\n        print(f\"Ano: {ano}\")\\n    voltar_ao_menu()\\n    \\n\\n\\ndef cadastroCarro():\\n    print(\"Opção Escolhida (3) - Cadastro Carro.\")\\n   \\n    marca = input(\"Digite a Marca do seu veiculo. \")\\n        \\n    nome_veiculo = input(\"Digite o nome do veiculo. \")\\n    \\n\\n    while True:\\n        ano = int(input(\"Digite o ano do veiculo. \"))\\n        if ano > ano_atual:\\n            print(\"Erro. O Ano Do Veiculo está maior que o Ano Atual.\")\\n        else:\\n            break\\n        \\n    dados_veiculos = {\"marca\": marca, \"veiculo\": nome_veiculo, \"ano\": ano}\\n    cadastro_veiculo.append(dados_veiculos)\\n    os.system(\\'clear\\')\\n    print(\"Seus Dados Estão Corretos? \")\\n    for dado in cadastro_veiculo:\\n        marca = dado[\"marca\"]\\n        nome_veiculo = dado[\"veiculo\"]\\n        ano = dado[\"ano\"]\\n        print(f\"Marca: {marca}\")\\n        print(f\"Veiculo: {nome_veiculo}\")\\n        print(f\"Ano: {ano}\")\\n    dados_incorretos_veiculos()\\n\\ndef escolha_opcao():\\n    try:\\n        escolha = int(input(\"Digite aqui: \"))\\n        if escolha == 1:\\n            cadastroPessoal()\\n        elif escolha == 2:\\n            cadastroCarro()\\n        elif escolha == 3:\\n            ConsultaDados()\\n            \\n        else:\\n            opçao_invalida()\\n                \\n                \\n\\n    except:\\n        opçao_invalida()\\n\\n\\ndef main():\\n    marca()\\n    menu()\\n    escolha_opcao()\\n \\n\\n        \\n\\nif __name__ == \\'__main__\\':\\n    main()',\n",
       " '_i8': 'import os\\nimport sys\\n\\ncadastro_pessoal = []\\ncadastro_veiculo = []\\nano_atual = 2024\\ndef marca():\\n    print(\"\"\"\\n░█████╗░██╗░░░██╗████████╗░█████╗░██████╗░██████╗░░█████╗░██████╗░██╗░░░░░███████╗███╗░░░███╗░██████╗\\n██╔══██╗██║░░░██║╚══██╔══╝██╔══██╗██╔══██╗██╔══██╗██╔══██╗██╔══██╗██║░░░░░██╔════╝████╗░████║██╔════╝\\n███████║██║░░░██║░░░██║░░░██║░░██║██████╔╝██████╔╝██║░░██║██████╦╝██║░░░░░█████╗░░██╔████╔██║╚█████╗░\\n██╔══██║██║░░░██║░░░██║░░░██║░░██║██╔═══╝░██╔══██╗██║░░██║██╔══██╗██║░░░░░██╔══╝░░██║╚██╔╝██║░╚═══██╗\\n██║░░██║╚██████╔╝░░░██║░░░╚█████╔╝██║░░░░░██║░░██║╚█████╔╝██████╦╝███████╗███████╗██║░╚═╝░██║██████╔╝\\n╚═╝░░╚═╝░╚═════╝░░░░╚═╝░░░░╚════╝░╚═╝░░░░░╚═╝░░╚═╝░╚════╝░╚═════╝░╚══════╝╚══════╝╚═╝░░░░░╚═╝╚═════╝░\"\"\")\\n    \\n\\ndef menu():\\n    print(\"-- 𝕄𝕖𝕟𝕦 -- \")\\n    print(\"\"\"Digite (1) - Para Cadastro Pessoal.\\nDigite (2) - Cadastrar Veiculos.\\nDigite (3) - Consultar Dados.  \"\"\")\\n    \\ndef voltar_ao_menu():\\n    input(\"Digite uma tecla para voltar ao menu: \")\\n    os.system(\\'cls\\')\\n    marca()\\n    menu()\\n    escolha_opcao()\\n\\ndef opçao_invalida():\\n    print(\"Digite uma opção valida!\")\\n    voltar_ao_menu()\\n\\n\\ndef dados_incorretos():\\n    dados_usuario = int(input(\"\"\"Digite (1) - Para Dados Corretos.\\nDigite (2) - Para Dados Incorretos. \"\"\"))\\n    if dados_usuario == 1:\\n        voltar_ao_menu()\\n    elif dados_usuario == 2: \\n        cadastro_pessoal.clear()\\n        os.system(\\'clear\\')\\n        cadastroPessoal()\\n\\ndef dados_incorretos_veiculos():\\n    dados_usuario = int(input(\"\"\"Digite (1) - Para Dados Corretos.\\nDigite (2) - Para Dados Incorretos. \"\"\"))\\n    if dados_usuario == 1:\\n        voltar_ao_menu()\\n    elif dados_usuario == 2: \\n        cadastro_veiculo.clear()\\n        os.system(\\'cls\\')\\n        cadastroCarro()\\n\\ndef cadastroPessoal():\\n    print(\"Opção Escolhida (1) - Cadastro Pessoal \")\\n    nome = input(\"Digite seu nome completo. \")\\n    email = input(\"Digite seu email. \")\\n    cpf = input(\"Digite seu CPF. \")\\n    dados_pessoais = {\"nome\": nome, \"email\": email,\"cpf\" : cpf }\\n    cadastro_pessoal.append(dados_pessoais)\\n    os.system(\\'clear\\')\\n    print(\"Seus Dados Estão corretos? \")\\n    for dado in cadastro_pessoal:\\n            nome = dado[\"nome\"]\\n            cpf = dado[\"cpf\"]\\n            email = dado[\"email\"]\\n            print(f\"Nome: {nome}\")\\n            print(f\"Email: {email}\")\\n            print(f\"CPF: {cpf}\")\\n    dados_incorretos()\\n\\ndef ConsultaDados():\\n    print(\"Opção Escolhida (3) - Consultar Dados.\")\\n    for dado in cadastro_pessoal:\\n            nome = dado[\"nome\"]\\n            cpf = dado[\"cpf\"]\\n            email = dado[\"email\"]\\n            print(f\"Nome: {nome}\")\\n            print(f\"Email: {email}\")\\n            print(f\"CPF: {cpf}\")\\n    for dado in cadastro_veiculo:\\n        marca = dado[\"marca\"]\\n        nome_veiculo = dado[\"veiculo\"]\\n        ano = dado[\"ano\"]\\n        print(f\"Marca: {marca}\")\\n        print(f\"Veiculo: {nome_veiculo}\")\\n        print(f\"Ano: {ano}\")\\n    voltar_ao_menu()\\n    \\n\\n\\ndef cadastroCarro():\\n    print(\"Opção Escolhida (3) - Cadastro Carro.\")\\n   \\n    marca = input(\"Digite a Marca do seu veiculo. \")\\n        \\n    nome_veiculo = input(\"Digite o nome do veiculo. \")\\n    \\n\\n    while True:\\n        ano = int(input(\"Digite o ano do veiculo. \"))\\n        if ano > ano_atual:\\n            print(\"Erro. O Ano Do Veiculo está maior que o Ano Atual.\")\\n        else:\\n            break\\n        \\n    dados_veiculos = {\"marca\": marca, \"veiculo\": nome_veiculo, \"ano\": ano}\\n    cadastro_veiculo.append(dados_veiculos)\\n    os.system(\\'clear\\')\\n    print(\"Seus Dados Estão Corretos? \")\\n    for dado in cadastro_veiculo:\\n        marca = dado[\"marca\"]\\n        nome_veiculo = dado[\"veiculo\"]\\n        ano = dado[\"ano\"]\\n        print(f\"Marca: {marca}\")\\n        print(f\"Veiculo: {nome_veiculo}\")\\n        print(f\"Ano: {ano}\")\\n    dados_incorretos_veiculos()\\n\\ndef escolha_opcao():\\n    try:\\n        escolha = int(input(\"Digite aqui: \"))\\n        if escolha == 1:\\n            cadastroPessoal()\\n        elif escolha == 2:\\n            cadastroCarro()\\n        elif escolha == 3:\\n            ConsultaDados()\\n            \\n        else:\\n            opçao_invalida()\\n                \\n                \\n\\n    except:\\n        opçao_invalida()\\n\\n\\ndef main():\\n    marca()\\n    menu()\\n    escolha_opcao()\\n \\n\\n        \\n\\nif __name__ == \\'__main__\\':\\n    main()',\n",
       " '_i9': 'formula = \"10 - 5\"',\n",
       " 'formula': 'x = 10 * 5',\n",
       " '_i10': 'formula',\n",
       " '_10': '10 - 5',\n",
       " '_i11': 'exec(formula)',\n",
       " '_i12': 'exec(formula, conteudo)',\n",
       " '_i13': 'formula = \"x = 10 - 5\"',\n",
       " '_i14': 'formula',\n",
       " '_14': 'x = 10 - 5',\n",
       " '_i15': 'exec(formula)',\n",
       " '_i16': 'x',\n",
       " '_16': 5,\n",
       " '_i17': 'formula = \"x = 10 * 5\"',\n",
       " '_i18': 'formula',\n",
       " '_18': 'x = 10 * 5',\n",
       " '_i19': 'exec(formula)',\n",
       " '_i20': 'x',\n",
       " '_20': 50,\n",
       " '_i21': 'x = input(\"Digite x: \")\\ny = input(\"Digite y: \")\\no = input(\"Digite a operacão: \")\\n\\nc = \"r = \"+ x + o + y\\nexec(c)\\nprint(f\"resultado {x} {o} {y} = {r}\")',\n",
       " 'y': '2',\n",
       " 'o': '/',\n",
       " 'c': '4/2',\n",
       " 'r': 2.0,\n",
       " '_i22': 'x = input(\"Digite x: \")\\ny = input(\"Digite y: \")\\no = input(\"Digite a operacão: \")\\n\\nprint(f\"Resultado de {x} {o} {y} = {exec(\"r = \"+ x + o + y)}\")',\n",
       " '_i23': 'x = input(\"Digite x: \")\\ny = input(\"Digite y: \")\\no = input(\"Digite a operacão: \")\\n\\nprint(f\"Resultado de {x} {o} {y} = {exec((\"r = \" + x + o + y))}\")',\n",
       " '_i24': 'x = input(\"Digite x: \")\\ny = input(\"Digite y: \")\\no = input(\"Digite a operacão: \")\\n\\nprint(f\"Resultado de {x} {o} {y} = {exec((\\'r = \\' + x + o + y))}\")',\n",
       " '_i25': 'x = input(\"Digite x: \")\\ny = input(\"Digite y: \")\\no = input(\"Digite a operacão: \")\\n\\nc = \"r = \" + x + o + y\\nexec(c)\\nprint(f\"Resultado de {x} {o} {y} = {r}\")',\n",
       " '_i26': 'x = input(\"Digite x: \")\\ny = input(\"Digite y: \")\\no = input(\"Digite a operacão: \")\\n\\nexec((\\'r = \\' + x + o + y))\\nprint(f\"Resultado de {x} {o} {y} = {r}\")',\n",
       " '_i27': 'c',\n",
       " '_27': 'r = 3/4',\n",
       " '_i28': 'exec(\"print(\\'s\\')\")',\n",
       " '_i29': 'exec(\"print(\\'Teste\\')\")',\n",
       " '_i30': \"print('Teste')\",\n",
       " '_i31': \"p = print('Teste')\",\n",
       " 'p': \"print('Teste')\",\n",
       " '_i32': 'exec(p)',\n",
       " '_i33': \"print('Teste')\",\n",
       " '_i34': 'p = \"print(\\'Teste\\')\"',\n",
       " '_i35': 'exec(p)',\n",
       " '_i36': 'x = input(\"Digite x: \")\\ny = input(\"Digite y: \")\\no = input(\"Digite a operacão: \")\\n\\nc = \"r = \" + x + o + y\\nexec(c)\\nprint(f\"Resultado de {x} {o} {y} = {r}\")',\n",
       " '_i37': 'x = input(\"digite: \")\\n\\ny = {}\\n\\nfor i in x:\\n    y{i} = y.get(i, 0) + 1\\n\\nprint(y)',\n",
       " '_i38': 'x = input(\"digite: \")\\n\\ny = {}\\n\\nfor i in x:\\n    y[i] = y.get(i, 0) + 1\\n\\nprint(y)',\n",
       " 'i': 'g',\n",
       " '_i39': 'x',\n",
       " '_39': 'sfgsfgsdfgfdsgdsfgdsfgdsfgdfsgsgsdfgsdgsdfg',\n",
       " '_i40': 'y = {x: input(\"Digite uma palavra: \").count(x) for x in set(input())}\\nprint(y)',\n",
       " '_i41': 'primeira = []\\nsegunda = []\\nwhile True:\\n    e = int(input(\"Digite um valor para a primeira lista (0 para terminar): \"))\\n    if e == 0:\\n        break\\n    primeira.append(e)\\nwhile True:\\n    e = int(input(\"Digite um valor para a segunda lista (0 para terminar): \"))\\n    if e == 0:\\n        break\\n    segunda.append(e)\\nterceira = primeira[:]  # Copia os elementos da primeira lista\\nterceira.extend(segunda)\\nx = 0\\nwhile x < len(terceira):\\n    print(f\"{x}: {terceira[x]}\")\\n    x = x + 1',\n",
       " 'primeira': [1, 2, 3],\n",
       " 'segunda': [6, 7, 8],\n",
       " 'e': 0,\n",
       " 'terceira': [1, 2, 3, 6, 7, 8],\n",
       " '_i42': 'primeira',\n",
       " '_42': [1, 2, 3, 2, 1, 2, 3],\n",
       " '_i43': 'segunda',\n",
       " '_43': [4, 3, 2, 2, 3, 3, 4],\n",
       " '_i44': 'terceira',\n",
       " '_44': [1, 2, 3, 2, 1, 2, 3, 4, 3, 2, 2, 3, 3, 4],\n",
       " '_i45': 'primeira = []\\nsegunda = []\\nwhile True:\\n    e = int(input(\"Digite um valor para a primeira lista (0 para terminar): \"))\\n    if e == 0:\\n        break\\n    primeira.append(e)\\nwhile True:\\n    e = int(input(\"Digite um valor para a segunda lista (0 para terminar): \"))\\n    if e == 0:\\n        break\\n    segunda.append(e)\\nterceira = primeira  # Copia os elementos da primeira lista\\nterceira.extend(segunda)\\nx = 0\\nwhile x < len(terceira):\\n    print(f\"{x}: {terceira[x]}\")\\n    x = x + 1',\n",
       " '_i46': 'primeira',\n",
       " '_46': [3, 2, 3, 6, 7, 8],\n",
       " '_i47': 'segunda',\n",
       " '_47': [6, 7, 8],\n",
       " '_i48': 'terceira',\n",
       " '_48': [3, 2, 3, 6, 7, 8],\n",
       " '_i49': 'primeira = []\\nsegunda = []\\nterceira = []\\nwhile True:\\n    e = int(input(\"Digite um valor para a primeira lista (0 para terminar): \"))\\n    if e == 0:\\n        break\\n    primeira.append(e)\\nwhile True:\\n    e = int(input(\"Digite um valor para a segunda lista (0 para terminar): \"))\\n    if e == 0:\\n        break\\n    segunda.append(e)\\nterceira = primeira  # Copia os elementos da primeira lista\\nterceira.extend(segunda)\\nx = 0\\nwhile x < len(terceira):\\n    print(f\"{x}: {terceira[x]}\")\\n    x = x + 1',\n",
       " '_i50': 'primeira',\n",
       " '_50': [1, 2, 3, 4, 5, 6, 8, 9],\n",
       " '_i51': 'segunda',\n",
       " '_51': [8, 9],\n",
       " '_i52': 'terceira',\n",
       " '_52': [1, 2, 3, 4, 5, 6, 8, 9],\n",
       " '_i53': 'primeira = []\\nsegunda = []\\nwhile True:\\n    e = int(input(\"Digite um valor para a primeira lista (0 para terminar): \"))\\n    if e == 0:\\n        break\\n    primeira.append(e)\\nwhile True:\\n    e = int(input(\"Digite um valor para a segunda lista (0 para terminar): \"))\\n    if e == 0:\\n        break\\n    segunda.append(e)\\nterceira = primeira[:]  # Copia os elementos da primeira lista\\nterceira.extend(segunda)\\nx = 0\\nwhile x < len(terceira):\\n    print(f\"{x}: {terceira[x]}\")\\n    x = x + 1',\n",
       " '_i54': 'primeira',\n",
       " '_54': [1, 2, 3],\n",
       " '_i55': 'segunda',\n",
       " '_55': [6, 7, 8],\n",
       " '_i56': 'terceira',\n",
       " '_56': [1, 2, 3, 6, 7, 8],\n",
       " '_i57': 'a = [1,2,3]\\nb = [5,6,7]\\nc = a\\nc.extend(b)',\n",
       " 'a': [1, 2, 3],\n",
       " 'b': [5, 6, 7],\n",
       " '_i58': 'a',\n",
       " '_58': [1, 2, 3, 5, 6, 7],\n",
       " '_i59': 'b',\n",
       " '_59': [5, 6, 7],\n",
       " '_i60': 'c',\n",
       " '_60': [1, 2, 3, 5, 6, 7],\n",
       " '_i61': 'a = [1,2,3]\\nb = [5,6,7]\\nc = a[:]\\nc.extend(b)',\n",
       " '_i62': 'a',\n",
       " '_62': [1, 2, 3],\n",
       " '_i63': 'b',\n",
       " '_63': [5, 6, 7],\n",
       " '_i64': 'c',\n",
       " '_64': [1, 2, 3, 5, 6, 7],\n",
       " '_i65': 'lista = [10, 20, 30, 40, 50, 60]\\nsublista = lista[1:4]  ',\n",
       " 'lista': [0, 1, 2, 3, 4, 5, 6, 7, 8, 9, 10],\n",
       " 'sublista': [2, 5],\n",
       " '_i66': 'sublista',\n",
       " '_66': [20, 30, 40],\n",
       " '_i67': 'lista = [10, 20, 30, 40, 50, 60, 70, 80, 90, 100, 110, 120, 140, 160, 180, 200]\\nsublista = lista[1:4]  ',\n",
       " '_i68': 'sublista',\n",
       " '_68': [20, 30, 40],\n",
       " '_i69': 'lista = [10, 20, 30, 40, 50, 60, 70, 80, 90, 100, 110, 120, 140, 160, 180, 200]\\nsublista = lista[1:4:2]  ',\n",
       " '_i70': 'sublista',\n",
       " '_70': [20, 40],\n",
       " '_i71': 'lista = [0, 1, 2, 3, 4, 5, 6, 7, 8, 9, 10]\\nsublista = lista[1:4:2]  ',\n",
       " '_i72': 'sublista',\n",
       " '_72': [1, 3],\n",
       " '_i73': 'lista = [0, 1, 2, 3, 4, 5, 6, 7, 8, 9, 10]\\nsublista = lista[1:8:2]  ',\n",
       " '_i74': 'sublista',\n",
       " '_74': [1, 3, 5, 7],\n",
       " '_i75': 'lista = [0, 1, 2, 3, 4, 5, 6, 7, 8, 9, 10]\\nsublista = lista[1:8:3]  ',\n",
       " '_i76': 'sublista',\n",
       " '_76': [1, 4, 7],\n",
       " '_i77': 'lista = [0, 1, 2, 3, 4, 5, 6, 7, 8, 9, 10]\\nsublista = lista[2:8:3]  ',\n",
       " '_i78': 'sublista',\n",
       " '_78': [2, 5],\n",
       " '_i79': 'x = input(\"Digite x: \")\\ny = input(\"Digite y: \")\\no = input(\"Digite a operacão: \")\\n\\nc = \"r = \" + x + o + y\\nexec(c)\\nprint(f\"Resultado de {x} {o} {y} = {r}\")',\n",
       " '_i80': 'c',\n",
       " '_80': 'r = 4/2',\n",
       " '_i81': 'c = \"4/2\"',\n",
       " '_i82': 'print(f\"Resultado de {x} {o} {y} = {exec(c)}\")',\n",
       " '_i83': '4/ 2',\n",
       " '_83': 2.0,\n",
       " '_i84': 'print(exec(\"4/2\"))',\n",
       " '_i85': 'var()',\n",
       " '_i86': 'vars()'}"
      ]
     },
     "execution_count": 86,
     "metadata": {},
     "output_type": "execute_result"
    }
   ],
   "source": [
    "vars()"
   ]
  },
  {
   "cell_type": "code",
   "execution_count": null,
   "id": "6b18e0d0-31e9-4ff1-a81e-6730802470c3",
   "metadata": {},
   "outputs": [],
   "source": []
  },
  {
   "cell_type": "code",
   "execution_count": null,
   "id": "eec5f3f2-7aef-4aa9-8ca3-91b1a8c021c3",
   "metadata": {},
   "outputs": [],
   "source": []
  },
  {
   "cell_type": "code",
   "execution_count": null,
   "id": "88d96092-c58b-4e72-b196-b0ca5fa20e2b",
   "metadata": {},
   "outputs": [],
   "source": [
    "a = [1,2,3]\n",
    "b = [5,6,7]\n",
    "c = a\n",
    "c.extend(b)\n",
    "\n",
    "print(a)\n",
    "print(b)\n",
    "print(c)\n",
    "\n",
    "print(\"=======================\")\n",
    "\n",
    "a = [1,2,3]\n",
    "b = [5,6,7]\n",
    "c = a[:]\n",
    "c.extend(b)\n",
    "\n",
    "print(a)\n",
    "print(b)\n",
    "print(c)\n"
   ]
  },
  {
   "cell_type": "code",
   "execution_count": 93,
   "id": "af81c28e-d39f-497d-b501-e3a3b5f1e48a",
   "metadata": {},
   "outputs": [
    {
     "name": "stdout",
     "output_type": "stream",
     "text": [
      "      0     1     2     3\n",
      "0  |  1  |  2  |  3  |  4  |  \n",
      "1  |  4  |  5  |  6  |  7  |  \n",
      "2  |  7  |  8  |  9  |  1  |  \n",
      "3  |  1  |  2  |  3  |  8  |  \n"
     ]
    }
   ],
   "source": [
    "a = [[1, 2, 3, 4], [4, 5, 6, 7], [7, 8, 9, 1], [1, 2, 3, 8]]\n",
    "\n",
    "sai = [\"\", \"\", \"\", \"\", \"\"]\n",
    "\n",
    "print(\"      0     1     2     3\")\n",
    "\n",
    "for i in range(len(a)):\n",
    "    sai[i] = 'print(f\"' + str(i) + '  |  '\n",
    "    for j in range(len(a[i])):\n",
    "        sai[i] = sai[i] + '{str(a['+ str(i) + '][' + str(j) + '])}  |  '\n",
    "    sai[i] = sai[i] + '\")'\n",
    "    exec(sai[i])"
   ]
  },
  {
   "cell_type": "code",
   "execution_count": 94,
   "id": "2a0bc2c0-cad0-4a07-87bb-c9599da8ddfa",
   "metadata": {},
   "outputs": [
    {
     "name": "stdout",
     "output_type": "stream",
     "text": [
      "      0     1     2     3\n",
      "0  |  1  |  2  |  3  |  4  |  \n",
      "1  |  4  |  5  |  6  |  7  |  \n",
      "2  |  7  |  8  |  9  |  1  |  \n",
      "3  |  1  |  2  |  3  |  8  |  \n"
     ]
    }
   ],
   "source": [
    "a = [[1, 2, 3, 4], [4, 5, 6, 7], [7, 8, 9, 1], [1, 2, 3, 8]]\n",
    "\n",
    "sai2 = [\"\", \"\", \"\", \"\", \"\"]\n",
    "sai2[0] = \"      0     1     2     3\"\n",
    "\n",
    "for i in range(len(a)):\n",
    "    sai2[i+1] = str(i) + '  |  '\n",
    "    for j in range(len(a[i])):\n",
    "        sai2[i+1] = sai2[i+1] + str(a[i][j]) + '  |  '\n",
    "\n",
    "for i in range(len(sai2)):\n",
    "    print(sai2[i])"
   ]
  },
  {
   "cell_type": "code",
   "execution_count": null,
   "id": "6c2a3ed0-8da3-4c9f-b158-de65d10dcbdd",
   "metadata": {},
   "outputs": [],
   "source": [
    "modalidade = input(\"Informe a modalidade: \")\n",
    "nome_atleta = input('Nome do atleta: ')\n",
    "nome_atleta = nome_atleta.title()\n",
    "\n",
    "notas = []\n",
    "\n",
    "while True:\n",
    "    qtd_notas = int(input(f'Quantidade de tentativas a {modalidade} têm: '))\n",
    "    qtd_notas_validas = int(input(f'Quantidade de tentativas validas: '))\n",
    "\n",
    "    if qtd_notas_validas <= qtd_notas:\n",
    "        for i in range(qtd_notas):\n",
    "            notas.append(float(input(f'Tentativa {i+1}: ')))\n",
    "\n",
    "        notas_orig = notas[:]\n",
    "        notas.sort(reverse=True)\n",
    "\n",
    "        media = sum(notas[:qtd_notas_validas]) / qtd_notas_validas\n",
    "\n",
    "        print(f\"O atleta {nome_atleta} obteve a média de {media:.2f}\")\n",
    "        for i in range(qtd_notas):\n",
    "            print(f'Tentativa {i + 1}: {notas_orig[i]}')\n",
    "        break\n",
    "    else:\n",
    "        print(\"Quantidade de notas validas deve ser menor ou igual a quantidade de tentativas.\")\n"
   ]
  }
 ],
 "metadata": {
  "kernelspec": {
   "display_name": "Python 3 (ipykernel)",
   "language": "python",
   "name": "python3"
  },
  "language_info": {
   "codemirror_mode": {
    "name": "ipython",
    "version": 3
   },
   "file_extension": ".py",
   "mimetype": "text/x-python",
   "name": "python",
   "nbconvert_exporter": "python",
   "pygments_lexer": "ipython3",
   "version": "3.11.7"
  }
 },
 "nbformat": 4,
 "nbformat_minor": 5
}
