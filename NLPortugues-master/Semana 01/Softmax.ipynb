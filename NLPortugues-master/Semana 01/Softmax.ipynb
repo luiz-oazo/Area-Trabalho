{
 "cells": [
  {
   "cell_type": "code",
   "execution_count": 66,
   "id": "692693fd",
   "metadata": {},
   "outputs": [],
   "source": [
    "import numpy as np\n",
    "import pandas as pd\n",
    "from datetime import datetime"
   ]
  },
  {
   "cell_type": "code",
   "execution_count": 67,
   "id": "e532e49d",
   "metadata": {},
   "outputs": [],
   "source": [
    "def softmax(X):\n",
    "    ye = np.exp(X)\n",
    "    yt = ye / sum(ye)\n",
    "    return yt"
   ]
  },
  {
   "cell_type": "code",
   "execution_count": 68,
   "id": "493049a8",
   "metadata": {},
   "outputs": [
    {
     "data": {
      "text/plain": [
       "array([0.00214401, 0.0158422 , 0.11705891, 0.86495488])"
      ]
     },
     "execution_count": 68,
     "metadata": {},
     "output_type": "execute_result"
    }
   ],
   "source": [
    "Z = [1, 3, 5, 7]\n",
    "K = softmax(Z)\n",
    "K"
   ]
  },
  {
   "cell_type": "code",
   "execution_count": 69,
   "id": "db0959a2",
   "metadata": {},
   "outputs": [
    {
     "data": {
      "text/plain": [
       "0.9999999999999999"
      ]
     },
     "execution_count": 69,
     "metadata": {},
     "output_type": "execute_result"
    }
   ],
   "source": [
    "sum(K)"
   ]
  },
  {
   "cell_type": "code",
   "execution_count": 70,
   "id": "5aa93b89",
   "metadata": {},
   "outputs": [
    {
     "data": {
      "text/plain": [
       "array([7.09547415e-23, 2.06115362e-09, 9.99999998e-01, 2.11513103e-19])"
      ]
     },
     "execution_count": 70,
     "metadata": {},
     "output_type": "execute_result"
    }
   ],
   "source": [
    "Z = [-1, 30, 50, 7]\n",
    "K = softmax(Z)\n",
    "K"
   ]
  },
  {
   "cell_type": "code",
   "execution_count": 71,
   "id": "9afe2b38",
   "metadata": {},
   "outputs": [
    {
     "data": {
      "text/plain": [
       "1.0"
      ]
     },
     "execution_count": 71,
     "metadata": {},
     "output_type": "execute_result"
    }
   ],
   "source": [
    "sum(K)"
   ]
  },
  {
   "cell_type": "code",
   "execution_count": null,
   "id": "b6d4a858",
   "metadata": {},
   "outputs": [],
   "source": []
  }
 ],
 "metadata": {
  "kernelspec": {
   "display_name": "Python 3 (ipykernel)",
   "language": "python",
   "name": "python3"
  },
  "language_info": {
   "codemirror_mode": {
    "name": "ipython",
    "version": 3
   },
   "file_extension": ".py",
   "mimetype": "text/x-python",
   "name": "python",
   "nbconvert_exporter": "python",
   "pygments_lexer": "ipython3",
   "version": "3.11.7"
  }
 },
 "nbformat": 4,
 "nbformat_minor": 5
}
