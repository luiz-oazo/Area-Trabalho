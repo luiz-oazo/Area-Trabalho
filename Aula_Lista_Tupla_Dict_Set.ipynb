{
 "cells": [
  {
   "cell_type": "code",
   "execution_count": 108,
   "id": "640a662c",
   "metadata": {},
   "outputs": [],
   "source": [
    "## LIST   []"
   ]
  },
  {
   "cell_type": "code",
   "execution_count": 101,
   "id": "56efa9e9",
   "metadata": {},
   "outputs": [
    {
     "data": {
      "text/plain": [
       "list"
      ]
     },
     "execution_count": 101,
     "metadata": {},
     "output_type": "execute_result"
    }
   ],
   "source": [
    "fruits = ['orange', 'apple', 'pear', 'banana', 'kiwi', 'apple', 'banana']\n",
    "type(fruits)"
   ]
  },
  {
   "cell_type": "code",
   "execution_count": 102,
   "id": "d9f3ff76",
   "metadata": {},
   "outputs": [
    {
     "data": {
      "text/plain": [
       "7"
      ]
     },
     "execution_count": 102,
     "metadata": {},
     "output_type": "execute_result"
    }
   ],
   "source": [
    "len(fruits)"
   ]
  },
  {
   "cell_type": "code",
   "execution_count": 103,
   "id": "fb787d49",
   "metadata": {
    "scrolled": true
   },
   "outputs": [
    {
     "data": {
      "text/plain": [
       "'orange'"
      ]
     },
     "execution_count": 103,
     "metadata": {},
     "output_type": "execute_result"
    }
   ],
   "source": [
    "fruits[0]"
   ]
  },
  {
   "cell_type": "code",
   "execution_count": 104,
   "id": "c0d17d60",
   "metadata": {},
   "outputs": [
    {
     "data": {
      "text/plain": [
       "'orange'"
      ]
     },
     "execution_count": 104,
     "metadata": {},
     "output_type": "execute_result"
    }
   ],
   "source": [
    "fruits[-7]"
   ]
  },
  {
   "cell_type": "code",
   "execution_count": 105,
   "id": "b896fe8d",
   "metadata": {},
   "outputs": [
    {
     "data": {
      "text/plain": [
       "['orange', 'apple', 'pear', 'banana', 'kiwi', 'apple', 'banana']"
      ]
     },
     "execution_count": 105,
     "metadata": {},
     "output_type": "execute_result"
    }
   ],
   "source": [
    "fruits[:]"
   ]
  },
  {
   "cell_type": "code",
   "execution_count": 106,
   "id": "fc885520",
   "metadata": {},
   "outputs": [
    {
     "data": {
      "text/plain": [
       "['pear', 'banana', 'kiwi']"
      ]
     },
     "execution_count": 106,
     "metadata": {},
     "output_type": "execute_result"
    }
   ],
   "source": [
    "fruits[2:5]"
   ]
  },
  {
   "cell_type": "code",
   "execution_count": 4,
   "id": "b6b2bada",
   "metadata": {},
   "outputs": [
    {
     "data": {
      "text/plain": [
       "[4, 65, 7, 3, 5, 6, 8, 3, 2, 1, 6]"
      ]
     },
     "execution_count": 4,
     "metadata": {},
     "output_type": "execute_result"
    }
   ],
   "source": [
    "a = [4,65,7,3,5,6,8,3,2,1,6]\n",
    "a"
   ]
  },
  {
   "cell_type": "code",
   "execution_count": 5,
   "id": "98a7eb61",
   "metadata": {},
   "outputs": [
    {
     "data": {
      "text/plain": [
       "[1, 'p', 5, 8.999, 74]"
      ]
     },
     "execution_count": 5,
     "metadata": {},
     "output_type": "execute_result"
    }
   ],
   "source": [
    "b = [1, \"p\", 5, 8.999, 74]\n",
    "b"
   ]
  },
  {
   "cell_type": "code",
   "execution_count": 9,
   "id": "44e3b539",
   "metadata": {},
   "outputs": [
    {
     "data": {
      "text/plain": [
       "float"
      ]
     },
     "execution_count": 9,
     "metadata": {},
     "output_type": "execute_result"
    }
   ],
   "source": [
    "type(b[3])"
   ]
  },
  {
   "cell_type": "code",
   "execution_count": 7,
   "id": "1cb59212",
   "metadata": {},
   "outputs": [
    {
     "data": {
      "text/plain": [
       "list"
      ]
     },
     "execution_count": 7,
     "metadata": {},
     "output_type": "execute_result"
    }
   ],
   "source": [
    "type(b)"
   ]
  },
  {
   "cell_type": "code",
   "execution_count": 21,
   "id": "3c05093d",
   "metadata": {},
   "outputs": [
    {
     "data": {
      "text/plain": [
       "list"
      ]
     },
     "execution_count": 21,
     "metadata": {},
     "output_type": "execute_result"
    }
   ],
   "source": [
    "fruits = ['orange', 'apple', 'pear', 'banana', 'kiwi', 'apple', 'banana']\n",
    "type(fruits)"
   ]
  },
  {
   "cell_type": "code",
   "execution_count": 22,
   "id": "c1df5252",
   "metadata": {},
   "outputs": [],
   "source": [
    "fruits.append(\"pineapple\")"
   ]
  },
  {
   "cell_type": "code",
   "execution_count": 23,
   "id": "11dc0d37",
   "metadata": {},
   "outputs": [
    {
     "data": {
      "text/plain": [
       "['orange', 'apple', 'pear', 'banana', 'kiwi', 'apple', 'banana', 'pineapple']"
      ]
     },
     "execution_count": 23,
     "metadata": {},
     "output_type": "execute_result"
    }
   ],
   "source": [
    "fruits"
   ]
  },
  {
   "cell_type": "code",
   "execution_count": 24,
   "id": "ba18fd0c",
   "metadata": {},
   "outputs": [
    {
     "data": {
      "text/plain": [
       "2"
      ]
     },
     "execution_count": 24,
     "metadata": {},
     "output_type": "execute_result"
    }
   ],
   "source": [
    "fruits.count('banana')"
   ]
  },
  {
   "cell_type": "code",
   "execution_count": 25,
   "id": "c20345af",
   "metadata": {},
   "outputs": [
    {
     "data": {
      "text/plain": [
       "['orange', 'pear', 'banana', 'kiwi', 'apple', 'banana', 'pineapple']"
      ]
     },
     "execution_count": 25,
     "metadata": {},
     "output_type": "execute_result"
    }
   ],
   "source": [
    "fruits.remove(\"apple\")\n",
    "fruits"
   ]
  },
  {
   "cell_type": "code",
   "execution_count": 32,
   "id": "caaabe44",
   "metadata": {},
   "outputs": [
    {
     "data": {
      "text/plain": [
       "4"
      ]
     },
     "execution_count": 32,
     "metadata": {},
     "output_type": "execute_result"
    }
   ],
   "source": [
    "fruits.index(\"banana\")"
   ]
  },
  {
   "cell_type": "code",
   "execution_count": 29,
   "id": "f8b1331f",
   "metadata": {},
   "outputs": [
    {
     "data": {
      "text/plain": [
       "['orange', 'pear', 'kiwi', 'apple', 'banana', 'pineapple']"
      ]
     },
     "execution_count": 29,
     "metadata": {},
     "output_type": "execute_result"
    }
   ],
   "source": [
    "fruits.pop(2)\n",
    "fruits"
   ]
  },
  {
   "cell_type": "code",
   "execution_count": 39,
   "id": "09f6b3b0",
   "metadata": {},
   "outputs": [
    {
     "data": {
      "text/plain": [
       "['apple', 'banana', 'kiwi', 'orange', 'pear', 'pineapple']"
      ]
     },
     "execution_count": 39,
     "metadata": {},
     "output_type": "execute_result"
    }
   ],
   "source": [
    "fruits.sort()\n",
    "fruits"
   ]
  },
  {
   "cell_type": "code",
   "execution_count": 42,
   "id": "6ebe8b8d",
   "metadata": {},
   "outputs": [
    {
     "data": {
      "text/plain": [
       "['pineapple', 'pear', 'orange', 'kiwi', 'banana', 'apple']"
      ]
     },
     "execution_count": 42,
     "metadata": {},
     "output_type": "execute_result"
    }
   ],
   "source": [
    "fruits.reverse()\n",
    "fruits"
   ]
  },
  {
   "cell_type": "code",
   "execution_count": 44,
   "id": "36a941b7",
   "metadata": {},
   "outputs": [
    {
     "data": {
      "text/plain": [
       "['orange', 'kiwi', 'banana', 'apple']"
      ]
     },
     "execution_count": 44,
     "metadata": {},
     "output_type": "execute_result"
    }
   ],
   "source": [
    "fruits[2:6]"
   ]
  },
  {
   "cell_type": "code",
   "execution_count": 45,
   "id": "a90836ca",
   "metadata": {},
   "outputs": [],
   "source": [
    "numeros = [0, 1, 2, 3, 4, 5]"
   ]
  },
  {
   "cell_type": "code",
   "execution_count": 47,
   "id": "99020732",
   "metadata": {},
   "outputs": [
    {
     "name": "stdout",
     "output_type": "stream",
     "text": [
      "[0, 1, 4, 9, 16, 25]\n"
     ]
    }
   ],
   "source": [
    "x = []\n",
    "for i in numeros:\n",
    "    x.append(i**2)\n",
    "print(x)"
   ]
  },
  {
   "cell_type": "code",
   "execution_count": 49,
   "id": "c631959b",
   "metadata": {},
   "outputs": [
    {
     "name": "stdout",
     "output_type": "stream",
     "text": [
      "[0, 1, 4, 9, 16, 25]\n"
     ]
    }
   ],
   "source": [
    "y = [x**2 for x in numeros]\n",
    "print(y)"
   ]
  },
  {
   "cell_type": "code",
   "execution_count": null,
   "id": "c56ed90e",
   "metadata": {},
   "outputs": [],
   "source": [
    "## Tupla ()"
   ]
  },
  {
   "cell_type": "code",
   "execution_count": 64,
   "id": "461e617e",
   "metadata": {},
   "outputs": [
    {
     "data": {
      "text/plain": [
       "((1, 0, 0), (0, 1, 0), (0, 0, 1))"
      ]
     },
     "execution_count": 64,
     "metadata": {},
     "output_type": "execute_result"
    }
   ],
   "source": [
    "b = ((1, 0, 0), (0, 1, 0), (0, 0, 1))\n",
    "b"
   ]
  },
  {
   "cell_type": "code",
   "execution_count": 54,
   "id": "acf91442",
   "metadata": {},
   "outputs": [
    {
     "data": {
      "text/plain": [
       "tuple"
      ]
     },
     "execution_count": 54,
     "metadata": {},
     "output_type": "execute_result"
    }
   ],
   "source": [
    "type(b[0])"
   ]
  },
  {
   "cell_type": "code",
   "execution_count": 61,
   "id": "061003aa",
   "metadata": {},
   "outputs": [
    {
     "data": {
      "text/plain": [
       "[[1, 0, 0], (0, 1, 0), (0, 0, 1)]"
      ]
     },
     "execution_count": 61,
     "metadata": {},
     "output_type": "execute_result"
    }
   ],
   "source": [
    "b = [[1, 0, 0], (0, 1, 0), (0, 0, 1)]\n",
    "b"
   ]
  },
  {
   "cell_type": "code",
   "execution_count": 62,
   "id": "ead5fb38",
   "metadata": {},
   "outputs": [
    {
     "data": {
      "text/plain": [
       "0"
      ]
     },
     "execution_count": 62,
     "metadata": {},
     "output_type": "execute_result"
    }
   ],
   "source": [
    "b[1][2]"
   ]
  },
  {
   "cell_type": "code",
   "execution_count": 55,
   "id": "77d51a18",
   "metadata": {},
   "outputs": [],
   "source": [
    "a = (1, 2, 3)"
   ]
  },
  {
   "cell_type": "code",
   "execution_count": 56,
   "id": "2dfb5880",
   "metadata": {},
   "outputs": [],
   "source": [
    "b = [1, 2, 3]"
   ]
  },
  {
   "cell_type": "code",
   "execution_count": 57,
   "id": "36cd6486",
   "metadata": {},
   "outputs": [
    {
     "data": {
      "text/plain": [
       "(1, 2, 3)"
      ]
     },
     "execution_count": 57,
     "metadata": {},
     "output_type": "execute_result"
    }
   ],
   "source": [
    "a"
   ]
  },
  {
   "cell_type": "code",
   "execution_count": 60,
   "id": "885a25d0",
   "metadata": {},
   "outputs": [
    {
     "ename": "AttributeError",
     "evalue": "'tuple' object has no attribute 'remove'",
     "output_type": "error",
     "traceback": [
      "\u001b[0;31m---------------------------------------------------------------------------\u001b[0m",
      "\u001b[0;31mAttributeError\u001b[0m                            Traceback (most recent call last)",
      "Cell \u001b[0;32mIn[60], line 1\u001b[0m\n\u001b[0;32m----> 1\u001b[0m a\u001b[38;5;241m.\u001b[39mremove(\u001b[38;5;241m1\u001b[39m)\n",
      "\u001b[0;31mAttributeError\u001b[0m: 'tuple' object has no attribute 'remove'"
     ]
    }
   ],
   "source": [
    "a.remove(1)"
   ]
  },
  {
   "cell_type": "code",
   "execution_count": 58,
   "id": "62f5798a",
   "metadata": {},
   "outputs": [
    {
     "data": {
      "text/plain": [
       "[1, 2, 3]"
      ]
     },
     "execution_count": 58,
     "metadata": {},
     "output_type": "execute_result"
    }
   ],
   "source": [
    "b"
   ]
  },
  {
   "cell_type": "code",
   "execution_count": 59,
   "id": "33b4b854",
   "metadata": {},
   "outputs": [
    {
     "data": {
      "text/plain": [
       "[2, 3]"
      ]
     },
     "execution_count": 59,
     "metadata": {},
     "output_type": "execute_result"
    }
   ],
   "source": [
    "b.remove(1)\n",
    "b"
   ]
  },
  {
   "cell_type": "code",
   "execution_count": 65,
   "id": "189b2c6e",
   "metadata": {},
   "outputs": [],
   "source": [
    "tarifa = [(\"onibus\", \"SP\", 10), (\"onibus\", \"RJ\", 9), \n",
    "          (\"onibus\", \"ZZ\", 5), (\"taxi\", \"RJ\", 15),\n",
    "          (\"taxi\", \"AL\", 50),\n",
    "          (\"taxi\", \"SP\", 20), (\"taxi\", \"ZZ\", 30)]"
   ]
  },
  {
   "cell_type": "code",
   "execution_count": 66,
   "id": "9f461b49",
   "metadata": {},
   "outputs": [
    {
     "data": {
      "text/plain": [
       "[('onibus', 'SP', 10),\n",
       " ('onibus', 'RJ', 9),\n",
       " ('onibus', 'ZZ', 5),\n",
       " ('taxi', 'RJ', 15),\n",
       " ('taxi', 'AL', 50),\n",
       " ('taxi', 'SP', 20),\n",
       " ('taxi', 'ZZ', 30)]"
      ]
     },
     "execution_count": 66,
     "metadata": {},
     "output_type": "execute_result"
    }
   ],
   "source": [
    "tarifa"
   ]
  },
  {
   "cell_type": "code",
   "execution_count": 70,
   "id": "65c475e4",
   "metadata": {},
   "outputs": [
    {
     "name": "stdout",
     "output_type": "stream",
     "text": [
      "tipo de transporte: onibus\n",
      "Estado: RR\n",
      "tarifa RR 5\n",
      "registros lidos 3\n"
     ]
    }
   ],
   "source": [
    "tipo = input(\"tipo de transporte: \")\n",
    "estado = input(\"Estado: \")\n",
    "\n",
    "q = 0\n",
    "for i in tarifa:\n",
    "    q+=1\n",
    "    if i[0] == tipo:\n",
    "        if i[1] == estado:\n",
    "            print(\"tarifa\", estado, i[2])\n",
    "            break\n",
    "        else:\n",
    "            if i[1] == \"ZZ\":\n",
    "                print(\"tarifa\", estado, i[2])\n",
    "                break\n",
    "print(\"registros lidos\", q)"
   ]
  },
  {
   "cell_type": "code",
   "execution_count": 107,
   "id": "a3fb9fcb",
   "metadata": {},
   "outputs": [],
   "source": [
    "## DICT"
   ]
  },
  {
   "cell_type": "code",
   "execution_count": 99,
   "id": "55fcc869",
   "metadata": {},
   "outputs": [
    {
     "data": {
      "text/plain": [
       "{'onibus': {'RJ': 9, 'SP': 10, 'ZZ': 5},\n",
       " 'taxi': {'RJ': 15, 'SP': 20, 'AL': 50, 'ZZ': 30}}"
      ]
     },
     "execution_count": 99,
     "metadata": {},
     "output_type": "execute_result"
    }
   ],
   "source": [
    "tarifa_dict = {\"onibus\": {'RJ': 9,\n",
    "                          'SP': 10,\n",
    "                          'ZZ': 5},\n",
    "               \"taxi\": {'RJ': 15,\n",
    "                        'SP': 20,\n",
    "                        'AL': 50,\n",
    "                        'ZZ': 30}}\n",
    "tarifa_dict"
   ]
  },
  {
   "cell_type": "code",
   "execution_count": 97,
   "id": "cad5c699",
   "metadata": {},
   "outputs": [],
   "source": [
    "del tarifa_dict[\"onibus\"]"
   ]
  },
  {
   "cell_type": "code",
   "execution_count": 98,
   "id": "6ce73a90",
   "metadata": {},
   "outputs": [
    {
     "data": {
      "text/plain": [
       "{'taxi': {'RJ': 15, 'SP': 20, 'AL': 50, 'ZZ': 30}}"
      ]
     },
     "execution_count": 98,
     "metadata": {},
     "output_type": "execute_result"
    }
   ],
   "source": [
    "tarifa_dict"
   ]
  },
  {
   "cell_type": "code",
   "execution_count": 92,
   "id": "dcf35af8",
   "metadata": {},
   "outputs": [
    {
     "data": {
      "text/plain": [
       "dict_items([('onibus', {'RJ': 9, 'SP': 10, 'ZZ': 5}), ('taxi', {'RJ': 15, 'SP': 20, 'AL': 50, 'ZZ': 30})])"
      ]
     },
     "execution_count": 92,
     "metadata": {},
     "output_type": "execute_result"
    }
   ],
   "source": [
    "tarifa_dict.items()"
   ]
  },
  {
   "cell_type": "code",
   "execution_count": 95,
   "id": "c5108dc4",
   "metadata": {},
   "outputs": [
    {
     "data": {
      "text/plain": [
       "dict_values([{'RJ': 9, 'SP': 10, 'ZZ': 5}, {'RJ': 15, 'SP': 20, 'AL': 50, 'ZZ': 30}])"
      ]
     },
     "execution_count": 95,
     "metadata": {},
     "output_type": "execute_result"
    }
   ],
   "source": [
    "tarifa_dict.values()"
   ]
  },
  {
   "cell_type": "code",
   "execution_count": 94,
   "id": "5cbded1a",
   "metadata": {},
   "outputs": [
    {
     "data": {
      "text/plain": [
       "dict_values([9, 10, 5])"
      ]
     },
     "execution_count": 94,
     "metadata": {},
     "output_type": "execute_result"
    }
   ],
   "source": [
    "tarifa_dict['onibus'].values()"
   ]
  },
  {
   "cell_type": "code",
   "execution_count": 74,
   "id": "2504cd12",
   "metadata": {},
   "outputs": [
    {
     "data": {
      "text/plain": [
       "dict_keys(['onibus', 'taxi'])"
      ]
     },
     "execution_count": 74,
     "metadata": {},
     "output_type": "execute_result"
    }
   ],
   "source": [
    "tarifa_dict.keys()"
   ]
  },
  {
   "cell_type": "code",
   "execution_count": 75,
   "id": "0129fb9e",
   "metadata": {},
   "outputs": [
    {
     "data": {
      "text/plain": [
       "dict_keys(['RJ', 'SP', 'ZZ'])"
      ]
     },
     "execution_count": 75,
     "metadata": {},
     "output_type": "execute_result"
    }
   ],
   "source": [
    "tarifa_dict[\"onibus\"].keys()"
   ]
  },
  {
   "cell_type": "code",
   "execution_count": 77,
   "id": "a0095273",
   "metadata": {},
   "outputs": [
    {
     "data": {
      "text/plain": [
       "10"
      ]
     },
     "execution_count": 77,
     "metadata": {},
     "output_type": "execute_result"
    }
   ],
   "source": [
    "tarifa_dict[\"onibus\"]['SP']"
   ]
  },
  {
   "cell_type": "code",
   "execution_count": 78,
   "id": "e3dac41f",
   "metadata": {},
   "outputs": [
    {
     "data": {
      "text/plain": [
       "{'RJ': 9, 'SP': 10, 'ZZ': 5}"
      ]
     },
     "execution_count": 78,
     "metadata": {},
     "output_type": "execute_result"
    }
   ],
   "source": [
    "tarifa_dict.get(\"onibus\")"
   ]
  },
  {
   "cell_type": "code",
   "execution_count": 83,
   "id": "c5c5054a",
   "metadata": {},
   "outputs": [
    {
     "name": "stdout",
     "output_type": "stream",
     "text": [
      "ok\n"
     ]
    }
   ],
   "source": [
    "x = tarifa_dict[\"onibus\"].get(\"DD\")\n",
    "if not x:\n",
    "    print(\"ok\")"
   ]
  },
  {
   "cell_type": "code",
   "execution_count": 84,
   "id": "c8264ef3",
   "metadata": {},
   "outputs": [
    {
     "name": "stdout",
     "output_type": "stream",
     "text": [
      "tipo de transporte: onibus\n",
      "Estado: RR\n",
      "RR 5\n"
     ]
    }
   ],
   "source": [
    "tipo = input(\"tipo de transporte: \")\n",
    "estado = input(\"Estado: \")\n",
    "\n",
    "if tarifa_dict.get(tipo):\n",
    "    if tarifa_dict[tipo].get(estado):\n",
    "        print(estado, tarifa_dict[tipo].get(estado))\n",
    "    else:\n",
    "        print(estado, tarifa_dict[tipo].get(\"ZZ\"))"
   ]
  },
  {
   "cell_type": "code",
   "execution_count": 87,
   "id": "b6a04bf3",
   "metadata": {},
   "outputs": [
    {
     "name": "stdout",
     "output_type": "stream",
     "text": [
      "Estado: AL\n",
      "AL taxi\n"
     ]
    }
   ],
   "source": [
    "estado = input(\"Estado: \")\n",
    "\n",
    "for tipo in tarifa_dict.keys():\n",
    "    if tarifa_dict[tipo].get(estado):\n",
    "        print(estado, tipo)"
   ]
  },
  {
   "cell_type": "code",
   "execution_count": 109,
   "id": "51bae1a1",
   "metadata": {},
   "outputs": [],
   "source": [
    "## SET   {}"
   ]
  },
  {
   "cell_type": "code",
   "execution_count": 131,
   "id": "196308a5",
   "metadata": {},
   "outputs": [
    {
     "data": {
      "text/plain": [
       "set"
      ]
     },
     "execution_count": 131,
     "metadata": {},
     "output_type": "execute_result"
    }
   ],
   "source": [
    "frutas = {\"maçã\", \"banana\", \"cereja\"}\n",
    "type(frutas)"
   ]
  },
  {
   "cell_type": "code",
   "execution_count": 132,
   "id": "55407f6f",
   "metadata": {},
   "outputs": [
    {
     "data": {
      "text/plain": [
       "{'banana', 'cereja', 'maçã'}"
      ]
     },
     "execution_count": 132,
     "metadata": {},
     "output_type": "execute_result"
    }
   ],
   "source": [
    "frutas"
   ]
  },
  {
   "cell_type": "code",
   "execution_count": 133,
   "id": "0427f833",
   "metadata": {},
   "outputs": [
    {
     "data": {
      "text/plain": [
       "{'banana', 'cereja', 'laranja', 'maçã'}"
      ]
     },
     "execution_count": 133,
     "metadata": {},
     "output_type": "execute_result"
    }
   ],
   "source": [
    "frutas.add(\"laranja\")\n",
    "frutas"
   ]
  },
  {
   "cell_type": "code",
   "execution_count": 134,
   "id": "84828bb6",
   "metadata": {},
   "outputs": [
    {
     "data": {
      "text/plain": [
       "{'abacate', 'banana', 'cereja', 'laranja', 'maçã'}"
      ]
     },
     "execution_count": 134,
     "metadata": {},
     "output_type": "execute_result"
    }
   ],
   "source": [
    "frutas.add(\"abacate\")\n",
    "frutas"
   ]
  },
  {
   "cell_type": "code",
   "execution_count": 126,
   "id": "bbf2843f",
   "metadata": {},
   "outputs": [
    {
     "data": {
      "text/plain": [
       "{'abacate', 'cereja', 'laranja', 'maçã'}"
      ]
     },
     "execution_count": 126,
     "metadata": {},
     "output_type": "execute_result"
    }
   ],
   "source": [
    "frutas.remove(\"banana\")\n",
    "frutas"
   ]
  },
  {
   "cell_type": "code",
   "execution_count": 127,
   "id": "202190d8",
   "metadata": {},
   "outputs": [
    {
     "data": {
      "text/plain": [
       "{'abacate', 'cereja', 'laranja', 'maçã'}"
      ]
     },
     "execution_count": 127,
     "metadata": {},
     "output_type": "execute_result"
    }
   ],
   "source": [
    "frutas.discard(\"banana\")\n",
    "frutas"
   ]
  },
  {
   "cell_type": "code",
   "execution_count": 128,
   "id": "dcd37850",
   "metadata": {},
   "outputs": [
    {
     "data": {
      "text/plain": [
       "{'abacate', 'cereja', 'maçã'}"
      ]
     },
     "execution_count": 128,
     "metadata": {},
     "output_type": "execute_result"
    }
   ],
   "source": [
    "frutas.discard(\"laranja\")\n",
    "frutas"
   ]
  },
  {
   "cell_type": "code",
   "execution_count": 135,
   "id": "8cbd6429",
   "metadata": {},
   "outputs": [
    {
     "data": {
      "text/plain": [
       "'banana'"
      ]
     },
     "execution_count": 135,
     "metadata": {},
     "output_type": "execute_result"
    }
   ],
   "source": [
    "fruta_removida = frutas.pop()\n",
    "fruta_removida"
   ]
  },
  {
   "cell_type": "code",
   "execution_count": 136,
   "id": "c00e0b46",
   "metadata": {},
   "outputs": [
    {
     "data": {
      "text/plain": [
       "{'abacate', 'cereja', 'laranja', 'maçã'}"
      ]
     },
     "execution_count": 136,
     "metadata": {},
     "output_type": "execute_result"
    }
   ],
   "source": [
    "frutas"
   ]
  },
  {
   "cell_type": "code",
   "execution_count": 138,
   "id": "c4f5e01d",
   "metadata": {},
   "outputs": [
    {
     "data": {
      "text/plain": [
       "set()"
      ]
     },
     "execution_count": 138,
     "metadata": {},
     "output_type": "execute_result"
    }
   ],
   "source": [
    "frutas.clear()\n",
    "frutas"
   ]
  },
  {
   "cell_type": "code",
   "execution_count": 139,
   "id": "678af328",
   "metadata": {},
   "outputs": [
    {
     "data": {
      "text/plain": [
       "{1, 2, 3, 4, 5}"
      ]
     },
     "execution_count": 139,
     "metadata": {},
     "output_type": "execute_result"
    }
   ],
   "source": [
    "conjunto1 = {1, 2, 3}\n",
    "conjunto2 = {3, 4, 5}\n",
    "uniao = conjunto1.union(conjunto2)\n",
    "uniao"
   ]
  },
  {
   "cell_type": "code",
   "execution_count": 140,
   "id": "3cef9b88",
   "metadata": {},
   "outputs": [
    {
     "data": {
      "text/plain": [
       "{3}"
      ]
     },
     "execution_count": 140,
     "metadata": {},
     "output_type": "execute_result"
    }
   ],
   "source": [
    "intersecao = conjunto1.intersection(conjunto2)\n",
    "intersecao"
   ]
  },
  {
   "cell_type": "code",
   "execution_count": 142,
   "id": "cf11d03c",
   "metadata": {},
   "outputs": [
    {
     "data": {
      "text/plain": [
       "{1, 2}"
      ]
     },
     "execution_count": 142,
     "metadata": {},
     "output_type": "execute_result"
    }
   ],
   "source": [
    "diferenca = conjunto1.difference(conjunto2)\n",
    "diferenca"
   ]
  },
  {
   "cell_type": "code",
   "execution_count": 143,
   "id": "6898bcd2",
   "metadata": {},
   "outputs": [
    {
     "data": {
      "text/plain": [
       "{4, 5}"
      ]
     },
     "execution_count": 143,
     "metadata": {},
     "output_type": "execute_result"
    }
   ],
   "source": [
    "diferenca = conjunto2.difference(conjunto1)\n",
    "diferenca"
   ]
  },
  {
   "cell_type": "code",
   "execution_count": 144,
   "id": "a13a993b",
   "metadata": {},
   "outputs": [
    {
     "data": {
      "text/plain": [
       "True"
      ]
     },
     "execution_count": 144,
     "metadata": {},
     "output_type": "execute_result"
    }
   ],
   "source": [
    "subconjunto = {1, 2}\n",
    "resultado = subconjunto.issubset(conjunto1)\n",
    "resultado"
   ]
  },
  {
   "cell_type": "code",
   "execution_count": 145,
   "id": "3133dee5",
   "metadata": {},
   "outputs": [
    {
     "data": {
      "text/plain": [
       "True"
      ]
     },
     "execution_count": 145,
     "metadata": {},
     "output_type": "execute_result"
    }
   ],
   "source": [
    "resultado = conjunto1.issuperset(subconjunto)\n",
    "resultado"
   ]
  },
  {
   "cell_type": "code",
   "execution_count": 146,
   "id": "3bddff48",
   "metadata": {},
   "outputs": [
    {
     "data": {
      "text/plain": [
       "{1, 2, 4, 5}"
      ]
     },
     "execution_count": 146,
     "metadata": {},
     "output_type": "execute_result"
    }
   ],
   "source": [
    "diff_simetrica = conjunto1.symmetric_difference(conjunto2)\n",
    "diff_simetrica"
   ]
  },
  {
   "cell_type": "code",
   "execution_count": 147,
   "id": "877b7731",
   "metadata": {},
   "outputs": [
    {
     "name": "stdout",
     "output_type": "stream",
     "text": [
      "{1, 2, 3, 4, 5, 6}\n",
      "{3, 4}\n",
      "{1, 2}\n",
      "{1, 2, 5, 6}\n"
     ]
    }
   ],
   "source": [
    "A = {1, 2, 3, 4}\n",
    "B = {3, 4, 5, 6}\n",
    "\n",
    "# União\n",
    "print(A | B)  # {1, 2, 3, 4, 5, 6}\n",
    "\n",
    "# Interseção\n",
    "print(A & B)  # {3, 4}\n",
    "\n",
    "# Diferença\n",
    "print(A - B)  # {1, 2}\n",
    "\n",
    "# Diferença Simétrica\n",
    "print(A ^ B)  # {1, 2, 5, 6}"
   ]
  },
  {
   "cell_type": "code",
   "execution_count": 148,
   "id": "e93898b9",
   "metadata": {},
   "outputs": [
    {
     "data": {
      "text/plain": [
       "False"
      ]
     },
     "execution_count": 148,
     "metadata": {},
     "output_type": "execute_result"
    }
   ],
   "source": [
    "5 in A"
   ]
  },
  {
   "cell_type": "code",
   "execution_count": 150,
   "id": "6dda9e2d",
   "metadata": {},
   "outputs": [
    {
     "name": "stdout",
     "output_type": "stream",
     "text": [
      "1\n",
      "2\n",
      "3\n",
      "4\n",
      "5\n",
      "6\n"
     ]
    }
   ],
   "source": [
    "for i in (A | B):\n",
    "    print(i)"
   ]
  },
  {
   "cell_type": "code",
   "execution_count": 151,
   "id": "c8332acf",
   "metadata": {},
   "outputs": [
    {
     "ename": "TypeError",
     "evalue": "'set' object is not subscriptable",
     "output_type": "error",
     "traceback": [
      "\u001b[0;31m---------------------------------------------------------------------------\u001b[0m",
      "\u001b[0;31mTypeError\u001b[0m                                 Traceback (most recent call last)",
      "Cell \u001b[0;32mIn[151], line 1\u001b[0m\n\u001b[0;32m----> 1\u001b[0m A[\u001b[38;5;241m0\u001b[39m]\n",
      "\u001b[0;31mTypeError\u001b[0m: 'set' object is not subscriptable"
     ]
    }
   ],
   "source": [
    "A[0]"
   ]
  },
  {
   "cell_type": "code",
   "execution_count": 152,
   "id": "20d423f7",
   "metadata": {},
   "outputs": [
    {
     "data": {
      "text/plain": [
       "{1, 2, 3, 4}"
      ]
     },
     "execution_count": 152,
     "metadata": {},
     "output_type": "execute_result"
    }
   ],
   "source": [
    "A"
   ]
  },
  {
   "cell_type": "code",
   "execution_count": 153,
   "id": "21f6e079",
   "metadata": {},
   "outputs": [],
   "source": [
    "A_list = list(A)"
   ]
  },
  {
   "cell_type": "code",
   "execution_count": 154,
   "id": "b39c8eda",
   "metadata": {},
   "outputs": [
    {
     "data": {
      "text/plain": [
       "1"
      ]
     },
     "execution_count": 154,
     "metadata": {},
     "output_type": "execute_result"
    }
   ],
   "source": [
    "A_list[0]"
   ]
  },
  {
   "cell_type": "code",
   "execution_count": 155,
   "id": "ff5382b7",
   "metadata": {},
   "outputs": [
    {
     "data": {
      "text/plain": [
       "True"
      ]
     },
     "execution_count": 155,
     "metadata": {},
     "output_type": "execute_result"
    }
   ],
   "source": [
    "3 in A"
   ]
  },
  {
   "cell_type": "code",
   "execution_count": 156,
   "id": "0d6d01af",
   "metadata": {},
   "outputs": [
    {
     "data": {
      "text/plain": [
       "1"
      ]
     },
     "execution_count": 156,
     "metadata": {},
     "output_type": "execute_result"
    }
   ],
   "source": [
    "A_list.count(3)"
   ]
  },
  {
   "cell_type": "code",
   "execution_count": 157,
   "id": "f9a7d7b0",
   "metadata": {},
   "outputs": [
    {
     "data": {
      "text/plain": [
       "2"
      ]
     },
     "execution_count": 157,
     "metadata": {},
     "output_type": "execute_result"
    }
   ],
   "source": [
    "A_list.index(3)"
   ]
  },
  {
   "cell_type": "code",
   "execution_count": 158,
   "id": "f730ee53",
   "metadata": {},
   "outputs": [
    {
     "data": {
      "text/plain": [
       "3"
      ]
     },
     "execution_count": 158,
     "metadata": {},
     "output_type": "execute_result"
    }
   ],
   "source": [
    "A_list[2]"
   ]
  },
  {
   "cell_type": "code",
   "execution_count": 165,
   "id": "bc7a4550",
   "metadata": {},
   "outputs": [
    {
     "name": "stdout",
     "output_type": "stream",
     "text": [
      "[1, 2, 3]\n",
      "[4, 5, 6]\n",
      "[7, 8, 9]\n",
      "\n",
      "\n",
      "[1, 4, 7]\n",
      "[2, 5, 8]\n",
      "[3, 6, 9]\n"
     ]
    }
   ],
   "source": [
    "A=[[1,2,3], [4,5,6], [7, 8, 9]]\n",
    "\n",
    "#printa as linhas da matriz A\n",
    "for i in A:\n",
    "    print(i)\n",
    "print(\"\\n\")\n",
    "\n",
    "A_t=[[k[0] for k in A], [k[1] for k in A], [k[2] for k in A]]\n",
    "\n",
    "#printa as linhas da transposta de A\n",
    "for i in A_t:\n",
    "    print(i)"
   ]
  },
  {
   "cell_type": "code",
   "execution_count": 180,
   "id": "b2ec7efd",
   "metadata": {},
   "outputs": [
    {
     "name": "stdout",
     "output_type": "stream",
     "text": [
      "[1, 2]\n",
      "[4, 5]\n",
      "[7, 8]\n",
      "\n",
      "\n",
      "[1, 4, 7]\n",
      "[2, 5, 8]\n"
     ]
    }
   ],
   "source": [
    "A=[[1,2], [4,5], [7, 8]]\n",
    "\n",
    "#printa as linhas da matriz A\n",
    "for i in A:\n",
    "    print(i)\n",
    "print(\"\\n\")\n",
    "\n",
    "A_t=[[k[0] for k in A], [k[1] for k in A]]\n",
    "\n",
    "#printa as linhas da transposta de A\n",
    "for i in A_t:\n",
    "    print(i)"
   ]
  },
  {
   "cell_type": "code",
   "execution_count": 182,
   "id": "45e8c254",
   "metadata": {},
   "outputs": [
    {
     "name": "stdout",
     "output_type": "stream",
     "text": [
      "[[1 2]\n",
      " [4 5]\n",
      " [7 8]]\n",
      "\n",
      "\n",
      "[[1 4 7]\n",
      " [2 5 8]]\n"
     ]
    }
   ],
   "source": [
    "import numpy as np\n",
    "\n",
    "A = np.array([[1,2], [4,5], [7, 8]])\n",
    "\n",
    "A_t = np.transpose(A)\n",
    "\n",
    "print(A)\n",
    "print(\"\\n\")\n",
    "print(A_t)"
   ]
  },
  {
   "cell_type": "code",
   "execution_count": 183,
   "id": "842f6730",
   "metadata": {},
   "outputs": [
    {
     "data": {
      "text/plain": [
       "array([[1, 4, 7],\n",
       "       [2, 5, 8]])"
      ]
     },
     "execution_count": 183,
     "metadata": {},
     "output_type": "execute_result"
    }
   ],
   "source": [
    "A.T"
   ]
  },
  {
   "cell_type": "code",
   "execution_count": null,
   "id": "744f1be6",
   "metadata": {},
   "outputs": [],
   "source": []
  }
 ],
 "metadata": {
  "kernelspec": {
   "display_name": "Python 3 (ipykernel)",
   "language": "python",
   "name": "python3"
  },
  "language_info": {
   "codemirror_mode": {
    "name": "ipython",
    "version": 3
   },
   "file_extension": ".py",
   "mimetype": "text/x-python",
   "name": "python",
   "nbconvert_exporter": "python",
   "pygments_lexer": "ipython3",
   "version": "3.11.7"
  }
 },
 "nbformat": 4,
 "nbformat_minor": 5
}
