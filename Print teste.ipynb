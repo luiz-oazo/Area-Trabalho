{
 "cells": [
  {
   "cell_type": "code",
   "execution_count": 28,
   "id": "47cc87b1",
   "metadata": {},
   "outputs": [],
   "source": [
    "tamanho = 8.47826"
   ]
  },
  {
   "cell_type": "code",
   "execution_count": 29,
   "id": "f479e1fb",
   "metadata": {},
   "outputs": [
    {
     "name": "stdout",
     "output_type": "stream",
     "text": [
      "Tamanho = 8 cm\n"
     ]
    }
   ],
   "source": [
    "print(\"Tamanho = %d cm\" % tamanho)"
   ]
  },
  {
   "cell_type": "code",
   "execution_count": 30,
   "id": "4d51d6b5",
   "metadata": {},
   "outputs": [
    {
     "name": "stdout",
     "output_type": "stream",
     "text": [
      "Tamanho = 8 cm\n"
     ]
    }
   ],
   "source": [
    "print(\"Tamanho = %i cm\" % tamanho)"
   ]
  },
  {
   "cell_type": "code",
   "execution_count": 31,
   "id": "3ea13bc0",
   "metadata": {},
   "outputs": [
    {
     "name": "stdout",
     "output_type": "stream",
     "text": [
      "Tamanho = 8.478260 cm\n"
     ]
    }
   ],
   "source": [
    "print(\"Tamanho = %f cm\" % tamanho)"
   ]
  },
  {
   "cell_type": "code",
   "execution_count": 37,
   "id": "cf2cd209",
   "metadata": {
    "scrolled": true
   },
   "outputs": [
    {
     "name": "stdout",
     "output_type": "stream",
     "text": [
      "Tamanho = 8.48 cm\n"
     ]
    }
   ],
   "source": [
    "print(\"Tamanho = %4.2f cm\" % tamanho)"
   ]
  },
  {
   "cell_type": "code",
   "execution_count": 41,
   "id": "d702a88e",
   "metadata": {},
   "outputs": [
    {
     "name": "stdout",
     "output_type": "stream",
     "text": [
      "Tamanho = 8.4783 cm\n"
     ]
    }
   ],
   "source": [
    "print(\"Tamanho = %.4f cm\" % tamanho)"
   ]
  },
  {
   "cell_type": "code",
   "execution_count": 42,
   "id": "a77131c4",
   "metadata": {},
   "outputs": [
    {
     "name": "stdout",
     "output_type": "stream",
     "text": [
      "Tamanho = 8.4782600000 cm\n"
     ]
    }
   ],
   "source": [
    "print(\"Tamanho = %2.10f cm\" % tamanho)"
   ]
  },
  {
   "cell_type": "code",
   "execution_count": 35,
   "id": "9a70c853",
   "metadata": {},
   "outputs": [
    {
     "name": "stdout",
     "output_type": "stream",
     "text": [
      "Tamanho = 8.4782600000 cm\n"
     ]
    }
   ],
   "source": [
    "print(\"Tamanho = %.10f cm\" % tamanho)"
   ]
  },
  {
   "cell_type": "code",
   "execution_count": 1,
   "id": "a12ea5d8",
   "metadata": {},
   "outputs": [],
   "source": [
    "a=[]\n",
    "a.append([1,2,3,4,5])\n",
    "a.append([2,3,4,5,6])"
   ]
  },
  {
   "cell_type": "code",
   "execution_count": 8,
   "id": "f1b14892-0f5c-4a3d-b750-7d33adb3120c",
   "metadata": {},
   "outputs": [],
   "source": [
    "import numpy as py"
   ]
  },
  {
   "cell_type": "code",
   "execution_count": 5,
   "id": "a6625e0a-f17c-4431-a5d7-2a00203cd457",
   "metadata": {},
   "outputs": [
    {
     "data": {
      "text/plain": [
       "[[1, 2, 3, 4, 5], [2, 3, 4, 5, 6]]"
      ]
     },
     "execution_count": 5,
     "metadata": {},
     "output_type": "execute_result"
    }
   ],
   "source": [
    "a"
   ]
  },
  {
   "cell_type": "code",
   "execution_count": 6,
   "id": "2c0eff3f-bcfc-4e4c-b1a8-6987d089d425",
   "metadata": {},
   "outputs": [
    {
     "data": {
      "text/plain": [
       "[1, 2, 3, 4, 5, 2, 3, 4, 5, 6]"
      ]
     },
     "execution_count": 6,
     "metadata": {},
     "output_type": "execute_result"
    }
   ],
   "source": [
    "a[0]+a[1]"
   ]
  },
  {
   "cell_type": "code",
   "execution_count": 9,
   "id": "4feec429-f5e4-45b8-8acb-97d91c33b038",
   "metadata": {},
   "outputs": [
    {
     "data": {
      "text/plain": [
       "array([ 3,  5,  7,  9, 11])"
      ]
     },
     "execution_count": 9,
     "metadata": {},
     "output_type": "execute_result"
    }
   ],
   "source": [
    "py.add(a[0], a[1])"
   ]
  },
  {
   "cell_type": "code",
   "execution_count": 11,
   "id": "2d86cd06-77df-4b6b-bdcf-4070fa9a97d4",
   "metadata": {},
   "outputs": [
    {
     "data": {
      "text/plain": [
       "array([-1, -1, -1, -1, -1])"
      ]
     },
     "execution_count": 11,
     "metadata": {},
     "output_type": "execute_result"
    }
   ],
   "source": [
    "py.subtract(a[0], a[1])"
   ]
  },
  {
   "cell_type": "code",
   "execution_count": 12,
   "id": "d1e219fe-5d08-49a4-b489-d7c6445c6bc4",
   "metadata": {},
   "outputs": [
    {
     "data": {
      "text/plain": [
       "array([0, 0, 0, 0, 0])"
      ]
     },
     "execution_count": 12,
     "metadata": {},
     "output_type": "execute_result"
    }
   ],
   "source": [
    "py.subtract(a[0], a[0]) "
   ]
  },
  {
   "cell_type": "code",
   "execution_count": 18,
   "id": "27e5ebab-ef16-4ca0-b8d4-d139f8b92fba",
   "metadata": {},
   "outputs": [],
   "source": [
    "x = py.subtract(a[0], a[1]) "
   ]
  },
  {
   "cell_type": "code",
   "execution_count": 28,
   "id": "fda51367-f870-46b5-83e7-c56088cad814",
   "metadata": {},
   "outputs": [
    {
     "data": {
      "text/plain": [
       "array([-1, -1, -1, -1, -1])"
      ]
     },
     "execution_count": 28,
     "metadata": {},
     "output_type": "execute_result"
    }
   ],
   "source": [
    "x"
   ]
  },
  {
   "cell_type": "code",
   "execution_count": 29,
   "id": "116b24f1-9114-494c-8d79-bc34e7e64f09",
   "metadata": {},
   "outputs": [
    {
     "data": {
      "text/plain": [
       "True"
      ]
     },
     "execution_count": 29,
     "metadata": {},
     "output_type": "execute_result"
    }
   ],
   "source": [
    "bool(x.all())"
   ]
  },
  {
   "cell_type": "code",
   "execution_count": 34,
   "id": "204eb5af-ede6-4118-bdcd-2b36b93b7f1e",
   "metadata": {},
   "outputs": [],
   "source": [
    "y = []\n",
    "y.append([1,1,1,1,0])"
   ]
  },
  {
   "cell_type": "code",
   "execution_count": 178,
   "id": "2a4e6d01-96ac-4a94-aa38-afe252aac424",
   "metadata": {},
   "outputs": [
    {
     "data": {
      "text/plain": [
       "array([1, 0, 0])"
      ]
     },
     "execution_count": 178,
     "metadata": {},
     "output_type": "execute_result"
    }
   ],
   "source": [
    "y = [1, 2, 3]\n",
    "x = [1,0,0]\n",
    "\n",
    "z = py.multiply(x, y)\n",
    "z"
   ]
  },
  {
   "cell_type": "code",
   "execution_count": 4,
   "id": "86543028-04bf-443c-8543-6a2e76f5e697",
   "metadata": {},
   "outputs": [
    {
     "name": "stdout",
     "output_type": "stream",
     "text": [
      "1\n",
      "2\n",
      "30\n",
      "30\n"
     ]
    },
    {
     "ename": "NameError",
     "evalue": "name 'd' is not defined",
     "output_type": "error",
     "traceback": [
      "\u001b[0;31m---------------------------------------------------------------------------\u001b[0m",
      "\u001b[0;31mNameError\u001b[0m                                 Traceback (most recent call last)",
      "Input \u001b[0;32mIn [4]\u001b[0m, in \u001b[0;36m<cell line: 13>\u001b[0;34m()\u001b[0m\n\u001b[1;32m     11\u001b[0m r \u001b[38;5;241m=\u001b[39m teste()\n\u001b[1;32m     12\u001b[0m \u001b[38;5;28mprint\u001b[39m(r)\n\u001b[0;32m---> 13\u001b[0m \u001b[38;5;28mprint\u001b[39m(\u001b[43md\u001b[49m)\n",
      "\u001b[0;31mNameError\u001b[0m: name 'd' is not defined"
     ]
    }
   ],
   "source": [
    "x = 1\n",
    "y = 2\n",
    "\n",
    "def teste():\n",
    "    d = 30\n",
    "    print(d)\n",
    "    return(d)\n",
    "\n",
    "print(x)\n",
    "print(y)\n",
    "r = teste()\n",
    "print(r)\n",
    "print(d)"
   ]
  },
  {
   "cell_type": "code",
   "execution_count": 179,
   "id": "5d3c3e3f-57d7-4b4d-8cf8-23a5dd968237",
   "metadata": {},
   "outputs": [
    {
     "data": {
      "text/plain": [
       "True"
      ]
     },
     "execution_count": 179,
     "metadata": {},
     "output_type": "execute_result"
    }
   ],
   "source": [
    "z.any()"
   ]
  },
  {
   "cell_type": "code",
   "execution_count": 170,
   "id": "72314695-eae0-41b1-b340-37feeb006ee0",
   "metadata": {},
   "outputs": [
    {
     "data": {
      "text/plain": [
       "array([2, 3, 4, 5, 6])"
      ]
     },
     "execution_count": 170,
     "metadata": {},
     "output_type": "execute_result"
    }
   ],
   "source": [
    "z = py.multiply(y[0], a[1])\n",
    "z"
   ]
  },
  {
   "cell_type": "code",
   "execution_count": 171,
   "id": "1969e93d-57f2-4c17-a2f6-76d209885461",
   "metadata": {},
   "outputs": [
    {
     "data": {
      "text/plain": [
       "True"
      ]
     },
     "execution_count": 171,
     "metadata": {},
     "output_type": "execute_result"
    }
   ],
   "source": [
    "bool(z.any())"
   ]
  },
  {
   "cell_type": "code",
   "execution_count": 195,
   "id": "d39bb3c3-dd28-4e72-9098-59c92fb32693",
   "metadata": {},
   "outputs": [
    {
     "name": "stdout",
     "output_type": "stream",
     "text": [
      "Notas:  [200 100  50  20  10]\n",
      "Qtd Disponivel:  [ 1  2 10 10 20]\n"
     ]
    },
    {
     "name": "stdin",
     "output_type": "stream",
     "text": [
      "Valor do saque:  800\n"
     ]
    },
    {
     "name": "stdout",
     "output_type": "stream",
     "text": [
      "Opcao: 1 Valor: 800.0 | 200: 1 | 100: 2 | 50: 8 | 20: 0 | 10: 0\n",
      "Opcao: 2 Valor: 800.0 | 200: 0 | 100: 2 | 50: 10 | 20: 5 | 10: 0\n",
      "Opcao: 3 Valor: 800.0 | 200: 0 | 100: 1 | 50: 10 | 20: 10 | 10: 0\n",
      "Opcao: 4 Valor: 800.0 | 200: 0 | 100: 0 | 50: 10 | 20: 10 | 10: 10\n",
      "Opcao: 5 Valor: 800.0 | 200: 0 | 100: 0 | 50: 9 | 20: 10 | 10: 15\n",
      "Opcao: 6 Valor: 800.0 | 200: 0 | 100: 0 | 50: 8 | 20: 10 | 10: 20\n"
     ]
    },
    {
     "name": "stdin",
     "output_type": "stream",
     "text": [
      "\n",
      "Escolha a opçao:  3\n"
     ]
    },
    {
     "name": "stdout",
     "output_type": "stream",
     "text": [
      "\n",
      "Valor: 800.0 | 200: 0 | 100: 1 | 50: 10 | 20: 10 | 10: 0\n",
      "\n",
      "Notas:  [200 100  50  20  10]\n",
      "Qtd Disponivel:  [ 1  1  0  0 20] \n",
      "\n"
     ]
    },
    {
     "name": "stdin",
     "output_type": "stream",
     "text": [
      "Valor do saque:  10\n"
     ]
    },
    {
     "name": "stdout",
     "output_type": "stream",
     "text": [
      "Opcao: 1 Valor: 10.0 | 200: 0 | 100: 0 | 50: 0 | 20: 0 | 10: 1\n",
      "\n",
      "Valor: 10.0 | 200: 0 | 100: 0 | 50: 0 | 20: 0 | 10: 1\n",
      "\n",
      "Notas:  [200 100  50  20  10]\n",
      "Qtd Disponivel:  [ 1  1  0  0 19] \n",
      "\n"
     ]
    },
    {
     "name": "stdin",
     "output_type": "stream",
     "text": [
      "Valor do saque:  290\n"
     ]
    },
    {
     "name": "stdout",
     "output_type": "stream",
     "text": [
      "Opcao: 1 Valor: 290.0 | 200: 1 | 100: 0 | 50: 0 | 20: 0 | 10: 9\n",
      "Opcao: 2 Valor: 290.0 | 200: 0 | 100: 1 | 50: 0 | 20: 0 | 10: 19\n"
     ]
    },
    {
     "name": "stdin",
     "output_type": "stream",
     "text": [
      "\n",
      "Escolha a opçao:  2\n"
     ]
    },
    {
     "name": "stdout",
     "output_type": "stream",
     "text": [
      "\n",
      "Valor: 290.0 | 200: 0 | 100: 1 | 50: 0 | 20: 0 | 10: 19\n",
      "\n",
      "Notas:  [200 100  50  20  10]\n",
      "Qtd Disponivel:  [1 0 0 0 0] \n",
      "\n"
     ]
    },
    {
     "name": "stdin",
     "output_type": "stream",
     "text": [
      "Valor do saque:  100\n"
     ]
    },
    {
     "name": "stdout",
     "output_type": "stream",
     "text": [
      "O valor solicitado de R$ 100.00 não é possível. \n",
      "Favor escolher outro valor.\n"
     ]
    },
    {
     "name": "stdin",
     "output_type": "stream",
     "text": [
      "Valor do saque:  300\n"
     ]
    },
    {
     "name": "stdout",
     "output_type": "stream",
     "text": [
      "O valor solicitado de R$ 300.00 não é possível. \n",
      "Favor escolher outro valor.\n"
     ]
    },
    {
     "name": "stdin",
     "output_type": "stream",
     "text": [
      "Valor do saque:  200\n"
     ]
    },
    {
     "name": "stdout",
     "output_type": "stream",
     "text": [
      "Opcao: 1 Valor: 200.0 | 200: 1 | 100: 0 | 50: 0 | 20: 0 | 10: 0\n",
      "\n",
      "Valor: 200.0 | 200: 1 | 100: 0 | 50: 0 | 20: 0 | 10: 0\n",
      "\n",
      "Notas:  [200 100  50  20  10]\n",
      "Qtd Disponivel:  [0 0 0 0 0] \n",
      "\n",
      "Caixa Eletrônico sem DINHEIRO\n"
     ]
    }
   ],
   "source": [
    "import numpy as py\n",
    "\n",
    "valor = -1\n",
    "\n",
    "nt_val = py.array([200, 100, 50, 20, 10]) # Valor de face das Notas\n",
    "\n",
    "notas_qtd = py.array([1, 2, 10, 10, 20]) # Quantidade de Notas disponíveis na abertura\n",
    "\n",
    "achou = 0\n",
    "\n",
    "# Define Notas\n",
    "\n",
    "def define_notas(valor, resultado):\n",
    "    \n",
    "    valor_roda = valor\n",
    "    \n",
    "    for i in range(len(resultado)):\n",
    "        if resultado[i] < 0:\n",
    "            if notas_qtd[i] != 0:\n",
    "                resultado[i] = valor_roda // nt_val[i]\n",
    "                \n",
    "                if resultado[i] <= notas_qtd[i]:         \n",
    "                    valor_roda = valor_roda % nt_val[i]\n",
    "                else:\n",
    "                    resultado[i] = notas_qtd[i]\n",
    "                    valor_roda = valor_roda -  resultado[i] * nt_val[i] \n",
    "            else:\n",
    "                resultado[i] = 0\n",
    "        else:\n",
    "            valor_roda = valor_roda - (resultado[i] * nt_val[i])\n",
    "\n",
    "    return(resultado)\n",
    "\n",
    "def verifica_total(valor_teste, valor_total):\n",
    "    soma = 0\n",
    "    for i in range(len(valor_total)):\n",
    "        soma = soma + valor_total[i] * nt_val[i]\n",
    "    \n",
    "    if soma != valor_teste:\n",
    "        return(False)\n",
    "    else:\n",
    "        return(True)\n",
    "\n",
    "# INICIO\n",
    "\n",
    "escolha = []\n",
    "\n",
    "print(\"Notas: \", nt_val)\n",
    "print(\"Qtd Disponivel: \", notas_qtd)\n",
    "\n",
    "while valor:\n",
    "    valor = input(\"Valor do saque: \")\n",
    "    valor = float(valor)\n",
    "    achou = 0\n",
    "    \n",
    "    resultado = py.array([-1,-1,-1,-1,-1])\n",
    "\n",
    "    while resultado.any() and valor:\n",
    "        volta = define_notas(valor, resultado)\n",
    "    \n",
    "        if not verifica_total(valor, volta):\n",
    "            break\n",
    "    \n",
    "        x = py.subtract(notas_qtd, volta)\n",
    "\n",
    "        tst_qtd = True\n",
    "        for i in range(len(x)):\n",
    "            if x[i] < 0:\n",
    "                tst_qtd = False\n",
    "                \n",
    "        if tst_qtd:\n",
    "            print(f\"Opcao: {achou + 1} Valor: {valor} | 200: {volta[0]} | 100: {volta[1]} | 50: {volta[2]} | 20: {volta[3]} | 10: {volta[4]}\")\n",
    "            escolha.append([volta[0],volta[1],volta[2],volta[3],volta[4]])\n",
    "            achou = achou + 1\n",
    "        \n",
    "        conta = 1\n",
    "        for i in range(len(resultado)):\n",
    "            if resultado[i] > 0 and conta:\n",
    "                resultado[i] = resultado[i] - 1\n",
    "                conta = 0\n",
    "            elif not (resultado[i] == 0 and conta):\n",
    "                resultado[i] = -1\n",
    "\n",
    "    if not achou:\n",
    "        print(f\"O valor solicitado de R$ {valor:.2f} não é possível. \\nFavor escolher outro valor.\")\n",
    "        if not valor:\n",
    "            valor = -1\n",
    "    else:\n",
    "        if achou:\n",
    "            if achou > 1:\n",
    "                opcao = input(\"\\nEscolha a opçao: \")\n",
    "                opcao = int(opcao)\n",
    "            else:\n",
    "                opcao = 1\n",
    "                \n",
    "            if opcao < 0 or opcao > achou:\n",
    "                print(\"Opcao inválida, optando pela primeira opcao: \")\n",
    "                opcao = 0\n",
    "            else:\n",
    "                opcao = opcao - 1\n",
    "                \n",
    "            print(f\"\\nValor: {valor} | 200: {escolha[opcao][0]} | 100: {escolha[opcao][1]} | 50: {escolha[opcao][2]} | 20: {escolha[opcao][3]} | 10: {escolha[opcao][4]}\")\n",
    "            notas_qtd = py.subtract(notas_qtd, escolha[opcao])\n",
    "            print(\"\\nNotas: \", nt_val)\n",
    "            print(\"Qtd Disponivel: \", notas_qtd, \"\\n\")\n",
    "            \n",
    "    escolha = []\n",
    "    if not notas_qtd.any():\n",
    "        print(\"Caixa Eletrônico sem DINHEIRO\")\n",
    "        break\n",
    "        \n"
   ]
  },
  {
   "cell_type": "code",
   "execution_count": null,
   "id": "de569c68-a3f6-4013-a889-ca6c6dadfc26",
   "metadata": {},
   "outputs": [],
   "source": []
  },
  {
   "cell_type": "code",
   "execution_count": 54,
   "id": "48908ed3-dd9f-46d2-b768-cdeae49e9da3",
   "metadata": {},
   "outputs": [],
   "source": [
    "import json\n",
    " \n",
    "# Opening JSON file\n",
    "f = open('events_data.json')\n",
    " \n",
    "# returns JSON object as \n",
    "# a dictionary\n",
    "data = json.load(f)"
   ]
  },
  {
   "cell_type": "code",
   "execution_count": 55,
   "id": "d107bb77-36a7-46e5-a994-ed389027c7da",
   "metadata": {},
   "outputs": [],
   "source": [
    "import pandas as pd\n",
    "from pandas import json_normalize"
   ]
  },
  {
   "cell_type": "code",
   "execution_count": 57,
   "id": "44ac49ed-f8b3-4d52-af04-1bfd78b807ec",
   "metadata": {},
   "outputs": [],
   "source": [
    "df = json_normalize(data['MEIA MARATONA DE VILA VELHA']) "
   ]
  },
  {
   "cell_type": "code",
   "execution_count": 58,
   "id": "0c17ad43-93ab-4930-8032-830659508fd0",
   "metadata": {},
   "outputs": [
    {
     "data": {
      "text/html": [
       "<div>\n",
       "<style scoped>\n",
       "    .dataframe tbody tr th:only-of-type {\n",
       "        vertical-align: middle;\n",
       "    }\n",
       "\n",
       "    .dataframe tbody tr th {\n",
       "        vertical-align: top;\n",
       "    }\n",
       "\n",
       "    .dataframe thead th {\n",
       "        text-align: right;\n",
       "    }\n",
       "</style>\n",
       "<table border=\"1\" class=\"dataframe\">\n",
       "  <thead>\n",
       "    <tr style=\"text-align: right;\">\n",
       "      <th></th>\n",
       "      <th>name</th>\n",
       "      <th>data</th>\n",
       "      <th>city</th>\n",
       "      <th>url_details</th>\n",
       "      <th>categories.5KM.GERAL FEMININO.name</th>\n",
       "      <th>categories.5KM.GERAL FEMININO.url</th>\n",
       "      <th>categories.5KM.GERAL FEMININO.athletes</th>\n",
       "      <th>categories.5KM.GERAL MASCULINO.name</th>\n",
       "      <th>categories.5KM.GERAL MASCULINO.url</th>\n",
       "      <th>categories.5KM.GERAL MASCULINO.athletes</th>\n",
       "      <th>...</th>\n",
       "      <th>categories.10KM.GERAL MASCULINO.athletes</th>\n",
       "      <th>categories.21KM.GERAL FEMININO.name</th>\n",
       "      <th>categories.21KM.GERAL FEMININO.url</th>\n",
       "      <th>categories.21KM.GERAL FEMININO.athletes</th>\n",
       "      <th>categories.21KM.GERAL MASCULINO.name</th>\n",
       "      <th>categories.21KM.GERAL MASCULINO.url</th>\n",
       "      <th>categories.21KM.GERAL MASCULINO.athletes</th>\n",
       "      <th>categories.21KM.DEFICIENTE MASCULINO.name</th>\n",
       "      <th>categories.21KM.DEFICIENTE MASCULINO.url</th>\n",
       "      <th>categories.21KM.DEFICIENTE MASCULINO.athletes</th>\n",
       "    </tr>\n",
       "  </thead>\n",
       "  <tbody>\n",
       "    <tr>\n",
       "      <th>0</th>\n",
       "      <td>MEIA MARATONA DE VILA VELHA</td>\n",
       "      <td>29/10/2023</td>\n",
       "      <td>Vila Velha - ES</td>\n",
       "      <td>http://www.chiptiming.com.br/resultados/meiavi...</td>\n",
       "      <td>GERAL FEMININO</td>\n",
       "      <td>/resultados/detalhes/2802615619</td>\n",
       "      <td>[{'highlight_place': '1', 'number': '5229', 'n...</td>\n",
       "      <td>GERAL MASCULINO</td>\n",
       "      <td>/resultados/detalhes/2802615615</td>\n",
       "      <td>[{'highlight_place': '1', 'number': '5947', 'n...</td>\n",
       "      <td>...</td>\n",
       "      <td>[{'highlight_place': '1', 'number': '1735', 'n...</td>\n",
       "      <td>GERAL FEMININO</td>\n",
       "      <td>/resultados/detalhes/2802615650</td>\n",
       "      <td>[{'highlight_place': '1', 'number': '2206', 'n...</td>\n",
       "      <td>GERAL MASCULINO</td>\n",
       "      <td>/resultados/detalhes/2802615640</td>\n",
       "      <td>[{'highlight_place': '1', 'number': '2639', 'n...</td>\n",
       "      <td>DEFICIENTE MASCULINO</td>\n",
       "      <td>/resultados/detalhes/2802615622</td>\n",
       "      <td>[{'highlight_place': '1', 'number': '299', 'na...</td>\n",
       "    </tr>\n",
       "  </tbody>\n",
       "</table>\n",
       "<p>1 rows × 31 columns</p>\n",
       "</div>"
      ],
      "text/plain": [
       "                          name        data             city  \\\n",
       "0  MEIA MARATONA DE VILA VELHA  29/10/2023  Vila Velha - ES   \n",
       "\n",
       "                                         url_details  \\\n",
       "0  http://www.chiptiming.com.br/resultados/meiavi...   \n",
       "\n",
       "  categories.5KM.GERAL FEMININO.name categories.5KM.GERAL FEMININO.url  \\\n",
       "0                     GERAL FEMININO   /resultados/detalhes/2802615619   \n",
       "\n",
       "              categories.5KM.GERAL FEMININO.athletes  \\\n",
       "0  [{'highlight_place': '1', 'number': '5229', 'n...   \n",
       "\n",
       "  categories.5KM.GERAL MASCULINO.name categories.5KM.GERAL MASCULINO.url  \\\n",
       "0                     GERAL MASCULINO    /resultados/detalhes/2802615615   \n",
       "\n",
       "             categories.5KM.GERAL MASCULINO.athletes  ...  \\\n",
       "0  [{'highlight_place': '1', 'number': '5947', 'n...  ...   \n",
       "\n",
       "            categories.10KM.GERAL MASCULINO.athletes  \\\n",
       "0  [{'highlight_place': '1', 'number': '1735', 'n...   \n",
       "\n",
       "  categories.21KM.GERAL FEMININO.name categories.21KM.GERAL FEMININO.url  \\\n",
       "0                      GERAL FEMININO    /resultados/detalhes/2802615650   \n",
       "\n",
       "             categories.21KM.GERAL FEMININO.athletes  \\\n",
       "0  [{'highlight_place': '1', 'number': '2206', 'n...   \n",
       "\n",
       "  categories.21KM.GERAL MASCULINO.name categories.21KM.GERAL MASCULINO.url  \\\n",
       "0                      GERAL MASCULINO     /resultados/detalhes/2802615640   \n",
       "\n",
       "            categories.21KM.GERAL MASCULINO.athletes  \\\n",
       "0  [{'highlight_place': '1', 'number': '2639', 'n...   \n",
       "\n",
       "  categories.21KM.DEFICIENTE MASCULINO.name  \\\n",
       "0                      DEFICIENTE MASCULINO   \n",
       "\n",
       "  categories.21KM.DEFICIENTE MASCULINO.url  \\\n",
       "0          /resultados/detalhes/2802615622   \n",
       "\n",
       "       categories.21KM.DEFICIENTE MASCULINO.athletes  \n",
       "0  [{'highlight_place': '1', 'number': '299', 'na...  \n",
       "\n",
       "[1 rows x 31 columns]"
      ]
     },
     "execution_count": 58,
     "metadata": {},
     "output_type": "execute_result"
    }
   ],
   "source": [
    "df"
   ]
  },
  {
   "cell_type": "code",
   "execution_count": 65,
   "id": "080cb3b4-ced0-4526-bbd1-e74a06b2c44e",
   "metadata": {},
   "outputs": [
    {
     "ename": "AttributeError",
     "evalue": "'list' object has no attribute 'head'",
     "output_type": "error",
     "traceback": [
      "\u001b[0;31m---------------------------------------------------------------------------\u001b[0m",
      "\u001b[0;31mAttributeError\u001b[0m                            Traceback (most recent call last)",
      "Input \u001b[0;32mIn [65]\u001b[0m, in \u001b[0;36m<cell line: 1>\u001b[0;34m()\u001b[0m\n\u001b[0;32m----> 1\u001b[0m \u001b[43mdf\u001b[49m\u001b[43m[\u001b[49m\u001b[38;5;124;43m'\u001b[39;49m\u001b[38;5;124;43mcategories.5KM.GERAL FEMININO.athletes\u001b[39;49m\u001b[38;5;124;43m'\u001b[39;49m\u001b[43m]\u001b[49m\u001b[43m[\u001b[49m\u001b[38;5;241;43m0\u001b[39;49m\u001b[43m]\u001b[49m\u001b[38;5;241;43m.\u001b[39;49m\u001b[43mhead\u001b[49m()\n",
      "\u001b[0;31mAttributeError\u001b[0m: 'list' object has no attribute 'head'"
     ]
    }
   ],
   "source": [
    "df['categories.5KM.GERAL FEMININO.athletes'][0]"
   ]
  },
  {
   "cell_type": "code",
   "execution_count": 71,
   "id": "5c1e66b2-f940-45a7-8e82-f6dcbd7d0dfc",
   "metadata": {},
   "outputs": [],
   "source": [
    "dados = df.explode(column='categories.21KM.GERAL MASCULINO.athletes', ignore_index=True)\n",
    "# dados"
   ]
  },
  {
   "cell_type": "code",
   "execution_count": 72,
   "id": "c027f46f-e573-4696-96a4-2a2e48940e42",
   "metadata": {},
   "outputs": [
    {
     "data": {
      "text/plain": [
       "{'highlight_place': '1',\n",
       " 'number': '2639',\n",
       " 'name': 'Tiago Vasconcelos Dos Santos',\n",
       " 'gender': 'M',\n",
       " 'age': '36',\n",
       " 'age_group': 'M3539',\n",
       " 'team': '-',\n",
       " 'timing': '01:15:51',\n",
       " 'liquid_timing': '01:15:47',\n",
       " 'rhythm': '03:36'}"
      ]
     },
     "execution_count": 72,
     "metadata": {},
     "output_type": "execute_result"
    }
   ],
   "source": [
    "dados['categories.21KM.GERAL MASCULINO.athletes'][0]"
   ]
  },
  {
   "cell_type": "code",
   "execution_count": 75,
   "id": "da896710-05a6-4bdd-8e30-adf49b053ddc",
   "metadata": {},
   "outputs": [
    {
     "data": {
      "text/html": [
       "<div>\n",
       "<style scoped>\n",
       "    .dataframe tbody tr th:only-of-type {\n",
       "        vertical-align: middle;\n",
       "    }\n",
       "\n",
       "    .dataframe tbody tr th {\n",
       "        vertical-align: top;\n",
       "    }\n",
       "\n",
       "    .dataframe thead th {\n",
       "        text-align: right;\n",
       "    }\n",
       "</style>\n",
       "<table border=\"1\" class=\"dataframe\">\n",
       "  <thead>\n",
       "    <tr style=\"text-align: right;\">\n",
       "      <th></th>\n",
       "      <th>highlight_place</th>\n",
       "      <th>number</th>\n",
       "      <th>name</th>\n",
       "      <th>gender</th>\n",
       "      <th>age</th>\n",
       "      <th>age_group</th>\n",
       "      <th>team</th>\n",
       "      <th>timing</th>\n",
       "      <th>liquid_timing</th>\n",
       "      <th>rhythm</th>\n",
       "    </tr>\n",
       "  </thead>\n",
       "  <tbody>\n",
       "    <tr>\n",
       "      <th>0</th>\n",
       "      <td>1</td>\n",
       "      <td>2639</td>\n",
       "      <td>Tiago Vasconcelos Dos Santos</td>\n",
       "      <td>M</td>\n",
       "      <td>36</td>\n",
       "      <td>M3539</td>\n",
       "      <td>-</td>\n",
       "      <td>01:15:51</td>\n",
       "      <td>01:15:47</td>\n",
       "      <td>03:36</td>\n",
       "    </tr>\n",
       "    <tr>\n",
       "      <th>1</th>\n",
       "      <td>2</td>\n",
       "      <td>2885</td>\n",
       "      <td>Eber Moreira Rodrigues</td>\n",
       "      <td>M</td>\n",
       "      <td>42</td>\n",
       "      <td>M4044</td>\n",
       "      <td>-</td>\n",
       "      <td>01:22:14</td>\n",
       "      <td>01:22:08</td>\n",
       "      <td>03:54</td>\n",
       "    </tr>\n",
       "    <tr>\n",
       "      <th>2</th>\n",
       "      <td>3</td>\n",
       "      <td>2686</td>\n",
       "      <td>adilton da conceicao santos</td>\n",
       "      <td>M</td>\n",
       "      <td>50</td>\n",
       "      <td>M5054</td>\n",
       "      <td>-</td>\n",
       "      <td>01:24:09</td>\n",
       "      <td>01:24:03</td>\n",
       "      <td>04:00</td>\n",
       "    </tr>\n",
       "    <tr>\n",
       "      <th>3</th>\n",
       "      <td>4</td>\n",
       "      <td>2791</td>\n",
       "      <td>Weverton Rodovalho Da Costa</td>\n",
       "      <td>M</td>\n",
       "      <td>29</td>\n",
       "      <td>M2529</td>\n",
       "      <td>-</td>\n",
       "      <td>01:24:20</td>\n",
       "      <td>01:24:14</td>\n",
       "      <td>04:00</td>\n",
       "    </tr>\n",
       "    <tr>\n",
       "      <th>4</th>\n",
       "      <td>5</td>\n",
       "      <td>2863</td>\n",
       "      <td>Alessandro Quirino Ignacio</td>\n",
       "      <td>M</td>\n",
       "      <td>34</td>\n",
       "      <td>M3034</td>\n",
       "      <td>-</td>\n",
       "      <td>01:26:17</td>\n",
       "      <td>01:26:12</td>\n",
       "      <td>04:06</td>\n",
       "    </tr>\n",
       "    <tr>\n",
       "      <th>...</th>\n",
       "      <td>...</td>\n",
       "      <td>...</td>\n",
       "      <td>...</td>\n",
       "      <td>...</td>\n",
       "      <td>...</td>\n",
       "      <td>...</td>\n",
       "      <td>...</td>\n",
       "      <td>...</td>\n",
       "      <td>...</td>\n",
       "      <td>...</td>\n",
       "    </tr>\n",
       "    <tr>\n",
       "      <th>306</th>\n",
       "      <td>307</td>\n",
       "      <td>2986</td>\n",
       "      <td>Pablo Lobato Ramos</td>\n",
       "      <td>M</td>\n",
       "      <td>46</td>\n",
       "      <td>M4549</td>\n",
       "      <td>43</td>\n",
       "      <td>02:48:54</td>\n",
       "      <td>02:48:36</td>\n",
       "      <td>08:01</td>\n",
       "    </tr>\n",
       "    <tr>\n",
       "      <th>307</th>\n",
       "      <td>308</td>\n",
       "      <td>2895</td>\n",
       "      <td>Jayme Teixeira Bessa</td>\n",
       "      <td>M</td>\n",
       "      <td>40</td>\n",
       "      <td>M4044</td>\n",
       "      <td>57</td>\n",
       "      <td>02:50:38</td>\n",
       "      <td>02:49:10</td>\n",
       "      <td>08:03</td>\n",
       "    </tr>\n",
       "    <tr>\n",
       "      <th>308</th>\n",
       "      <td>309</td>\n",
       "      <td>23</td>\n",
       "      <td>Jayme Oliveira Hilario</td>\n",
       "      <td>M</td>\n",
       "      <td>39</td>\n",
       "      <td>M3539</td>\n",
       "      <td>70</td>\n",
       "      <td>02:52:40</td>\n",
       "      <td>02:50:42</td>\n",
       "      <td>08:07</td>\n",
       "    </tr>\n",
       "    <tr>\n",
       "      <th>309</th>\n",
       "      <td>310</td>\n",
       "      <td>2664</td>\n",
       "      <td>Eberty Dias De Almeida</td>\n",
       "      <td>M</td>\n",
       "      <td>35</td>\n",
       "      <td>M3539</td>\n",
       "      <td>71</td>\n",
       "      <td>02:52:52</td>\n",
       "      <td>02:52:06</td>\n",
       "      <td>08:11</td>\n",
       "    </tr>\n",
       "    <tr>\n",
       "      <th>310</th>\n",
       "      <td>311</td>\n",
       "      <td>2799</td>\n",
       "      <td>Jose Weslay Celeste</td>\n",
       "      <td>M</td>\n",
       "      <td>62</td>\n",
       "      <td>M6064</td>\n",
       "      <td>7</td>\n",
       "      <td>02:54:34</td>\n",
       "      <td>02:53:55</td>\n",
       "      <td>08:16</td>\n",
       "    </tr>\n",
       "  </tbody>\n",
       "</table>\n",
       "<p>311 rows × 10 columns</p>\n",
       "</div>"
      ],
      "text/plain": [
       "    highlight_place number                          name gender age age_group  \\\n",
       "0                 1   2639  Tiago Vasconcelos Dos Santos      M  36     M3539   \n",
       "1                 2   2885        Eber Moreira Rodrigues      M  42     M4044   \n",
       "2                 3   2686   adilton da conceicao santos      M  50     M5054   \n",
       "3                 4   2791   Weverton Rodovalho Da Costa      M  29     M2529   \n",
       "4                 5   2863    Alessandro Quirino Ignacio      M  34     M3034   \n",
       "..              ...    ...                           ...    ...  ..       ...   \n",
       "306             307   2986            Pablo Lobato Ramos      M  46     M4549   \n",
       "307             308   2895          Jayme Teixeira Bessa      M  40     M4044   \n",
       "308             309     23        Jayme Oliveira Hilario      M  39     M3539   \n",
       "309             310   2664        Eberty Dias De Almeida      M  35     M3539   \n",
       "310             311   2799           Jose Weslay Celeste      M  62     M6064   \n",
       "\n",
       "    team    timing liquid_timing rhythm  \n",
       "0      -  01:15:51      01:15:47  03:36  \n",
       "1      -  01:22:14      01:22:08  03:54  \n",
       "2      -  01:24:09      01:24:03  04:00  \n",
       "3      -  01:24:20      01:24:14  04:00  \n",
       "4      -  01:26:17      01:26:12  04:06  \n",
       "..   ...       ...           ...    ...  \n",
       "306   43  02:48:54      02:48:36  08:01  \n",
       "307   57  02:50:38      02:49:10  08:03  \n",
       "308   70  02:52:40      02:50:42  08:07  \n",
       "309   71  02:52:52      02:52:06  08:11  \n",
       "310    7  02:54:34      02:53:55  08:16  \n",
       "\n",
       "[311 rows x 10 columns]"
      ]
     },
     "execution_count": 75,
     "metadata": {},
     "output_type": "execute_result"
    }
   ],
   "source": [
    "pd.json_normalize(data=dados['categories.21KM.GERAL MASCULINO.athletes'])"
   ]
  },
  {
   "cell_type": "code",
   "execution_count": 73,
   "id": "80191436-62d0-4311-9b13-57ceeef489ae",
   "metadata": {},
   "outputs": [
    {
     "name": "stdout",
     "output_type": "stream",
     "text": [
      "1 Tiago Vasconcelos Dos Santos 36 M 03:36 01:15:47\n",
      "2 Eber Moreira Rodrigues 42 M 03:54 01:22:08\n",
      "3 adilton da conceicao santos 50 M 04:00 01:24:03\n",
      "4 Weverton Rodovalho Da Costa 29 M 04:00 01:24:14\n",
      "5 Alessandro Quirino Ignacio 34 M 04:06 01:26:12\n",
      "6 Matheus Rosa 27 M 04:08 01:27:02\n",
      "7 Raphael Carneiro 20 M 04:11 01:28:08\n",
      "8 Raphael Ambrozini Santos 33 M 04:14 01:29:02\n",
      "9 Rafael Pereira Pizzani Rodrigues 29 M 04:15 01:29:20\n",
      "10 Samuel Vergilio De Souza 42 M 04:18 01:30:34\n",
      "11 Luiz Angelo Mazzocco Marques 35 M 04:23 01:32:04\n",
      "12 Claudio Fernandes 53 M 04:23 01:32:15\n",
      "13 Rodrigo Davini 44 M 04:24 01:32:26\n",
      "14 Gilgleisson Demonel 39 M 04:29 01:34:27\n",
      "15 Gabriel Temporim Hemerly 25 M 04:30 01:34:45\n",
      "16 Leonardo Rocha 42 M 04:33 01:35:44\n",
      "17 Elizeu Nascimento Falcao Goncalves 46 M 04:33 01:35:49\n",
      "18 Jadisson Ferreira Da Silva 37 M 04:36 01:36:44\n",
      "19 Humberto Carlos Da Silva 54 M 04:40 01:38:05\n",
      "20 Wallace Borlot 44 M 04:40 01:38:18\n",
      "21 Mario Monteiro Vasconcelos 34 M 04:41 01:38:25\n",
      "22 Mauro Da Conceicao Silva 58 M 04:41 01:38:40\n",
      "23 Luiz fernando Rosa 35 M 04:43 01:39:03\n",
      "24 Aldary Nunes 26 M 04:44 01:39:36\n",
      "25 Luiz Claudio Custodio 50 M 04:44 01:39:40\n",
      "26 Vitor Ribeiro Vieira 34 M 04:45 01:39:45\n",
      "27 Felipe Magalhaes Drumond Guerra 37 M 04:45 01:39:57\n",
      "28 Vitor Costa Maia 23 M 04:46 01:40:13\n",
      "29 Kenner Correa Ramalhete 35 M 04:46 01:40:24\n",
      "30 Tiago Freire De Oliveira 43 M 04:47 01:40:36\n",
      "31 Alex Sandro Santos Rodrigues 47 M 04:47 01:40:38\n",
      "32 Fabio Ferreira 48 M 04:48 01:41:07\n",
      "33 Vinicius Moreno Cabral 32 M 04:50 01:41:37\n",
      "34 Magno Teodoro Silva 52 M 04:50 01:41:46\n",
      "35 Hugo Vitor Ignacio 65 M 04:50 01:41:50\n",
      "36 Edimar Moraes Silva 40 M 04:51 01:41:55\n",
      "37 Bruno Serafin Coelho 33 M 04:51 01:41:55\n",
      "38 Fernando Gomes Da Silva 33 M 04:53 01:42:38\n",
      "39 Gilson Rosa Lopes 64 M 04:53 01:42:48\n",
      "40 Paulo Magno Oliveira Dos Santos 42 M 04:54 01:42:55\n",
      "41 Erivaldo Santos Soares 56 M 04:54 01:43:01\n",
      "42 Rafael Correa Ferreira 45 M 04:55 01:43:15\n",
      "43 Lucas Pereira Antunes De Souza Nacif 32 M 04:55 01:43:24\n",
      "44 Welinton Da Silva Pereira 46 M 04:56 01:43:47\n",
      "45 Leoni Dias 33 M 04:56 01:43:54\n",
      "46 Matheus Cesar De Souza Vieira 22 M 04:58 01:44:26\n",
      "47 Antonio Gilmar Frigulha 58 M 04:58 01:44:33\n",
      "48 Christian Hilton Oliveira Rosa 48 M 04:58 01:44:36\n",
      "49 Daniel De Freitas Luna 37 M 04:58 01:44:38\n",
      "50 Marco Antonio Sebastiao 56 M 04:59 01:44:39\n",
      "51 Joao Paulo Gusmao Dos Santos 40 M 04:59 01:44:43\n",
      "52 Tiago Emerich 41 M 04:59 01:44:56\n",
      "53 Eduardo Dos Santos Ribeiro 35 M 05:00 01:45:01\n",
      "54 jhony bazon 37 M 05:00 01:45:13\n",
      "55 Gileady De Oliveira Silva 44 M 05:00 01:45:20\n",
      "56 Leobert Morosini 36 M 05:01 01:45:40\n",
      "57 Rodrigo Alves Tristao 45 M 05:03 01:46:16\n",
      "58 Luiz Gustavo Ferreira Alves 42 M 05:04 01:46:24\n",
      "59 Vinicius Pimentel Da Silva 30 M 05:04 01:46:32\n",
      "60 Erick Perillo Rocha 33 M 05:06 01:47:09\n",
      "61 Pedro Henrique Del Caro Daher 39 M 05:06 01:47:13\n",
      "62 Bernardo Vieira Harrigan 37 M 05:06 01:47:15\n",
      "63 Halim Pavesi Azoury 45 M 05:07 01:47:39\n",
      "64 Luiz Claudio Costa 52 M 05:07 01:47:42\n",
      "65 Jocimar Dionisio Ferreira 43 M 05:09 01:48:11\n",
      "66 Anderson Carlos Goncalves 47 M 05:09 01:48:19\n",
      "67 Bruno Lyrio Coutinho 24 M 05:10 01:48:46\n",
      "68 Jocimar Serpa 45 M 05:11 01:49:04\n",
      "69 Fabio De Sousa Santos Filho 22 M 05:11 01:49:08\n",
      "70 Fabricio Morais Neves 35 M 05:12 01:49:24\n",
      "71 Valdeci Dos Santos 55 M 05:12 01:49:31\n",
      "72 Jhemes Costa Santos 34 M 05:13 01:49:34\n",
      "73 Diego Ramalhete De moraes 31 M 05:13 01:49:41\n",
      "74 Filipe De Miranda Netto 36 M 05:14 01:50:04\n",
      "75 Jhonatan Da Paixao Nascimento 23 M 05:14 01:50:11\n",
      "76 Humberto Luiz Bezerra Teixeira 35 M 05:14 01:50:12\n",
      "77 Ryan Maldonado Bernardes 36 M 05:15 01:50:15\n",
      "78 Victor Jose De Jesus Souza 31 M 05:17 01:51:03\n",
      "79 Rodrigo Rezende Tatagiba 42 M 05:17 01:51:03\n",
      "80 Kleberson andrade 42 M 05:17 01:51:06\n",
      "81 Leonardo rocha fernandes 43 M 05:17 01:51:08\n",
      "82 Marcelo Caetano Sampaio 44 M 05:17 01:51:11\n",
      "83 Adriano Ramos Moreira 36 M 05:17 01:51:16\n",
      "84 Abido Saadi Cerutti 53 M 05:18 01:51:24\n",
      "85 Felipe Venturim Pansini 27 M 05:18 01:51:26\n",
      "86 Cayo Vytor Oliveira Do Rozario 22 M 05:18 01:51:26\n",
      "87 Eduardo Franca Pinheiro Junior 28 M 05:19 01:51:57\n",
      "88 Filipe Ribeiro Dos Santos 26 M 05:21 01:52:24\n",
      "89 Douglas Fontoura Giacomin 35 M 05:21 01:52:26\n",
      "90 Thiago Chaves Rodrigues 33 M 05:21 01:52:27\n",
      "91 Gabriel Antonio Nassif Marx 29 M 05:21 01:52:31\n",
      "92 Luiz Carlos De Brito 44 M 05:21 01:52:39\n",
      "93 Paulo Augusto Costa Mill 29 M 05:21 01:52:39\n",
      "94 Guilherme Torres 42 M 05:22 01:52:51\n",
      "95 Vinicius Leon De Almeida Ramos 35 M 05:22 01:52:51\n",
      "96 Rosival Rodrigues De Araujo 47 M 05:22 01:52:53\n",
      "97 Alexandre Pereira Francisco 52 M 05:22 01:52:59\n",
      "98 Renato Batista Faria 53 M 05:23 01:53:12\n",
      "99 Rogerio Campagnaro 50 M 05:24 01:53:27\n",
      "100 Alessandro Herzog 43 M 05:24 01:53:35\n",
      "101 Felipe De Souza Bonella 40 M 05:24 01:53:37\n",
      "102 Adilson Carlos M Ulhoa 71 M 05:25 01:53:47\n",
      "103 Patrick Araujo Rosa 40 M 05:25 01:53:48\n",
      "104 Mario Sergio Lazaroni Valli 38 M 05:25 01:53:50\n",
      "105 Franklin Delano De Medeiros Gama 54 M 05:25 01:54:00\n",
      "106 Kendson Figueiredo Berger 39 M 05:27 01:54:28\n",
      "107 Paulo Henrique Teixeira De Souza 31 M 05:27 01:54:31\n",
      "108 Leonardo Paiva De Almeida Pacheco 51 M 05:27 01:54:33\n",
      "109 Gustavo Braga De Oliveira 35 M 05:27 01:54:40\n",
      "110 Pedro Paulo Salcides Goncalves 29 M 05:28 01:54:54\n",
      "111 Edson Ribeiro Dos Santos Junior 29 M 05:28 01:55:00\n",
      "112 Daniel Martins 43 M 05:28 01:55:05\n",
      "113 Leonardo Tavares Machado 33 M 05:29 01:55:10\n",
      "114 Igor Casagrande Dos Santos 26 M 05:29 01:55:20\n",
      "115 Alexandre Borges Pamplona Junior 48 M 05:29 01:55:25\n",
      "116 Rafael Fregona Pezzin 35 M 05:30 01:55:30\n",
      "117 Patrick Moraes Braga 34 M 05:30 01:55:35\n",
      "118 Jandres Da Silva Pereira 48 M 05:30 01:55:36\n",
      "119 Joao Jose Salles Ramos 57 M 05:30 01:55:41\n",
      "120 Glalber Da Costa Cypreste Queiroz 40 M 05:31 01:55:57\n",
      "121 Lucas Belmok Pedrada 29 M 05:31 01:55:57\n",
      "122 Nelson Hideaki Kato 49 M 05:31 01:56:03\n",
      "123 Arthur Cordeiro Dos Santos 45 M 05:31 01:56:05\n",
      "124 Lenildo Viana 70 M 05:32 01:56:14\n",
      "125 Raphael Mesquita De Abreu 41 M 05:32 01:56:25\n",
      "126 Valter Rodrigues Vasconcelos 71 M 05:32 01:56:28\n",
      "127 Ranier Colatto 54 M 05:33 01:56:41\n",
      "128 Wagner Gomes Pereira 43 M 05:34 01:56:54\n",
      "129 Francisco Carlos De Carvalho Junior 44 M 05:34 01:56:57\n",
      "130 Victor Pereira Camargo 27 M 05:34 01:56:58\n",
      "131 Cristiano Fioresi Andreao 37 M 05:35 01:57:17\n",
      "132 Romulo Tauffer De Jesus 28 M 05:36 01:57:36\n",
      "133 Felipe Fabricio Leal 36 M 05:36 01:57:40\n",
      "134 Fabricio Fernandes Chagas Muniz 35 M 05:36 01:57:42\n",
      "135 Robson Mendes De Paulo 51 M 05:36 01:57:44\n",
      "136 Paulo Rodrigo Araujo Carmo 47 M 05:37 01:57:58\n",
      "137 Fabio Dos Santos Affonso 30 M 05:37 01:58:00\n",
      "138 Mario Caliari Corteletti 38 M 05:37 01:58:01\n",
      "139 Matheus Gonchorowski Macedo 24 M 05:37 01:58:04\n",
      "140 Carlos Vinicius Nascimento Lorenzoni 43 M 05:37 01:58:10\n",
      "141 Alexandre Anselmo De Moraes 53 M 05:37 01:58:17\n",
      "142 Claudio Jose Ferreira Pessanha 39 M 05:39 01:58:48\n",
      "143 victor seibel 26 M 05:40 01:59:00\n",
      "144 Reinildo Dos Santos Matos 36 M 05:40 01:59:08\n",
      "145 Bruno Valente Gomes 34 M 05:42 01:59:47\n",
      "146 Fernando Mendonca 56 M 05:42 01:59:49\n",
      "147 Caua Christian Alves Rosa 20 M 05:42 01:59:57\n",
      "148 Nicolai Bachkatoff Neto 36 M 05:42 01:59:59\n",
      "149 Jairo Leite Da Fonseca 39 M 05:43 02:00:06\n",
      "150 Ronaldo Alvarenga Alves 45 M 05:43 02:00:06\n",
      "151 Andre Luiz Alves Daumas 36 M 05:43 02:00:09\n",
      "152 Joaquim Da Rocha Cavalcanti 41 M 05:43 02:00:10\n",
      "153 Cristiano Silva 32 M 05:43 02:00:11\n",
      "154 Josemilson Alcantara 68 M 05:44 02:00:44\n",
      "155 Jonas Klein Ferreira 31 M 05:45 02:00:45\n",
      "156 Renato Magalhaes Coelho De Oliveira 34 M 05:45 02:00:50\n",
      "157 Marcelo Martins Siqueira 51 M 05:45 02:00:55\n",
      "158 Wanderson Pires 47 M 05:46 02:01:07\n",
      "159 Paulo Angelo De Oliveira 47 M 05:46 02:01:22\n",
      "160 Ricardo Marques 52 M 05:47 02:01:40\n",
      "161 Vitor Adami Martins 38 M 05:47 02:01:40\n",
      "162 Rodrigo Novaes Gomes 50 M 05:50 02:02:42\n",
      "163 Heberson Barbosa 39 M 05:50 02:02:47\n",
      "164 Caio Victor De Almeida 23 M 05:51 02:03:04\n",
      "165 Fernando Lopes Moreira 46 M 05:51 02:03:06\n",
      "166 Felipe De Oliveira 35 M 05:51 02:03:11\n",
      "167 Pabulo Baldo do Nascimento 39 M 05:52 02:03:19\n",
      "168 Diego Soares Batista 35 M 05:52 02:03:27\n",
      "169 Anderson Silva Ribeiro 47 M 05:53 02:03:46\n",
      "170 Vinicius Alcantara Drago 31 M 05:53 02:03:49\n",
      "171 Ronnie Nunes 46 M 05:54 02:04:02\n",
      "172 Adenilson Quaresma Da Costa 57 M 05:55 02:04:20\n",
      "173 Ricardo Tamanini 43 M 05:56 02:04:44\n",
      "174 Felipe Dos Santos Rodrigues 27 M 05:56 02:04:44\n",
      "175 Alexandre Ramos Barbosa 50 M 05:57 02:04:59\n",
      "176 Nerino Marchiore 57 M 05:57 02:05:00\n",
      "177 Pedro Henrique Aguiar Zamprogno 38 M 05:57 02:05:07\n",
      "178 Romulo Antonio Coelho Santana 44 M 05:58 02:05:22\n",
      "179 Rullian Antonio Rella 40 M 05:58 02:05:27\n",
      "180 Wanderley Pereira Da Rosa 57 M 05:58 02:05:30\n",
      "181 Antonio Goncalves Viza 76 M 05:58 02:05:38\n",
      "182 Stenio Ferreira Martins 46 M 05:59 02:05:50\n",
      "183 Hugo Rocha Galo 37 M 06:00 02:06:17\n",
      "184 Elton Amancio 42 M 06:01 02:06:22\n",
      "185 Marcio Garozi 45 M 06:02 02:07:01\n",
      "186 Renan Ribeiro Guzzo 39 M 06:03 02:07:06\n",
      "187 Ernandes Silva Dos Santos 42 M 06:03 02:07:23\n",
      "188 Lucas Pessanha Ribeiro 34 M 06:04 02:07:29\n",
      "189 Vanderson Batista Soares 50 M 06:04 02:07:36\n",
      "190 Rodrigo Albani 40 M 06:04 02:07:37\n",
      "191 Matheus Nunes De Oliveira 26 M 06:04 02:07:37\n",
      "192 Jeremias Da Costa Honorato 32 M 06:05 02:07:54\n",
      "193 Samuel Deoteronio Da Silva 42 M 06:05 02:07:56\n",
      "194 Marcelo Masiole 43 M 06:05 02:07:56\n",
      "195 Deivid Da Silva Rocha 38 M 06:05 02:07:58\n",
      "196 Augusto Hilario Passamani 58 M 06:06 02:08:18\n",
      "197 Woldson Motta 33 M 06:07 02:08:42\n",
      "198 Rafael Proux Passos Chaves 27 M 06:07 02:08:47\n",
      "199 Diogo Duarte De Oliveira Junior 36 M 06:08 02:08:55\n",
      "200 Marcelo Leal Coswosk 42 M 06:08 02:08:56\n",
      "201 Fabio Barbosa De Sousa 24 M 06:09 02:09:10\n",
      "202 Vasco Alves De Oliveira Neto 48 M 06:09 02:09:17\n",
      "203 Victor Oliveira Silva 26 M 06:09 02:09:26\n",
      "204 Claudio Benvegnu De Medeiros 46 M 06:10 02:09:32\n",
      "205 Marco Polo Frizera Filho 48 M 06:10 02:09:33\n",
      "206 Sergio Goncalves Moreira Junior 27 M 06:10 02:09:37\n",
      "207 Robson Allegretto Scardini 48 M 06:11 02:10:02\n",
      "208 Francisco Jose Belo Dos Reis 53 M 06:11 02:10:06\n",
      "209 Carlos Emir Costa Silva 39 M 06:11 02:10:10\n",
      "210 Laurenildo Francisco Costa 59 M 06:12 02:10:17\n",
      "211 Jorge Luis Xavier Fernandes 49 M 06:12 02:10:26\n",
      "212 Thiago Oliveira Hilario 39 M 06:12 02:10:30\n",
      "213 Claudio Roberto Leite Marques 47 M 06:13 02:10:39\n",
      "214 Joao Barcellos Sobral Junior 49 M 06:14 02:11:00\n",
      "215 MARCOS ANTONIO PANDOLFI 46 M 06:14 02:11:08\n",
      "216 Gemison de Almeida Andrade 49 M 06:14 02:11:11\n",
      "217 Iuri Galantini Da Paixao 32 M 06:15 02:11:16\n",
      "218 Lucas Teixeira Santos 34 M 06:15 02:11:24\n",
      "219 Vinicius Nascimento Laranja 44 M 06:15 02:11:28\n",
      "220 Lucas Braz Mendes 26 M 06:17 02:12:04\n",
      "221 Bruno Pimentel Da Silva 37 M 06:17 02:12:11\n",
      "222 Fernando De Azevedo Monteiro 56 M 06:17 02:12:16\n",
      "223 Pablo Oscar De Assis 32 M 06:18 02:12:36\n",
      "224 Allan Favero Secchin 30 M 06:18 02:12:38\n",
      "225 Willian Coutinho Patricio De Medeiros 47 M 06:19 02:12:55\n",
      "226 Antonio Osvaldo Curto Machado 50 M 06:20 02:13:06\n",
      "227 Joao Paulo Rodrigues De Faria Campos 40 M 06:21 02:13:38\n",
      "228 Matheus Rosseto Marques Colodetti 28 M 06:22 02:13:57\n",
      "229 Igor Adrian Louback Tristao Vaz 43 M 06:23 02:14:06\n",
      "230 Francisco Pereira Bastos 39 M 06:26 02:15:06\n",
      "231 Felipe Teixeira Monteiro 30 M 06:26 02:15:12\n",
      "232 Andre Taveira 39 M 06:27 02:15:31\n",
      "233 Benedito Ramalhete 62 M 06:27 02:15:41\n",
      "234 Gabriel Carvalho Nader 31 M 06:28 02:16:08\n",
      "235 Eduardo Oliveira Pacheco 32 M 06:29 02:16:09\n",
      "236 Edivaldo Tonetto 62 M 06:29 02:16:18\n",
      "237 Vinicius Xavier Mattar De Carvalho 35 M 06:31 02:16:53\n",
      "238 Alexandre Luiz Bittencourt 41 M 06:31 02:16:56\n",
      "239 Antonio Carlos Rodrigues Alvarenga Junior 39 M 06:31 02:17:08\n",
      "240 Socrates Brito 40 M 06:33 02:17:44\n",
      "241 Alexandre Meira Medici 42 M 06:33 02:17:47\n",
      "242 Renato De Oliveira Fraga 39 M 06:33 02:17:48\n",
      "243 Raphael Batista Figueiredo 36 M 06:33 02:17:51\n",
      "244 Arnaldo Borgo Filho 40 M 06:34 02:18:03\n",
      "245 Thiago Gomes 36 M 06:34 02:18:05\n",
      "246 Gabriel Souza Belletti 28 M 06:34 02:18:08\n",
      "247 THIAGO ABREU 21 M 06:34 02:18:09\n",
      "248 Vinicius Zanoteli Teles 23 M 06:34 02:18:09\n",
      "249 Rubens Azevedo Rodrigues 40 M 06:34 02:18:13\n",
      "250 Rene Pereira Cavalcante Calvi 44 M 06:35 02:18:21\n",
      "251 Diego Fernandes Coutinho 36 M 06:35 02:18:31\n",
      "252 Luiz Nemer Neto 36 M 06:36 02:18:39\n",
      "253 Alessandro Marques 52 M 06:36 02:18:55\n",
      "254 Diogo Santos Zardo 38 M 06:37 02:19:06\n",
      "255 Israel Silva Dias 34 M 06:37 02:19:12\n",
      "256 Jose Walfrido Monteiro Junior 41 M 06:38 02:19:28\n",
      "257 Marcial Jorge Vieira 63 M 06:40 02:20:13\n",
      "258 Krystian Siqueira Botelho 29 M 06:41 02:20:26\n",
      "259 Braulio Campos 37 M 06:41 02:20:27\n",
      "260 Lucas Caliman Ortiz Guimaraes 37 M 06:43 02:21:06\n",
      "261 Matheus Mazza Ramiro De Assis Braga 22 M 06:44 02:21:24\n",
      "262 Brendow Kinderman 20 M 06:44 02:21:27\n",
      "263 Rodrigo Maia Ribeiro 50 M 06:44 02:21:37\n",
      "264 Rossy Kristian Pausem Alves 41 M 06:45 02:21:48\n",
      "265 Leonardo Dias Nascimento 43 M 06:47 02:22:28\n",
      "266 Diogo Lemos Mesquita 36 M 06:47 02:22:30\n",
      "267 Victor Cezar Stamato Fernandes 47 M 06:47 02:22:41\n",
      "268 Antonio Augusto Cabral 59 M 06:48 02:22:48\n",
      "269 Sergio De Souza Simoes 47 M 06:50 02:23:35\n",
      "270 Lucas De Oliveira Contini Pereira 28 M 06:50 02:23:50\n",
      "271 Vinicius Oliveira Gomes Lima 39 M 06:52 02:24:16\n",
      "272 Luciano Cibien Machado 53 M 06:52 02:24:24\n",
      "273 Nilton Jose De Almeida Dias 56 M 06:54 02:24:56\n",
      "274 Daniel Muller 36 M 06:54 02:25:02\n",
      "275 Maxsuel Marcos Rocha Pereira 58 M 06:55 02:25:27\n",
      "276 Anderson Goncalves Pereira 44 M 06:57 02:26:13\n",
      "277 Wesley Maycon Silva 37 M 06:57 02:26:15\n",
      "278 Joelton Dos Reis 45 M 06:59 02:26:59\n",
      "279 Patrick Nunes Tononi 43 M 07:01 02:27:32\n",
      "280 Victor Do Nascimento Zanelato 32 M 07:02 02:28:01\n",
      "281 Pedro Garcia Monteiro 26 M 07:02 02:28:01\n",
      "282 Nathan Dias De Oliveira 23 M 07:07 02:29:40\n",
      "283 Fabio Fraga De Castro 52 M 07:08 02:30:03\n",
      "284 Vinicius Sousa Elias 35 M 07:09 02:30:28\n",
      "285 Dimas Da Silva Coelho 68 M 07:12 02:31:18\n",
      "286 Eduardo Wandekoken 45 M 07:12 02:31:32\n",
      "287 Solano Holz 42 M 07:13 02:31:52\n",
      "288 Jose Humberto Costa Freitas 47 M 07:15 02:32:26\n",
      "289 Julio Paul 66 M 07:17 02:32:58\n",
      "290 Junior Franca  Gomes 42 M 07:20 02:34:17\n",
      "291 Andre Dos Santos Pimentel 41 M 07:22 02:34:52\n",
      "292 Bruno Von Randow 46 M 07:22 02:35:01\n",
      "293 Maick Machado 35 M 07:24 02:35:38\n",
      "294 Gleison Pessoa Machado 37 M 07:29 02:37:24\n",
      "295 Eduardo Sampaio Costa Pinho 38 M 07:32 02:38:12\n",
      "296 Alvaro Pedro Diodino Junior 41 M 07:40 02:41:02\n",
      "297 Celso Fernandes Araujo Filho 39 M 07:41 02:41:27\n",
      "298 Cesar Albuquerque Paes Almeida 42 M 07:43 02:42:15\n",
      "299 Tiago Albuquerque Paes Almeida 37 M 07:43 02:42:16\n",
      "300 Gilceu Machado 60 M 07:45 02:42:58\n",
      "301 Rafael Cavalcanti Do Carmo 35 M 07:49 02:44:24\n",
      "302 Jose Maria L Soares 63 M 07:51 02:45:01\n",
      "303 Candido Rodrigues Caldeira 46 M 07:54 02:46:11\n",
      "304 Ruy Anderson Santos Martins 37 M 07:54 02:46:13\n",
      "305 Pedro Ramon Guanandy Pereira 22 M 07:55 02:46:25\n",
      "306 Leonardo Gomes 48 M 07:56 02:46:48\n",
      "307 Pablo Lobato Ramos 46 M 08:01 02:48:36\n",
      "308 Jayme Teixeira Bessa 40 M 08:03 02:49:10\n",
      "309 Jayme Oliveira Hilario 39 M 08:07 02:50:42\n",
      "310 Eberty Dias De Almeida 35 M 08:11 02:52:06\n",
      "311 Jose Weslay Celeste 62 M 08:16 02:53:55\n"
     ]
    }
   ],
   "source": [
    "for i in dados['categories.21KM.GERAL MASCULINO.athletes']:\n",
    "    print(i['highlight_place'], i['name'], i['age'], i['gender'], i['rhythm'], i['liquid_timing'])"
   ]
  },
  {
   "cell_type": "code",
   "execution_count": null,
   "id": "188bf967-9d70-4982-9aa1-d6df507c117d",
   "metadata": {},
   "outputs": [],
   "source": []
  },
  {
   "cell_type": "code",
   "execution_count": 7,
   "id": "adbb933b-7a53-49ec-aafe-5b268d01b1f7",
   "metadata": {},
   "outputs": [],
   "source": [
    "import math"
   ]
  },
  {
   "cell_type": "code",
   "execution_count": 24,
   "id": "12ecdadb-e30e-40d7-8b70-beb6f1764c26",
   "metadata": {},
   "outputs": [],
   "source": [
    "def truncar(v, t):\n",
    "    t = 10 ^ t\n",
    "    return(int(v * t) / t)"
   ]
  },
  {
   "cell_type": "code",
   "execution_count": 28,
   "id": "d5a6f107-23d9-498b-ae97-0b56c1869798",
   "metadata": {},
   "outputs": [
    {
     "name": "stdout",
     "output_type": "stream",
     "text": [
      "999999.999999999 999999.99\n",
      "999999.99\n"
     ]
    }
   ],
   "source": [
    "y = 999999.999999999\n",
    "x = int(y * 100) / 100\n",
    "print(y, x)\n",
    "print('{:.2f}'.format(x))"
   ]
  },
  {
   "cell_type": "code",
   "execution_count": 26,
   "id": "90e4d33c-044e-4032-9e5a-549b6e4335f3",
   "metadata": {},
   "outputs": [],
   "source": [
    "y\n",
    "u = truncar(y, 1)"
   ]
  },
  {
   "cell_type": "code",
   "execution_count": 27,
   "id": "43c420fd-0db5-467e-9ae2-ea57f1636ef0",
   "metadata": {},
   "outputs": [
    {
     "name": "stdout",
     "output_type": "stream",
     "text": [
      "999999.99 999999.9090909091\n"
     ]
    }
   ],
   "source": [
    "print (y , u)"
   ]
  },
  {
   "cell_type": "code",
   "execution_count": null,
   "id": "775a0455-ead9-4edd-a2ff-2e1b4426b0a6",
   "metadata": {},
   "outputs": [],
   "source": []
  },
  {
   "cell_type": "code",
   "execution_count": null,
   "id": "b56f5df6-191a-4e31-8380-8177717a7944",
   "metadata": {},
   "outputs": [],
   "source": []
  },
  {
   "cell_type": "code",
   "execution_count": null,
   "id": "4d6a0258-3509-4e84-aa9a-4b370536e07a",
   "metadata": {},
   "outputs": [],
   "source": []
  },
  {
   "cell_type": "code",
   "execution_count": null,
   "id": "fdcfd5e0-90d7-4136-906e-3d8031e42570",
   "metadata": {},
   "outputs": [],
   "source": []
  },
  {
   "cell_type": "code",
   "execution_count": null,
   "id": "23b75317-2290-4f23-967e-9a77d9dd80d7",
   "metadata": {},
   "outputs": [],
   "source": []
  },
  {
   "cell_type": "code",
   "execution_count": 85,
   "id": "22cfa151-0507-40bc-a46c-d65597827522",
   "metadata": {},
   "outputs": [
    {
     "name": "stdout",
     "output_type": "stream",
     "text": [
      "o número 2 é primo\n",
      "o número 3 é primo\n",
      "o número 5 é primo\n",
      "o número 7 é primo\n",
      "o número 11 é primo\n",
      "o número 13 é primo\n",
      "o número 17 é primo\n",
      "o número 19 é primo\n",
      "o número 23 é primo\n",
      "o número 29 é primo\n",
      "o número 31 é primo\n",
      "o número 37 é primo\n",
      "o número 41 é primo\n",
      "o número 43 é primo\n",
      "o número 47 é primo\n"
     ]
    }
   ],
   "source": [
    "x = 0\n",
    "while x <= 50:\n",
    "    x += 1\n",
    "    i = 1\n",
    "    conta = 0\n",
    "    while i <= 50:\n",
    "        i += 1\n",
    "        if (x % i == 0):\n",
    "            conta += 1\n",
    "        \n",
    "    if conta == 1:\n",
    "        print(f\"o número {x} é primo\")"
   ]
  },
  {
   "cell_type": "code",
   "execution_count": 82,
   "id": "62037ab3-c31d-4f37-bbdd-c9cda1765068",
   "metadata": {},
   "outputs": [
    {
     "name": "stdout",
     "output_type": "stream",
     "text": [
      "o número 2 é primo\n",
      "o número 3 é primo\n",
      "o número 5 é primo\n",
      "o número 7 é primo\n",
      "o número 11 é primo\n",
      "o número 13 é primo\n",
      "o número 17 é primo\n",
      "o número 19 é primo\n",
      "o número 23 é primo\n",
      "o número 29 é primo\n",
      "o número 31 é primo\n",
      "o número 37 é primo\n",
      "o número 41 é primo\n",
      "o número 43 é primo\n",
      "o número 47 é primo\n"
     ]
    }
   ],
   "source": [
    "for x in range(2, 50):\n",
    "    conta = 0\n",
    "    for i in range(2, 50):\n",
    "        if (x % i == 0):\n",
    "            conta += 1\n",
    "        \n",
    "    if conta == 1:\n",
    "        print(f\"o número {x} é primo\")"
   ]
  },
  {
   "cell_type": "code",
   "execution_count": null,
   "id": "69ffd742-8510-4113-b62f-300d4c7642a4",
   "metadata": {},
   "outputs": [],
   "source": []
  },
  {
   "cell_type": "code",
   "execution_count": 77,
   "id": "68d60b95-fb14-4df7-8e3b-09535b75cc32",
   "metadata": {},
   "outputs": [
    {
     "name": "stdin",
     "output_type": "stream",
     "text": [
      "inicio  37\n"
     ]
    },
    {
     "name": "stdout",
     "output_type": "stream",
     "text": [
      "o número 37 é primo\n"
     ]
    }
   ],
   "source": [
    "x = int(input(\"inicio \"))\n",
    "conta = 0\n",
    "\n",
    "for i in range(2, 1000):\n",
    "    if (x % i == 0):\n",
    "        conta += 1\n",
    "        \n",
    "if conta == 1:\n",
    "    print(f\"o número {x} é primo\")\n",
    "else:\n",
    "    print(f\"o número {x} não é primo\")"
   ]
  },
  {
   "cell_type": "code",
   "execution_count": 62,
   "id": "e1207587-7b85-4f06-ae2d-05f32089a2a2",
   "metadata": {},
   "outputs": [
    {
     "name": "stdin",
     "output_type": "stream",
     "text": [
      "inicio  3\n",
      "final  8\n"
     ]
    },
    {
     "name": "stdout",
     "output_type": "stream",
     "text": [
      "3\n",
      "4\n",
      "5\n",
      "6\n",
      "7\n",
      "8\n"
     ]
    }
   ],
   "source": [
    "x = int(input(\"inicio \"))\n",
    "y = int(input(\"final \"))\n",
    "\n",
    "for i in range(x, (y + 1)):\n",
    "    print(i)"
   ]
  },
  {
   "cell_type": "code",
   "execution_count": 41,
   "id": "a03edc85-fb28-432f-9044-145403be84e6",
   "metadata": {},
   "outputs": [
    {
     "name": "stdout",
     "output_type": "stream",
     "text": [
      "0 11\n",
      "1 20\n",
      "2 34\n",
      "3 48\n",
      "4 53\n"
     ]
    }
   ],
   "source": [
    "x = [11, 20, 34, 48, 53]\n",
    "\n",
    "for i in range(len(x)):\n",
    "    print(i, x[i])"
   ]
  },
  {
   "cell_type": "code",
   "execution_count": 47,
   "id": "8d09c4a9-b8a3-40f9-ad77-7ea8dc4474ea",
   "metadata": {},
   "outputs": [
    {
     "name": "stdout",
     "output_type": "stream",
     "text": [
      "3\n",
      "4\n",
      "5\n",
      "6\n",
      "7\n",
      "8\n"
     ]
    }
   ],
   "source": [
    "for i in range(3, 9):\n",
    "    print(i)"
   ]
  },
  {
   "cell_type": "code",
   "execution_count": 86,
   "id": "3933a9e6-cdc8-4a28-ba73-dff0557f7b5b",
   "metadata": {},
   "outputs": [
    {
     "name": "stdin",
     "output_type": "stream",
     "text": [
      "tri  1 2 3 \n"
     ]
    }
   ],
   "source": [
    "x = input(\"tri \")"
   ]
  },
  {
   "cell_type": "code",
   "execution_count": 98,
   "id": "75b19c0f-884b-4ecb-bffd-323cade8d6b3",
   "metadata": {},
   "outputs": [
    {
     "name": "stdin",
     "output_type": "stream",
     "text": [
      "tri  3 4 5\n"
     ]
    },
    {
     "name": "stdout",
     "output_type": "stream",
     "text": [
      "3 4 5\n",
      "[5, 4, 3]\n",
      "triangulo retangulo\n"
     ]
    }
   ],
   "source": [
    "x = input(\"tri \")\n",
    "tri = []\n",
    "print(x)\n",
    "pos = 0\n",
    "for i in x.split():\n",
    "    tri.append(int(i))\n",
    "tri.sort(reverse = True)\n",
    "print(tri)\n",
    "if (tri[0] ^ 2) == ((tri[1] ^ 2) + (tri[2] ^ 2)):\n",
    "    print(\"triangulo retangulo\")"
   ]
  },
  {
   "cell_type": "code",
   "execution_count": null,
   "id": "36ae8531-62b6-4ddb-b73b-4f8082af0dd7",
   "metadata": {},
   "outputs": [],
   "source": []
  },
  {
   "cell_type": "code",
   "execution_count": null,
   "id": "4c745467-d20b-44f5-ba39-bf709bffd05e",
   "metadata": {},
   "outputs": [],
   "source": []
  },
  {
   "cell_type": "code",
   "execution_count": null,
   "id": "6a4c3edb-ccb2-4444-8a04-fe2ae91d883b",
   "metadata": {},
   "outputs": [],
   "source": []
  },
  {
   "cell_type": "code",
   "execution_count": 118,
   "id": "c9a63bce-e2c7-4808-99e6-be5a2bf63308",
   "metadata": {},
   "outputs": [
    {
     "name": "stdin",
     "output_type": "stream",
     "text": [
      "Taboada:  3\n"
     ]
    },
    {
     "name": "stdout",
     "output_type": "stream",
     "text": [
      " 1 x  3 =  3\n",
      " 2 x  3 =  6\n",
      " 3 x  3 =  9\n",
      " 4 x  3 = 12\n",
      " 5 x  3 = 15\n",
      " 6 x  3 = 18\n",
      " 7 x  3 = 21\n",
      " 8 x  3 = 24\n",
      " 9 x  3 = 27\n",
      "10 x  3 = 30\n"
     ]
    }
   ],
   "source": [
    "x = int(input(\"Taboada: \"))\n",
    "for i in range(1, 11): print(f\"{i:2.0f} x {x:2.0f} = {(i * x):2.0f}\")"
   ]
  },
  {
   "cell_type": "code",
   "execution_count": null,
   "id": "a33d4c3c-5c85-4da7-af37-d6b40ce27ab8",
   "metadata": {},
   "outputs": [],
   "source": []
  },
  {
   "cell_type": "code",
   "execution_count": null,
   "id": "0edc101f-18c3-48f0-9cb2-8de8bd749d9e",
   "metadata": {},
   "outputs": [],
   "source": []
  },
  {
   "cell_type": "code",
   "execution_count": 101,
   "id": "94fbd71d-ccdf-4084-bbd2-088f8bc8d4cd",
   "metadata": {},
   "outputs": [
    {
     "name": "stdout",
     "output_type": "stream",
     "text": [
      "1\n",
      "2\n",
      "3\n",
      "4\n",
      "5\n",
      "6\n",
      "7\n",
      "8\n",
      "9\n",
      "10\n"
     ]
    }
   ],
   "source": [
    "for i in range(1, 11):\n",
    "    print(i)"
   ]
  },
  {
   "cell_type": "code",
   "execution_count": null,
   "id": "28ff0a27-a546-4b22-9208-9dc8d16ebf30",
   "metadata": {},
   "outputs": [],
   "source": []
  },
  {
   "cell_type": "code",
   "execution_count": 397,
   "id": "4ae8bf35-55fd-4448-9182-89ddcca9ab34",
   "metadata": {},
   "outputs": [
    {
     "name": "stdin",
     "output_type": "stream",
     "text": [
      "Digite os tres lados de um triangulo 3 4 5\n"
     ]
    },
    {
     "name": "stdout",
     "output_type": "stream",
     "text": [
      "É um Triangulo Retangulo\n"
     ]
    }
   ],
   "source": [
    "lado = [float(y) for y in input(\"Digite os tres lados de um triangulo\").split()]\n",
    "\n",
    "lado.sort(reverse = True)\n",
    "if (lado[1] + lado[2]) <= lado[0]: print(\"Não é um Triangulo.\")\n",
    "else:\n",
    "    if (lado[0] ** 2) == ((lado[1] ** 2) + (lado[2] ** 2)): tipo = \"Retangulo\"\n",
    "    elif lado[0] == lado[1] == lado[2]: tipo = \"Equilatero\"\n",
    "    elif (lado[0] == lado[1]) or (((lado[1] + lado[2])/2) == lado[2]): tipo = \"Isosceles\"\n",
    "    else: tipo = \"Escaleno\"\n",
    "    \n",
    "    print(\"É um Triangulo\", tipo)"
   ]
  },
  {
   "cell_type": "code",
   "execution_count": 375,
   "id": "aea7bef1-b052-49af-a719-df34937a4a65",
   "metadata": {},
   "outputs": [
    {
     "data": {
      "text/plain": [
       "True"
      ]
     },
     "execution_count": 375,
     "metadata": {},
     "output_type": "execute_result"
    }
   ],
   "source": [
    "lado = [2, 1, 1]\n",
    "(lado[0] == lado[1]) or (((lado[1] + lado[2])/2) == lado[2])"
   ]
  },
  {
   "cell_type": "code",
   "execution_count": 396,
   "id": "d2c901b0-9933-468c-929b-dfea11ef008f",
   "metadata": {},
   "outputs": [],
   "source": [
    "lado"
   ]
  },
  {
   "cell_type": "code",
   "execution_count": 303,
   "id": "37e377af-93fb-4e6d-a35b-76393c028cf2",
   "metadata": {},
   "outputs": [
    {
     "name": "stdout",
     "output_type": "stream",
     "text": [
      "Isosceles\n"
     ]
    }
   ],
   "source": [
    "tipo = \"Escaleno\"\n",
    "for i in range(3):\n",
    "    for j in range((i + 1), 3):\n",
    "        if lado[i] == lado[j]:\n",
    "            tipo = \"Isosceles\"\n",
    "            break\n",
    "print(tipo)"
   ]
  },
  {
   "cell_type": "code",
   "execution_count": null,
   "id": "0c7f1792-0765-4409-b109-4ae5555d2ffd",
   "metadata": {},
   "outputs": [],
   "source": [
    "for i in range(3):\n",
    "    for j in range((i + 1), 3):\n",
    "        if (lado[i] == lado[j]:\n",
    "            tipo = \"Isosceles\"\n",
    "            break"
   ]
  },
  {
   "cell_type": "code",
   "execution_count": 127,
   "id": "e5842033-97ff-4fa3-8bf0-33dced16a78a",
   "metadata": {},
   "outputs": [
    {
     "name": "stdout",
     "output_type": "stream",
     "text": [
      "[1, 2, 3] 1 2 3\n",
      "[1, 2, 3, 4] 1 2 3 4\n"
     ]
    }
   ],
   "source": [
    "a = [1, 2, 3]\n",
    "print(a, a[0], a[1], a[2])\n",
    "a.append(4)\n",
    "print(a, a[0], a[1], a[2], a[3])"
   ]
  },
  {
   "cell_type": "code",
   "execution_count": 132,
   "id": "daf43cf3-e05b-47cc-b042-5d16480becae",
   "metadata": {},
   "outputs": [
    {
     "name": "stdin",
     "output_type": "stream",
     "text": [
      "digite os tres lados de um triangulo 34 56 89\n"
     ]
    }
   ],
   "source": [
    "x = input(\"digite os tres lados de um triangulo\")"
   ]
  },
  {
   "cell_type": "code",
   "execution_count": 140,
   "id": "d7830b2c-13e3-4acb-8db8-b04f30a3c9ab",
   "metadata": {},
   "outputs": [
    {
     "name": "stdout",
     "output_type": "stream",
     "text": [
      "34 56 89 <class 'str'>\n"
     ]
    },
    {
     "data": {
      "text/plain": [
       "'89'"
      ]
     },
     "execution_count": 140,
     "metadata": {},
     "output_type": "execute_result"
    }
   ],
   "source": [
    "print(x, type(x))\n",
    "x.split()[2]"
   ]
  },
  {
   "cell_type": "code",
   "execution_count": 137,
   "id": "6f7d20b7-4c89-4249-8dca-ea0b6285c1f2",
   "metadata": {},
   "outputs": [
    {
     "data": {
      "text/plain": [
       "'3'"
      ]
     },
     "execution_count": 137,
     "metadata": {},
     "output_type": "execute_result"
    }
   ],
   "source": [
    "x[0]"
   ]
  },
  {
   "cell_type": "code",
   "execution_count": 131,
   "id": "6650dc24-3bac-4a98-9c09-d448bd543a0a",
   "metadata": {},
   "outputs": [
    {
     "name": "stdout",
     "output_type": "stream",
     "text": [
      "[]\n",
      "[3]\n",
      "[3, 4]\n",
      "[3, 4, 5]\n"
     ]
    }
   ],
   "source": [
    "lado = []\n",
    "\n",
    "for i in x.split():\n",
    "    lado.append(int(i))\n",
    "\n",
    "print(lado)"
   ]
  },
  {
   "cell_type": "code",
   "execution_count": 129,
   "id": "a4709446-602a-4623-a056-a2ea14af09c5",
   "metadata": {},
   "outputs": [
    {
     "data": {
      "text/plain": [
       "'3 4 5'"
      ]
     },
     "execution_count": 129,
     "metadata": {},
     "output_type": "execute_result"
    }
   ],
   "source": [
    "x"
   ]
  },
  {
   "cell_type": "code",
   "execution_count": 188,
   "id": "77ae2092-e281-48c8-8b14-172f28f73b0f",
   "metadata": {},
   "outputs": [
    {
     "name": "stdin",
     "output_type": "stream",
     "text": [
      "nome:  Luiz Wanderley Tavares\n"
     ]
    }
   ],
   "source": [
    "nome_completo = input(\"nome: \")"
   ]
  },
  {
   "cell_type": "code",
   "execution_count": 189,
   "id": "44052902-de7d-44e7-8fcc-8abdd81566ec",
   "metadata": {},
   "outputs": [
    {
     "data": {
      "text/plain": [
       "'Luiz Wanderley Tavares'"
      ]
     },
     "execution_count": 189,
     "metadata": {},
     "output_type": "execute_result"
    }
   ],
   "source": [
    "nome_completo\n"
   ]
  },
  {
   "cell_type": "code",
   "execution_count": 190,
   "id": "6edae250-9ff7-4246-b8e9-e3063361df82",
   "metadata": {},
   "outputs": [
    {
     "data": {
      "text/plain": [
       "['Luiz', 'Wanderley', 'Tavares']"
      ]
     },
     "execution_count": 190,
     "metadata": {},
     "output_type": "execute_result"
    }
   ],
   "source": [
    "no_teste = nome_completo.split()\n",
    "no_teste"
   ]
  },
  {
   "cell_type": "code",
   "execution_count": 191,
   "id": "1fad4c91-f533-4ee3-97ed-f5e87937e898",
   "metadata": {},
   "outputs": [
    {
     "data": {
      "text/plain": [
       "3"
      ]
     },
     "execution_count": 191,
     "metadata": {},
     "output_type": "execute_result"
    }
   ],
   "source": [
    "no_tamanho = len(no_teste)\n",
    "no_tamanho"
   ]
  },
  {
   "cell_type": "code",
   "execution_count": 192,
   "id": "271c0599-2a66-4a8e-9332-81067d3f3081",
   "metadata": {},
   "outputs": [],
   "source": [
    "nome = no_teste[0]\n",
    "sobrenome = no_teste[(no_tamanho - 1)]"
   ]
  },
  {
   "cell_type": "code",
   "execution_count": 193,
   "id": "5c2ff938-1307-47c8-9589-08025c9a703c",
   "metadata": {},
   "outputs": [
    {
     "name": "stdout",
     "output_type": "stream",
     "text": [
      "Luiz Tavares\n"
     ]
    }
   ],
   "source": [
    "print(nome, sobrenome)"
   ]
  },
  {
   "cell_type": "code",
   "execution_count": 194,
   "id": "6013b09b-7c10-464a-b853-c445bf272dde",
   "metadata": {},
   "outputs": [
    {
     "name": "stdout",
     "output_type": "stream",
     "text": [
      "Luiz\n",
      "W \n",
      "Tavares\n"
     ]
    }
   ],
   "source": [
    "nome_meio = \"\"\n",
    "for i in range(no_tamanho):\n",
    "    if i == 0:\n",
    "        nome = no_teste[i]\n",
    "    elif i == (no_tamanho - 1):\n",
    "        sobrenome = no_teste[i]\n",
    "    else:\n",
    "        nome_meio = nome_meio + no_teste[i][0] + \" \"\n",
    "\n",
    "print(nome)\n",
    "print(nome_meio)\n",
    "print(sobrenome)"
   ]
  },
  {
   "cell_type": "code",
   "execution_count": 157,
   "id": "b4ddc143-444f-4653-9232-3b4059428ccc",
   "metadata": {},
   "outputs": [],
   "source": []
  },
  {
   "cell_type": "code",
   "execution_count": 195,
   "id": "20c754a9-795f-4a49-bbf1-3fab008b6697",
   "metadata": {},
   "outputs": [
    {
     "data": {
      "text/plain": [
       "['Luiz', 'Wanderley', 'Tavares']"
      ]
     },
     "execution_count": 195,
     "metadata": {},
     "output_type": "execute_result"
    }
   ],
   "source": [
    "no_teste"
   ]
  },
  {
   "cell_type": "code",
   "execution_count": 196,
   "id": "73910803-91a5-4e36-b489-5539435fdabd",
   "metadata": {},
   "outputs": [
    {
     "data": {
      "text/plain": [
       "[]"
      ]
     },
     "execution_count": 196,
     "metadata": {},
     "output_type": "execute_result"
    }
   ],
   "source": [
    "a = []\n",
    "a"
   ]
  },
  {
   "cell_type": "code",
   "execution_count": 197,
   "id": "bbb1feb1-44e9-4f81-bf02-26c710e09ebf",
   "metadata": {},
   "outputs": [
    {
     "data": {
      "text/plain": [
       "[1]"
      ]
     },
     "execution_count": 197,
     "metadata": {},
     "output_type": "execute_result"
    }
   ],
   "source": [
    "a.append(1)\n",
    "a"
   ]
  },
  {
   "cell_type": "code",
   "execution_count": 198,
   "id": "346203a4-a23e-44db-a1d5-10f0d8a10122",
   "metadata": {},
   "outputs": [
    {
     "data": {
      "text/plain": [
       "[1, 11]"
      ]
     },
     "execution_count": 198,
     "metadata": {},
     "output_type": "execute_result"
    }
   ],
   "source": [
    "a.append(11)\n",
    "a"
   ]
  },
  {
   "cell_type": "code",
   "execution_count": 199,
   "id": "4a4bc50b-06ff-4edf-bdd9-7b15890403ab",
   "metadata": {},
   "outputs": [
    {
     "data": {
      "text/plain": [
       "1"
      ]
     },
     "execution_count": 199,
     "metadata": {},
     "output_type": "execute_result"
    }
   ],
   "source": [
    "a[0]"
   ]
  },
  {
   "cell_type": "code",
   "execution_count": 200,
   "id": "48e7d93f-523f-44bd-b09e-397996a10974",
   "metadata": {},
   "outputs": [
    {
     "data": {
      "text/plain": [
       "11"
      ]
     },
     "execution_count": 200,
     "metadata": {},
     "output_type": "execute_result"
    }
   ],
   "source": [
    "a[1]"
   ]
  },
  {
   "cell_type": "code",
   "execution_count": 202,
   "id": "00f59737-278d-452c-9dbc-a36e7bf88fc2",
   "metadata": {},
   "outputs": [
    {
     "data": {
      "text/plain": [
       "8"
      ]
     },
     "execution_count": 202,
     "metadata": {},
     "output_type": "execute_result"
    }
   ],
   "source": [
    "a.append(8)\n",
    "a[2]"
   ]
  },
  {
   "cell_type": "code",
   "execution_count": 261,
   "id": "4d6f734c-b8bd-4573-ac1a-03ea9f8306cc",
   "metadata": {},
   "outputs": [
    {
     "ename": "AttributeError",
     "evalue": "'list' object has no attribute 'astype'",
     "output_type": "error",
     "traceback": [
      "\u001b[0;31m---------------------------------------------------------------------------\u001b[0m",
      "\u001b[0;31mAttributeError\u001b[0m                            Traceback (most recent call last)",
      "Input \u001b[0;32mIn [261]\u001b[0m, in \u001b[0;36m<cell line: 2>\u001b[0;34m()\u001b[0m\n\u001b[1;32m      1\u001b[0m a \u001b[38;5;241m=\u001b[39m [\u001b[38;5;124m'\u001b[39m\u001b[38;5;124m1\u001b[39m\u001b[38;5;124m'\u001b[39m, \u001b[38;5;124m'\u001b[39m\u001b[38;5;124m2\u001b[39m\u001b[38;5;124m'\u001b[39m, \u001b[38;5;124m'\u001b[39m\u001b[38;5;124m3\u001b[39m\u001b[38;5;124m'\u001b[39m]\n\u001b[0;32m----> 2\u001b[0m s \u001b[38;5;241m=\u001b[39m \u001b[43ma\u001b[49m\u001b[38;5;241;43m.\u001b[39;49m\u001b[43mastype\u001b[49m(\u001b[38;5;124m'\u001b[39m\u001b[38;5;124mfloat64\u001b[39m\u001b[38;5;124m'\u001b[39m)\n",
      "\u001b[0;31mAttributeError\u001b[0m: 'list' object has no attribute 'astype'"
     ]
    }
   ],
   "source": [
    "a = ['1', '2', '3']\n",
    "s = a.astype('float64')"
   ]
  },
  {
   "cell_type": "code",
   "execution_count": 206,
   "id": "2717bd39-8f32-4b32-a3e6-07237fc0c2f8",
   "metadata": {},
   "outputs": [
    {
     "name": "stdout",
     "output_type": "stream",
     "text": [
      "1\n",
      "11\n",
      "8\n"
     ]
    }
   ],
   "source": [
    "for i in a:\n",
    "    print(i)"
   ]
  },
  {
   "cell_type": "code",
   "execution_count": 267,
   "id": "8a5868d6-7042-4180-a5b1-6cce107006f9",
   "metadata": {
    "tags": []
   },
   "outputs": [
    {
     "ename": "TypeError",
     "evalue": "int() argument must be a string, a bytes-like object or a number, not 'list'",
     "output_type": "error",
     "traceback": [
      "\u001b[0;31m---------------------------------------------------------------------------\u001b[0m",
      "\u001b[0;31mTypeError\u001b[0m                                 Traceback (most recent call last)",
      "Input \u001b[0;32mIn [267]\u001b[0m, in \u001b[0;36m<cell line: 2>\u001b[0;34m()\u001b[0m\n\u001b[1;32m      1\u001b[0m a \u001b[38;5;241m=\u001b[39m \u001b[38;5;124m\"\u001b[39m\u001b[38;5;124m1 2 3\u001b[39m\u001b[38;5;124m\"\u001b[39m\n\u001b[0;32m----> 2\u001b[0m \u001b[38;5;28;43mint\u001b[39;49m\u001b[43m(\u001b[49m\u001b[43ma\u001b[49m\u001b[38;5;241;43m.\u001b[39;49m\u001b[43msplit\u001b[49m\u001b[43m(\u001b[49m\u001b[43m)\u001b[49m\u001b[43m)\u001b[49m\n\u001b[1;32m      3\u001b[0m a\n",
      "\u001b[0;31mTypeError\u001b[0m: int() argument must be a string, a bytes-like object or a number, not 'list'"
     ]
    }
   ],
   "source": [
    "a = \"1 2 3\"\n",
    "int(a.split())\n",
    "a"
   ]
  },
  {
   "cell_type": "code",
   "execution_count": 354,
   "id": "aff6a60c-3f98-4822-9ed5-84e67242cc37",
   "metadata": {},
   "outputs": [
    {
     "name": "stdin",
     "output_type": "stream",
     "text": [
      "Notas:  1 2 3\n"
     ]
    },
    {
     "name": "stdout",
     "output_type": "stream",
     "text": [
      "Reprovado com média 2.0\n"
     ]
    }
   ],
   "source": [
    "# digitar os numeros separados por espaço. Exemplo: 6 8 5 9.6 7\n",
    "\n",
    "n = input(\"Notas: \").split()\n",
    "m = (sum([float(x) for x in n])) / len(n)\n",
    "if m < 6: n = \"Reprovado\"\n",
    "else: n = \"Aprovado\"\n",
    "print(n, f\"com média {m:.1f}\")"
   ]
  },
  {
   "cell_type": "code",
   "execution_count": null,
   "id": "2551d130-35e3-4609-825e-652fd976f782",
   "metadata": {},
   "outputs": [],
   "source": []
  },
  {
   "cell_type": "code",
   "execution_count": 279,
   "id": "dc2b5f67-5e8f-411d-a64f-53b6f20d6670",
   "metadata": {},
   "outputs": [
    {
     "name": "stdin",
     "output_type": "stream",
     "text": [
      "Notas:  3 4 65 \n"
     ]
    }
   ],
   "source": [
    "x = input(\"Notas: \").split()"
   ]
  },
  {
   "cell_type": "code",
   "execution_count": 280,
   "id": "c146fded-e930-40bf-b1b4-761086c3ae9d",
   "metadata": {},
   "outputs": [
    {
     "data": {
      "text/plain": [
       "['3', '4', '65']"
      ]
     },
     "execution_count": 280,
     "metadata": {},
     "output_type": "execute_result"
    }
   ],
   "source": [
    "x"
   ]
  },
  {
   "cell_type": "code",
   "execution_count": 287,
   "id": "8c0b9959-7feb-40ff-b699-80617c226642",
   "metadata": {},
   "outputs": [
    {
     "name": "stdin",
     "output_type": "stream",
     "text": [
      "Números:  4 5 3 \n"
     ]
    },
    {
     "name": "stdout",
     "output_type": "stream",
     "text": [
      "Média..:  4.0\n"
     ]
    }
   ],
   "source": [
    "n = input(\"Números: \").split()\n",
    "print(f\"Média..: {((sum([float(x) for x in n])) / len(n)): .1f}\")"
   ]
  },
  {
   "cell_type": "code",
   "execution_count": 393,
   "id": "773146fc-cad0-4262-8b60-e223e5143946",
   "metadata": {},
   "outputs": [
    {
     "name": "stdin",
     "output_type": "stream",
     "text": [
      "Digite os três lados separados por espaços:  4 1 4\n"
     ]
    },
    {
     "name": "stdout",
     "output_type": "stream",
     "text": [
      "Com esses lados o triângulo é ISÓCELES\n"
     ]
    }
   ],
   "source": [
    "lado1, lado2, lado3 = map(int, input(\"Digite os três lados separados por espaços: \").split())\n",
    "if lado1 + lado2 > lado3 and lado1 + lado3 > lado2 and lado2 + lado3 > lado1:\n",
    "    if lado1 == lado2 == lado3:\n",
    "        print(\"Com esses lados o triângulo é EQUILÁTERO\")\n",
    "    elif lado1 == lado2 or lado1 == lado3 or lado2 == lado3:\n",
    "        print(\"Com esses lados o triângulo é ISÓCELES\")\n",
    "    else:\n",
    "        print(\"Com esses lados o triângulo é ESCALENO\")\n",
    "else:\n",
    "    print(\"Não forma um triângulo\")"
   ]
  },
  {
   "cell_type": "code",
   "execution_count": null,
   "id": "bdc1f0b5-bdd5-47bb-82ab-807a63a86f14",
   "metadata": {},
   "outputs": [],
   "source": []
  }
 ],
 "metadata": {
  "kernelspec": {
   "display_name": "Python 3 (ipykernel)",
   "language": "python",
   "name": "python3"
  },
  "language_info": {
   "codemirror_mode": {
    "name": "ipython",
    "version": 3
   },
   "file_extension": ".py",
   "mimetype": "text/x-python",
   "name": "python",
   "nbconvert_exporter": "python",
   "pygments_lexer": "ipython3",
   "version": "3.9.12"
  }
 },
 "nbformat": 4,
 "nbformat_minor": 5
}
