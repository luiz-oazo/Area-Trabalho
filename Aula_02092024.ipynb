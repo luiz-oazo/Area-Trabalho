{
 "cells": [
  {
   "cell_type": "code",
   "execution_count": 9,
   "id": "54d60508",
   "metadata": {},
   "outputs": [],
   "source": [
    "import numpy as np\n",
    "import pandas as pd\n",
    "from datetime import datetime"
   ]
  },
  {
   "cell_type": "code",
   "execution_count": 42,
   "id": "0cc4d793",
   "metadata": {},
   "outputs": [],
   "source": [
    "tabela = [\n",
    "    {\"nome\": \"Alice\", \"idade\": 30, \"cidade\": \"São Paulo\"}, \n",
    "    {\"nome\": \"Bob\", \"idade\": 25, \"cidade\": \"Rio de Janeiro\"}, \n",
    "    {\"nome\": \"Charlie\", \"idade\": 35, \"cidade\": \"Curitiba\"}\n",
    "]"
   ]
  },
  {
   "cell_type": "code",
   "execution_count": 43,
   "id": "7f4965bc",
   "metadata": {},
   "outputs": [
    {
     "data": {
      "text/plain": [
       "[{'nome': 'Alice', 'idade': 30, 'cidade': 'São Paulo'},\n",
       " {'nome': 'Bob', 'idade': 25, 'cidade': 'Rio de Janeiro'},\n",
       " {'nome': 'Charlie', 'idade': 35, 'cidade': 'Curitiba'}]"
      ]
     },
     "execution_count": 43,
     "metadata": {},
     "output_type": "execute_result"
    }
   ],
   "source": [
    "tabela"
   ]
  },
  {
   "cell_type": "code",
   "execution_count": 44,
   "id": "680fb324",
   "metadata": {},
   "outputs": [
    {
     "data": {
      "text/plain": [
       "'Alice'"
      ]
     },
     "execution_count": 44,
     "metadata": {},
     "output_type": "execute_result"
    }
   ],
   "source": [
    "tabela[0][\"nome\"]"
   ]
  },
  {
   "cell_type": "code",
   "execution_count": 45,
   "id": "09cf1b52",
   "metadata": {},
   "outputs": [],
   "source": [
    "novo_registro = {\"nome\": \"Diana\", \"idade\": 28, \"cidade\": \"Brasília\"}\n",
    "tabela.append(novo_registro)"
   ]
  },
  {
   "cell_type": "code",
   "execution_count": 46,
   "id": "d5ba695f",
   "metadata": {},
   "outputs": [
    {
     "data": {
      "text/plain": [
       "[{'nome': 'Alice', 'idade': 30, 'cidade': 'São Paulo'},\n",
       " {'nome': 'Bob', 'idade': 25, 'cidade': 'Rio de Janeiro'},\n",
       " {'nome': 'Charlie', 'idade': 35, 'cidade': 'Curitiba'},\n",
       " {'nome': 'Diana', 'idade': 28, 'cidade': 'Brasília'}]"
      ]
     },
     "execution_count": 46,
     "metadata": {},
     "output_type": "execute_result"
    }
   ],
   "source": [
    "tabela"
   ]
  },
  {
   "cell_type": "code",
   "execution_count": 47,
   "id": "6cbb60c6",
   "metadata": {},
   "outputs": [],
   "source": [
    "tabela[1][\"idade\"] = 26"
   ]
  },
  {
   "cell_type": "code",
   "execution_count": 48,
   "id": "28a9f1c4",
   "metadata": {},
   "outputs": [
    {
     "data": {
      "text/plain": [
       "{'nome': 'Bob', 'idade': 26, 'cidade': 'Rio de Janeiro'}"
      ]
     },
     "execution_count": 48,
     "metadata": {},
     "output_type": "execute_result"
    }
   ],
   "source": [
    "tabela[1]"
   ]
  },
  {
   "cell_type": "code",
   "execution_count": 49,
   "id": "8e6381cc",
   "metadata": {},
   "outputs": [
    {
     "name": "stdout",
     "output_type": "stream",
     "text": [
      "0\n",
      "1\n",
      "2\n",
      "3\n"
     ]
    },
    {
     "data": {
      "text/plain": [
       "[{'nome': 'Alice', 'idade': 31, 'cidade': 'São Paulo'},\n",
       " {'nome': 'Bob', 'idade': 27, 'cidade': 'Rio de Janeiro'},\n",
       " {'nome': 'Charlie', 'idade': 36, 'cidade': 'Curitiba'},\n",
       " {'nome': 'Diana', 'idade': 29, 'cidade': 'Brasília'}]"
      ]
     },
     "execution_count": 49,
     "metadata": {},
     "output_type": "execute_result"
    }
   ],
   "source": [
    "for registro in range(len(tabela)):\n",
    "    print(registro)\n",
    "    tabela[registro][\"idade\"] += 1\n",
    "tabela"
   ]
  },
  {
   "cell_type": "code",
   "execution_count": 53,
   "id": "7194a662",
   "metadata": {},
   "outputs": [
    {
     "data": {
      "text/plain": [
       "[{'nome': 'Alice', 'idade': 31, 'cidade': 'São Paulo'},\n",
       " {'nome': 'Charlie', 'idade': 36, 'cidade': 'Curitiba'}]"
      ]
     },
     "execution_count": 53,
     "metadata": {},
     "output_type": "execute_result"
    }
   ],
   "source": [
    "maiores_30 = [registro for registro in tabela if registro[\"idade\"] > 30]\n",
    "maiores_30"
   ]
  },
  {
   "cell_type": "code",
   "execution_count": 85,
   "id": "4ba5a0c7",
   "metadata": {},
   "outputs": [
    {
     "name": "stdout",
     "output_type": "stream",
     "text": [
      "Digite um número: 0\n",
      "Não é possível dividir por zero.\n",
      "Execução finalizada.\n"
     ]
    }
   ],
   "source": [
    "try:\n",
    "    numero = int(input(\"Digite um número: \")) \n",
    "    resultado = 10 / numero \n",
    "    \n",
    "except ValueError:\n",
    "    print(\"Digitar um numero válido\")\n",
    "    \n",
    "except ZeroDivisionError:\n",
    "    print(\"Não é possível dividir por zero.\")\n",
    "    \n",
    "else:\n",
    "    print(f\"Resultado: {reg}\")\n",
    "    \n",
    "finally:\n",
    "    print(\"Execução finalizada.\")"
   ]
  },
  {
   "cell_type": "code",
   "execution_count": 88,
   "id": "563861a7",
   "metadata": {},
   "outputs": [
    {
     "name": "stdout",
     "output_type": "stream",
     "text": [
      "Digite um número: 0\n",
      "{'nome': 'Alice', 'idade': 31, 'cidade': 'São Paulo'}\n",
      "Execução finalizada.\n"
     ]
    }
   ],
   "source": [
    "try:\n",
    "    numero = int(input(\"Digite um número: \")) \n",
    "    reg = tabela[numero]\n",
    "    \n",
    "except IndexError:\n",
    "    print(\"Registro inválido\")\n",
    "     \n",
    "else:\n",
    "    print(reg)\n",
    "    \n",
    "finally:\n",
    "    print(\"Execução finalizada.\")"
   ]
  },
  {
   "cell_type": "code",
   "execution_count": 95,
   "id": "7f7b572e",
   "metadata": {},
   "outputs": [],
   "source": [
    "# Manipulação de Arquivos Texto"
   ]
  },
  {
   "cell_type": "code",
   "execution_count": 211,
   "id": "46876ef6",
   "metadata": {},
   "outputs": [],
   "source": [
    "# Abrindo um arquivo para leitura\n",
    "arquivo = open('exemplo.txt', 'w')"
   ]
  },
  {
   "cell_type": "code",
   "execution_count": 212,
   "id": "dcb6ce89",
   "metadata": {},
   "outputs": [],
   "source": [
    "arquivo.close()"
   ]
  },
  {
   "cell_type": "code",
   "execution_count": 113,
   "id": "83324880",
   "metadata": {},
   "outputs": [],
   "source": [
    "arquivo = open('exemplo.txt', 'r')"
   ]
  },
  {
   "cell_type": "code",
   "execution_count": 114,
   "id": "175c8d91",
   "metadata": {},
   "outputs": [
    {
     "data": {
      "text/plain": [
       "<_io.TextIOWrapper name='exemplo.txt' mode='r' encoding='UTF-8'>"
      ]
     },
     "execution_count": 114,
     "metadata": {},
     "output_type": "execute_result"
    }
   ],
   "source": [
    "arquivo"
   ]
  },
  {
   "cell_type": "code",
   "execution_count": 115,
   "id": "8cd26131",
   "metadata": {},
   "outputs": [],
   "source": [
    "conteudo = arquivo.read()"
   ]
  },
  {
   "cell_type": "code",
   "execution_count": 116,
   "id": "86fe3efd",
   "metadata": {},
   "outputs": [
    {
     "data": {
      "text/plain": [
       "'Escrevendo no arquivo.'"
      ]
     },
     "execution_count": 116,
     "metadata": {},
     "output_type": "execute_result"
    }
   ],
   "source": [
    "conteudo"
   ]
  },
  {
   "cell_type": "code",
   "execution_count": 110,
   "id": "930581c5",
   "metadata": {},
   "outputs": [],
   "source": [
    "arquivo = open('exemplo.txt', 'a')"
   ]
  },
  {
   "cell_type": "code",
   "execution_count": 215,
   "id": "98ce7166",
   "metadata": {},
   "outputs": [
    {
     "data": {
      "text/plain": [
       "10"
      ]
     },
     "execution_count": 215,
     "metadata": {},
     "output_type": "execute_result"
    }
   ],
   "source": [
    "arquivo.write(\"comando 1\\n\")"
   ]
  },
  {
   "cell_type": "code",
   "execution_count": 216,
   "id": "124eb6df",
   "metadata": {},
   "outputs": [
    {
     "data": {
      "text/plain": [
       "''"
      ]
     },
     "execution_count": 216,
     "metadata": {},
     "output_type": "execute_result"
    }
   ],
   "source": [
    "conteudo = arquivo.read()\n",
    "conteudo"
   ]
  },
  {
   "cell_type": "code",
   "execution_count": 214,
   "id": "c8bcf343",
   "metadata": {},
   "outputs": [],
   "source": [
    "arquivo = open('exemplo.txt', 'r+')"
   ]
  },
  {
   "cell_type": "code",
   "execution_count": 217,
   "id": "d699de8e",
   "metadata": {},
   "outputs": [],
   "source": [
    "arquivo.flush()"
   ]
  },
  {
   "cell_type": "code",
   "execution_count": 218,
   "id": "1d090afb",
   "metadata": {},
   "outputs": [],
   "source": [
    "conteudo = arquivo.read()"
   ]
  },
  {
   "cell_type": "code",
   "execution_count": 219,
   "id": "131205a2",
   "metadata": {},
   "outputs": [
    {
     "name": "stdout",
     "output_type": "stream",
     "text": [
      "\n"
     ]
    }
   ],
   "source": [
    "print(conteudo)"
   ]
  },
  {
   "cell_type": "code",
   "execution_count": 220,
   "id": "2729c4dc",
   "metadata": {},
   "outputs": [],
   "source": [
    "conteudo = arquivo.close()"
   ]
  },
  {
   "cell_type": "code",
   "execution_count": 226,
   "id": "f2e7b0ed",
   "metadata": {},
   "outputs": [
    {
     "name": "stdout",
     "output_type": "stream",
     "text": [
      "Primeira linha\n",
      "Segunda linha\n",
      "Terceira linha\n",
      "\n"
     ]
    }
   ],
   "source": [
    "with open('exemplo.txt', 'r') as arquivo: \n",
    "    conteudo = arquivo.read() \n",
    "    print(conteudo)\n",
    "    \n",
    "# Não é necessário fechar o arquivo explicitamente"
   ]
  },
  {
   "cell_type": "code",
   "execution_count": 224,
   "id": "109fa71f",
   "metadata": {},
   "outputs": [],
   "source": [
    "# Abrindo um arquivo para escrita\n",
    "with open('exemplo.txt', 'a') as arquivo:\n",
    "    arquivo.write('Comando 3\\n')\n",
    "    \n",
    "    # Forçando a gravação dos dados no disco\n",
    "    arquivo.flush()\n",
    "\n",
    "    # Agora, os dados estão garantidos no disco"
   ]
  },
  {
   "cell_type": "code",
   "execution_count": 274,
   "id": "a5f0ec74",
   "metadata": {},
   "outputs": [
    {
     "name": "stdout",
     "output_type": "stream",
     "text": [
      "comando1\r\n",
      "total 69480\r\n",
      "-rw-r--r--    1 luiz  staff    241111  2 Set 07:52 03_Embeddings.ipynb\r\n",
      "-rw-r--r--    1 luiz  staff  10922269 14 Ago 23:25 05 - Vanishing Exploding Gradient-Copy1.ipynb\r\n",
      "-rw-r--r--    1 luiz  staff     17587 11 Mar 18:43 ATM_Chic.ipynb\r\n",
      "drwx------@   4 luiz  staff       128 29 Ago 17:15 \u001b[34mApplications\u001b[m\u001b[m\r\n",
      "-rw-r--r--    1 luiz  staff     29245  2 Set 09:48 Aula_02092024.ipynb\r\n",
      "-rw-r--r--    1 luiz  staff     32641 12 Ago 17:03 Aula_Lista_Tupla_Dict_Set.ipynb\r\n",
      "-rw-r--r--@   1 luiz  staff      5120 13 Ago 10:30 Aula_Lista_Tupla_Dict_Set.py\r\n",
      "-rw-r--r--    1 luiz  staff     12071 25 Mar 20:14 CP1_FIAP_2024.ipynb\r\n",
      "-rw-r--r--    1 luiz  staff      9359  6 Ago 20:16 Caixa_Eletronico_LuizWTvares.ipynb\r\n",
      "-rw-r--r--    1 luiz  staff    130669  1 Ago 23:04 Data_Sky.csv\r\n",
      "-rw-r--r--    1 luiz  staff    196353  4 Ago 20:03 Data_Sky_Completo.csv\r\n",
      "lrwx------+   1 luiz  staff        52  4 Mai  2023 \u001b[35mDesktop\u001b[m\u001b[m -> /Users/luiz/Library/CloudStorage/Dropbox/Mac/Desktop\r\n",
      "lrwx------+   1 luiz  staff        54  4 Mai  2023 \u001b[35mDocuments\u001b[m\u001b[m -> /Users/luiz/Library/CloudStorage/Dropbox/Mac/Documents\r\n",
      "lrwx------+   1 luiz  staff        54  4 Mai  2023 \u001b[35mDownloads\u001b[m\u001b[m -> /Users/luiz/Library/CloudStorage/Dropbox/Mac/Downloads\r\n",
      "lrwxr-xr-x    1 luiz  staff        40  4 Mai  2023 \u001b[35mDropbox\u001b[m\u001b[m -> /Users/luiz/Library/CloudStorage/Dropbox\r\n",
      "drwxr-xr-x@   5 luiz  staff       160 13 Nov  2023 \u001b[34mFIAP\u001b[m\u001b[m\r\n",
      "-rw-r--r--    1 luiz  staff     80304 28 Mar 11:37 FIAP EX 01.ipynb\r\n",
      "drwx------@ 103 luiz  staff      3296  1 Jul 12:02 \u001b[34mLibrary\u001b[m\u001b[m\r\n",
      "-rw-r--r--    1 luiz  staff     50612 12 Ago 09:23 List_Dict.ipynb\r\n",
      "-rw-r--r--    1 luiz  staff     10766  8 Ago 06:28 Lista_04_Word2Vec.ipynb\r\n",
      "drwx------    5 luiz  staff       160 22 Abr  2022 \u001b[34mMovies\u001b[m\u001b[m\r\n",
      "drwx------+   8 luiz  staff       256 19 Jul  2022 \u001b[34mMusic\u001b[m\u001b[m\r\n",
      "drwxrwxr-x@  14 luiz  staff       448 10 Ago 18:44 \u001b[34mNLPortugues-master\u001b[m\u001b[m\r\n",
      "-rw-r--r--    1 luiz  staff    350384 23 Ago 18:51 Navigator_JSON.ipynb\r\n",
      "-rw-r--r--    1 luiz  staff    409544 13 Ago 14:51 PI_request_data.json\r\n",
      "-rw-r--r--@   1 luiz  staff      3416  1 Set 21:48 PR_Chris.csv\r\n",
      "-rw-r--r--    1 luiz  staff     20407  1 Set 21:03 PR_Chris_maior_70.csv\r\n",
      "-rw-r--r--@   1 luiz  staff    236341  2 Set 09:40 PR_NEW_CALC.ipynb\r\n",
      "drwx------+  16 luiz  staff       512  3 Mar  2023 \u001b[34mPictures\u001b[m\u001b[m\r\n",
      "-rw-r--r--    1 luiz  staff     78881 25 Mar 20:14 Print teste.ipynb\r\n",
      "drwxr-xr-x    2 luiz  staff        64 29 Set  2023 \u001b[34mPubMed\u001b[m\u001b[m\r\n",
      "drwxr-xr-x+   4 luiz  staff       128 22 Abr  2022 \u001b[34mPublic\u001b[m\u001b[m\r\n",
      "drwxr-xr-x@   5 luiz  staff       160 13 Mai 16:09 \u001b[34mPycharmProjects\u001b[m\u001b[m\r\n",
      "-rw-r--r--    1 luiz  staff     78306 12 Ago 06:58 Sky_ML.ipynb\r\n",
      "-rw-r--r--    1 luiz  staff        72 23 Ago 12:55 Untitled.ipynb\r\n",
      "-rw-r--r--    1 luiz  staff    136103 23 Jul 17:08 Untitled1.ipynb\r\n",
      "-rw-r--r--    1 luiz  staff      3343  2 Ago 12:31 Untitled2.ipynb\r\n",
      "-rw-r--r--    1 luiz  staff      3652 13 Mai 09:02 Untitled3.ipynb\r\n",
      "-rw-r--r--    1 luiz  staff     16387  4 Jun 15:38 Untitled4.ipynb\r\n",
      "-rw-r--r--    1 luiz  staff     13082 23 Jul 17:22 Untitled5.ipynb\r\n",
      "-rw-r--r--    1 luiz  staff     78306  8 Ago 07:33 Untitled6.ipynb\r\n",
      "-rw-r--r--    1 luiz  staff      2096  3 Jun 08:25 Untitled7.ipynb\r\n",
      "-rw-r--r--    1 luiz  staff     12715 27 Ago 10:44 Untitled8.ipynb\r\n",
      "-rw-r--r--    1 luiz  staff      6043 13 Abr 14:50 Urna_Eletronica.ipynb\r\n",
      "drwxrwxr-x@   8 luiz  staff       256 10 Ago 17:12 \u001b[34mWord2vec-pt-master\u001b[m\u001b[m\r\n",
      "-rw-r--r--@   1 luiz  staff    602445 10 Ago 16:42 Word2vec-pt-master.zip\r\n",
      "-rw-r--r--    1 luiz  staff      1580 16 Out  2023 citespace.projects.txt\r\n",
      "drwxr-xr-x    3 luiz  staff        96 13 Jun 15:02 \u001b[34mdata\u001b[m\u001b[m\r\n",
      "-rwxr-xr-x    1 luiz  staff        50  2 Set 09:48 \u001b[31mexemplo.txt\u001b[m\u001b[m\r\n",
      "-rw-r--r--    1 luiz  staff      2909 12 Ago 06:50 get_pipeimob_data.ipynb\r\n",
      "-rw-r--r--    1 luiz  staff     84315 12 Ago 17:03 ler_arq_csv.ipynb\r\n",
      "drwxr-xr-x    3 luiz  staff        96 14 Ago 23:14 \u001b[34mlogs\u001b[m\u001b[m\r\n",
      "-rw-r--r--    1 luiz  staff    120000 25 Ago 19:42 meta.tsv\r\n",
      "drwxr-xr-x    3 luiz  staff        96 24 Jun  2022 \u001b[34mopt\u001b[m\u001b[m\r\n",
      "drwxr-xr-x    8 luiz  staff       256  3 Jun 08:21 \u001b[34mpr\u001b[m\u001b[m\r\n",
      "-rw-r--r--    1 luiz  staff    170169  8 Ago 20:38 request_data.json\r\n",
      "-rw-r--r--@   1 luiz  staff     90431 29 Ago 18:28 seis_meses_de_strava_chris_calculados.csv\r\n",
      "-rw-r--r--@   1 luiz  staff    121811 30 Ago 19:39 strava_chris_1_de_janeiro_2024.csv\r\n",
      "-rwxr-xrw-    1 luiz  staff         6 13 Mai 08:17 \u001b[31mteste\u001b[m\u001b[m\r\n",
      "-rw-r--r--@   1 luiz  staff    285624 23 Ago 08:58 teste2.csv\r\n",
      "-rw-r--r--@   1 luiz  staff         0 23 Ago 08:54 teste2.json\r\n",
      "-rw-r--r--    1 luiz  staff         0 13 Mai 10:02 untitled.py\r\n",
      "-rw-r--r--    1 luiz  staff  20814888 25 Ago 19:42 vecs.tsv\r\n",
      "-rw-r--r--    1 luiz  staff      1355 27 Ago 10:45 x.py\r\n",
      "drwxr-xr-x    3 luiz  staff        96 21 Jun 10:44 \u001b[34mxxxx\u001b[m\u001b[m\r\n",
      "lrwxr-xr-x    1 luiz  staff         4 21 Jun 10:43 \u001b[35myyyy\u001b[m\u001b[m -> xxxx\r\n",
      "comando2\r\n",
      "echo comando1\r\n",
      "ls -l\r\n",
      "echo comando2\r\n",
      "cat exemplo.txt\r\n"
     ]
    }
   ],
   "source": [
    "# Abrindo um arquivo para escrita\n",
    "with open('exemplo.txt', 'w') as arquivo:\n",
    "    linhas = ['echo comando1', 'ls -l', 'echo comando2', 'cat exemplo.txt']\n",
    "    \n",
    "    for item in linhas:\n",
    "        arquivo.write(item + '\\n')\n",
    "\n",
    "!chmod +x exemplo.txt\n",
    "!./exemplo.txt"
   ]
  },
  {
   "cell_type": "code",
   "execution_count": 268,
   "id": "0eff6e43",
   "metadata": {},
   "outputs": [
    {
     "name": "stdout",
     "output_type": "stream",
     "text": [
      "['Primeira linha\\n', 'Segunda linha\\n', 'Terceira linha\\n']\n"
     ]
    }
   ],
   "source": [
    "with open('exemplo.txt', 'r') as arquivo: \n",
    "    conteudo = arquivo.readlines() \n",
    "    print(conteudo)\n",
    "    \n",
    "# Não é necessário fechar o arquivo explicitamente"
   ]
  },
  {
   "cell_type": "code",
   "execution_count": 271,
   "id": "f38565d5",
   "metadata": {},
   "outputs": [
    {
     "data": {
      "text/plain": [
       "['Primeira linha\\n', 'Segunda linha\\n', 'Terceira linha\\n']"
      ]
     },
     "execution_count": 271,
     "metadata": {},
     "output_type": "execute_result"
    }
   ],
   "source": [
    "conteudo"
   ]
  },
  {
   "cell_type": "code",
   "execution_count": 272,
   "id": "f16a3321",
   "metadata": {},
   "outputs": [
    {
     "name": "stdout",
     "output_type": "stream",
     "text": [
      "Primeira linha\n",
      "Segunda linha\n",
      "Terceira linha\n",
      "\n"
     ]
    }
   ],
   "source": [
    "with open('exemplo.txt', 'r') as arquivo: \n",
    "    conteudo = arquivo.read() \n",
    "    print(conteudo)\n",
    "    \n",
    "# Não é necessário fechar o arquivo explicitamente"
   ]
  },
  {
   "cell_type": "code",
   "execution_count": 237,
   "id": "6c2faacf",
   "metadata": {},
   "outputs": [
    {
     "name": "stdout",
     "output_type": "stream",
     "text": [
      "P\n",
      "r\n",
      "i\n",
      "m\n",
      "e\n",
      "i\n",
      "r\n",
      "a\n",
      " \n",
      "l\n",
      "i\n",
      "n\n",
      "h\n",
      "a\n",
      "\n",
      "\n",
      "S\n",
      "e\n",
      "g\n",
      "u\n",
      "n\n",
      "d\n",
      "a\n",
      " \n",
      "l\n",
      "i\n",
      "n\n",
      "h\n",
      "a\n",
      "\n",
      "\n",
      "T\n",
      "e\n",
      "r\n",
      "c\n",
      "e\n",
      "i\n",
      "r\n",
      "a\n",
      " \n",
      "l\n",
      "i\n",
      "n\n",
      "h\n",
      "a\n",
      "\n",
      "\n"
     ]
    }
   ],
   "source": [
    "for x in conteudo:\n",
    "    print(x)"
   ]
  },
  {
   "cell_type": "code",
   "execution_count": null,
   "id": "5a82b686",
   "metadata": {},
   "outputs": [],
   "source": []
  },
  {
   "cell_type": "code",
   "execution_count": 109,
   "id": "8e1f6d97",
   "metadata": {},
   "outputs": [
    {
     "name": "stdout",
     "output_type": "stream",
     "text": [
      "Erro de escrita\n",
      "Execução finalizada.\n",
      "continua\n"
     ]
    }
   ],
   "source": [
    "try:\n",
    "    arquivo.write(\"Escrevendo no arquivo.\")\n",
    "    conteudo = arquivo.read()\n",
    "    \n",
    "except IOError:\n",
    "    print(\"Erro de escrita\")\n",
    "     \n",
    "else:\n",
    "    print(conteudo)\n",
    "    \n",
    "finally:\n",
    "    print(\"Execução finalizada.\")\n",
    "\n",
    "print(\"continua\")"
   ]
  },
  {
   "cell_type": "code",
   "execution_count": null,
   "id": "918e2ed5",
   "metadata": {},
   "outputs": [],
   "source": []
  },
  {
   "cell_type": "code",
   "execution_count": 11,
   "id": "2d8cfeb0",
   "metadata": {},
   "outputs": [],
   "source": [
    "df = pd.DataFrame(tabela)"
   ]
  },
  {
   "cell_type": "code",
   "execution_count": 12,
   "id": "723bbab2",
   "metadata": {},
   "outputs": [
    {
     "data": {
      "text/html": [
       "<div>\n",
       "<style scoped>\n",
       "    .dataframe tbody tr th:only-of-type {\n",
       "        vertical-align: middle;\n",
       "    }\n",
       "\n",
       "    .dataframe tbody tr th {\n",
       "        vertical-align: top;\n",
       "    }\n",
       "\n",
       "    .dataframe thead th {\n",
       "        text-align: right;\n",
       "    }\n",
       "</style>\n",
       "<table border=\"1\" class=\"dataframe\">\n",
       "  <thead>\n",
       "    <tr style=\"text-align: right;\">\n",
       "      <th></th>\n",
       "      <th>nome</th>\n",
       "      <th>idade</th>\n",
       "      <th>cidade</th>\n",
       "    </tr>\n",
       "  </thead>\n",
       "  <tbody>\n",
       "    <tr>\n",
       "      <th>0</th>\n",
       "      <td>Alice</td>\n",
       "      <td>30</td>\n",
       "      <td>São Paulo</td>\n",
       "    </tr>\n",
       "    <tr>\n",
       "      <th>1</th>\n",
       "      <td>Bob</td>\n",
       "      <td>25</td>\n",
       "      <td>Rio de Janeiro</td>\n",
       "    </tr>\n",
       "    <tr>\n",
       "      <th>2</th>\n",
       "      <td>Charlie</td>\n",
       "      <td>35</td>\n",
       "      <td>Curitiba</td>\n",
       "    </tr>\n",
       "  </tbody>\n",
       "</table>\n",
       "</div>"
      ],
      "text/plain": [
       "      nome  idade          cidade\n",
       "0    Alice     30       São Paulo\n",
       "1      Bob     25  Rio de Janeiro\n",
       "2  Charlie     35        Curitiba"
      ]
     },
     "execution_count": 12,
     "metadata": {},
     "output_type": "execute_result"
    }
   ],
   "source": [
    "df"
   ]
  },
  {
   "cell_type": "code",
   "execution_count": 15,
   "id": "3b5f9faf",
   "metadata": {
    "scrolled": true
   },
   "outputs": [
    {
     "data": {
      "text/plain": [
       "'Alice'"
      ]
     },
     "execution_count": 15,
     "metadata": {},
     "output_type": "execute_result"
    }
   ],
   "source": [
    "df.loc[0][\"nome\"]"
   ]
  },
  {
   "cell_type": "code",
   "execution_count": 94,
   "id": "bfa8fc3d",
   "metadata": {},
   "outputs": [
    {
     "name": "stdout",
     "output_type": "stream",
     "text": [
      "Digite um número: 10\n",
      "Digitar um numero válido\n",
      "Execução finalizada.\n"
     ]
    }
   ],
   "source": [
    "try:\n",
    "    numero = int(input(\"Digite um número: \")) \n",
    "    reg = df.iloc[numero][\"nome\"]\n",
    "    \n",
    "except IndexError:\n",
    "    print(\"Digitar um numero válido\")\n",
    "     \n",
    "else:\n",
    "    print(reg)\n",
    "    \n",
    "finally:\n",
    "    print(\"Execução finalizada.\")"
   ]
  },
  {
   "cell_type": "code",
   "execution_count": 93,
   "id": "b315feeb",
   "metadata": {},
   "outputs": [],
   "source": [
    "xx = df[df['idade'] > 25].reset_index(drop=True)"
   ]
  },
  {
   "cell_type": "code",
   "execution_count": 35,
   "id": "8f73ba67",
   "metadata": {},
   "outputs": [
    {
     "data": {
      "text/html": [
       "<div>\n",
       "<style scoped>\n",
       "    .dataframe tbody tr th:only-of-type {\n",
       "        vertical-align: middle;\n",
       "    }\n",
       "\n",
       "    .dataframe tbody tr th {\n",
       "        vertical-align: top;\n",
       "    }\n",
       "\n",
       "    .dataframe thead th {\n",
       "        text-align: right;\n",
       "    }\n",
       "</style>\n",
       "<table border=\"1\" class=\"dataframe\">\n",
       "  <thead>\n",
       "    <tr style=\"text-align: right;\">\n",
       "      <th></th>\n",
       "      <th>nome</th>\n",
       "      <th>idade</th>\n",
       "      <th>cidade</th>\n",
       "    </tr>\n",
       "  </thead>\n",
       "  <tbody>\n",
       "    <tr>\n",
       "      <th>0</th>\n",
       "      <td>Alice</td>\n",
       "      <td>30</td>\n",
       "      <td>São Paulo</td>\n",
       "    </tr>\n",
       "    <tr>\n",
       "      <th>1</th>\n",
       "      <td>Charlie</td>\n",
       "      <td>35</td>\n",
       "      <td>Curitiba</td>\n",
       "    </tr>\n",
       "  </tbody>\n",
       "</table>\n",
       "</div>"
      ],
      "text/plain": [
       "      nome  idade     cidade\n",
       "0    Alice     30  São Paulo\n",
       "1  Charlie     35   Curitiba"
      ]
     },
     "execution_count": 35,
     "metadata": {},
     "output_type": "execute_result"
    }
   ],
   "source": [
    "xx"
   ]
  },
  {
   "cell_type": "code",
   "execution_count": 33,
   "id": "95b294b9",
   "metadata": {},
   "outputs": [
    {
     "data": {
      "text/html": [
       "<div>\n",
       "<style scoped>\n",
       "    .dataframe tbody tr th:only-of-type {\n",
       "        vertical-align: middle;\n",
       "    }\n",
       "\n",
       "    .dataframe tbody tr th {\n",
       "        vertical-align: top;\n",
       "    }\n",
       "\n",
       "    .dataframe thead th {\n",
       "        text-align: right;\n",
       "    }\n",
       "</style>\n",
       "<table border=\"1\" class=\"dataframe\">\n",
       "  <thead>\n",
       "    <tr style=\"text-align: right;\">\n",
       "      <th></th>\n",
       "      <th>nome</th>\n",
       "      <th>idade</th>\n",
       "      <th>cidade</th>\n",
       "    </tr>\n",
       "  </thead>\n",
       "  <tbody>\n",
       "    <tr>\n",
       "      <th>0</th>\n",
       "      <td>Alice</td>\n",
       "      <td>30</td>\n",
       "      <td>São Paulo</td>\n",
       "    </tr>\n",
       "    <tr>\n",
       "      <th>1</th>\n",
       "      <td>Bob</td>\n",
       "      <td>25</td>\n",
       "      <td>Rio de Janeiro</td>\n",
       "    </tr>\n",
       "    <tr>\n",
       "      <th>2</th>\n",
       "      <td>Charlie</td>\n",
       "      <td>35</td>\n",
       "      <td>Curitiba</td>\n",
       "    </tr>\n",
       "  </tbody>\n",
       "</table>\n",
       "</div>"
      ],
      "text/plain": [
       "      nome  idade          cidade\n",
       "0    Alice     30       São Paulo\n",
       "1      Bob     25  Rio de Janeiro\n",
       "2  Charlie     35        Curitiba"
      ]
     },
     "execution_count": 33,
     "metadata": {},
     "output_type": "execute_result"
    }
   ],
   "source": [
    "df"
   ]
  },
  {
   "cell_type": "code",
   "execution_count": null,
   "id": "6ce600fe",
   "metadata": {},
   "outputs": [],
   "source": []
  }
 ],
 "metadata": {
  "kernelspec": {
   "display_name": "Python 3 (ipykernel)",
   "language": "python",
   "name": "python3"
  },
  "language_info": {
   "codemirror_mode": {
    "name": "ipython",
    "version": 3
   },
   "file_extension": ".py",
   "mimetype": "text/x-python",
   "name": "python",
   "nbconvert_exporter": "python",
   "pygments_lexer": "ipython3",
   "version": "3.11.7"
  }
 },
 "nbformat": 4,
 "nbformat_minor": 5
}
